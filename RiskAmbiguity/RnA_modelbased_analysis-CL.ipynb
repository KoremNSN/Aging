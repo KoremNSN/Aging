{
 "cells": [
  {
   "cell_type": "markdown",
   "id": "52c783f9",
   "metadata": {},
   "source": [
    "# Model based analysis Risk & Ambiguity\n",
    "#### Korem et al., 2023?\n",
    "\n",
    "This notebook loads the R&A task from the aging project and uses variations of the utility function to try and model the effects of aging on forced choice lottery selection in the medical domain. \n",
    "\n",
    "#### Step 1 model behavior\n",
    "\n",
    "Choices in the medical domain are quantitatively different. </br>\n",
    "Using computational model we will try to see if we can estimate the value. </br>\n",
    "We will test 3 models: </br>\n",
    "    1. No individual parameters </br>\n",
    "    2. Only ambiguity aversion </br>\n",
    "    3. Both ambiguity and probability weighting \n",
    "   \n",
    "#### Step 2 model age\n",
    "\n",
    "Take the best model and check if we add age parameters\n",
    "\n",
    "#### Step 3 validate the model using monetary data and compare it to more classical approaches\n",
    "\n",
    "compare the qualitative model to:</br>\n",
    "    1. No individual parameters</br>\n",
    "    2. Classical utility function</br>\n",
    "    3. \"Trembling hand\" model\n",
    "\n",
    "\n",
    "## Step 0\n",
    "\n",
    "### Load libraries \n"
   ]
  },
  {
   "cell_type": "code",
   "execution_count": 1,
   "id": "b7f195fa",
   "metadata": {},
   "outputs": [],
   "source": [
    "# Import necessary libraries and modules\n",
    "import pandas as pd\n",
    "import numpy as np\n",
    "\n",
    "# PyMC for Bayesian statistical modeling and probabilistic machine learning\n",
    "import pymc as pm\n",
    "# ArviZ for exploratory analysis of Bayesian models\n",
    "import arviz as az\n",
    "\n",
    "# Matplotlib and Seaborn for data visualization\n",
    "import matplotlib.pyplot as plt\n",
    "import seaborn as sns"
   ]
  },
  {
   "cell_type": "markdown",
   "id": "036d8a9b",
   "metadata": {},
   "source": [
    "## Load Data"
   ]
  },
  {
   "cell_type": "code",
   "execution_count": 2,
   "id": "bb91e77e",
   "metadata": {},
   "outputs": [
    {
     "name": "stdout",
     "output_type": "stream",
     "text": [
      "Participants monetary:  98 participants medical:  98\n"
     ]
    }
   ],
   "source": [
    "# load demographic data\n",
    "age = pd.read_csv('../demo.csv')\n",
    "\n",
    "# load choice data\n",
    "db_mon = pd.read_csv('data/mon.csv')\n",
    "db_med = pd.read_csv('data/med.csv')\n",
    "\n",
    "print('Participants monetary: ', len(db_mon['sub'].unique()), 'participants medical: ', len(db_med['sub'].unique()))"
   ]
  },
  {
   "cell_type": "markdown",
   "id": "484146c4",
   "metadata": {},
   "source": [
    "## Preprocessing "
   ]
  },
  {
   "cell_type": "code",
   "execution_count": 3,
   "id": "ed6dc25c",
   "metadata": {},
   "outputs": [
    {
     "name": "stdout",
     "output_type": "stream",
     "text": [
      "pariticpant with R&A and no MoCA: [12, 21, 22, 31, 34, 35, 45, 47, 48, 53, 54, 62, 64, 65, 67, 70, 79, 81, 84, 89, 91, 97, 98, 99, 110, 112, 114]\n",
      "Number of participants with all data: 71\n"
     ]
    }
   ],
   "source": [
    "# Extract unique subject numbers from the 'age' and 'db_mon' dataframes.\n",
    "s_am = list(age['sub'].unique())  # Subjects from the 'age' dataframe\n",
    "s_ra = list(db_mon['sub'].unique())  # Subjects from the 'db_mon' dataframe\n",
    "\n",
    "# Identify subjects who are present in one list but not in the other.\n",
    "demo_no_ra = list(set(s_am) - set(s_ra))  # Participants in 'age' but not in 'db_mon'\n",
    "ra_no_demo = list(set(s_ra) - set(s_am))  # Participants in 'db_mon' but not in 'age'\n",
    "\n",
    "# Print the participants who are in the 'db_mon' dataset but do not have MoCA data.\n",
    "print('pariticpant with R&A and no MoCA:', ra_no_demo)\n",
    "\n",
    "\n",
    "# Filter the 'age' dataframe to only include participants who are also present in the 'db_mon' dataframe.\n",
    "age = age[age['sub'].isin(db_mon['sub'].values)]\n",
    "\n",
    "# Merge the demographic data (age, MoCA score, and gender) with the 'db_mon' and 'db_med' datasets.\n",
    "# This provides a consolidated view where each participant's data from different sources is combined into one row.\n",
    "db_mon = db_mon.merge(age, left_on='sub', right_on='sub')  # Merge with 'db_mon'\n",
    "db_med = db_med.merge(age, left_on='sub', right_on='sub')  # Merge with 'db_med'\n",
    "\n",
    "# Filter participants based on their MoCA score. \n",
    "# Only include cognitive healthy participants (MoCA score greater than 25).\n",
    "db_mon = db_mon[db_mon['moca_score'] > 25]\n",
    "db_med = db_med[db_med['moca_score'] > 25]\n",
    "\n",
    "# Print the total number of participants who have all required data (after merging and filtering).\n",
    "print('Number of participants with all data:', len(db_med['sub'].unique()))"
   ]
  },
  {
   "cell_type": "markdown",
   "id": "b55751c4",
   "metadata": {},
   "source": [
    "#### Remove subjects who are too risk averse"
   ]
  },
  {
   "cell_type": "code",
   "execution_count": 4,
   "id": "c225e3d2",
   "metadata": {},
   "outputs": [
    {
     "name": "stdout",
     "output_type": "stream",
     "text": [
      "Monetary too risk averse ( 2 ):  [11, 40]\n",
      "Medical too risk averse ( 2 ):  []\n",
      "Subjects who were not too risk averse:  69 69\n"
     ]
    }
   ],
   "source": [
    "# Define a threshold for the minimum number of trials in which a participant chose the lottery option.\n",
    "risk_min = 2\n",
    "\n",
    "# For each participant in the 'db_mon' and 'db_med' datasets, sum up the number of times they chose the lottery option.\n",
    "choices_mon = db_mon[['sub', 'choice']].groupby(['sub']).sum()  # For 'db_mon' dataset\n",
    "choices_med = db_med[['sub', 'choice']].groupby(['sub']).sum()  # For 'db_med' dataset\n",
    "\n",
    "# Identify participants who chose the lottery less than the threshold (risk_min) and are thus considered too risk-averse.\n",
    "too_risk_averse_mon = list(choices_mon[choices_mon['choice'] < risk_min].index)  # For 'db_mon' dataset\n",
    "too_risk_averse_med = list(choices_med[choices_med['choice'] < risk_min].index)  # For 'db_med' dataset\n",
    "\n",
    "# Print the participants who are too risk-averse for both monetary and medical scenarios.\n",
    "print('Monetary too risk averse (', risk_min, '): ', too_risk_averse_mon)\n",
    "print('Medical too risk averse (', risk_min, '): ', too_risk_averse_med)\n",
    "\n",
    "# Exclude the too risk-averse participants from the 'db_mon' and 'db_med' datasets.\n",
    "db_mon = db_mon[~db_mon['sub'].isin(too_risk_averse_mon)]\n",
    "db_med = db_med[~db_med['sub'].isin(too_risk_averse_med)]\n",
    "\n",
    "# Extract unique participants from the updated 'db_mon' and 'db_med' datasets.\n",
    "mon_s = list(db_mon['sub'].unique())\n",
    "med_s = list(db_med['sub'].unique())\n",
    "\n",
    "# Filter both datasets to only include participants that are present in both.\n",
    "# This ensures consistency and allows for direct comparisons between the monetary and medical scenarios.\n",
    "db_mon = db_mon[db_mon['sub'].isin(med_s)]\n",
    "db_med = db_med[db_med['sub'].isin(mon_s)]\n",
    "\n",
    "# Print the number of participants retained after the above filters.\n",
    "print('Subjects who were not too risk averse: ', len(db_mon['sub'].unique()), len(db_med['sub'].unique()))"
   ]
  },
  {
   "cell_type": "markdown",
   "id": "8fdf8c30",
   "metadata": {},
   "source": [
    "#### Remove participants who failed too many catch trials"
   ]
  },
  {
   "cell_type": "code",
   "execution_count": 5,
   "id": "0ccd2af0",
   "metadata": {},
   "outputs": [
    {
     "name": "stdout",
     "output_type": "stream",
     "text": [
      "Subjects who failed catch trials: mon: [ 17  27 111] ; med: [111]\n",
      "Subjects who didn not fail attention check:  66 66\n"
     ]
    }
   ],
   "source": [
    "# Identify participants in the 'db_mon' and 'db_med' datasets who failed 7 or more catch trials out of 12.\n",
    "mon_catch = db_mon[db_mon.catch >= 7]  # For 'db_mon' dataset\n",
    "med_catch = db_med[db_med.catch >= 7]  # For 'db_med' dataset\n",
    "\n",
    "# Extract the unique participant identifiers for those who failed catch trials in both datasets.\n",
    "mon_catch_n = mon_catch['sub'].unique()  # For 'db_mon' dataset\n",
    "med_catch_n = med_catch['sub'].unique()  # For 'db_med' dataset\n",
    "\n",
    "# Print the participants who failed catch trials in both monetary and medical scenarios.\n",
    "print('Subjects who failed catch trials: mon:', mon_catch_n, '; med:', med_catch_n)\n",
    "\n",
    "# Exclude participants from both datasets who failed 7 or more catch trials out of 12.\n",
    "db_med = db_med[db_med.catch < 7]\n",
    "db_mon = db_mon[db_mon.catch < 7]\n",
    "\n",
    "# Extract unique participants from the updated 'db_mon' and 'db_med' datasets.\n",
    "mon_s = list(db_mon['sub'].unique())\n",
    "med_s = list(db_med['sub'].unique())\n",
    "\n",
    "# Filter both datasets to only include participants that are present in both.\n",
    "# This step ensures that participants who failed the catch trials in one scenario but not in the other are excluded from both.\n",
    "db_mon = db_mon[db_mon['sub'].isin(med_s)]\n",
    "db_med = db_med[db_med['sub'].isin(mon_s)]\n",
    "\n",
    "# Print the number of participants retained after excluding those who failed the catch trials.\n",
    "print('Subjects who didn not fail attention check: ', len(db_mon['sub'].unique()), len(db_med['sub'].unique()))"
   ]
  },
  {
   "cell_type": "markdown",
   "id": "0791e984",
   "metadata": {},
   "source": [
    "Remove trials with no response"
   ]
  },
  {
   "cell_type": "code",
   "execution_count": 6,
   "id": "3a1236bc",
   "metadata": {},
   "outputs": [
    {
     "name": "stdout",
     "output_type": "stream",
     "text": [
      "Final sample Medical includes 66 subjects and 5501 valid trials\n",
      "Final sample Monetary includes 66 subjects and 5518 valid trials\n"
     ]
    }
   ],
   "source": [
    "# For the 'db_med' dataset:\n",
    "\n",
    "# Remove rows with missing data.\n",
    "db_med = db_med.dropna()\n",
    "\n",
    "# Convert the 'choice' column to integer data type.\n",
    "db_med['choice'] = db_med['choice'].astype('int')\n",
    "\n",
    "# Sort the dataset based on the 'sub' (subject) column for easier comparison in later analyses.\n",
    "db_med = db_med.sort_values('sub').reset_index(drop=True)\n",
    "\n",
    "# Assign a unique serial number for each participant. This will be useful for indexing operations.\n",
    "db_med['subn'] = db_med['sub'].rank(method='dense').astype(int) - 1\n",
    "\n",
    "# Count the number of unique subjects in the 'db_med' dataset.\n",
    "n_subs_med = db_med['subn'].unique().shape[0]\n",
    "\n",
    "# Create a list of subject indices for all rows in the 'db_med' dataset.\n",
    "sub_idx_med = db_med.subn.tolist()\n",
    "\n",
    "# Print the final number of subjects and trials in the 'db_med' dataset.\n",
    "print(\"Final sample Medical includes {} subjects and {} valid trials\".format(n_subs_med, len(sub_idx_med)))\n",
    "\n",
    "\n",
    "# For the 'db_mon' dataset (similar processing as for 'db_med'):\n",
    "\n",
    "# Remove rows with missing data.\n",
    "db_mon = db_mon.dropna()\n",
    "\n",
    "# Convert the 'choice' column to integer data type.\n",
    "db_mon['choice'] = db_mon['choice'].astype('int')\n",
    "\n",
    "# Sort the dataset based on the 'sub' (subject) column for easier comparison in later analyses.\n",
    "db_mon = db_mon.sort_values('sub').reset_index(drop=True)\n",
    "\n",
    "# Assign a unique serial number for each participant.\n",
    "db_mon['subn'] = db_mon['sub'].rank(method='dense').astype(int) - 1\n",
    "\n",
    "# Count the number of unique subjects in the 'db_mon' dataset.\n",
    "n_subs = db_mon['subn'].unique().shape[0]\n",
    "\n",
    "# Create a list of subject indices for all rows in the 'db_mon' dataset.\n",
    "sub_idx = db_mon.subn.tolist()\n",
    "\n",
    "# Print the final number of subjects and trials in the 'db_mon' dataset.\n",
    "print(\"Final sample Monetary includes {} subjects and {} valid trials\".format(n_subs, len(sub_idx)))"
   ]
  },
  {
   "cell_type": "markdown",
   "id": "010b9cab",
   "metadata": {},
   "source": [
    "### Add categories"
   ]
  },
  {
   "cell_type": "code",
   "execution_count": 7,
   "id": "beac482e",
   "metadata": {},
   "outputs": [
    {
     "data": {
      "image/png": "[encoded data removed]",
      "text/plain": [
       "<Figure size 864x432 with 2 Axes>"
      ]
     },
     "metadata": {
      "needs_background": "light"
     },
     "output_type": "display_data"
    }
   ],
   "source": [
    "# For the 'db_med' dataset:\n",
    "\n",
    "# Create a new column 'level' in the 'db_med' dataset by ranking the 'value' column using the dense method.\n",
    "db_med['level'] = db_med['value'].rank(method='dense').astype(int)\n",
    "\n",
    "# Create dummy variables (indicators) for each level by comparing 'level' to thresholds from 0 to 3.\n",
    "db_med['l1'] = db_med.level > 0\n",
    "db_med['l2'] = db_med.level > 1\n",
    "db_med['l3'] = db_med.level > 2\n",
    "db_med['l4'] = db_med.level > 3\n",
    "\n",
    "# Convert the boolean dummy variables to integers (0 or 1).\n",
    "db_med['l1'] = db_med['l1'].astype(int)\n",
    "db_med['l2'] = db_med['l2'].astype(int)\n",
    "db_med['l3'] = db_med['l3'].astype(int)\n",
    "db_med['l4'] = db_med['l4'].astype(int)\n",
    "\n",
    "# For the 'db_mon' dataset:\n",
    "\n",
    "# Rank the 'value' column in the 'db_mon' dataset.\n",
    "db_mon['level'] = db_mon['value'].rank(method='dense').astype(int)\n",
    "\n",
    "# Create dummy variables for each level in the 'db_mon' dataset.\n",
    "db_mon['l1'] = db_mon.level > 0\n",
    "db_mon['l2'] = db_mon.level > 1\n",
    "db_mon['l3'] = db_mon.level > 2\n",
    "db_mon['l4'] = db_mon.level > 3\n",
    "\n",
    "# Convert boolean indicators to integers.\n",
    "db_mon['l1'] = db_mon['l1'].astype(int)\n",
    "db_mon['l2'] = db_mon['l2'].astype(int)\n",
    "db_mon['l3'] = db_mon['l3'].astype(int)\n",
    "db_mon['l4'] = db_mon['l4'].astype(int)\n",
    "\n",
    "# Z-transform the 'age' variable for both datasets to have a mean of 0 and a standard deviation of 1. \n",
    "db_mon['ageZ'] = (db_mon['age'] - db_mon['age'].mean()) / db_mon['age'].std()\n",
    "db_med['ageZ'] = (db_med['age'] - db_med['age'].mean()) / db_med['age'].std()\n",
    "\n",
    "# Create a subplot layout with 1 row and 2 columns.\n",
    "fig, axes = plt.subplots(1, 2, figsize=(12, 6))\n",
    "\n",
    "# Plot the original 'age' histogram for the 'db_mon' dataset on the first subplot.\n",
    "axes[0].hist(db_mon['age'], bins=20, edgecolor='black')\n",
    "axes[0].set_title('Age')\n",
    "axes[0].set_xlabel('Value')\n",
    "axes[0].set_ylabel('Frequency')\n",
    "\n",
    "# Plot the Z-transformed 'ageZ' histogram for the 'db_mon' dataset on the second subplot.\n",
    "axes[1].hist(db_mon['ageZ'], bins=20, edgecolor='black')\n",
    "axes[1].set_title('Age (Z-transformed)')\n",
    "axes[1].set_xlabel('Value')\n",
    "axes[1].set_ylabel('Frequency')\n",
    "\n",
    "# Display the created plots.\n",
    "plt.show()\n"
   ]
  },
  {
   "cell_type": "markdown",
   "id": "d2db3eff",
   "metadata": {},
   "source": [
    "### Final sample descriptives"
   ]
  },
  {
   "cell_type": "code",
   "execution_count": 8,
   "id": "9013e897",
   "metadata": {},
   "outputs": [
    {
     "name": "stdout",
     "output_type": "stream",
     "text": [
      "Total: 66 \n",
      "Females:  30\n"
     ]
    },
    {
     "data": {
      "image/png": "[encoded data removed]",
      "text/plain": [
       "<Figure size 360x432 with 2 Axes>"
      ]
     },
     "metadata": {
      "needs_background": "light"
     },
     "output_type": "display_data"
    }
   ],
   "source": [
    "# Drop duplicates based on the 'sub' (subject) column to get unique participants\n",
    "participants = db_mon.drop_duplicates(['sub'])\n",
    "\n",
    "# Create a subplot layout with 2 rows and 1 column.\n",
    "fig, ax = plt.subplots(2, 1, figsize=(5, 6), sharex=True)\n",
    "\n",
    "# On the first subplot (top), plot the age distribution for female participants\n",
    "sns.histplot(participants[participants['gender'] == 'F']['age'], binwidth=6, ax=ax[0])\n",
    "\n",
    "# On the second subplot (bottom), plot the age distribution for male participants using an orange color\n",
    "sns.histplot(participants[participants['gender'] == 'M']['age'], binwidth=6, color='orange', ax=ax[1])\n",
    "\n",
    "# Set the y-labels for both subplots to denote the gender, and only set an x-label for the bottom plot\n",
    "ax[0].set(ylabel='Females', xlabel='')\n",
    "ax[1].set(ylabel='Males')\n",
    "\n",
    "# Invert the y-axis for the male age distribution to have the histogram bars grow upwards \n",
    "# (this makes it visually comparable with the female age distribution)\n",
    "ax[1].invert_yaxis()\n",
    "\n",
    "# Adjust the space between subplots to make them touch (removing any gap)\n",
    "plt.subplots_adjust(wspace=0, hspace=0)\n",
    "\n",
    "# Print out the total number of unique participants and the number of female participants\n",
    "print(\"Total:\", participants.shape[0], \"\\nFemales: \", participants[participants['gender'] == 'F'].shape[0])"
   ]
  },
  {
   "cell_type": "markdown",
   "id": "bc5cdd80",
   "metadata": {},
   "source": [
    "## Step 1 Modeling medical decisions\n",
    "\n",
    "### Model 1: no individual parameters"
   ]
  },
  {
   "cell_type": "code",
   "execution_count": 9,
   "id": "d8bd53aa",
   "metadata": {},
   "outputs": [],
   "source": [
    "def straw_man(df, n_subs, idx):\n",
    "    \"\"\"\n",
    "    A simple model (straw man) that tries to estimate the influence of value, risk, and ambiguity \n",
    "    on the choice made by subjects in a gambling scenario.\n",
    "\n",
    "    Parameters:\n",
    "    - df: DataFrame containing data on choice, value, risk, and ambiguity for each trial\n",
    "    - n_subs: Number of subjects in the study\n",
    "    - idx: Subject index for each trial (used for hierarchical modeling)\n",
    "\n",
    "    Returns:\n",
    "    - trace: Samples from the posterior distribution\n",
    "    \"\"\"\n",
    "    \n",
    "    with pm.Model() as simple:  # Define a new PyMC3 model\n",
    "    \n",
    "        # Define hyperpriors for the group-level parameter (γ)\n",
    "        gMu = pm.Normal('gMu',  0, 1) # Mean of the normal distribution\n",
    "        gSig = pm.Gamma('gSig', 2, 1) # Standard deviation (Gamma distribution provides only positive values)\n",
    "\n",
    "        # Define the subject-specific risk preference (γ) using a lognormal distribution\n",
    "        γ = pm.Lognormal('γ', gMu, gSig, shape = n_subs)\n",
    "\n",
    "        # Compute expected value of the lottery outcome\n",
    "        val  = df['value'].values                                # Values from the 'value' column in the DataFrame\n",
    "        prob = df['risk'].values - (df['ambiguity'].values / 2)  # Probability calculation adjusted by ambiguity\n",
    "\n",
    "        svLotto = val * prob # Subjective value of the lottery\n",
    "        svRef   = 1          # Subjective value of a reference (assumed to be 1)\n",
    "\n",
    "        # Define the linear predictor (p) and compute the expected probability (mu) using the inverse logit function\n",
    "        p  = (svLotto - svRef) / γ[idx]\n",
    "        mu =  pm.invlogit(p)                     # The invlogit function transforms values to the (0,1) interval\n",
    "\n",
    "        # Define the likelihood of the observed data. A binomial likelihood is chosen because the outcome is binary (choice is 0 or 1)\n",
    "        choice = pm.Binomial('choice', 1, mu, observed=df['choice'])\n",
    "\n",
    "        trace = pm.sample()\n",
    "        \n",
    "    return(trace)"
   ]
  },
  {
   "cell_type": "markdown",
   "id": "6107c27a",
   "metadata": {},
   "source": [
    "### Model 2: Unique values"
   ]
  },
  {
   "cell_type": "code",
   "execution_count": 10,
   "id": "211d735c",
   "metadata": {},
   "outputs": [],
   "source": [
    "def estimate_values_no_hyper(df, n_sub, idx):\n",
    "    \"\"\"\n",
    "    Estimate the value of the different levels without a common hyperprior.\n",
    "\n",
    "    Parameters:\n",
    "    - df: DataFrame containing trial-specific information like choices, value levels, risks, and ambiguity.\n",
    "    - n_sub: Number of individual subjects in the dataset.\n",
    "    - idx: A list or array representing the subject ID for each observation/trial.\n",
    "\n",
    "    Returns:\n",
    "    - trace: Posterior samples for the model's parameters.\n",
    "    \"\"\"\n",
    "    \n",
    "    with pm.Model() as estimate:  # Begin defining a probabilistic model with PyMC3\n",
    "\n",
    "        # Define hyperparameters for the group-level distributions\n",
    "        gMu  = pm.Normal('gMu', 0, 1)    # Mean for the inverse temp\n",
    "        gSig = pm.Gamma('gSig', 2, 1)    # Standard deviation for the inverse temp distribution\n",
    "        bMu  = pm.Normal('bMu', .65, 1)  # Mean for the ambiguity effect distribution\n",
    "        bSig = pm.Gamma('bSig', 2, 1)    # Standard deviation for the ambiguity effect distribution\n",
    "\n",
    "        # Define subject-specific priors\n",
    "        β = pm.TruncatedNormal('β', bMu, bSig, lower = -1.5, upper = 1.5, shape = n_sub)  # Ambiguity modulation effect\n",
    "        γ = pm.Lognormal('γ',       gMu, gSig,                            shape = n_sub)                                   \n",
    "        \n",
    "        # Priors for individual-level subjective value categories. Each subject has a unique valuation for each level.\n",
    "        level1 = pm.Normal('level1', 1, 1, shape = n_sub)  # Value for level 1\n",
    "        level2 = pm.Normal('level2', 1, 1, shape = n_sub)  # Value for level 2\n",
    "        level3 = pm.Normal('level3', 1, 1, shape = n_sub)  # Value for level 3\n",
    "        level4 = pm.Normal('level4', 1, 1, shape = n_sub)  # Value for level 4\n",
    "\n",
    "        # Calculate the total expected value for each trial by summing up values from all levels\n",
    "        val = (df['l1'].values * level1[idx] + \n",
    "               df['l2'].values * level2[idx] + \n",
    "               df['l3'].values * level3[idx] + \n",
    "               df['l4'].values * level4[idx]) \n",
    "\n",
    "        # Calculate the modified probability taking into account both risk and the effect of ambiguity modulated by β\n",
    "        prob = (df['risk'].values) - (β[idx] * (df['ambiguity'].values/2))\n",
    "\n",
    "        # Calculate the subjective value (SV) of the lottery option for each trial\n",
    "        svLotto = val * prob\n",
    "        svRef   = level1[idx] \n",
    "\n",
    "        # Transform SV into a probability of selecting the lottery option using the logistic function\n",
    "        p  = (svLotto - svRef) / γ[idx]\n",
    "        mu = pm.invlogit(p)\n",
    "\n",
    "        # Define the likelihood of the observed choices given the expected probabilities\n",
    "        choice = pm.Binomial('choice', 1, mu, observed=df['choice'])\n",
    "\n",
    "        # Sample from the posterior distribution to obtain parameter estimates\n",
    "        trace = pm.sample(tune=2000, target_accept=0.95)\n",
    "        \n",
    "    return(trace)"
   ]
  },
  {
   "cell_type": "code",
   "execution_count": 11,
   "id": "8b81dccf",
   "metadata": {},
   "outputs": [],
   "source": [
    "def estamte_values(df, n_subs, idx):\n",
    "    \"\"\"\n",
    "    Estimate the value of the different levels with common hyper prior for each level.\n",
    "\n",
    "    Parameters:\n",
    "    - df: DataFrame containing data on choice, value levels, risk, and ambiguity for each trial.\n",
    "    - n_sub: Number of subjects in the dataset.\n",
    "    - idx: Subject index for each trial (used for modeling individual variations).\n",
    "\n",
    "    Returns:\n",
    "    - trace: Samples from the posterior distribution.\n",
    "    \"\"\"\n",
    "    \n",
    "    with pm.Model() as estimated:\n",
    "    \n",
    "        # Hyperparameters for group-level distributions\n",
    "        gMu  = pm.Gamma('gMu', 3, 1)\n",
    "        gSig = pm.Gamma('gSig', 3, 1)\n",
    "\n",
    "        bMu  = pm.Normal('bMu', .65, 1)\n",
    "        bSig = pm.Gamma('bSig', 2,   1)\n",
    "        \n",
    "        # Hyperparameters for level estimates\n",
    "        l1Mu = pm.TruncatedNormal('l1Mu', 4, 2, lower=.1)\n",
    "        l2Mu = pm.TruncatedNormal('l2Mu', 4, 2, lower=.1)\n",
    "        l3Mu = pm.TruncatedNormal('l3Mu', 4, 2, lower=.1)\n",
    "        l4Mu = pm.TruncatedNormal('l4Mu', 4, 2, lower=.1)\n",
    "\n",
    "        l1sd = pm.Gamma('l1sd', 3, 1)\n",
    "        l2sd = pm.Gamma('l2sd', 3, 1)\n",
    "        l3sd = pm.Gamma('l3sd', 3, 1)\n",
    "        l4sd = pm.Gamma('l4sd', 3, 1)\n",
    "        \n",
    "        # Priors for the different levels of subjective values. This structure avoids increase in the mean or the SD.\n",
    "        β = pm.Normal('β',    bMu, bSig, shape = n_subs)\n",
    "        γ = pm.Lognormal('γ', gMu, gSig, shape = n_subs)\n",
    "\n",
    "        # to avoid the increasing the mean or the SD we sampled each category seperatly and sumed them up\n",
    "        level1 = pm.Normal('level1', l1Mu, l1sd, shape = n_subs)\n",
    "        level2 = pm.Normal('level2', l2Mu, l2sd, shape = n_subs)\n",
    "        level3 = pm.Normal('level3', l3Mu, l3sd, shape = n_subs)\n",
    "        level4 = pm.Normal('level4', l4Mu, l4sd, shape = n_subs)\n",
    "\n",
    "        # Compute the total expected value for each trial using different levels\n",
    "        val = (df['l1'].values * level1[idx] + \n",
    "               df['l2'].values * level2[idx] + \n",
    "               df['l3'].values * level3[idx] + \n",
    "               df['l4'].values * level4[idx]\n",
    "              )   \n",
    "\n",
    "        # Risk and ambiguity calculation: Risk is modulated by ambiguity and its effect can be different for each subject (β[idx])\n",
    "        prob = (df['risk'].values) - (β[idx] * (df['ambiguity'].values/2))  \n",
    "\n",
    "        # Compute the subjective value (SV) of the lottery for each trial\n",
    "        svLotto = val * prob\n",
    "        svRef   = level1[idx] \n",
    "\n",
    "        # Convert SV into a probability of choosing the lottery using the inverse logit function\n",
    "        p  = (svLotto - svRef)/γ[idx]\n",
    "        mu = pm.invlogit(p)\n",
    "\n",
    "        # Define the likelihood using the observed choices. Binomial since choice is binary.\n",
    "        choice = pm.Binomial('choice',1, mu, observed=df['choice'])\n",
    "\n",
    "        trace = pm.sample(tune=2000, target_accept=0.95)\n",
    "        \n",
    "    return(trace)"
   ]
  },
  {
   "cell_type": "code",
   "execution_count": 12,
   "id": "1999b4af",
   "metadata": {},
   "outputs": [],
   "source": [
    "def estamte_values_ordinal(df, n_subs, idx):\n",
    "    \"\"\"\n",
    "    Estimate the value of different reward levels using ordinal constraints and a common hyperprior for each level. \n",
    "    The model ensures that the levels are positive (ordinal constraints).\n",
    "\n",
    "    Parameters:\n",
    "    - df: DataFrame with trial-specific details, such as choices, value levels, risk, and ambiguity levels.\n",
    "    - n_sub: Total number of subjects in the dataset.\n",
    "    - idx: A list indicating the subject ID for each observation/trial.\n",
    "\n",
    "    Returns:\n",
    "    - trace: Samples from the posterior distribution of the model.\n",
    "    \"\"\"\n",
    "    \n",
    "    with pm.Model() as estimate:\n",
    "\n",
    "        # Hyperparameters for group-level distributions\n",
    "        gMu  = pm.Gamma('gMu', 4, 1)        # Mean for the inverse temperature distribution\n",
    "        gSig = pm.Gamma('gSig', 3, 1)       # SD for the inverse temperature distribution\n",
    "        bMu  = pm.Normal('bMu', .65, 1)     # Mean for ambiguity effect distribution\n",
    "        bSig = pm.Gamma('bSig', 2, 1)       # SD for ambiguity effect distribution\n",
    "\n",
    "        # Hyperparameters for group-level subjective value levels\n",
    "        l1Mu = pm.TruncatedNormal('l1Mu', 4, 2, lower=.1)  # Mean for value of level 1\n",
    "        l2Mu = pm.TruncatedNormal('l2Mu', 4, 2, lower=.1)  # ... level 2\n",
    "        l3Mu = pm.TruncatedNormal('l3Mu', 4, 2, lower=.1)  # ... level 3\n",
    "        l4Mu = pm.TruncatedNormal('l4Mu', 4, 2, lower=.1)  # ... level 4\n",
    "        l1sd = pm.Gamma('l1sd', 3, 1)  # SD for value of level 1\n",
    "        l2sd = pm.Gamma('l2sd', 3, 1)  # ... level 2\n",
    "        l3sd = pm.Gamma('l3sd', 3, 1)  # ... level 3\n",
    "        l4sd = pm.Gamma('l4sd', 3, 1)  # ... level 4\n",
    "        \n",
    "        # Subject-specific priors \n",
    "        β = pm.Normal('β',    bMu, bSig, shape = n_subs)   # Modulation of ambiguity effect\n",
    "        γ = pm.Lognormal('γ', gMu, gSig, shape = n_subs)   # Inverse temperature, impacting choice stochasticity\n",
    "\n",
    "        # Priors for subjective values of the different reward levels for each subject.\n",
    "        level1 = pm.TruncatedNormal('level1', l1Mu, l1sd, lower = 0, shape = n_subs)\n",
    "        level2 = pm.TruncatedNormal('level2', l2Mu, l2sd, lower = 0, shape = n_subs)\n",
    "        level3 = pm.TruncatedNormal('level3', l3Mu, l3sd, lower = 0, shape = n_subs)\n",
    "        level4 = pm.TruncatedNormal('level4', l4Mu, l4sd, lower = 0, shape = n_subs)\n",
    "\n",
    "        # Calculate the total expected value for each trial by combining values from different levels\n",
    "        val = (df['l1'].values * level1[idx] + \n",
    "               df['l2'].values * level2[idx] + \n",
    "               df['l3'].values * level3[idx] + \n",
    "               df['l4'].values * level4[idx]) \n",
    "\n",
    "        # Calculate adjusted probability by considering both risk and ambiguity levels modulated by β\n",
    "        prob = (df['risk'].values) - (β[idx] * (df['ambiguity'].values/2))  \n",
    "\n",
    "        # Compute the subjective value of the lottery option\n",
    "        svLotto = val * prob\n",
    "        svRef   = level1[idx]  # The subjective value of the reference option\n",
    "\n",
    "        # Transform the SV difference between lottery and reference into a choice probability using the logistic function\n",
    "        p  = (svLotto - svRef) / γ[idx]\n",
    "        mu = pm.invlogit(p)\n",
    "\n",
    "        # Likelihood of the observed choices given the computed probabilities\n",
    "        choice = pm.Binomial('choice', 1, mu, observed=df['choice'])\n",
    "\n",
    "        trace = pm.sample(tune=2000, target_accept=0.95)\n",
    "        \n",
    "    return trace"
   ]
  },
  {
   "cell_type": "code",
   "execution_count": 13,
   "id": "1d31a40c",
   "metadata": {},
   "outputs": [],
   "source": [
    "def estamte_values_hyper(df, n_subs, idx):\n",
    "    \"\"\"\n",
    "    Estimate the value of different reward levels using hierarchical modeling.\n",
    "    This version includes additional hyperpriors for the subjective value levels.\n",
    "\n",
    "    Parameters:\n",
    "    - df: DataFrame with trial-specific details, such as choices, value levels, risk, and ambiguity levels.\n",
    "    - n_sub: Total number of subjects in the dataset.\n",
    "    - idx: A list indicating the subject ID for each observation/trial.\n",
    "\n",
    "    Returns:\n",
    "    - trace: Samples from the posterior distribution of the model.\n",
    "    \"\"\"\n",
    "    \n",
    "    with pm.Model() as estimate:\n",
    "\n",
    "        # Hyperparameters for group-level distributions\n",
    "        gMu  = pm.Gamma('gMu', 4, 1)         # Mean for the inverse temperature distribution\n",
    "        gSig = pm.Gamma('gSig', 3, 1)        # SD for the inverse temperature distribution\n",
    "        bMu  = pm.Normal('bMu', .65, 1)      # Mean for ambiguity effect distribution\n",
    "        bSig = pm.Gamma('bSig', 2, 1)        # SD for ambiguity effect distribution\n",
    "\n",
    "        # Hyper-hyperparameters for the subjective value levels\n",
    "        Lh = pm.Gamma('lh', 2, 1)            # Mean for the hyperprior of value levels\n",
    "        LSig = pm.Gamma('LSig', 4, 1)        # SD for the hyperprior of value levels\n",
    "        \n",
    "        # Hyperparameters for SD of value levels\n",
    "        LsdMu = pm.TruncatedNormal('LsdMu', 2, 1, lower=0)  # Mean for the SD of value levels\n",
    "        LsdSig = pm.Gamma('L1sdSig', 3, 1)                  # SD for the SD of value levels\n",
    "        \n",
    "        # Hyperparameters for the individual levels \n",
    "        l1Mu = pm.Normal('l1Mu', Lh, LSig)   \n",
    "        l2Mu = pm.Normal('l2Mu', Lh, LSig)\n",
    "        l3Mu = pm.Normal('l3Mu', Lh, LSig)\n",
    "        l4Mu = pm.Normal('l4Mu', Lh, LSig)\n",
    "\n",
    "        l1sd = pm.Gamma('l1sd', LsdMu, LsdSig)\n",
    "        l2sd = pm.Gamma('l2sd', LsdMu, LsdSig)\n",
    "        l3sd = pm.Gamma('l3sd', LsdMu, LsdSig)\n",
    "        l4sd = pm.Gamma('l4sd', LsdMu, LsdSig)\n",
    "\n",
    "        # Subject-specific priors\n",
    "        β = pm.Normal('β', bMu, bSig, shape=n_subs)         # Modulation of ambiguity effect\n",
    "        γ = pm.Lognormal('γ', gMu, gSig, shape=n_subs)      # Inverse temperature, impacting choice stochasticity\n",
    "\n",
    "        # Priors for subjective values of the different reward levels for each subject.\n",
    "        level1 = pm.TruncatedNormal('level1', l1Mu, l1sd, lower=0, shape=n_subs)\n",
    "        level2 = pm.TruncatedNormal('level2', l2Mu, l2sd, lower=0, shape=n_subs)\n",
    "        level3 = pm.TruncatedNormal('level3', l3Mu, l3sd, lower=0, shape=n_subs)\n",
    "        level4 = pm.TruncatedNormal('level4', l4Mu, l4sd, lower=0, shape=n_subs)\n",
    "\n",
    "        # Calculate the total expected value for each trial by combining values from different levels\n",
    "        val = (df['l1'].values * level1[idx] + \n",
    "               df['l2'].values * level2[idx] + \n",
    "               df['l3'].values * level3[idx] + \n",
    "               df['l4'].values * level4[idx]) \n",
    "\n",
    "        # Calculate adjusted probability by considering both risk and ambiguity levels modulated by β\n",
    "        prob = (df['risk'].values) - (β[idx] * (df['ambiguity'].values/2))\n",
    "\n",
    "        # Compute the subjective value of the lottery option\n",
    "        svLotto = val * prob\n",
    "        svRef = level1[idx]  \n",
    "\n",
    "        # Transform the SV difference between lottery and reference into a choice probability using the logistic function\n",
    "        p = (svLotto - svRef) / γ[idx]\n",
    "        mu = pm.invlogit(p)\n",
    "\n",
    "        # Likelihood of the observed choices given the computed probabilities\n",
    "        choice = pm.Binomial('choice', 1, mu, observed=df['choice'])\n",
    "\n",
    "        trace = pm.sample(tune=2000, target_accept=0.95)\n",
    "        \n",
    "    return trace\n"
   ]
  },
  {
   "cell_type": "markdown",
   "id": "68d66bca",
   "metadata": {},
   "source": [
    "## Applying various models to the medical decision dataset to estimate parameters"
   ]
  },
  {
   "cell_type": "code",
   "execution_count": 14,
   "id": "62fa1104",
   "metadata": {},
   "outputs": [
    {
     "name": "stderr",
     "output_type": "stream",
     "text": [
      "Auto-assigning NUTS sampler...\n",
      "Initializing NUTS using jitter+adapt_diag...\n",
      "Multiprocess sampling (4 chains in 4 jobs)\n",
      "NUTS: [gMu, gSig, γ]\n"
     ]
    },
    {
     "data": {
      "text/html": [
       "\n",
       "<style>\n",
       "    /* Turns off some styling */\n",
       "    progress {\n",
       "        /* gets rid of default border in Firefox and Opera. */\n",
       "        border: none;\n",
       "        /* Needs to be in here for Safari polyfill so background images work as expected. */\n",
       "        background-size: auto;\n",
       "    }\n",
       "    progress:not([value]), progress:not([value])::-webkit-progress-bar {\n",
       "        background: repeating-linear-gradient(45deg, #7e7e7e, #7e7e7e 10px, #5c5c5c 10px, #5c5c5c 20px);\n",
       "    }\n",
       "    .progress-bar-interrupted, .progress-bar-interrupted::-webkit-progress-bar {\n",
       "        background: #F44336;\n",
       "    }\n",
       "</style>\n"
      ],
      "text/plain": [
       "<IPython.core.display.HTML object>"
      ]
     },
     "metadata": {},
     "output_type": "display_data"
    },
    {
     "data": {
      "text/html": [
       "\n",
       "    <div>\n",
       "      <progress value='8000' class='' max='8000' style='width:300px; height:20px; vertical-align: middle;'></progress>\n",
       "      100.00% [8000/8000 00:18&lt;00:00 Sampling 4 chains, 0 divergences]\n",
       "    </div>\n",
       "    "
      ],
      "text/plain": [
       "<IPython.core.display.HTML object>"
      ]
     },
     "metadata": {},
     "output_type": "display_data"
    },
    {
     "name": "stderr",
     "output_type": "stream",
     "text": [
      "Sampling 4 chains for 1_000 tune and 1_000 draw iterations (4_000 + 4_000 draws total) took 19 seconds.\n",
      "Auto-assigning NUTS sampler...\n",
      "Initializing NUTS using jitter+adapt_diag...\n",
      "Multiprocess sampling (4 chains in 4 jobs)\n",
      "NUTS: [gMu, gSig, bMu, bSig, β, γ, level1, level2, level3, level4]\n"
     ]
    },
    {
     "data": {
      "text/html": [
       "\n",
       "<style>\n",
       "    /* Turns off some styling */\n",
       "    progress {\n",
       "        /* gets rid of default border in Firefox and Opera. */\n",
       "        border: none;\n",
       "        /* Needs to be in here for Safari polyfill so background images work as expected. */\n",
       "        background-size: auto;\n",
       "    }\n",
       "    progress:not([value]), progress:not([value])::-webkit-progress-bar {\n",
       "        background: repeating-linear-gradient(45deg, #7e7e7e, #7e7e7e 10px, #5c5c5c 10px, #5c5c5c 20px);\n",
       "    }\n",
       "    .progress-bar-interrupted, .progress-bar-interrupted::-webkit-progress-bar {\n",
       "        background: #F44336;\n",
       "    }\n",
       "</style>\n"
      ],
      "text/plain": [
       "<IPython.core.display.HTML object>"
      ]
     },
     "metadata": {},
     "output_type": "display_data"
    },
    {
     "data": {
      "text/html": [
       "\n",
       "    <div>\n",
       "      <progress value='12000' class='' max='12000' style='width:300px; height:20px; vertical-align: middle;'></progress>\n",
       "      100.00% [12000/12000 09:51&lt;00:00 Sampling 4 chains, 0 divergences]\n",
       "    </div>\n",
       "    "
      ],
      "text/plain": [
       "<IPython.core.display.HTML object>"
      ]
     },
     "metadata": {},
     "output_type": "display_data"
    },
    {
     "name": "stderr",
     "output_type": "stream",
     "text": [
      "Sampling 4 chains for 2_000 tune and 1_000 draw iterations (8_000 + 4_000 draws total) took 592 seconds.\n",
      "Auto-assigning NUTS sampler...\n",
      "Initializing NUTS using jitter+adapt_diag...\n",
      "Multiprocess sampling (4 chains in 4 jobs)\n",
      "NUTS: [gMu, gSig, bMu, bSig, l1Mu, l2Mu, l3Mu, l4Mu, l1sd, l2sd, l3sd, l4sd, β, γ, level1, level2, level3, level4]\n"
     ]
    },
    {
     "data": {
      "text/html": [
       "\n",
       "<style>\n",
       "    /* Turns off some styling */\n",
       "    progress {\n",
       "        /* gets rid of default border in Firefox and Opera. */\n",
       "        border: none;\n",
       "        /* Needs to be in here for Safari polyfill so background images work as expected. */\n",
       "        background-size: auto;\n",
       "    }\n",
       "    progress:not([value]), progress:not([value])::-webkit-progress-bar {\n",
       "        background: repeating-linear-gradient(45deg, #7e7e7e, #7e7e7e 10px, #5c5c5c 10px, #5c5c5c 20px);\n",
       "    }\n",
       "    .progress-bar-interrupted, .progress-bar-interrupted::-webkit-progress-bar {\n",
       "        background: #F44336;\n",
       "    }\n",
       "</style>\n"
      ],
      "text/plain": [
       "<IPython.core.display.HTML object>"
      ]
     },
     "metadata": {},
     "output_type": "display_data"
    },
    {
     "data": {
      "text/html": [
       "\n",
       "    <div>\n",
       "      <progress value='12000' class='' max='12000' style='width:300px; height:20px; vertical-align: middle;'></progress>\n",
       "      100.00% [12000/12000 08:34&lt;00:00 Sampling 4 chains, 0 divergences]\n",
       "    </div>\n",
       "    "
      ],
      "text/plain": [
       "<IPython.core.display.HTML object>"
      ]
     },
     "metadata": {},
     "output_type": "display_data"
    },
    {
     "name": "stderr",
     "output_type": "stream",
     "text": [
      "Sampling 4 chains for 2_000 tune and 1_000 draw iterations (8_000 + 4_000 draws total) took 515 seconds.\n",
      "Auto-assigning NUTS sampler...\n",
      "Initializing NUTS using jitter+adapt_diag...\n",
      "Multiprocess sampling (4 chains in 4 jobs)\n",
      "NUTS: [gMu, gSig, bMu, bSig, l1Mu, l2Mu, l3Mu, l4Mu, l1sd, l2sd, l3sd, l4sd, β, γ, level1, level2, level3, level4]\n"
     ]
    },
    {
     "data": {
      "text/html": [
       "\n",
       "<style>\n",
       "    /* Turns off some styling */\n",
       "    progress {\n",
       "        /* gets rid of default border in Firefox and Opera. */\n",
       "        border: none;\n",
       "        /* Needs to be in here for Safari polyfill so background images work as expected. */\n",
       "        background-size: auto;\n",
       "    }\n",
       "    progress:not([value]), progress:not([value])::-webkit-progress-bar {\n",
       "        background: repeating-linear-gradient(45deg, #7e7e7e, #7e7e7e 10px, #5c5c5c 10px, #5c5c5c 20px);\n",
       "    }\n",
       "    .progress-bar-interrupted, .progress-bar-interrupted::-webkit-progress-bar {\n",
       "        background: #F44336;\n",
       "    }\n",
       "</style>\n"
      ],
      "text/plain": [
       "<IPython.core.display.HTML object>"
      ]
     },
     "metadata": {},
     "output_type": "display_data"
    },
    {
     "data": {
      "text/html": [
       "\n",
       "    <div>\n",
       "      <progress value='12000' class='' max='12000' style='width:300px; height:20px; vertical-align: middle;'></progress>\n",
       "      100.00% [12000/12000 13:30&lt;00:00 Sampling 4 chains, 1 divergences]\n",
       "    </div>\n",
       "    "
      ],
      "text/plain": [
       "<IPython.core.display.HTML object>"
      ]
     },
     "metadata": {},
     "output_type": "display_data"
    },
    {
     "name": "stderr",
     "output_type": "stream",
     "text": [
      "Sampling 4 chains for 2_000 tune and 1_000 draw iterations (8_000 + 4_000 draws total) took 811 seconds.\n",
      "There was 1 divergence after tuning. Increase `target_accept` or reparameterize.\n",
      "Auto-assigning NUTS sampler...\n",
      "Initializing NUTS using jitter+adapt_diag...\n",
      "Multiprocess sampling (4 chains in 4 jobs)\n",
      "NUTS: [gMu, gSig, bMu, bSig, lh, LSig, LsdMu, L1sdSig, l1Mu, l2Mu, l3Mu, l4Mu, l1sd, l2sd, l3sd, l4sd, β, γ, level1, level2, level3, level4]\n"
     ]
    },
    {
     "data": {
      "text/html": [
       "\n",
       "<style>\n",
       "    /* Turns off some styling */\n",
       "    progress {\n",
       "        /* gets rid of default border in Firefox and Opera. */\n",
       "        border: none;\n",
       "        /* Needs to be in here for Safari polyfill so background images work as expected. */\n",
       "        background-size: auto;\n",
       "    }\n",
       "    progress:not([value]), progress:not([value])::-webkit-progress-bar {\n",
       "        background: repeating-linear-gradient(45deg, #7e7e7e, #7e7e7e 10px, #5c5c5c 10px, #5c5c5c 20px);\n",
       "    }\n",
       "    .progress-bar-interrupted, .progress-bar-interrupted::-webkit-progress-bar {\n",
       "        background: #F44336;\n",
       "    }\n",
       "</style>\n"
      ],
      "text/plain": [
       "<IPython.core.display.HTML object>"
      ]
     },
     "metadata": {},
     "output_type": "display_data"
    },
    {
     "data": {
      "text/html": [
       "\n",
       "    <div>\n",
       "      <progress value='12000' class='' max='12000' style='width:300px; height:20px; vertical-align: middle;'></progress>\n",
       "      100.00% [12000/12000 14:31&lt;00:00 Sampling 4 chains, 0 divergences]\n",
       "    </div>\n",
       "    "
      ],
      "text/plain": [
       "<IPython.core.display.HTML object>"
      ]
     },
     "metadata": {},
     "output_type": "display_data"
    },
    {
     "name": "stderr",
     "output_type": "stream",
     "text": [
      "Sampling 4 chains for 2_000 tune and 1_000 draw iterations (8_000 + 4_000 draws total) took 872 seconds.\n"
     ]
    }
   ],
   "source": [
    "# A simple model, for a baseline or comparison\n",
    "med_simple = straw_man(db_med, n_subs_med, sub_idx_med)\n",
    "\n",
    "# A model estimating values without a shared hyperprior across subjects\n",
    "med_estimated_no_hyp = estimate_values_no_hyper(db_med, n_subs_med, sub_idx_med)\n",
    "\n",
    "# A model with shared hyperprior across subjects\n",
    "med_estimated = estamte_values(db_med, n_subs_med, sub_idx_med)\n",
    "\n",
    "# A model that applies ordinal constraints to the estimation of subjective values\n",
    "med_estimated_ord = estamte_values_ordinal(db_med, n_subs_med, sub_idx_med)\n",
    "\n",
    "# Hierarchical model that includes additional hyperpriors for subjective value levels\n",
    "med_estimated_hyper = estamte_values_hyper(db_med, n_subs_med, sub_idx_med)"
   ]
  },
  {
   "cell_type": "markdown",
   "id": "0bc8bb2c",
   "metadata": {},
   "source": [
    "### Compare models"
   ]
  },
  {
   "cell_type": "code",
   "execution_count": 15,
   "id": "0d6e7233",
   "metadata": {},
   "outputs": [
    {
     "name": "stderr",
     "output_type": "stream",
     "text": [
      "/home/nachshon/anaconda3/envs/en/lib/python3.9/site-packages/arviz/stats/stats.py:812: UserWarning: Estimated shape parameter of Pareto distribution is greater than 0.7 for one or more samples. You should consider using a more robust model, this is because importance sampling is less likely to work well if the marginal posterior and LOO posterior are very different. This is more likely to happen with a non-robust model and highly influential observations.\n",
      "  warnings.warn(\n",
      "/home/nachshon/anaconda3/envs/en/lib/python3.9/site-packages/arviz/stats/stats.py:812: UserWarning: Estimated shape parameter of Pareto distribution is greater than 0.7 for one or more samples. You should consider using a more robust model, this is because importance sampling is less likely to work well if the marginal posterior and LOO posterior are very different. This is more likely to happen with a non-robust model and highly influential observations.\n",
      "  warnings.warn(\n",
      "/home/nachshon/anaconda3/envs/en/lib/python3.9/site-packages/arviz/stats/stats.py:812: UserWarning: Estimated shape parameter of Pareto distribution is greater than 0.7 for one or more samples. You should consider using a more robust model, this is because importance sampling is less likely to work well if the marginal posterior and LOO posterior are very different. This is more likely to happen with a non-robust model and highly influential observations.\n",
      "  warnings.warn(\n",
      "/home/nachshon/anaconda3/envs/en/lib/python3.9/site-packages/arviz/stats/stats.py:812: UserWarning: Estimated shape parameter of Pareto distribution is greater than 0.7 for one or more samples. You should consider using a more robust model, this is because importance sampling is less likely to work well if the marginal posterior and LOO posterior are very different. This is more likely to happen with a non-robust model and highly influential observations.\n",
      "  warnings.warn(\n",
      "/home/nachshon/anaconda3/envs/en/lib/python3.9/site-packages/arviz/stats/stats.py:812: UserWarning: Estimated shape parameter of Pareto distribution is greater than 0.7 for one or more samples. You should consider using a more robust model, this is because importance sampling is less likely to work well if the marginal posterior and LOO posterior are very different. This is more likely to happen with a non-robust model and highly influential observations.\n",
      "  warnings.warn(\n"
     ]
    },
    {
     "data": {
      "text/html": [
       "<div>\n",
       "<style scoped>\n",
       "    .dataframe tbody tr th:only-of-type {\n",
       "        vertical-align: middle;\n",
       "    }\n",
       "\n",
       "    .dataframe tbody tr th {\n",
       "        vertical-align: top;\n",
       "    }\n",
       "\n",
       "    .dataframe thead th {\n",
       "        text-align: right;\n",
       "    }\n",
       "</style>\n",
       "<table border=\"1\" class=\"dataframe\">\n",
       "  <thead>\n",
       "    <tr style=\"text-align: right;\">\n",
       "      <th></th>\n",
       "      <th>rank</th>\n",
       "      <th>loo</th>\n",
       "      <th>p_loo</th>\n",
       "      <th>d_loo</th>\n",
       "      <th>weight</th>\n",
       "      <th>se</th>\n",
       "      <th>dse</th>\n",
       "      <th>warning</th>\n",
       "      <th>loo_scale</th>\n",
       "    </tr>\n",
       "  </thead>\n",
       "  <tbody>\n",
       "    <tr>\n",
       "      <th>Hyper estimates</th>\n",
       "      <td>0</td>\n",
       "      <td>-1405.392787</td>\n",
       "      <td>223.793927</td>\n",
       "      <td>0.000000</td>\n",
       "      <td>8.265660e-01</td>\n",
       "      <td>45.221699</td>\n",
       "      <td>0.000000</td>\n",
       "      <td>True</td>\n",
       "      <td>log</td>\n",
       "    </tr>\n",
       "    <tr>\n",
       "      <th>Ordinal</th>\n",
       "      <td>1</td>\n",
       "      <td>-1407.625629</td>\n",
       "      <td>219.302050</td>\n",
       "      <td>2.232842</td>\n",
       "      <td>7.833231e-13</td>\n",
       "      <td>44.506871</td>\n",
       "      <td>1.561836</td>\n",
       "      <td>True</td>\n",
       "      <td>log</td>\n",
       "    </tr>\n",
       "    <tr>\n",
       "      <th>Estimated Values</th>\n",
       "      <td>2</td>\n",
       "      <td>-1407.903496</td>\n",
       "      <td>231.433863</td>\n",
       "      <td>2.510710</td>\n",
       "      <td>7.101080e-13</td>\n",
       "      <td>44.065377</td>\n",
       "      <td>3.968307</td>\n",
       "      <td>True</td>\n",
       "      <td>log</td>\n",
       "    </tr>\n",
       "    <tr>\n",
       "      <th>No Hyper</th>\n",
       "      <td>3</td>\n",
       "      <td>-1412.601443</td>\n",
       "      <td>250.541810</td>\n",
       "      <td>7.208656</td>\n",
       "      <td>1.591400e-01</td>\n",
       "      <td>44.990583</td>\n",
       "      <td>5.222615</td>\n",
       "      <td>True</td>\n",
       "      <td>log</td>\n",
       "    </tr>\n",
       "    <tr>\n",
       "      <th>No subjective attitudes</th>\n",
       "      <td>4</td>\n",
       "      <td>-2929.701966</td>\n",
       "      <td>46.556464</td>\n",
       "      <td>1524.309179</td>\n",
       "      <td>1.429405e-02</td>\n",
       "      <td>32.163131</td>\n",
       "      <td>42.698920</td>\n",
       "      <td>True</td>\n",
       "      <td>log</td>\n",
       "    </tr>\n",
       "  </tbody>\n",
       "</table>\n",
       "</div>"
      ],
      "text/plain": [
       "                         rank          loo       p_loo        d_loo  \\\n",
       "Hyper estimates             0 -1405.392787  223.793927     0.000000   \n",
       "Ordinal                     1 -1407.625629  219.302050     2.232842   \n",
       "Estimated Values            2 -1407.903496  231.433863     2.510710   \n",
       "No Hyper                    3 -1412.601443  250.541810     7.208656   \n",
       "No subjective attitudes     4 -2929.701966   46.556464  1524.309179   \n",
       "\n",
       "                               weight         se        dse  warning loo_scale  \n",
       "Hyper estimates          8.265660e-01  45.221699   0.000000     True       log  \n",
       "Ordinal                  7.833231e-13  44.506871   1.561836     True       log  \n",
       "Estimated Values         7.101080e-13  44.065377   3.968307     True       log  \n",
       "No Hyper                 1.591400e-01  44.990583   5.222615     True       log  \n",
       "No subjective attitudes  1.429405e-02  32.163131  42.698920     True       log  "
      ]
     },
     "execution_count": 15,
     "metadata": {},
     "output_type": "execute_result"
    }
   ],
   "source": [
    "compare_dict = {\n",
    "    \"No subjective attitudes\": med_simple,            \n",
    "    \"No Hyper\":                med_estimated_no_hyp,  \n",
    "    \"Estimated Values\":        med_estimated,         \n",
    "    \"Ordinal\":                 med_estimated_ord,     \n",
    "    \"Hyper estimates\":         med_estimated_hyper    \n",
    "}\n",
    "\n",
    "# Comparing the different models using ArviZ's compare function. \n",
    "# This function  evaluates models based on LOO to determine relative quality.\n",
    "comp = az.compare(compare_dict)\n",
    "\n",
    "# Display the comparison result\n",
    "comp"
   ]
  },
  {
   "cell_type": "markdown",
   "id": "98b03a76",
   "metadata": {},
   "source": [
    "All estimate model preform similarly. The hyper model shows the best fit.\n",
    "\n",
    "### Save models"
   ]
  },
  {
   "cell_type": "code",
   "execution_count": 16,
   "id": "0e13851b",
   "metadata": {},
   "outputs": [
    {
     "data": {
      "text/plain": [
       "'data/med_estimated_hyper.nc'"
      ]
     },
     "execution_count": 16,
     "metadata": {},
     "output_type": "execute_result"
    }
   ],
   "source": [
    "med_simple.to_netcdf(\"data/med_simple.nc\")\n",
    "med_estimated_no_hyp.to_netcdf(\"data/med_estimated_no_hyp.nc\")\n",
    "med_estimated.to_netcdf('data/med_estimate.nc')\n",
    "med_estimated_ord.to_netcdf(\"data/med_estimated_ord.nc\")\n",
    "med_estimated_hyper.to_netcdf('data/med_estimated_hyper.nc')"
   ]
  },
  {
   "cell_type": "markdown",
   "id": "97928fd1",
   "metadata": {},
   "source": [
    "## Step 2 adding age"
   ]
  },
  {
   "cell_type": "code",
   "execution_count": 27,
   "id": "bdd4ef23",
   "metadata": {},
   "outputs": [],
   "source": [
    "def estamte_values_age(df, n_subs, idx):\n",
    "    \n",
    "    \"\"\"\n",
    "    Model to estimate the values of different levels with age as an additional factor.\n",
    "    \n",
    "    Parameters:\n",
    "    - df: DataFrame containing data on choice, value levels, risk, ambiguity, and age (z-scored) for each trial.\n",
    "    - n_subs: Number of subjects in the dataset.\n",
    "    - idx: Subject index for each trial (used for modeling individual variations).\n",
    "    \n",
    "    Returns:\n",
    "    - trace: Samples from the posterior distribution.\n",
    "    \"\"\"\n",
    "    with pm.Model() as estimate_age:\n",
    " \n",
    "        # Define hyper parameters for group-level distributions\n",
    "        gMu  = pm.Gamma('gMu', 4, 1)\n",
    "        gSig = pm.Gamma('gSig', 3, 1)\n",
    "\n",
    "        bMu  = pm.Normal('bMu', .65, 1)\n",
    "        bSig = pm.Gamma('bSig', 2,   1)\n",
    "        \n",
    "        # Hyperpriors for levels' mean and standard deviation\n",
    "        Lh = pm.Gamma('lh', 2, 1)\n",
    "        LSig = pm.Gamma('LSig', 4, 1)\n",
    "        LsdMu = pm.TruncatedNormal('LsdMu', 2, 1, lower=0)\n",
    "        LsdSig = pm.Gamma('L1sdSig', 3, 1)\n",
    "\n",
    "        \n",
    "        # Subject-specific level priors based on hyperpriors\n",
    "        l1Mu = pm.Normal('l1Mu', Lh, LSig)\n",
    "        l2Mu = pm.Normal('l2Mu', Lh, LSig)\n",
    "        l3Mu = pm.Normal('l3Mu', Lh, LSig)\n",
    "        l4Mu = pm.Normal('l4Mu', Lh, LSig)\n",
    "\n",
    "        l1sd = pm.Gamma('l1sd', LsdMu, LsdSig)\n",
    "        l2sd = pm.Gamma('l2sd', LsdMu, LsdSig)\n",
    "        l3sd = pm.Gamma('l3sd', LsdMu, LsdSig)\n",
    "        l4sd = pm.Gamma('l4sd', LsdMu, LsdSig)\n",
    "        \n",
    "        # Priors for the effects of ambiguity and inverse temperature\n",
    "        β = pm.Normal('β',    bMu, bSig, shape = n_subs)\n",
    "        γ = pm.Lognormal('γ', gMu, gSig, shape = n_subs)\n",
    "\n",
    "        # to avoid the increasing the mean or the SD we sampled each category seperatly and sumed them up\n",
    "        level1 = pm.TruncatedNormal('level1', l1Mu, l1sd, lower = 0, shape = n_subs)\n",
    "        level2 = pm.TruncatedNormal('level2', l2Mu, l2sd, lower = 0, shape = n_subs)\n",
    "        level3 = pm.TruncatedNormal('level3', l3Mu, l3sd, lower = 0, shape = n_subs)\n",
    "        level4 = pm.TruncatedNormal('level4', l4Mu, l4sd, lower = 0, shape = n_subs)\n",
    "    \n",
    "        # Priors for the effect of age on values and ambiguity\n",
    "        AgeV = pm.Normal('Age-Value',    0, 1)\n",
    "        AgeA = pm.Normal('Age-Ambiguty', 0, 1)\n",
    "\n",
    "        # Compute the expected value for the lottery\n",
    "        val = (df['l1'].values * level1[idx] + \n",
    "               df['l2'].values * level2[idx] + \n",
    "               df['l3'].values * level3[idx] + \n",
    "               df['l4'].values * level4[idx]\n",
    "              ) + AgeV * df['ageZ'].values\n",
    "\n",
    "        # Compute the effect of ambiguity modulated by age\n",
    "        amb  = β[idx] + AgeA * df['ageZ'].values\n",
    "\n",
    "        # Calculate probability for lottery\n",
    "        prob = df['risk'].values - (amb * (df['ambiguity'].values/2))\n",
    "        svLotto = val * prob\n",
    "        svRef   = level1[idx] + AgeV * df['ageZ'].values\n",
    "        \n",
    "        # Compute choice probability using inverse logit transformation\n",
    "        p  = (svLotto - svRef)/γ[idx]\n",
    "        mu = pm.invlogit(p)\n",
    "\n",
    "        # Define the likelihood of the observed choices\n",
    "        choice = pm.Binomial('choice',1, mu, observed=df['choice'])\n",
    "\n",
    "        trace = pm.sample(target_accept=0.95) \n",
    "        \n",
    "    return(trace)"
   ]
  },
  {
   "cell_type": "code",
   "execution_count": 28,
   "id": "24afa1b5",
   "metadata": {},
   "outputs": [
    {
     "name": "stderr",
     "output_type": "stream",
     "text": [
      "Auto-assigning NUTS sampler...\n",
      "Initializing NUTS using jitter+adapt_diag...\n",
      "Multiprocess sampling (4 chains in 4 jobs)\n",
      "NUTS: [gMu, gSig, bMu, bSig, lh, LSig, LsdMu, L1sdSig, l1Mu, l2Mu, l3Mu, l4Mu, l1sd, l2sd, l3sd, l4sd, β, γ, level1, level2, level3, level4, Age-Value, Age-Ambiguty]\n"
     ]
    },
    {
     "data": {
      "text/html": [
       "\n",
       "<style>\n",
       "    /* Turns off some styling */\n",
       "    progress {\n",
       "        /* gets rid of default border in Firefox and Opera. */\n",
       "        border: none;\n",
       "        /* Needs to be in here for Safari polyfill so background images work as expected. */\n",
       "        background-size: auto;\n",
       "    }\n",
       "    progress:not([value]), progress:not([value])::-webkit-progress-bar {\n",
       "        background: repeating-linear-gradient(45deg, #7e7e7e, #7e7e7e 10px, #5c5c5c 10px, #5c5c5c 20px);\n",
       "    }\n",
       "    .progress-bar-interrupted, .progress-bar-interrupted::-webkit-progress-bar {\n",
       "        background: #F44336;\n",
       "    }\n",
       "</style>\n"
      ],
      "text/plain": [
       "<IPython.core.display.HTML object>"
      ]
     },
     "metadata": {},
     "output_type": "display_data"
    },
    {
     "data": {
      "text/html": [
       "\n",
       "    <div>\n",
       "      <progress value='8000' class='' max='8000' style='width:300px; height:20px; vertical-align: middle;'></progress>\n",
       "      100.00% [8000/8000 13:23&lt;00:00 Sampling 4 chains, 0 divergences]\n",
       "    </div>\n",
       "    "
      ],
      "text/plain": [
       "<IPython.core.display.HTML object>"
      ]
     },
     "metadata": {},
     "output_type": "display_data"
    },
    {
     "name": "stderr",
     "output_type": "stream",
     "text": [
      "Sampling 4 chains for 1_000 tune and 1_000 draw iterations (4_000 + 4_000 draws total) took 805 seconds.\n"
     ]
    },
    {
     "data": {
      "text/html": [
       "<div>\n",
       "<style scoped>\n",
       "    .dataframe tbody tr th:only-of-type {\n",
       "        vertical-align: middle;\n",
       "    }\n",
       "\n",
       "    .dataframe tbody tr th {\n",
       "        vertical-align: top;\n",
       "    }\n",
       "\n",
       "    .dataframe thead th {\n",
       "        text-align: right;\n",
       "    }\n",
       "</style>\n",
       "<table border=\"1\" class=\"dataframe\">\n",
       "  <thead>\n",
       "    <tr style=\"text-align: right;\">\n",
       "      <th></th>\n",
       "      <th>mean</th>\n",
       "      <th>sd</th>\n",
       "      <th>hdi_5.5%</th>\n",
       "      <th>hdi_94.5%</th>\n",
       "      <th>mcse_mean</th>\n",
       "      <th>mcse_sd</th>\n",
       "      <th>ess_bulk</th>\n",
       "      <th>ess_tail</th>\n",
       "      <th>r_hat</th>\n",
       "    </tr>\n",
       "  </thead>\n",
       "  <tbody>\n",
       "    <tr>\n",
       "      <th>Age-Ambiguty</th>\n",
       "      <td>-0.021</td>\n",
       "      <td>0.055</td>\n",
       "      <td>-0.108</td>\n",
       "      <td>0.067</td>\n",
       "      <td>0.001</td>\n",
       "      <td>0.001</td>\n",
       "      <td>1434.0</td>\n",
       "      <td>1892.0</td>\n",
       "      <td>1.0</td>\n",
       "    </tr>\n",
       "    <tr>\n",
       "      <th>Age-Value</th>\n",
       "      <td>-0.438</td>\n",
       "      <td>0.673</td>\n",
       "      <td>-1.449</td>\n",
       "      <td>0.658</td>\n",
       "      <td>0.012</td>\n",
       "      <td>0.012</td>\n",
       "      <td>3139.0</td>\n",
       "      <td>2665.0</td>\n",
       "      <td>1.0</td>\n",
       "    </tr>\n",
       "  </tbody>\n",
       "</table>\n",
       "</div>"
      ],
      "text/plain": [
       "               mean     sd  hdi_5.5%  hdi_94.5%  mcse_mean  mcse_sd  ess_bulk  \\\n",
       "Age-Ambiguty -0.021  0.055    -0.108      0.067      0.001    0.001    1434.0   \n",
       "Age-Value    -0.438  0.673    -1.449      0.658      0.012    0.012    3139.0   \n",
       "\n",
       "              ess_tail  r_hat  \n",
       "Age-Ambiguty    1892.0    1.0  \n",
       "Age-Value       2665.0    1.0  "
      ]
     },
     "execution_count": 28,
     "metadata": {},
     "output_type": "execute_result"
    }
   ],
   "source": [
    "# Estimate values of different levels using a model that accounts for age effects.\n",
    "med_estimated_age = estamte_values_age(db_med, n_subs_med, sub_idx_med)\n",
    "\n",
    "# Summarize the posterior samples from the model, focusing on the effects of age on ambiguity and value.\n",
    "# Display a summary table for 'Age-Ambiguty' and 'Age-Value' using an 89% highest density interval (HDP).\n",
    "az.summary(med_estimated_age, var_names=['Age-Ambiguty', 'Age-Value'], hdi_prob=.89)"
   ]
  },
  {
   "cell_type": "code",
   "execution_count": 29,
   "id": "f704c638",
   "metadata": {},
   "outputs": [],
   "source": [
    "def estamte_values_no_hyp_age(df, n_sub, idx):\n",
    "    \"\"\"\n",
    "    Model to estimate the values with no hyper parameters of different levels with age as an additional factor.\n",
    "    \n",
    "    Parameters:\n",
    "    - df: DataFrame containing data on choice, value levels, risk, ambiguity, and age (z-scored) for each trial.\n",
    "    - n_subs: Number of subjects in the dataset.\n",
    "    - idx: Subject index for each trial (used for modeling individual variations).\n",
    "    \n",
    "    Returns:\n",
    "    - trace: Samples from the posterior distribution.\n",
    "    \"\"\"\n",
    "\n",
    "    with pm.Model() as estimate:  # Begin defining a probabilistic model with PyMC3\n",
    "\n",
    "        # Define hyperparameters for the group-level distributions\n",
    "        gMu  = pm.Normal('gMu', 0, 1)    # Mean for the inverse temp\n",
    "        gSig = pm.Gamma('gSig', 2, 1)    # Standard deviation for the inverse temp distribution\n",
    "        bMu  = pm.Normal('bMu', .65, 1)  # Mean for the ambiguity effect distribution\n",
    "        bSig = pm.Gamma('bSig', 2, 1)    # Standard deviation for the ambiguity effect distribution\n",
    "\n",
    "        # Define subject-specific priors\n",
    "        β = pm.TruncatedNormal('β', bMu, bSig, lower = -1.5, upper = 1.5, shape = n_sub)  # Ambiguity modulation effect\n",
    "        γ = pm.Lognormal('γ',       gMu, gSig,                            shape = n_sub)                                   \n",
    "        \n",
    "        # Priors for individual-level subjective value categories. Each subject has a unique valuation for each level.\n",
    "        level1 = pm.Normal('level1', 1, 1, shape = n_sub)  # Value for level 1\n",
    "        level2 = pm.Normal('level2', 1, 1, shape = n_sub)  # Value for level 2\n",
    "        level3 = pm.Normal('level3', 1, 1, shape = n_sub)  # Value for level 3\n",
    "        level4 = pm.Normal('level4', 1, 1, shape = n_sub)  # Value for level 4\n",
    "        \n",
    "        # Priors for the effect of age on values and ambiguity\n",
    "        AgeV = pm.Normal('Age-Value', 0, 1)\n",
    "        AgeA = pm.Normal('Age-Ambiguty', 0, 1)\n",
    "\n",
    "        # Calculate the total expected value for each trial by summing up values from all levels\n",
    "        val = (df['l1'].values * level1[idx] + \n",
    "               df['l2'].values * level2[idx] + \n",
    "               df['l3'].values * level3[idx] + \n",
    "               df['l4'].values * level4[idx]\n",
    "              )  + AgeV * df['age'].values/100 \n",
    "        \n",
    "        # Compute the effect of ambiguity modulated by age\n",
    "        amb = β[idx] + AgeA * df['age'].values/100\n",
    "        \n",
    "        # Calculate probability for lottery\n",
    "        prob = df['risk'].values - (amb * (df['ambiguity'].values/2))\n",
    "        svLotto = val * prob\n",
    "        svRef = level1[idx] + AgeV * df['age'].values/100\n",
    "        \n",
    "        # Compute choice probability using inverse logit transformation\n",
    "        p = (svLotto - svRef) / γ[idx]\n",
    "        mu = pm.invlogit(p)\n",
    "        \n",
    "        # Define the likelihood of the observed choices\n",
    "        choice = pm.Binomial('choice', 1, mu, observed=df['choice'])\n",
    "        \n",
    "        trace = pm.sample(tune=2000, draws=2000, return_inferencedata=True, target_accept=0.99) \n",
    "    \n",
    "    return(trace)"
   ]
  },
  {
   "cell_type": "code",
   "execution_count": 30,
   "id": "dcc1a77d",
   "metadata": {},
   "outputs": [
    {
     "name": "stderr",
     "output_type": "stream",
     "text": [
      "Auto-assigning NUTS sampler...\n",
      "Initializing NUTS using jitter+adapt_diag...\n",
      "Multiprocess sampling (4 chains in 4 jobs)\n",
      "NUTS: [gMu, gSig, bMu, bSig, β, γ, level1, level2, level3, level4, Age-Value, Age-Ambiguty]\n"
     ]
    },
    {
     "data": {
      "text/html": [
       "\n",
       "<style>\n",
       "    /* Turns off some styling */\n",
       "    progress {\n",
       "        /* gets rid of default border in Firefox and Opera. */\n",
       "        border: none;\n",
       "        /* Needs to be in here for Safari polyfill so background images work as expected. */\n",
       "        background-size: auto;\n",
       "    }\n",
       "    progress:not([value]), progress:not([value])::-webkit-progress-bar {\n",
       "        background: repeating-linear-gradient(45deg, #7e7e7e, #7e7e7e 10px, #5c5c5c 10px, #5c5c5c 20px);\n",
       "    }\n",
       "    .progress-bar-interrupted, .progress-bar-interrupted::-webkit-progress-bar {\n",
       "        background: #F44336;\n",
       "    }\n",
       "</style>\n"
      ],
      "text/plain": [
       "<IPython.core.display.HTML object>"
      ]
     },
     "metadata": {},
     "output_type": "display_data"
    },
    {
     "data": {
      "text/html": [
       "\n",
       "    <div>\n",
       "      <progress value='16000' class='' max='16000' style='width:300px; height:20px; vertical-align: middle;'></progress>\n",
       "      100.00% [16000/16000 28:42&lt;00:00 Sampling 4 chains, 0 divergences]\n",
       "    </div>\n",
       "    "
      ],
      "text/plain": [
       "<IPython.core.display.HTML object>"
      ]
     },
     "metadata": {},
     "output_type": "display_data"
    },
    {
     "name": "stderr",
     "output_type": "stream",
     "text": [
      "Sampling 4 chains for 2_000 tune and 2_000 draw iterations (8_000 + 8_000 draws total) took 1724 seconds.\n"
     ]
    },
    {
     "data": {
      "text/html": [
       "<div>\n",
       "<style scoped>\n",
       "    .dataframe tbody tr th:only-of-type {\n",
       "        vertical-align: middle;\n",
       "    }\n",
       "\n",
       "    .dataframe tbody tr th {\n",
       "        vertical-align: top;\n",
       "    }\n",
       "\n",
       "    .dataframe thead th {\n",
       "        text-align: right;\n",
       "    }\n",
       "</style>\n",
       "<table border=\"1\" class=\"dataframe\">\n",
       "  <thead>\n",
       "    <tr style=\"text-align: right;\">\n",
       "      <th></th>\n",
       "      <th>mean</th>\n",
       "      <th>sd</th>\n",
       "      <th>hdi_5.5%</th>\n",
       "      <th>hdi_94.5%</th>\n",
       "      <th>mcse_mean</th>\n",
       "      <th>mcse_sd</th>\n",
       "      <th>ess_bulk</th>\n",
       "      <th>ess_tail</th>\n",
       "      <th>r_hat</th>\n",
       "    </tr>\n",
       "  </thead>\n",
       "  <tbody>\n",
       "    <tr>\n",
       "      <th>Age-Ambiguty</th>\n",
       "      <td>-0.083</td>\n",
       "      <td>0.236</td>\n",
       "      <td>-0.463</td>\n",
       "      <td>0.293</td>\n",
       "      <td>0.010</td>\n",
       "      <td>0.007</td>\n",
       "      <td>565.0</td>\n",
       "      <td>1016.0</td>\n",
       "      <td>1.01</td>\n",
       "    </tr>\n",
       "    <tr>\n",
       "      <th>Age-Value</th>\n",
       "      <td>0.429</td>\n",
       "      <td>0.247</td>\n",
       "      <td>0.041</td>\n",
       "      <td>0.831</td>\n",
       "      <td>0.005</td>\n",
       "      <td>0.004</td>\n",
       "      <td>2239.0</td>\n",
       "      <td>3691.0</td>\n",
       "      <td>1.00</td>\n",
       "    </tr>\n",
       "  </tbody>\n",
       "</table>\n",
       "</div>"
      ],
      "text/plain": [
       "               mean     sd  hdi_5.5%  hdi_94.5%  mcse_mean  mcse_sd  ess_bulk  \\\n",
       "Age-Ambiguty -0.083  0.236    -0.463      0.293      0.010    0.007     565.0   \n",
       "Age-Value     0.429  0.247     0.041      0.831      0.005    0.004    2239.0   \n",
       "\n",
       "              ess_tail  r_hat  \n",
       "Age-Ambiguty    1016.0   1.01  \n",
       "Age-Value       3691.0   1.00  "
      ]
     },
     "execution_count": 30,
     "metadata": {},
     "output_type": "execute_result"
    }
   ],
   "source": [
    "# Estimate values of different levels using a model that accounts for age effects with no hyper priors acroos subjects.\n",
    "med_estimated_nh_age = estamte_values_no_hyp_age(db_med, n_subs_med, sub_idx_med)\n",
    "\n",
    "# Summarize the posterior samples from the model, focusing on the effects of age on ambiguity and value.\n",
    "# Display a summary table for 'Age-Ambiguty' and 'Age-Value' using an 89% highest density interval (HDP).\n",
    "az.summary(med_estimated_nh_age, var_names=['Age-Ambiguty', 'Age-Value'], hdi_prob=.89)"
   ]
  },
  {
   "cell_type": "code",
   "execution_count": 47,
   "id": "f7f43e91",
   "metadata": {},
   "outputs": [
    {
     "name": "stderr",
     "output_type": "stream",
     "text": [
      "/home/nachshon/anaconda3/envs/en/lib/python3.9/site-packages/arviz/stats/stats.py:812: UserWarning: Estimated shape parameter of Pareto distribution is greater than 0.7 for one or more samples. You should consider using a more robust model, this is because importance sampling is less likely to work well if the marginal posterior and LOO posterior are very different. This is more likely to happen with a non-robust model and highly influential observations.\n",
      "  warnings.warn(\n",
      "/home/nachshon/anaconda3/envs/en/lib/python3.9/site-packages/arviz/stats/stats.py:812: UserWarning: Estimated shape parameter of Pareto distribution is greater than 0.7 for one or more samples. You should consider using a more robust model, this is because importance sampling is less likely to work well if the marginal posterior and LOO posterior are very different. This is more likely to happen with a non-robust model and highly influential observations.\n",
      "  warnings.warn(\n"
     ]
    },
    {
     "data": {
      "text/html": [
       "<div>\n",
       "<style scoped>\n",
       "    .dataframe tbody tr th:only-of-type {\n",
       "        vertical-align: middle;\n",
       "    }\n",
       "\n",
       "    .dataframe tbody tr th {\n",
       "        vertical-align: top;\n",
       "    }\n",
       "\n",
       "    .dataframe thead th {\n",
       "        text-align: right;\n",
       "    }\n",
       "</style>\n",
       "<table border=\"1\" class=\"dataframe\">\n",
       "  <thead>\n",
       "    <tr style=\"text-align: right;\">\n",
       "      <th></th>\n",
       "      <th>rank</th>\n",
       "      <th>loo</th>\n",
       "      <th>p_loo</th>\n",
       "      <th>d_loo</th>\n",
       "      <th>weight</th>\n",
       "      <th>se</th>\n",
       "      <th>dse</th>\n",
       "      <th>warning</th>\n",
       "      <th>loo_scale</th>\n",
       "    </tr>\n",
       "  </thead>\n",
       "  <tbody>\n",
       "    <tr>\n",
       "      <th>older model</th>\n",
       "      <td>0</td>\n",
       "      <td>-1407.484729</td>\n",
       "      <td>226.499791</td>\n",
       "      <td>0.00000</td>\n",
       "      <td>0.660256</td>\n",
       "      <td>45.442208</td>\n",
       "      <td>0.000000</td>\n",
       "      <td>True</td>\n",
       "      <td>log</td>\n",
       "    </tr>\n",
       "    <tr>\n",
       "      <th>hierarchical model</th>\n",
       "      <td>1</td>\n",
       "      <td>-1411.484790</td>\n",
       "      <td>249.053147</td>\n",
       "      <td>4.00006</td>\n",
       "      <td>0.339744</td>\n",
       "      <td>45.069564</td>\n",
       "      <td>5.224866</td>\n",
       "      <td>True</td>\n",
       "      <td>log</td>\n",
       "    </tr>\n",
       "  </tbody>\n",
       "</table>\n",
       "</div>"
      ],
      "text/plain": [
       "                    rank          loo       p_loo    d_loo    weight  \\\n",
       "older model            0 -1407.484729  226.499791  0.00000  0.660256   \n",
       "hierarchical model     1 -1411.484790  249.053147  4.00006  0.339744   \n",
       "\n",
       "                           se       dse  warning loo_scale  \n",
       "older model         45.442208  0.000000     True       log  \n",
       "hierarchical model  45.069564  5.224866     True       log  "
      ]
     },
     "execution_count": 47,
     "metadata": {},
     "output_type": "execute_result"
    }
   ],
   "source": [
    "compare_dict = {\n",
    "    \"older model\":        med_estimated_age,     \n",
    "    \"hierarchical model\": med_estimated_nh_age    \n",
    "}\n",
    "\n",
    "comp = az.compare(compare_dict)\n",
    "\n",
    "# Display the comparison result\n",
    "comp"
   ]
  },
  {
   "cell_type": "markdown",
   "id": "79f010fd",
   "metadata": {},
   "source": [
    "## Age Effects on Medical Decision-Making\n",
    "\n",
    "In the hierarchical model, we observed no evidence of age effects on either ambiguity or value. </br>\n",
    "However, the older model, which doesn't assume cross-subject valuation, indicates that age is positively correlated with valuation. </br>\n",
    "Comparisons between the models suggest that the older model offers a superior fit to the data, and it is more parsimonious. </br>"
   ]
  },
  {
   "cell_type": "markdown",
   "id": "fa4811c8",
   "metadata": {},
   "source": [
    "#### Save model"
   ]
  },
  {
   "cell_type": "code",
   "execution_count": 31,
   "id": "44bbf9be",
   "metadata": {},
   "outputs": [
    {
     "data": {
      "text/plain": [
       "'data/med_estimated_nh_age.nc'"
      ]
     },
     "execution_count": 31,
     "metadata": {},
     "output_type": "execute_result"
    }
   ],
   "source": [
    "med_estimated_age.to_netcdf(\"data/med_estimated_age.nc\")\n",
    "med_estimated_nh_age.to_netcdf(\"data/med_estimated_nh_age.nc\")"
   ]
  },
  {
   "cell_type": "markdown",
   "id": "b182bd6e",
   "metadata": {},
   "source": [
    "## Step 3 validating the models using monetary decision making"
   ]
  },
  {
   "cell_type": "code",
   "execution_count": 32,
   "id": "50b05a88",
   "metadata": {},
   "outputs": [
    {
     "name": "stderr",
     "output_type": "stream",
     "text": [
      "Auto-assigning NUTS sampler...\n",
      "Initializing NUTS using jitter+adapt_diag...\n",
      "Multiprocess sampling (4 chains in 4 jobs)\n",
      "NUTS: [gMu, gSig, γ]\n"
     ]
    },
    {
     "data": {
      "text/html": [
       "\n",
       "<style>\n",
       "    /* Turns off some styling */\n",
       "    progress {\n",
       "        /* gets rid of default border in Firefox and Opera. */\n",
       "        border: none;\n",
       "        /* Needs to be in here for Safari polyfill so background images work as expected. */\n",
       "        background-size: auto;\n",
       "    }\n",
       "    progress:not([value]), progress:not([value])::-webkit-progress-bar {\n",
       "        background: repeating-linear-gradient(45deg, #7e7e7e, #7e7e7e 10px, #5c5c5c 10px, #5c5c5c 20px);\n",
       "    }\n",
       "    .progress-bar-interrupted, .progress-bar-interrupted::-webkit-progress-bar {\n",
       "        background: #F44336;\n",
       "    }\n",
       "</style>\n"
      ],
      "text/plain": [
       "<IPython.core.display.HTML object>"
      ]
     },
     "metadata": {},
     "output_type": "display_data"
    },
    {
     "data": {
      "text/html": [
       "\n",
       "    <div>\n",
       "      <progress value='8000' class='' max='8000' style='width:300px; height:20px; vertical-align: middle;'></progress>\n",
       "      100.00% [8000/8000 00:22&lt;00:00 Sampling 4 chains, 0 divergences]\n",
       "    </div>\n",
       "    "
      ],
      "text/plain": [
       "<IPython.core.display.HTML object>"
      ]
     },
     "metadata": {},
     "output_type": "display_data"
    },
    {
     "name": "stderr",
     "output_type": "stream",
     "text": [
      "Sampling 4 chains for 1_000 tune and 1_000 draw iterations (4_000 + 4_000 draws total) took 23 seconds.\n",
      "Auto-assigning NUTS sampler...\n",
      "Initializing NUTS using jitter+adapt_diag...\n",
      "Multiprocess sampling (4 chains in 4 jobs)\n",
      "NUTS: [gMu, gSig, bMu, bSig, β, γ, level1, level2, level3, level4]\n"
     ]
    },
    {
     "data": {
      "text/html": [
       "\n",
       "<style>\n",
       "    /* Turns off some styling */\n",
       "    progress {\n",
       "        /* gets rid of default border in Firefox and Opera. */\n",
       "        border: none;\n",
       "        /* Needs to be in here for Safari polyfill so background images work as expected. */\n",
       "        background-size: auto;\n",
       "    }\n",
       "    progress:not([value]), progress:not([value])::-webkit-progress-bar {\n",
       "        background: repeating-linear-gradient(45deg, #7e7e7e, #7e7e7e 10px, #5c5c5c 10px, #5c5c5c 20px);\n",
       "    }\n",
       "    .progress-bar-interrupted, .progress-bar-interrupted::-webkit-progress-bar {\n",
       "        background: #F44336;\n",
       "    }\n",
       "</style>\n"
      ],
      "text/plain": [
       "<IPython.core.display.HTML object>"
      ]
     },
     "metadata": {},
     "output_type": "display_data"
    },
    {
     "data": {
      "text/html": [
       "\n",
       "    <div>\n",
       "      <progress value='12000' class='' max='12000' style='width:300px; height:20px; vertical-align: middle;'></progress>\n",
       "      100.00% [12000/12000 10:48&lt;00:00 Sampling 4 chains, 2 divergences]\n",
       "    </div>\n",
       "    "
      ],
      "text/plain": [
       "<IPython.core.display.HTML object>"
      ]
     },
     "metadata": {},
     "output_type": "display_data"
    },
    {
     "name": "stderr",
     "output_type": "stream",
     "text": [
      "Sampling 4 chains for 2_000 tune and 1_000 draw iterations (8_000 + 4_000 draws total) took 649 seconds.\n",
      "There was 1 divergence after tuning. Increase `target_accept` or reparameterize.\n",
      "There was 1 divergence after tuning. Increase `target_accept` or reparameterize.\n",
      "Auto-assigning NUTS sampler...\n",
      "Initializing NUTS using jitter+adapt_diag...\n",
      "Multiprocess sampling (4 chains in 4 jobs)\n",
      "NUTS: [gMu, gSig, bMu, bSig, l1Mu, l2Mu, l3Mu, l4Mu, l1sd, l2sd, l3sd, l4sd, β, γ, level1, level2, level3, level4]\n"
     ]
    },
    {
     "data": {
      "text/html": [
       "\n",
       "<style>\n",
       "    /* Turns off some styling */\n",
       "    progress {\n",
       "        /* gets rid of default border in Firefox and Opera. */\n",
       "        border: none;\n",
       "        /* Needs to be in here for Safari polyfill so background images work as expected. */\n",
       "        background-size: auto;\n",
       "    }\n",
       "    progress:not([value]), progress:not([value])::-webkit-progress-bar {\n",
       "        background: repeating-linear-gradient(45deg, #7e7e7e, #7e7e7e 10px, #5c5c5c 10px, #5c5c5c 20px);\n",
       "    }\n",
       "    .progress-bar-interrupted, .progress-bar-interrupted::-webkit-progress-bar {\n",
       "        background: #F44336;\n",
       "    }\n",
       "</style>\n"
      ],
      "text/plain": [
       "<IPython.core.display.HTML object>"
      ]
     },
     "metadata": {},
     "output_type": "display_data"
    },
    {
     "data": {
      "text/html": [
       "\n",
       "    <div>\n",
       "      <progress value='12000' class='' max='12000' style='width:300px; height:20px; vertical-align: middle;'></progress>\n",
       "      100.00% [12000/12000 09:17&lt;00:00 Sampling 4 chains, 0 divergences]\n",
       "    </div>\n",
       "    "
      ],
      "text/plain": [
       "<IPython.core.display.HTML object>"
      ]
     },
     "metadata": {},
     "output_type": "display_data"
    },
    {
     "name": "stderr",
     "output_type": "stream",
     "text": [
      "Sampling 4 chains for 2_000 tune and 1_000 draw iterations (8_000 + 4_000 draws total) took 558 seconds.\n",
      "Auto-assigning NUTS sampler...\n",
      "Initializing NUTS using jitter+adapt_diag...\n",
      "Multiprocess sampling (4 chains in 4 jobs)\n",
      "NUTS: [gMu, gSig, bMu, bSig, l1Mu, l2Mu, l3Mu, l4Mu, l1sd, l2sd, l3sd, l4sd, β, γ, level1, level2, level3, level4]\n"
     ]
    },
    {
     "data": {
      "text/html": [
       "\n",
       "<style>\n",
       "    /* Turns off some styling */\n",
       "    progress {\n",
       "        /* gets rid of default border in Firefox and Opera. */\n",
       "        border: none;\n",
       "        /* Needs to be in here for Safari polyfill so background images work as expected. */\n",
       "        background-size: auto;\n",
       "    }\n",
       "    progress:not([value]), progress:not([value])::-webkit-progress-bar {\n",
       "        background: repeating-linear-gradient(45deg, #7e7e7e, #7e7e7e 10px, #5c5c5c 10px, #5c5c5c 20px);\n",
       "    }\n",
       "    .progress-bar-interrupted, .progress-bar-interrupted::-webkit-progress-bar {\n",
       "        background: #F44336;\n",
       "    }\n",
       "</style>\n"
      ],
      "text/plain": [
       "<IPython.core.display.HTML object>"
      ]
     },
     "metadata": {},
     "output_type": "display_data"
    },
    {
     "data": {
      "text/html": [
       "\n",
       "    <div>\n",
       "      <progress value='12000' class='' max='12000' style='width:300px; height:20px; vertical-align: middle;'></progress>\n",
       "      100.00% [12000/12000 20:19&lt;00:00 Sampling 4 chains, 0 divergences]\n",
       "    </div>\n",
       "    "
      ],
      "text/plain": [
       "<IPython.core.display.HTML object>"
      ]
     },
     "metadata": {},
     "output_type": "display_data"
    },
    {
     "name": "stderr",
     "output_type": "stream",
     "text": [
      "Sampling 4 chains for 2_000 tune and 1_000 draw iterations (8_000 + 4_000 draws total) took 1221 seconds.\n",
      "Auto-assigning NUTS sampler...\n",
      "Initializing NUTS using jitter+adapt_diag...\n",
      "Multiprocess sampling (4 chains in 4 jobs)\n",
      "NUTS: [gMu, gSig, bMu, bSig, lh, LSig, LsdMu, L1sdSig, l1Mu, l2Mu, l3Mu, l4Mu, l1sd, l2sd, l3sd, l4sd, β, γ, level1, level2, level3, level4]\n"
     ]
    },
    {
     "data": {
      "text/html": [
       "\n",
       "<style>\n",
       "    /* Turns off some styling */\n",
       "    progress {\n",
       "        /* gets rid of default border in Firefox and Opera. */\n",
       "        border: none;\n",
       "        /* Needs to be in here for Safari polyfill so background images work as expected. */\n",
       "        background-size: auto;\n",
       "    }\n",
       "    progress:not([value]), progress:not([value])::-webkit-progress-bar {\n",
       "        background: repeating-linear-gradient(45deg, #7e7e7e, #7e7e7e 10px, #5c5c5c 10px, #5c5c5c 20px);\n",
       "    }\n",
       "    .progress-bar-interrupted, .progress-bar-interrupted::-webkit-progress-bar {\n",
       "        background: #F44336;\n",
       "    }\n",
       "</style>\n"
      ],
      "text/plain": [
       "<IPython.core.display.HTML object>"
      ]
     },
     "metadata": {},
     "output_type": "display_data"
    },
    {
     "data": {
      "text/html": [
       "\n",
       "    <div>\n",
       "      <progress value='12000' class='' max='12000' style='width:300px; height:20px; vertical-align: middle;'></progress>\n",
       "      100.00% [12000/12000 21:54&lt;00:00 Sampling 4 chains, 1 divergences]\n",
       "    </div>\n",
       "    "
      ],
      "text/plain": [
       "<IPython.core.display.HTML object>"
      ]
     },
     "metadata": {},
     "output_type": "display_data"
    },
    {
     "name": "stderr",
     "output_type": "stream",
     "text": [
      "Sampling 4 chains for 2_000 tune and 1_000 draw iterations (8_000 + 4_000 draws total) took 1316 seconds.\n",
      "There was 1 divergence after tuning. Increase `target_accept` or reparameterize.\n"
     ]
    }
   ],
   "source": [
    "# A simple model, for a baseline or comparison\n",
    "mon_simple = straw_man(db_mon, n_subs, sub_idx)\n",
    "\n",
    "# A model estimating values without a shared hyperprior across subjects\n",
    "mon_estimated_no_hyp = estimate_values_no_hyper(db_mon, n_subs, sub_idx)\n",
    "\n",
    "# A model with shared hyperprior across subjects\n",
    "mon_estimated = estamte_values(db_mon, n_subs, sub_idx)\n",
    "\n",
    "# A model that applies ordinal constraints to the estimation of subjective values\n",
    "mon_estimated_ord = estamte_values_ordinal(db_mon, n_subs, sub_idx)\n",
    "\n",
    "# Hierarchical model that includes additional hyperpriors for subjective value levels\n",
    "mon_estimated_hyper = estamte_values_hyper(db_mon, n_subs, sub_idx)"
   ]
  },
  {
   "cell_type": "markdown",
   "id": "0fd9332d",
   "metadata": {},
   "source": [
    "### Model Utility Function"
   ]
  },
  {
   "cell_type": "code",
   "execution_count": 33,
   "id": "fe1875d2",
   "metadata": {},
   "outputs": [],
   "source": [
    "def Utility(df, n_subs, idx):\n",
    "    \"\"\"\n",
    "    Estimate the utility function of the subjects using a model that accounts for both the value of an outcome \n",
    "    and the probability of its occurrence.\n",
    "\n",
    "    Parameters:\n",
    "    - df: DataFrame containing data on choice, value levels, risk, and ambiguity for each trial.\n",
    "    - n_subs: Number of subjects in the dataset.\n",
    "    - idx: Subject index for each trial (used for modeling individual variations).\n",
    "\n",
    "    Returns:\n",
    "    - trace: Samples from the posterior distribution.\n",
    "    \"\"\"\n",
    "    \n",
    "    # Define the probabilistic model for utility function\n",
    "    with pm.Model() as Utility:\n",
    "        \n",
    "        # Hyperpriors define group-level distributions for subject-specific parameters.\n",
    "        alpha_a = pm.Gamma('alpha_a',  4,   1)  # Shape parameter for risk attitude\n",
    "        alpha_b = pm.Normal('alpha_b', 7,   1)  # Rate parameter for risk attitude\n",
    "        gMu  = pm.Normal('gMu',        0,   1)  # Group-level mean for inverse gamma\n",
    "        gSig = pm.Gamma('gSig',        2,   1)  # Group-level standard deviation for inverse gamma\n",
    "        bMu     = pm.Normal('bMu',     .65, 1)  # Group-level mean for ambiguity modulation\n",
    "        bSig    = pm.Gamma('bSig',     4,   1)  # Group-level standard deviation for ambiguity modulation\n",
    "\n",
    "        # Individual subject priors.\n",
    "        alpha = pm.Beta('alpha',  alpha_a, alpha_b, shape = n_subs)                        # Subject-specific utility curvature\n",
    "        α = pm.Deterministic('α', alpha * 2)                                               # Double the value of alpha for further computations\n",
    "        β = pm.TruncatedNormal('β',  bMu, bSig, lower = -1.5, upper = 1.5, shape = n_subs) # Ambiguity modulation\n",
    "        γ = pm.Lognormal('γ', gMu, gSig, shape = n_subs)                                   # Inverse temperature parameter\n",
    "\n",
    "        # Calculate expected value of outcome using a power function.\n",
    "        value = df['value'].values ** α[idx]  # Subjective value based on curvature parameter\n",
    "        prob  = df['risk'].values  - (β[idx] * (df['ambiguity'].values/2))  # Probability of outcome considering ambiguity\n",
    "\n",
    "        # Calculate subjective value (SV) of the lottery for each trial\n",
    "        svLotto = value * prob\n",
    "        svRef   = 5 ** α[idx]  # Reference value\n",
    "\n",
    "        # Convert SV into a probability of choosing the lottery using the inverse logit function.\n",
    "        p  = (svLotto - svRef) / γ[idx]\n",
    "        mu = pm.invlogit(p)\n",
    "\n",
    "        # Define likelihood of observations using a Binomial distribution, as choice is binary.\n",
    "        choice = pm.Binomial('choice', 1, mu, observed=df['choice'])\n",
    "\n",
    "        trace = pm.sample(tune=2000, draws=2000, target_accept=0.99)\n",
    "        \n",
    "    return(trace)"
   ]
  },
  {
   "cell_type": "markdown",
   "id": "610f0edc",
   "metadata": {},
   "source": [
    "### Model \"Trembling hand\" "
   ]
  },
  {
   "cell_type": "code",
   "execution_count": 34,
   "id": "37ce8a0f",
   "metadata": {},
   "outputs": [],
   "source": [
    "def Utility_th(df, n_subs, idx):\n",
    "    \"\"\"\n",
    "    Estimate the utility function of the subjects using a model that accounts for both the value of an outcome \n",
    "    and the probability of its occurrence, with a modified choice function incorporating tremble hand effect (γ).\n",
    "\n",
    "    Parameters:\n",
    "    - df: DataFrame containing data on choice, value levels, risk, and ambiguity for each trial.\n",
    "    - n_subs: Number of subjects in the dataset.\n",
    "    - idx: Subject index for each trial (used for modeling individual variations).\n",
    "\n",
    "    Returns:\n",
    "    - trace: Samples from the posterior distribution.\n",
    "    \"\"\"\n",
    "    \n",
    "    # Define the probabilistic model for the utility function\n",
    "    with pm.Model() as trembel_hand:\n",
    "        \n",
    "        # Hyperpriors: Define group-level distributions for subject-specific parameters.\n",
    "        alpha_a = pm.TruncatedNormal('alpha_a', 4, 1, lower = 1)  # Shape parameter for utility curvature\n",
    "        alpha_b = pm.TruncatedNormal('alpha_b', 7, 1, lower = 1)  # Rate parameter for utility curvature\n",
    "\n",
    "        g_a = pm.TruncatedNormal('g_a', 2, 1, lower = 1)  # Shape parameter for tremble hand effect\n",
    "        g_b = pm.TruncatedNormal('g_b', 2, 1, lower = 1)  # Rate parameter for tremble hand effect\n",
    "\n",
    "        bMu  = pm.Normal('bMu', .65, .5)  # Mean for ambiguity modulation\n",
    "        bSig = pm.Gamma('bSig', 2, 1)     # Standard deviation for ambiguity modulation\n",
    "\n",
    "        # Individual subject priors.\n",
    "        alpha = pm.Beta('alpha', alpha_a, alpha_b, shape = n_subs)  # Subject-specific utility curvature\n",
    "        α = pm.Deterministic('α', alpha * 2)  # Double the value of alpha for further computations\n",
    "        β = pm.TruncatedNormal('β', bMu, bSig, lower = -1.5, upper = 1.5, shape = n_subs)  # Ambiguity modulation\n",
    "        γ = pm.Beta('γ', g_a, g_b, shape = n_subs)  # Tremble hand effect (probability of random choice)\n",
    "\n",
    "        # Calculate expected value of outcome using a power function.\n",
    "        value = df['value'].values ** α[idx]\n",
    "        prob  = df['risk'].values - (β[idx] * (df['ambiguity'].values/2))\n",
    "\n",
    "        svLotto = value * prob\n",
    "        svRef   = 5 ** α[idx]\n",
    "        \n",
    "        # Convert SV into a modified probability of choosing the lottery using the inverse logit function \n",
    "        # and the tremble hand effect.\n",
    "        p = (1/(1+np.exp(-(svLotto - svRef)))) * (1-γ[idx]) + γ[idx] * .5\n",
    "        \n",
    "        # Define likelihood of observations using a Binomial distribution, as choice is binary.\n",
    "        choice = pm.Binomial('choice', 1, p, observed=df['choice'])\n",
    "\n",
    "        trace = pm.sample()\n",
    "        \n",
    "    return(trace)"
   ]
  },
  {
   "cell_type": "code",
   "execution_count": 35,
   "id": "4a96f24d",
   "metadata": {},
   "outputs": [
    {
     "name": "stderr",
     "output_type": "stream",
     "text": [
      "Auto-assigning NUTS sampler...\n",
      "Initializing NUTS using jitter+adapt_diag...\n",
      "Multiprocess sampling (4 chains in 4 jobs)\n",
      "NUTS: [alpha_a, alpha_b, gMu, gSig, bMu, bSig, alpha, β, γ]\n"
     ]
    },
    {
     "data": {
      "text/html": [
       "\n",
       "<style>\n",
       "    /* Turns off some styling */\n",
       "    progress {\n",
       "        /* gets rid of default border in Firefox and Opera. */\n",
       "        border: none;\n",
       "        /* Needs to be in here for Safari polyfill so background images work as expected. */\n",
       "        background-size: auto;\n",
       "    }\n",
       "    progress:not([value]), progress:not([value])::-webkit-progress-bar {\n",
       "        background: repeating-linear-gradient(45deg, #7e7e7e, #7e7e7e 10px, #5c5c5c 10px, #5c5c5c 20px);\n",
       "    }\n",
       "    .progress-bar-interrupted, .progress-bar-interrupted::-webkit-progress-bar {\n",
       "        background: #F44336;\n",
       "    }\n",
       "</style>\n"
      ],
      "text/plain": [
       "<IPython.core.display.HTML object>"
      ]
     },
     "metadata": {},
     "output_type": "display_data"
    },
    {
     "data": {
      "text/html": [
       "\n",
       "    <div>\n",
       "      <progress value='16000' class='' max='16000' style='width:300px; height:20px; vertical-align: middle;'></progress>\n",
       "      100.00% [16000/16000 13:38&lt;00:00 Sampling 4 chains, 1 divergences]\n",
       "    </div>\n",
       "    "
      ],
      "text/plain": [
       "<IPython.core.display.HTML object>"
      ]
     },
     "metadata": {},
     "output_type": "display_data"
    },
    {
     "name": "stderr",
     "output_type": "stream",
     "text": [
      "Sampling 4 chains for 2_000 tune and 2_000 draw iterations (8_000 + 8_000 draws total) took 819 seconds.\n",
      "There was 1 divergence after tuning. Increase `target_accept` or reparameterize.\n",
      "Auto-assigning NUTS sampler...\n",
      "Initializing NUTS using jitter+adapt_diag...\n",
      "Multiprocess sampling (4 chains in 4 jobs)\n",
      "NUTS: [alpha_a, alpha_b, g_a, g_b, bMu, bSig, alpha, β, γ]\n"
     ]
    },
    {
     "data": {
      "text/html": [
       "\n",
       "<style>\n",
       "    /* Turns off some styling */\n",
       "    progress {\n",
       "        /* gets rid of default border in Firefox and Opera. */\n",
       "        border: none;\n",
       "        /* Needs to be in here for Safari polyfill so background images work as expected. */\n",
       "        background-size: auto;\n",
       "    }\n",
       "    progress:not([value]), progress:not([value])::-webkit-progress-bar {\n",
       "        background: repeating-linear-gradient(45deg, #7e7e7e, #7e7e7e 10px, #5c5c5c 10px, #5c5c5c 20px);\n",
       "    }\n",
       "    .progress-bar-interrupted, .progress-bar-interrupted::-webkit-progress-bar {\n",
       "        background: #F44336;\n",
       "    }\n",
       "</style>\n"
      ],
      "text/plain": [
       "<IPython.core.display.HTML object>"
      ]
     },
     "metadata": {},
     "output_type": "display_data"
    },
    {
     "data": {
      "text/html": [
       "\n",
       "    <div>\n",
       "      <progress value='8000' class='' max='8000' style='width:300px; height:20px; vertical-align: middle;'></progress>\n",
       "      100.00% [8000/8000 02:24&lt;00:00 Sampling 4 chains, 0 divergences]\n",
       "    </div>\n",
       "    "
      ],
      "text/plain": [
       "<IPython.core.display.HTML object>"
      ]
     },
     "metadata": {},
     "output_type": "display_data"
    },
    {
     "name": "stderr",
     "output_type": "stream",
     "text": [
      "Sampling 4 chains for 1_000 tune and 1_000 draw iterations (4_000 + 4_000 draws total) took 146 seconds.\n",
      "The acceptance probability does not match the target. It is 0.7171, but should be close to 0.8. Try to increase the number of tuning steps.\n"
     ]
    }
   ],
   "source": [
    "# Use the previously defined Utility function to model and estimate the utility function \n",
    "# for a dataset containing monetary decisions. \n",
    "mon_beta = Utility(db_mon, n_subs, sub_idx)\n",
    "\n",
    "# Use the Utility_th function to model and estimate the utility function \n",
    "# with a tremble hand effect for the same dataset containing monetary decisions.\n",
    "mon_hand = Utility_th(db_mon, n_subs, sub_idx)\n"
   ]
  },
  {
   "cell_type": "markdown",
   "id": "c8daf0d8",
   "metadata": {},
   "source": [
    "#### compare models"
   ]
  },
  {
   "cell_type": "code",
   "execution_count": 36,
   "id": "15b77645",
   "metadata": {},
   "outputs": [
    {
     "name": "stderr",
     "output_type": "stream",
     "text": [
      "/home/nachshon/anaconda3/envs/en/lib/python3.9/site-packages/arviz/stats/stats.py:812: UserWarning: Estimated shape parameter of Pareto distribution is greater than 0.7 for one or more samples. You should consider using a more robust model, this is because importance sampling is less likely to work well if the marginal posterior and LOO posterior are very different. This is more likely to happen with a non-robust model and highly influential observations.\n",
      "  warnings.warn(\n",
      "/home/nachshon/anaconda3/envs/en/lib/python3.9/site-packages/arviz/stats/stats.py:812: UserWarning: Estimated shape parameter of Pareto distribution is greater than 0.7 for one or more samples. You should consider using a more robust model, this is because importance sampling is less likely to work well if the marginal posterior and LOO posterior are very different. This is more likely to happen with a non-robust model and highly influential observations.\n",
      "  warnings.warn(\n",
      "/home/nachshon/anaconda3/envs/en/lib/python3.9/site-packages/arviz/stats/stats.py:812: UserWarning: Estimated shape parameter of Pareto distribution is greater than 0.7 for one or more samples. You should consider using a more robust model, this is because importance sampling is less likely to work well if the marginal posterior and LOO posterior are very different. This is more likely to happen with a non-robust model and highly influential observations.\n",
      "  warnings.warn(\n",
      "/home/nachshon/anaconda3/envs/en/lib/python3.9/site-packages/arviz/stats/stats.py:812: UserWarning: Estimated shape parameter of Pareto distribution is greater than 0.7 for one or more samples. You should consider using a more robust model, this is because importance sampling is less likely to work well if the marginal posterior and LOO posterior are very different. This is more likely to happen with a non-robust model and highly influential observations.\n",
      "  warnings.warn(\n",
      "/home/nachshon/anaconda3/envs/en/lib/python3.9/site-packages/arviz/stats/stats.py:812: UserWarning: Estimated shape parameter of Pareto distribution is greater than 0.7 for one or more samples. You should consider using a more robust model, this is because importance sampling is less likely to work well if the marginal posterior and LOO posterior are very different. This is more likely to happen with a non-robust model and highly influential observations.\n",
      "  warnings.warn(\n",
      "/home/nachshon/anaconda3/envs/en/lib/python3.9/site-packages/arviz/stats/stats.py:1048: RuntimeWarning: overflow encountered in exp\n",
      "  weights = 1 / np.exp(len_scale - len_scale[:, None]).sum(axis=1)\n",
      "/home/nachshon/anaconda3/envs/en/lib/python3.9/site-packages/arviz/stats/stats.py:812: UserWarning: Estimated shape parameter of Pareto distribution is greater than 0.7 for one or more samples. You should consider using a more robust model, this is because importance sampling is less likely to work well if the marginal posterior and LOO posterior are very different. This is more likely to happen with a non-robust model and highly influential observations.\n",
      "  warnings.warn(\n"
     ]
    },
    {
     "data": {
      "text/html": [
       "<div>\n",
       "<style scoped>\n",
       "    .dataframe tbody tr th:only-of-type {\n",
       "        vertical-align: middle;\n",
       "    }\n",
       "\n",
       "    .dataframe tbody tr th {\n",
       "        vertical-align: top;\n",
       "    }\n",
       "\n",
       "    .dataframe thead th {\n",
       "        text-align: right;\n",
       "    }\n",
       "</style>\n",
       "<table border=\"1\" class=\"dataframe\">\n",
       "  <thead>\n",
       "    <tr style=\"text-align: right;\">\n",
       "      <th></th>\n",
       "      <th>rank</th>\n",
       "      <th>loo</th>\n",
       "      <th>p_loo</th>\n",
       "      <th>d_loo</th>\n",
       "      <th>weight</th>\n",
       "      <th>se</th>\n",
       "      <th>dse</th>\n",
       "      <th>warning</th>\n",
       "      <th>loo_scale</th>\n",
       "    </tr>\n",
       "  </thead>\n",
       "  <tbody>\n",
       "    <tr>\n",
       "      <th>Estimated hyper</th>\n",
       "      <td>0</td>\n",
       "      <td>-1556.341640</td>\n",
       "      <td>239.418064</td>\n",
       "      <td>0.000000</td>\n",
       "      <td>6.100070e-01</td>\n",
       "      <td>46.040335</td>\n",
       "      <td>0.000000</td>\n",
       "      <td>True</td>\n",
       "      <td>log</td>\n",
       "    </tr>\n",
       "    <tr>\n",
       "      <th>Estimated ordinal</th>\n",
       "      <td>1</td>\n",
       "      <td>-1559.517362</td>\n",
       "      <td>236.479973</td>\n",
       "      <td>3.175721</td>\n",
       "      <td>1.677585e-10</td>\n",
       "      <td>45.489446</td>\n",
       "      <td>1.571057</td>\n",
       "      <td>True</td>\n",
       "      <td>log</td>\n",
       "    </tr>\n",
       "    <tr>\n",
       "      <th>Estimated values</th>\n",
       "      <td>2</td>\n",
       "      <td>-1560.685424</td>\n",
       "      <td>246.220573</td>\n",
       "      <td>4.343784</td>\n",
       "      <td>1.711985e-10</td>\n",
       "      <td>45.249787</td>\n",
       "      <td>3.600167</td>\n",
       "      <td>True</td>\n",
       "      <td>log</td>\n",
       "    </tr>\n",
       "    <tr>\n",
       "      <th>Estimated no hyper</th>\n",
       "      <td>3</td>\n",
       "      <td>-1561.703122</td>\n",
       "      <td>259.391482</td>\n",
       "      <td>5.361481</td>\n",
       "      <td>3.439813e-01</td>\n",
       "      <td>46.043203</td>\n",
       "      <td>5.545121</td>\n",
       "      <td>True</td>\n",
       "      <td>log</td>\n",
       "    </tr>\n",
       "    <tr>\n",
       "      <th>Classic Utility</th>\n",
       "      <td>4</td>\n",
       "      <td>-1833.011336</td>\n",
       "      <td>181.360694</td>\n",
       "      <td>276.669696</td>\n",
       "      <td>2.046247e-10</td>\n",
       "      <td>45.188547</td>\n",
       "      <td>22.975713</td>\n",
       "      <td>True</td>\n",
       "      <td>log</td>\n",
       "    </tr>\n",
       "    <tr>\n",
       "      <th>Trembling-hand</th>\n",
       "      <td>5</td>\n",
       "      <td>-1977.458634</td>\n",
       "      <td>136.503745</td>\n",
       "      <td>421.116993</td>\n",
       "      <td>4.007397e-02</td>\n",
       "      <td>36.532800</td>\n",
       "      <td>30.355819</td>\n",
       "      <td>True</td>\n",
       "      <td>log</td>\n",
       "    </tr>\n",
       "    <tr>\n",
       "      <th>simple model</th>\n",
       "      <td>6</td>\n",
       "      <td>-3457.223201</td>\n",
       "      <td>34.172603</td>\n",
       "      <td>1900.881560</td>\n",
       "      <td>5.937665e-03</td>\n",
       "      <td>22.048796</td>\n",
       "      <td>44.450208</td>\n",
       "      <td>False</td>\n",
       "      <td>log</td>\n",
       "    </tr>\n",
       "  </tbody>\n",
       "</table>\n",
       "</div>"
      ],
      "text/plain": [
       "                    rank          loo       p_loo        d_loo        weight  \\\n",
       "Estimated hyper        0 -1556.341640  239.418064     0.000000  6.100070e-01   \n",
       "Estimated ordinal      1 -1559.517362  236.479973     3.175721  1.677585e-10   \n",
       "Estimated values       2 -1560.685424  246.220573     4.343784  1.711985e-10   \n",
       "Estimated no hyper     3 -1561.703122  259.391482     5.361481  3.439813e-01   \n",
       "Classic Utility        4 -1833.011336  181.360694   276.669696  2.046247e-10   \n",
       "Trembling-hand         5 -1977.458634  136.503745   421.116993  4.007397e-02   \n",
       "simple model           6 -3457.223201   34.172603  1900.881560  5.937665e-03   \n",
       "\n",
       "                           se        dse  warning loo_scale  \n",
       "Estimated hyper     46.040335   0.000000     True       log  \n",
       "Estimated ordinal   45.489446   1.571057     True       log  \n",
       "Estimated values    45.249787   3.600167     True       log  \n",
       "Estimated no hyper  46.043203   5.545121     True       log  \n",
       "Classic Utility     45.188547  22.975713     True       log  \n",
       "Trembling-hand      36.532800  30.355819     True       log  \n",
       "simple model        22.048796  44.450208    False       log  "
      ]
     },
     "execution_count": 36,
     "metadata": {},
     "output_type": "execute_result"
    }
   ],
   "source": [
    "compare_dict = {'simple model':       mon_simple, \n",
    "                'Classic Utility':    mon_beta,\n",
    "                'Trembling-hand':     mon_hand, \n",
    "                'Estimated values':   mon_estimated,\n",
    "                'Estimated no hyper': mon_estimated_no_hyp,\n",
    "                'Estimated ordinal':  mon_estimated_ord,\n",
    "                'Estimated hyper':    mon_estimated_hyper\n",
    "}\n",
    "\n",
    "comp = az.compare(compare_dict)\n",
    "comp"
   ]
  },
  {
   "cell_type": "markdown",
   "id": "1b676d78",
   "metadata": {},
   "source": [
    "#### Save models"
   ]
  },
  {
   "cell_type": "code",
   "execution_count": 37,
   "id": "a997e50b",
   "metadata": {},
   "outputs": [
    {
     "data": {
      "text/plain": [
       "'data/mon_estimated_hyper.nc'"
      ]
     },
     "execution_count": 37,
     "metadata": {},
     "output_type": "execute_result"
    }
   ],
   "source": [
    "mon_simple.to_netcdf(\"data/mon_simple.nc\")\n",
    "mon_beta.to_netcdf('data/mon_beta.nc')\n",
    "mon_hand.to_netcdf('data/mon_hand.nc')\n",
    "mon_estimated.to_netcdf('data/mon_estimated.nc')\n",
    "mon_estimated_no_hyp.to_netcdf('data/mon_estimated_no_hyp.nc')\n",
    "mon_estimated_ord.to_netcdf('data/mon_estimated_ord.nc')\n",
    "mon_estimated_hyper.to_netcdf('data/mon_estimated_hyper.nc')"
   ]
  },
  {
   "cell_type": "markdown",
   "id": "bd48ab18",
   "metadata": {},
   "source": [
    "## Step 4: test age in the winning model"
   ]
  },
  {
   "cell_type": "code",
   "execution_count": 48,
   "id": "98f11b16",
   "metadata": {},
   "outputs": [
    {
     "name": "stderr",
     "output_type": "stream",
     "text": [
      "Auto-assigning NUTS sampler...\n",
      "Initializing NUTS using jitter+adapt_diag...\n",
      "Multiprocess sampling (4 chains in 4 jobs)\n",
      "NUTS: [gMu, gSig, bMu, bSig, lh, LSig, LsdMu, L1sdSig, l1Mu, l2Mu, l3Mu, l4Mu, l1sd, l2sd, l3sd, l4sd, β, γ, level1, level2, level3, level4, Age-Value, Age-Ambiguty]\n"
     ]
    },
    {
     "data": {
      "text/html": [
       "\n",
       "<style>\n",
       "    /* Turns off some styling */\n",
       "    progress {\n",
       "        /* gets rid of default border in Firefox and Opera. */\n",
       "        border: none;\n",
       "        /* Needs to be in here for Safari polyfill so background images work as expected. */\n",
       "        background-size: auto;\n",
       "    }\n",
       "    progress:not([value]), progress:not([value])::-webkit-progress-bar {\n",
       "        background: repeating-linear-gradient(45deg, #7e7e7e, #7e7e7e 10px, #5c5c5c 10px, #5c5c5c 20px);\n",
       "    }\n",
       "    .progress-bar-interrupted, .progress-bar-interrupted::-webkit-progress-bar {\n",
       "        background: #F44336;\n",
       "    }\n",
       "</style>\n"
      ],
      "text/plain": [
       "<IPython.core.display.HTML object>"
      ]
     },
     "metadata": {},
     "output_type": "display_data"
    },
    {
     "data": {
      "text/html": [
       "\n",
       "    <div>\n",
       "      <progress value='8000' class='' max='8000' style='width:300px; height:20px; vertical-align: middle;'></progress>\n",
       "      100.00% [8000/8000 19:39&lt;00:00 Sampling 4 chains, 2 divergences]\n",
       "    </div>\n",
       "    "
      ],
      "text/plain": [
       "<IPython.core.display.HTML object>"
      ]
     },
     "metadata": {},
     "output_type": "display_data"
    },
    {
     "name": "stderr",
     "output_type": "stream",
     "text": [
      "Sampling 4 chains for 1_000 tune and 1_000 draw iterations (4_000 + 4_000 draws total) took 1181 seconds.\n",
      "There was 1 divergence after tuning. Increase `target_accept` or reparameterize.\n",
      "There was 1 divergence after tuning. Increase `target_accept` or reparameterize.\n"
     ]
    },
    {
     "data": {
      "text/html": [
       "<div>\n",
       "<style scoped>\n",
       "    .dataframe tbody tr th:only-of-type {\n",
       "        vertical-align: middle;\n",
       "    }\n",
       "\n",
       "    .dataframe tbody tr th {\n",
       "        vertical-align: top;\n",
       "    }\n",
       "\n",
       "    .dataframe thead th {\n",
       "        text-align: right;\n",
       "    }\n",
       "</style>\n",
       "<table border=\"1\" class=\"dataframe\">\n",
       "  <thead>\n",
       "    <tr style=\"text-align: right;\">\n",
       "      <th></th>\n",
       "      <th>mean</th>\n",
       "      <th>sd</th>\n",
       "      <th>hdi_5.5%</th>\n",
       "      <th>hdi_94.5%</th>\n",
       "      <th>mcse_mean</th>\n",
       "      <th>mcse_sd</th>\n",
       "      <th>ess_bulk</th>\n",
       "      <th>ess_tail</th>\n",
       "      <th>r_hat</th>\n",
       "    </tr>\n",
       "  </thead>\n",
       "  <tbody>\n",
       "    <tr>\n",
       "      <th>Age-Ambiguty</th>\n",
       "      <td>-0.047</td>\n",
       "      <td>0.056</td>\n",
       "      <td>-0.133</td>\n",
       "      <td>0.045</td>\n",
       "      <td>0.002</td>\n",
       "      <td>0.001</td>\n",
       "      <td>827.0</td>\n",
       "      <td>1259.0</td>\n",
       "      <td>1.01</td>\n",
       "    </tr>\n",
       "    <tr>\n",
       "      <th>Age-Value</th>\n",
       "      <td>-0.393</td>\n",
       "      <td>0.630</td>\n",
       "      <td>-1.345</td>\n",
       "      <td>0.638</td>\n",
       "      <td>0.014</td>\n",
       "      <td>0.011</td>\n",
       "      <td>1918.0</td>\n",
       "      <td>2476.0</td>\n",
       "      <td>1.00</td>\n",
       "    </tr>\n",
       "  </tbody>\n",
       "</table>\n",
       "</div>"
      ],
      "text/plain": [
       "               mean     sd  hdi_5.5%  hdi_94.5%  mcse_mean  mcse_sd  ess_bulk  \\\n",
       "Age-Ambiguty -0.047  0.056    -0.133      0.045      0.002    0.001     827.0   \n",
       "Age-Value    -0.393  0.630    -1.345      0.638      0.014    0.011    1918.0   \n",
       "\n",
       "              ess_tail  r_hat  \n",
       "Age-Ambiguty    1259.0   1.01  \n",
       "Age-Value       2476.0   1.00  "
      ]
     },
     "execution_count": 48,
     "metadata": {},
     "output_type": "execute_result"
    }
   ],
   "source": [
    "mon_estimated_age  = estamte_values_age(db_mon, n_subs, sub_idx)\n",
    "\n",
    "az.summary(mon_estimated_age,var_names=['Age-Ambiguty', 'Age-Value'], hdi_prob=.89)"
   ]
  },
  {
   "cell_type": "code",
   "execution_count": 49,
   "id": "c88ceec4",
   "metadata": {},
   "outputs": [
    {
     "name": "stderr",
     "output_type": "stream",
     "text": [
      "Auto-assigning NUTS sampler...\n",
      "Initializing NUTS using jitter+adapt_diag...\n",
      "Multiprocess sampling (4 chains in 4 jobs)\n",
      "NUTS: [gMu, gSig, bMu, bSig, β, γ, level1, level2, level3, level4, Age-Value, Age-Ambiguty]\n"
     ]
    },
    {
     "data": {
      "text/html": [
       "\n",
       "<style>\n",
       "    /* Turns off some styling */\n",
       "    progress {\n",
       "        /* gets rid of default border in Firefox and Opera. */\n",
       "        border: none;\n",
       "        /* Needs to be in here for Safari polyfill so background images work as expected. */\n",
       "        background-size: auto;\n",
       "    }\n",
       "    progress:not([value]), progress:not([value])::-webkit-progress-bar {\n",
       "        background: repeating-linear-gradient(45deg, #7e7e7e, #7e7e7e 10px, #5c5c5c 10px, #5c5c5c 20px);\n",
       "    }\n",
       "    .progress-bar-interrupted, .progress-bar-interrupted::-webkit-progress-bar {\n",
       "        background: #F44336;\n",
       "    }\n",
       "</style>\n"
      ],
      "text/plain": [
       "<IPython.core.display.HTML object>"
      ]
     },
     "metadata": {},
     "output_type": "display_data"
    },
    {
     "data": {
      "text/html": [
       "\n",
       "    <div>\n",
       "      <progress value='16000' class='' max='16000' style='width:300px; height:20px; vertical-align: middle;'></progress>\n",
       "      100.00% [16000/16000 30:48&lt;00:00 Sampling 4 chains, 0 divergences]\n",
       "    </div>\n",
       "    "
      ],
      "text/plain": [
       "<IPython.core.display.HTML object>"
      ]
     },
     "metadata": {},
     "output_type": "display_data"
    },
    {
     "name": "stderr",
     "output_type": "stream",
     "text": [
      "Sampling 4 chains for 2_000 tune and 2_000 draw iterations (8_000 + 8_000 draws total) took 1850 seconds.\n"
     ]
    },
    {
     "data": {
      "text/html": [
       "<div>\n",
       "<style scoped>\n",
       "    .dataframe tbody tr th:only-of-type {\n",
       "        vertical-align: middle;\n",
       "    }\n",
       "\n",
       "    .dataframe tbody tr th {\n",
       "        vertical-align: top;\n",
       "    }\n",
       "\n",
       "    .dataframe thead th {\n",
       "        text-align: right;\n",
       "    }\n",
       "</style>\n",
       "<table border=\"1\" class=\"dataframe\">\n",
       "  <thead>\n",
       "    <tr style=\"text-align: right;\">\n",
       "      <th></th>\n",
       "      <th>mean</th>\n",
       "      <th>sd</th>\n",
       "      <th>hdi_5.5%</th>\n",
       "      <th>hdi_94.5%</th>\n",
       "      <th>mcse_mean</th>\n",
       "      <th>mcse_sd</th>\n",
       "      <th>ess_bulk</th>\n",
       "      <th>ess_tail</th>\n",
       "      <th>r_hat</th>\n",
       "    </tr>\n",
       "  </thead>\n",
       "  <tbody>\n",
       "    <tr>\n",
       "      <th>Age-Ambiguty</th>\n",
       "      <td>-0.180</td>\n",
       "      <td>0.230</td>\n",
       "      <td>-0.557</td>\n",
       "      <td>0.167</td>\n",
       "      <td>0.009</td>\n",
       "      <td>0.006</td>\n",
       "      <td>648.0</td>\n",
       "      <td>1116.0</td>\n",
       "      <td>1.0</td>\n",
       "    </tr>\n",
       "    <tr>\n",
       "      <th>Age-Value</th>\n",
       "      <td>0.829</td>\n",
       "      <td>0.258</td>\n",
       "      <td>0.426</td>\n",
       "      <td>1.243</td>\n",
       "      <td>0.005</td>\n",
       "      <td>0.003</td>\n",
       "      <td>3168.0</td>\n",
       "      <td>4534.0</td>\n",
       "      <td>1.0</td>\n",
       "    </tr>\n",
       "  </tbody>\n",
       "</table>\n",
       "</div>"
      ],
      "text/plain": [
       "               mean     sd  hdi_5.5%  hdi_94.5%  mcse_mean  mcse_sd  ess_bulk  \\\n",
       "Age-Ambiguty -0.180  0.230    -0.557      0.167      0.009    0.006     648.0   \n",
       "Age-Value     0.829  0.258     0.426      1.243      0.005    0.003    3168.0   \n",
       "\n",
       "              ess_tail  r_hat  \n",
       "Age-Ambiguty    1116.0    1.0  \n",
       "Age-Value       4534.0    1.0  "
      ]
     },
     "execution_count": 49,
     "metadata": {},
     "output_type": "execute_result"
    }
   ],
   "source": [
    "# Estimate values of different levels using a model that accounts for age effects with no hyper priors acroos subjects.\n",
    "mon_estimated_nh_age = estamte_values_no_hyp_age(db_mon, n_subs, sub_idx)\n",
    "\n",
    "# Summarize the posterior samples from the model, focusing on the effects of age on ambiguity and value.\n",
    "# Display a summary table for 'Age-Ambiguty' and 'Age-Value' using an 89% highest density interval (HDP).\n",
    "az.summary(mon_estimated_nh_age, var_names=['Age-Ambiguty', 'Age-Value'], hdi_prob=.89)"
   ]
  },
  {
   "cell_type": "code",
   "execution_count": 50,
   "id": "62b391a4",
   "metadata": {},
   "outputs": [
    {
     "name": "stderr",
     "output_type": "stream",
     "text": [
      "/home/nachshon/anaconda3/envs/en/lib/python3.9/site-packages/arviz/stats/stats.py:1048: RuntimeWarning: overflow encountered in exp\n",
      "  weights = 1 / np.exp(len_scale - len_scale[:, None]).sum(axis=1)\n",
      "/home/nachshon/anaconda3/envs/en/lib/python3.9/site-packages/arviz/stats/stats.py:812: UserWarning: Estimated shape parameter of Pareto distribution is greater than 0.7 for one or more samples. You should consider using a more robust model, this is because importance sampling is less likely to work well if the marginal posterior and LOO posterior are very different. This is more likely to happen with a non-robust model and highly influential observations.\n",
      "  warnings.warn(\n",
      "/home/nachshon/anaconda3/envs/en/lib/python3.9/site-packages/arviz/stats/stats.py:812: UserWarning: Estimated shape parameter of Pareto distribution is greater than 0.7 for one or more samples. You should consider using a more robust model, this is because importance sampling is less likely to work well if the marginal posterior and LOO posterior are very different. This is more likely to happen with a non-robust model and highly influential observations.\n",
      "  warnings.warn(\n"
     ]
    },
    {
     "data": {
      "text/html": [
       "<div>\n",
       "<style scoped>\n",
       "    .dataframe tbody tr th:only-of-type {\n",
       "        vertical-align: middle;\n",
       "    }\n",
       "\n",
       "    .dataframe tbody tr th {\n",
       "        vertical-align: top;\n",
       "    }\n",
       "\n",
       "    .dataframe thead th {\n",
       "        text-align: right;\n",
       "    }\n",
       "</style>\n",
       "<table border=\"1\" class=\"dataframe\">\n",
       "  <thead>\n",
       "    <tr style=\"text-align: right;\">\n",
       "      <th></th>\n",
       "      <th>rank</th>\n",
       "      <th>loo</th>\n",
       "      <th>p_loo</th>\n",
       "      <th>d_loo</th>\n",
       "      <th>weight</th>\n",
       "      <th>se</th>\n",
       "      <th>dse</th>\n",
       "      <th>warning</th>\n",
       "      <th>loo_scale</th>\n",
       "    </tr>\n",
       "  </thead>\n",
       "  <tbody>\n",
       "    <tr>\n",
       "      <th>older model</th>\n",
       "      <td>0</td>\n",
       "      <td>-1557.357071</td>\n",
       "      <td>240.301625</td>\n",
       "      <td>0.000000</td>\n",
       "      <td>0.709393</td>\n",
       "      <td>46.106782</td>\n",
       "      <td>0.000000</td>\n",
       "      <td>True</td>\n",
       "      <td>log</td>\n",
       "    </tr>\n",
       "    <tr>\n",
       "      <th>hierarchical model</th>\n",
       "      <td>1</td>\n",
       "      <td>-1563.202536</td>\n",
       "      <td>259.112842</td>\n",
       "      <td>5.845465</td>\n",
       "      <td>0.290607</td>\n",
       "      <td>46.002503</td>\n",
       "      <td>5.345861</td>\n",
       "      <td>True</td>\n",
       "      <td>log</td>\n",
       "    </tr>\n",
       "  </tbody>\n",
       "</table>\n",
       "</div>"
      ],
      "text/plain": [
       "                    rank          loo       p_loo     d_loo    weight  \\\n",
       "older model            0 -1557.357071  240.301625  0.000000  0.709393   \n",
       "hierarchical model     1 -1563.202536  259.112842  5.845465  0.290607   \n",
       "\n",
       "                           se       dse  warning loo_scale  \n",
       "older model         46.106782  0.000000     True       log  \n",
       "hierarchical model  46.002503  5.345861     True       log  "
      ]
     },
     "execution_count": 50,
     "metadata": {},
     "output_type": "execute_result"
    }
   ],
   "source": [
    "compare_dict = {\n",
    "    \"older model\":        mon_estimated_age,     \n",
    "    \"hierarchical model\": mon_estimated_nh_age    \n",
    "}\n",
    "\n",
    "comp = az.compare(compare_dict)\n",
    "\n",
    "# Display the comparison result\n",
    "comp"
   ]
  },
  {
   "cell_type": "markdown",
   "id": "7184591e",
   "metadata": {},
   "source": [
    "### save model"
   ]
  },
  {
   "cell_type": "code",
   "execution_count": 51,
   "id": "e8348f13",
   "metadata": {},
   "outputs": [
    {
     "data": {
      "text/plain": [
       "'data/mon_estimated_nh_age.nc'"
      ]
     },
     "execution_count": 51,
     "metadata": {},
     "output_type": "execute_result"
    }
   ],
   "source": [
    "mon_estimated_age.to_netcdf(\"data/mon_estimated_age.nc\")\n",
    "mon_estimated_nh_age.to_netcdf(\"data/mon_estimated_nh_age.nc\")"
   ]
  },
  {
   "cell_type": "markdown",
   "id": "3d3aa718",
   "metadata": {},
   "source": [
    "### Plot Estimated values"
   ]
  },
  {
   "cell_type": "code",
   "execution_count": 52,
   "id": "d1253e5a",
   "metadata": {},
   "outputs": [
    {
     "name": "stdout",
     "output_type": "stream",
     "text": [
      "Levels Mean:  12.519939393939394 16.331287878787883 12.491424242424245 7.493348484848485\n",
      "Levels SD:  4.652865877619382 6.1386547429782565 8.406324377948492 4.087345287563853\n"
     ]
    }
   ],
   "source": [
    "# Extract unique subject data from the medical dataset: subject number, age, gender, and MOCA score. \n",
    "# Sort the entries by subject, remove duplicates, and reset the index for easier merging later.\n",
    "df = db_med[['sub','age', 'gender', 'moca_score']].sort_values('sub').drop_duplicates().reset_index(drop=True)\n",
    "\n",
    "# Convert the age column to integer data type for proper numerical operations later.\n",
    "df['age'] = df.age.astype('int')\n",
    "\n",
    "# Use the az.summary function to extract the mean and standard deviation (sd) of parameters from the \n",
    "# med_estimated_hyper model. We are interested in the parameters for different levels and the beta parameter.\n",
    "level1 = az.summary(med_estimated_hyper, var_names=['level1'])[['mean','sd']]\n",
    "level2 = az.summary(med_estimated_hyper, var_names=['level2'])[['mean','sd']]\n",
    "level3 = az.summary(med_estimated_hyper, var_names=['level3'])[['mean','sd']]\n",
    "level4 = az.summary(med_estimated_hyper, var_names=['level4'])[['mean','sd']]\n",
    "beta   = az.summary(med_estimated_hyper, var_names=['β'])[['mean','sd']]\n",
    "\n",
    "# Rename the columns of these dataframes to more descriptive names indicating they are \n",
    "# from the medical dataset and reset the indices for merging.\n",
    "level1 = level1.rename(columns={'mean': \"level1_med\",'sd': \"level1_sd_med\"}).reset_index(drop=True)\n",
    "level2 = level2.rename(columns={'mean': \"level2_med\",'sd': \"level2_sd_med\"}).reset_index(drop=True)\n",
    "level3 = level3.rename(columns={'mean': \"level3_med\",'sd': \"level3_sd_med\"}).reset_index(drop=True)\n",
    "level4 = level4.rename(columns={'mean': \"level4_med\",'sd': \"level4_sd_med\"}).reset_index(drop=True)\n",
    "beta   = beta.rename(  columns={'mean': \"beta_med\",  'sd': \"beta_sd_med\"}).reset_index(drop=True)\n",
    "\n",
    "# Merge these extracted parameter dataframes with the original subject data dataframe.\n",
    "# We're merging based on the indices, assuming the ordering matches between subjects in df and parameters.\n",
    "df = df.merge(level1, left_index=True, right_index=True)\n",
    "df = df.merge(level2, left_index=True, right_index=True)\n",
    "df = df.merge(level3, left_index=True, right_index=True)\n",
    "df = df.merge(level4, left_index=True, right_index=True)\n",
    "df = df.merge(beta,   left_index=True, right_index=True)\n",
    "\n",
    "# Compute the subjective values (SV) for each of the levels. \n",
    "# We assume the SV for each level is cumulative: e.g., SV for level2 = level1 + level2.\n",
    "df['level1'] = df['level1_med']\n",
    "df['level2'] = df['level1'] + df['level2_med']\n",
    "df['level3'] = df['level2'] + df['level3_med']\n",
    "df['level4'] = df['level3'] + df['level4_med']\n",
    "\n",
    "# Reshape the dataframe 'df' from wide to long format using the melt function.\n",
    "df_long_med = df.melt(id_vars='sub',\n",
    "                      value_vars=['level1', 'level2', 'level3', 'level4'], \n",
    "                      var_name='level')\n",
    "\n",
    "# Group the original medical database 'db_med' by subject, level, risk, and ambiguity.\n",
    "# Compute the sum of the 'choice' column for each grouping.\n",
    "hist = db_med.groupby(['sub','level','risk','ambiguity']).sum()['choice']\n",
    "\n",
    "# Reset the index for easier access to rows and merging.\n",
    "hist = hist.reset_index()\n",
    "\n",
    "# Convert certain columns to category data type for memory efficiency and to maintain order where relevant.\n",
    "hist['risk'] = hist.risk.astype('category')\n",
    "hist['ambiguity'] = hist.ambiguity.astype('category')\n",
    "hist['level'] = hist.level.astype('category')\n",
    "\n",
    "# Calculate and print the mean value of the 'level' columns.\n",
    "print(\"Levels Mean: \", \n",
    "      np.mean(df['level1_med']), \n",
    "      np.mean(df['level2_med']),\n",
    "      np.mean(df['level3_med']),\n",
    "      np.mean(df['level4_med']))\n",
    "\n",
    "# Calculate and print the standard deviation of the 'level' columns.\n",
    "print(\"Levels SD: \", \n",
    "      np.std(df['level1_med']), \n",
    "      np.std(df['level2_med']),\n",
    "      np.std(df['level3_med']),\n",
    "      np.std(df['level4_med']))\n",
    "\n",
    "# Create a mapping dictionary for levels. This provides a more descriptive name for each 'level' in 'df_long_med'.\n",
    "level_mapping = {\n",
    "    'level1': 'Slight',\n",
    "    'level2': 'Moderate',\n",
    "    'level3': 'Major',\n",
    "    'level4': 'Complete recovery'\n",
    "}\n",
    "\n",
    "# Apply the mapping to the 'level' column in 'df_long_med' and create a new column 'levelName' that holds the descriptive names.\n",
    "df_long_med['levelName'] = df_long_med['level'].map(level_mapping)"
   ]
  },
  {
   "cell_type": "code",
   "execution_count": 53,
   "id": "4c8d1189",
   "metadata": {},
   "outputs": [
    {
     "name": "stdout",
     "output_type": "stream",
     "text": [
      "Levels Mean:  14.308742424242423 8.532772727272727 12.537030303030303 17.160939393939394\n",
      "Levels SD:  2.1577222650398427 6.0626005016235816 8.417396136950812 11.31455021251302\n"
     ]
    }
   ],
   "source": [
    "# Similar process for the monetery dataset\n",
    "df = db_mon[['sub','age', 'gender', 'moca_score']].sort_values('sub').drop_duplicates().reset_index(drop=True)\n",
    "df['age'] = df.age.astype('int')\n",
    "\n",
    "# extract parameters from the model\n",
    "level1 = az.summary(mon_estimated_hyper, var_names=['level1'])[['mean','sd']]\n",
    "level2 = az.summary(mon_estimated_hyper, var_names=['level2'])[['mean','sd']]\n",
    "level3 = az.summary(mon_estimated_hyper, var_names=['level3'])[['mean','sd']]\n",
    "level4 = az.summary(mon_estimated_hyper, var_names=['level4'])[['mean','sd']]\n",
    "beta   = az.summary(mon_estimated_hyper, var_names=['β']     )[['mean','sd']]\n",
    "\n",
    "# change column names\n",
    "level1 = level1.rename(columns={'mean': \"level1_mon\",'sd': \"level1_sd_mon\"}).reset_index(drop=True)\n",
    "level2 = level2.rename(columns={'mean': \"level2_mon\",'sd': \"level2_sd_mon\"}).reset_index(drop=True)\n",
    "level3 = level3.rename(columns={'mean': \"level3_mon\",'sd': \"level3_sd_mon\"}).reset_index(drop=True)\n",
    "level4 = level4.rename(columns={'mean': \"level4_mon\",'sd': \"level4_sd_mon\"}).reset_index(drop=True)\n",
    "beta   = beta.rename(  columns={'mean': \"beta_mon\",  'sd': \"beta_sd_mon\"}  ).reset_index(drop=True)\n",
    "\n",
    "# combine to a single dataframe\n",
    "df = df.merge(level1, left_index=True, right_index=True)\n",
    "df = df.merge(level2, left_index=True, right_index=True)\n",
    "df = df.merge(level3, left_index=True, right_index=True)\n",
    "df = df.merge(level4, left_index=True, right_index=True)\n",
    "df = df.merge(beta,   left_index=True, right_index=True)\n",
    "\n",
    "# calculate the SV of each level\n",
    "df['level1'] = df['level1_mon']\n",
    "df['level2'] = df['level1'] + df['level2_mon']\n",
    "df['level3'] = df['level2'] + df['level3_mon']\n",
    "df['level4'] = df['level3'] + df['level4_mon']\n",
    "\n",
    "df_long_mon = df.melt(id_vars='sub',\n",
    "                      value_vars=['level1', 'level2', 'level3', 'level4'],\n",
    "                      var_name='level')\n",
    "\n",
    "hist = db_mon.groupby(['sub','level','risk','ambiguity']).sum()['choice']\n",
    "hist = hist.reset_index()\n",
    "\n",
    "\n",
    "hist['risk'] = hist.risk.astype('category')\n",
    "hist['ambiguity'] = hist.ambiguity.astype('category')\n",
    "hist['level'] = hist.level.astype('category')\n",
    "\n",
    "print(\"Levels Mean: \", \n",
    "      np.mean(df['level1_mon']), \n",
    "      np.mean(df['level2_mon']),\n",
    "      np.mean(df['level3_mon']),\n",
    "      np.mean(df['level4_mon']))\n",
    "\n",
    "print(\"Levels SD: \", \n",
    "      np.std(df['level1_mon']), \n",
    "      np.std(df['level2_mon']),\n",
    "      np.std(df['level3_mon']),\n",
    "      np.std(df['level4_mon']))\n",
    "\n",
    "level_mapping = {\n",
    "    'level1': 5,\n",
    "    'level2': 8,\n",
    "    'level3': 12,\n",
    "    'level4': 25\n",
    "}\n",
    "\n",
    "df_long_mon['levelName'] = df_long_mon['level'].map(level_mapping)"
   ]
  },
  {
   "cell_type": "code",
   "execution_count": 54,
   "id": "f82dbf11",
   "metadata": {},
   "outputs": [
    {
     "data": {
      "image/png": "[encoded data removed]",
      "text/plain": [
       "<Figure size 1800x720 with 2 Axes>"
      ]
     },
     "metadata": {
      "needs_background": "light"
     },
     "output_type": "display_data"
    }
   ],
   "source": [
    "# This will visualize the relationship between different levels and their estimated values for Monetary and Medical contexts.\n",
    "fig, axes = plt.subplots(1, 2, figsize=(25, 10), sharey=True) # Initialize a 1x2 subplot layout, with a shared y-axis.\n",
    "\n",
    "# Plot the estimated value for each level in the 'Monetary' context on the first axis.\n",
    "sns.lineplot(data=df_long_mon, x='levelName', y='value', ax=axes[0])\n",
    "\n",
    "# Plot the estimated value for each level in the 'Medical' context on the second axis.\n",
    "sns.lineplot(data=df_long_med, x='levelName', y='value', ax=axes[1])\n",
    "\n",
    "# Set the title for each subplot.\n",
    "axes[0].set_title('Monetary', fontweight=\"bold\", size=60)\n",
    "axes[1].set_title('Medical', fontweight=\"bold\", size=60)\n",
    "\n",
    "# Set the y-axis label for the first subplot.\n",
    "axes[0].set_ylabel('Estimated Value', fontsize=50.0)\n",
    "\n",
    "# Remove x-axis labels as they are self-explanatory with the data points.\n",
    "axes[0].set_xlabel('', fontsize=50.0)\n",
    "axes[1].set_xlabel('', fontsize=50.0)\n",
    "\n",
    "# Adjust the tick parameters to increase font size, ensuring better readability.\n",
    "axes[0].tick_params(axis='both', which='major', labelsize=40)\n",
    "axes[1].tick_params(axis='both', which='major', labelsize=40)\n",
    "\n",
    "# Add a slight rotation to the x-axis tick labels on the second plot for better visualization.\n",
    "axes[1].tick_params(axis='x', labelrotation=8)\n",
    "\n",
    "# Set the background color for both plots to white for clarity and aesthetic appeal.\n",
    "axes[0].set_facecolor('White')\n",
    "axes[1].set_facecolor('White')\n",
    "\n",
    "# Remove the right and top spines from both plots to reduce visual clutter.\n",
    "for spine in ['right', 'top']:\n",
    "    axes[0].spines[spine].set_color('white')\n",
    "    axes[1].spines[spine].set_color('white')\n",
    "\n",
    "# Adjust the layout to ensure that the plots do not overlap and everything fits well.\n",
    "fig.tight_layout()"
   ]
  },
  {
   "cell_type": "code",
   "execution_count": 55,
   "id": "3a2957ba",
   "metadata": {},
   "outputs": [],
   "source": [
    "def Utility_age(df, n_subs, idx):\n",
    "    \"\"\"\n",
    "    Bayesian model to estimate the utility of choices given age as a covariate.\n",
    "    \n",
    "    Parameters:\n",
    "    - df: DataFrame with data on choices, values, risks, ambiguity, and normalized age ('ageZ') for each trial.\n",
    "    - n_subs: Number of subjects in the dataset.\n",
    "    - idx: Subject index for each trial (used for modeling individual variations).\n",
    "\n",
    "    Returns:\n",
    "    - trace: Posterior samples of the model.\n",
    "    \"\"\"\n",
    "    with pm.Model() as RiskAmb_beta:  # Define a PyMC3 probabilistic model context.\n",
    "        \n",
    "        # Hyper Priors\n",
    "        alpha_a = pm.TruncatedNormal('alpha_a', 4, 1, lower=1)  # Truncated hyperprior for the alpha parameter's rate.\n",
    "        alpha_b = pm.TruncatedNormal('alpha_b', 7, 1, lower=1)  # Truncated hyperprior for the alpha parameter's shape.\n",
    "        \n",
    "        gMu  = pm.HalfNormal('gMu', 1)  # Half normal hyperprior for the group mean of γ.\n",
    "        gSig = pm.Gamma('gSig', 2, 1)   # Gamma hyperprior for the group SD of γ.\n",
    "        \n",
    "        bMu  = pm.Normal('bMu', .65, 1) # Normal hyperprior for group mean of β.\n",
    "        bSig = pm.Gamma('bSig', 2, 1)   # Gamma hyperprior for group SD of β.\n",
    "\n",
    "        # Subject-level Priors\n",
    "        alpha = pm.Beta('alpha', alpha_a, alpha_b, shape=n_subs) # Beta prior for each subject's α.\n",
    "        α = pm.Deterministic('α', alpha * 2)  # Deterministic transformation of alpha to double its values.\n",
    "        β = pm.TruncatedNormal('β', bMu, bSig, lower=-1.5, upper=1.5, shape=n_subs)  # Truncated normal prior for each subject's β.\n",
    "        γ = pm.Lognormal('γ', gMu, gSig, shape=n_subs) # Lognormal prior for each subject's γ.\n",
    "        \n",
    "        # Age-based priors to capture effect of age on risk and ambiguity.\n",
    "        age_Risk = pm.Normal('age_Risk', 0, 1)  # Normal prior for the effect of age on risk.\n",
    "        age_Amb  = pm.Normal('age_Amb', 0, 1)  # Normal prior for the effect of age on ambiguity.\n",
    "        \n",
    "        # Compute risk and ambiguity considering age effect.\n",
    "        risk = α[idx] + age_Risk * df['ageZ'].values\n",
    "        amb  = β[idx] + age_Amb * df['ageZ'].values\n",
    "        \n",
    "        # Calculate expected value of outcome given the updated risk and ambiguity.\n",
    "        value = df['value'].values ** risk\n",
    "        prob  = df['risk'].values - (amb * (df['ambiguity'].values/2))\n",
    "        svLotto = value * prob\n",
    "        svRef   = 5 ** risk\n",
    "\n",
    "        # Transform the subjective value difference between lottery and reference into a choice probability.\n",
    "        p  = (svLotto - svRef)/γ[idx]\n",
    "        mu = pm.invlogit(p)  # Inverse logit transformation to get a probability.\n",
    "\n",
    "        # Likelihood of observed choices given the model.\n",
    "        choice = pm.Binomial('choice', 1, mu, observed=df['choice'])\n",
    "\n",
    "        # Generate samples from the posterior distribution.\n",
    "        trace = pm.sample(tune=2000, draws=2000, return_inferencedata=True, target_accept=0.99)\n",
    "        \n",
    "    return(trace)\n"
   ]
  },
  {
   "cell_type": "code",
   "execution_count": 56,
   "id": "48879ebc",
   "metadata": {},
   "outputs": [
    {
     "name": "stderr",
     "output_type": "stream",
     "text": [
      "Auto-assigning NUTS sampler...\n",
      "Initializing NUTS using jitter+adapt_diag...\n",
      "Multiprocess sampling (4 chains in 4 jobs)\n",
      "NUTS: [alpha_a, alpha_b, gMu, gSig, bMu, bSig, alpha, β, γ, age_Risk, age_Amb]\n"
     ]
    },
    {
     "data": {
      "text/html": [
       "\n",
       "<style>\n",
       "    /* Turns off some styling */\n",
       "    progress {\n",
       "        /* gets rid of default border in Firefox and Opera. */\n",
       "        border: none;\n",
       "        /* Needs to be in here for Safari polyfill so background images work as expected. */\n",
       "        background-size: auto;\n",
       "    }\n",
       "    progress:not([value]), progress:not([value])::-webkit-progress-bar {\n",
       "        background: repeating-linear-gradient(45deg, #7e7e7e, #7e7e7e 10px, #5c5c5c 10px, #5c5c5c 20px);\n",
       "    }\n",
       "    .progress-bar-interrupted, .progress-bar-interrupted::-webkit-progress-bar {\n",
       "        background: #F44336;\n",
       "    }\n",
       "</style>\n"
      ],
      "text/plain": [
       "<IPython.core.display.HTML object>"
      ]
     },
     "metadata": {},
     "output_type": "display_data"
    },
    {
     "data": {
      "text/html": [
       "\n",
       "    <div>\n",
       "      <progress value='16000' class='' max='16000' style='width:300px; height:20px; vertical-align: middle;'></progress>\n",
       "      100.00% [16000/16000 19:49&lt;00:00 Sampling 4 chains, 2 divergences]\n",
       "    </div>\n",
       "    "
      ],
      "text/plain": [
       "<IPython.core.display.HTML object>"
      ]
     },
     "metadata": {},
     "output_type": "display_data"
    },
    {
     "name": "stderr",
     "output_type": "stream",
     "text": [
      "Sampling 4 chains for 2_000 tune and 2_000 draw iterations (8_000 + 8_000 draws total) took 1191 seconds.\n",
      "There was 1 divergence after tuning. Increase `target_accept` or reparameterize.\n",
      "There was 1 divergence after tuning. Increase `target_accept` or reparameterize.\n"
     ]
    },
    {
     "data": {
      "text/html": [
       "<div>\n",
       "<style scoped>\n",
       "    .dataframe tbody tr th:only-of-type {\n",
       "        vertical-align: middle;\n",
       "    }\n",
       "\n",
       "    .dataframe tbody tr th {\n",
       "        vertical-align: top;\n",
       "    }\n",
       "\n",
       "    .dataframe thead th {\n",
       "        text-align: right;\n",
       "    }\n",
       "</style>\n",
       "<table border=\"1\" class=\"dataframe\">\n",
       "  <thead>\n",
       "    <tr style=\"text-align: right;\">\n",
       "      <th></th>\n",
       "      <th>mean</th>\n",
       "      <th>sd</th>\n",
       "      <th>hdi_3%</th>\n",
       "      <th>hdi_97%</th>\n",
       "      <th>mcse_mean</th>\n",
       "      <th>mcse_sd</th>\n",
       "      <th>ess_bulk</th>\n",
       "      <th>ess_tail</th>\n",
       "      <th>r_hat</th>\n",
       "    </tr>\n",
       "  </thead>\n",
       "  <tbody>\n",
       "    <tr>\n",
       "      <th>age_Risk</th>\n",
       "      <td>-0.028</td>\n",
       "      <td>0.036</td>\n",
       "      <td>-0.096</td>\n",
       "      <td>0.040</td>\n",
       "      <td>0.001</td>\n",
       "      <td>0.001</td>\n",
       "      <td>1320.0</td>\n",
       "      <td>2447.0</td>\n",
       "      <td>1.0</td>\n",
       "    </tr>\n",
       "    <tr>\n",
       "      <th>age_Amb</th>\n",
       "      <td>-0.065</td>\n",
       "      <td>0.081</td>\n",
       "      <td>-0.207</td>\n",
       "      <td>0.096</td>\n",
       "      <td>0.002</td>\n",
       "      <td>0.002</td>\n",
       "      <td>1262.0</td>\n",
       "      <td>1721.0</td>\n",
       "      <td>1.0</td>\n",
       "    </tr>\n",
       "  </tbody>\n",
       "</table>\n",
       "</div>"
      ],
      "text/plain": [
       "           mean     sd  hdi_3%  hdi_97%  mcse_mean  mcse_sd  ess_bulk  \\\n",
       "age_Risk -0.028  0.036  -0.096    0.040      0.001    0.001    1320.0   \n",
       "age_Amb  -0.065  0.081  -0.207    0.096      0.002    0.002    1262.0   \n",
       "\n",
       "          ess_tail  r_hat  \n",
       "age_Risk    2447.0    1.0  \n",
       "age_Amb     1721.0    1.0  "
      ]
     },
     "execution_count": 56,
     "metadata": {},
     "output_type": "execute_result"
    }
   ],
   "source": [
    "# Estimate the age effect on risk and ambiguity using the utility function on monetary choices\n",
    "mon_beta_age = Utility_age(db_mon, n_subs, sub_idx)\n",
    "\n",
    "# Provide a summary of the posterior distribution for the age effects on Risk and Ambiguity \n",
    "# from the estimated Bayesian model for monetary choices.\n",
    "az.summary(mon_beta_age, var_names=['age_Risk', 'age_Amb'])"
   ]
  },
  {
   "cell_type": "code",
   "execution_count": 57,
   "id": "b1465b07",
   "metadata": {},
   "outputs": [],
   "source": [
    "def Utility_age_std(df, n_subs, idx):\n",
    "    \"\"\"\n",
    "    Bayesian model to estimate the utility of choices given age as a covariate with age divided by 100.\n",
    "    \n",
    "    Parameters:\n",
    "    - df: DataFrame with data on choices, values, risks, ambiguity, and  age for each trial.\n",
    "    - n_subs: Number of subjects in the dataset.\n",
    "    - idx: Subject index for each trial (used for modeling individual variations).\n",
    "\n",
    "    Returns:\n",
    "    - trace: Posterior samples of the model.\n",
    "    \"\"\"\n",
    "    with pm.Model() as RiskAmb_beta:  # Define a PyMC3 probabilistic model context.\n",
    "        \n",
    "        # Hyper Priors\n",
    "        alpha_a = pm.TruncatedNormal('alpha_a', 4, 1, lower=1)  # Truncated hyperprior for the alpha parameter's rate.\n",
    "        alpha_b = pm.TruncatedNormal('alpha_b', 7, 1, lower=1)  # Truncated hyperprior for the alpha parameter's shape.\n",
    "        \n",
    "        gMu  = pm.HalfNormal('gMu', 1)  # Half normal hyperprior for the group mean of γ.\n",
    "        gSig = pm.Gamma('gSig', 2, 1)   # Gamma hyperprior for the group SD of γ.\n",
    "        \n",
    "        bMu  = pm.Normal('bMu', .65, 1) # Normal hyperprior for group mean of β.\n",
    "        bSig = pm.Gamma('bSig', 2, 1)   # Gamma hyperprior for group SD of β.\n",
    "\n",
    "        # Subject-level Priors\n",
    "        alpha = pm.Beta('alpha', alpha_a, alpha_b, shape=n_subs) # Beta prior for each subject's α.\n",
    "        α = pm.Deterministic('α', alpha * 2)  # Deterministic transformation of alpha to double its values.\n",
    "        β = pm.TruncatedNormal('β', bMu, bSig, lower=-1.5, upper=1.5, shape=n_subs)  # Truncated normal prior for each subject's β.\n",
    "        γ = pm.Lognormal('γ', gMu, gSig, shape=n_subs) # Lognormal prior for each subject's γ.\n",
    "        \n",
    "        # Age-based priors to capture effect of age on risk and ambiguity.\n",
    "        age_Risk = pm.Normal('age_Risk', 0, 1)  # Normal prior for the effect of age on risk.\n",
    "        age_Amb  = pm.Normal('age_Amb', 0, 1)  # Normal prior for the effect of age on ambiguity.\n",
    "        \n",
    "        # Compute risk and ambiguity considering age effect.\n",
    "        risk = α[idx] + age_Risk * df['age'].values/100\n",
    "        amb  = β[idx] + age_Amb * df['age'].values/100\n",
    "        \n",
    "        # Calculate expected value of outcome given the updated risk and ambiguity.\n",
    "        value = df['value'].values ** risk\n",
    "        prob  = df['risk'].values - (amb * (df['ambiguity'].values/2))\n",
    "        svLotto = value * prob\n",
    "        svRef   = 5 ** risk\n",
    "\n",
    "        # Transform the subjective value difference between lottery and reference into a choice probability.\n",
    "        p  = (svLotto - svRef)/γ[idx]\n",
    "        mu = pm.invlogit(p)  # Inverse logit transformation to get a probability.\n",
    "\n",
    "        # Likelihood of observed choices given the model.\n",
    "        choice = pm.Binomial('choice', 1, mu, observed=df['choice'])\n",
    "\n",
    "        # Generate samples from the posterior distribution.\n",
    "        trace = pm.sample(tune=2000, draws=2000, return_inferencedata=True, target_accept=0.99)\n",
    "        \n",
    "    return(trace)\n"
   ]
  },
  {
   "cell_type": "code",
   "execution_count": 58,
   "id": "5b61715c",
   "metadata": {},
   "outputs": [
    {
     "name": "stderr",
     "output_type": "stream",
     "text": [
      "Auto-assigning NUTS sampler...\n",
      "Initializing NUTS using jitter+adapt_diag...\n",
      "Multiprocess sampling (4 chains in 4 jobs)\n",
      "NUTS: [alpha_a, alpha_b, gMu, gSig, bMu, bSig, alpha, β, γ, age_Risk, age_Amb]\n"
     ]
    },
    {
     "data": {
      "text/html": [
       "\n",
       "<style>\n",
       "    /* Turns off some styling */\n",
       "    progress {\n",
       "        /* gets rid of default border in Firefox and Opera. */\n",
       "        border: none;\n",
       "        /* Needs to be in here for Safari polyfill so background images work as expected. */\n",
       "        background-size: auto;\n",
       "    }\n",
       "    progress:not([value]), progress:not([value])::-webkit-progress-bar {\n",
       "        background: repeating-linear-gradient(45deg, #7e7e7e, #7e7e7e 10px, #5c5c5c 10px, #5c5c5c 20px);\n",
       "    }\n",
       "    .progress-bar-interrupted, .progress-bar-interrupted::-webkit-progress-bar {\n",
       "        background: #F44336;\n",
       "    }\n",
       "</style>\n"
      ],
      "text/plain": [
       "<IPython.core.display.HTML object>"
      ]
     },
     "metadata": {},
     "output_type": "display_data"
    },
    {
     "data": {
      "text/html": [
       "\n",
       "    <div>\n",
       "      <progress value='16000' class='' max='16000' style='width:300px; height:20px; vertical-align: middle;'></progress>\n",
       "      100.00% [16000/16000 26:17&lt;00:00 Sampling 4 chains, 0 divergences]\n",
       "    </div>\n",
       "    "
      ],
      "text/plain": [
       "<IPython.core.display.HTML object>"
      ]
     },
     "metadata": {},
     "output_type": "display_data"
    },
    {
     "name": "stderr",
     "output_type": "stream",
     "text": [
      "Sampling 4 chains for 2_000 tune and 2_000 draw iterations (8_000 + 8_000 draws total) took 1579 seconds.\n"
     ]
    },
    {
     "data": {
      "text/html": [
       "<div>\n",
       "<style scoped>\n",
       "    .dataframe tbody tr th:only-of-type {\n",
       "        vertical-align: middle;\n",
       "    }\n",
       "\n",
       "    .dataframe tbody tr th {\n",
       "        vertical-align: top;\n",
       "    }\n",
       "\n",
       "    .dataframe thead th {\n",
       "        text-align: right;\n",
       "    }\n",
       "</style>\n",
       "<table border=\"1\" class=\"dataframe\">\n",
       "  <thead>\n",
       "    <tr style=\"text-align: right;\">\n",
       "      <th></th>\n",
       "      <th>mean</th>\n",
       "      <th>sd</th>\n",
       "      <th>hdi_3%</th>\n",
       "      <th>hdi_97%</th>\n",
       "      <th>mcse_mean</th>\n",
       "      <th>mcse_sd</th>\n",
       "      <th>ess_bulk</th>\n",
       "      <th>ess_tail</th>\n",
       "      <th>r_hat</th>\n",
       "    </tr>\n",
       "  </thead>\n",
       "  <tbody>\n",
       "    <tr>\n",
       "      <th>age_Risk</th>\n",
       "      <td>-0.012</td>\n",
       "      <td>0.141</td>\n",
       "      <td>-0.280</td>\n",
       "      <td>0.253</td>\n",
       "      <td>0.006</td>\n",
       "      <td>0.004</td>\n",
       "      <td>506.0</td>\n",
       "      <td>955.0</td>\n",
       "      <td>1.01</td>\n",
       "    </tr>\n",
       "    <tr>\n",
       "      <th>age_Amb</th>\n",
       "      <td>-0.317</td>\n",
       "      <td>0.270</td>\n",
       "      <td>-0.848</td>\n",
       "      <td>0.159</td>\n",
       "      <td>0.012</td>\n",
       "      <td>0.008</td>\n",
       "      <td>514.0</td>\n",
       "      <td>1117.0</td>\n",
       "      <td>1.01</td>\n",
       "    </tr>\n",
       "  </tbody>\n",
       "</table>\n",
       "</div>"
      ],
      "text/plain": [
       "           mean     sd  hdi_3%  hdi_97%  mcse_mean  mcse_sd  ess_bulk  \\\n",
       "age_Risk -0.012  0.141  -0.280    0.253      0.006    0.004     506.0   \n",
       "age_Amb  -0.317  0.270  -0.848    0.159      0.012    0.008     514.0   \n",
       "\n",
       "          ess_tail  r_hat  \n",
       "age_Risk     955.0   1.01  \n",
       "age_Amb     1117.0   1.01  "
      ]
     },
     "execution_count": 58,
     "metadata": {},
     "output_type": "execute_result"
    }
   ],
   "source": [
    "# Estimate the age effect on risk and ambiguity using the utility function on monetary choices\n",
    "mon_beta_age_std = Utility_age_std(db_mon, n_subs, sub_idx)\n",
    "\n",
    "# Provide a summary of the posterior distribution for the age effects on Risk and Ambiguity \n",
    "# from the estimated Bayesian model for monetary choices.\n",
    "az.summary(mon_beta_age_std, var_names=['age_Risk', 'age_Amb'])"
   ]
  }
 ],
 "metadata": {
  "kernelspec": {
   "display_name": "Python 3 (ipykernel)",
   "language": "python",
   "name": "python3"
  },
  "language_info": {
   "codemirror_mode": {
    "name": "ipython",
    "version": 3
   },
   "file_extension": ".py",
   "mimetype": "text/x-python",
   "name": "python",
   "nbconvert_exporter": "python",
   "pygments_lexer": "ipython3",
   "version": "3.9.13"
  }
 },
 "nbformat": 4,
 "nbformat_minor": 5
}
