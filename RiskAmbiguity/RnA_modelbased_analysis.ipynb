{
 "cells": [
  {
   "cell_type": "code",
   "execution_count": 1,
   "id": "b7f195fa",
   "metadata": {},
   "outputs": [
    {
     "name": "stderr",
     "output_type": "stream",
     "text": [
      "/home/nachshon/anaconda3/envs/risk/lib/python3.8/site-packages/outdated/utils.py:14: OutdatedPackageWarning: The package outdated is out of date. Your version is 0.2.1, the latest is 0.2.2.\n",
      "Set the environment variable OUTDATED_IGNORE=1 to disable these warnings.\n",
      "  return warn(\n",
      "/home/nachshon/anaconda3/envs/risk/lib/python3.8/site-packages/outdated/utils.py:14: OutdatedPackageWarning: The package pingouin is out of date. Your version is 0.5.1, the latest is 0.5.3.\n",
      "Set the environment variable OUTDATED_IGNORE=1 to disable these warnings.\n",
      "  return warn(\n"
     ]
    }
   ],
   "source": [
    "import pandas as pd\n",
    "import numpy as np\n",
    "\n",
    "from scipy import stats, special\n",
    "from scipy.optimize import minimize \n",
    "import pingouin as pg\n",
    "\n",
    "\n",
    "import pymc3 as pm\n",
    "import arviz as az\n",
    "\n",
    "import matplotlib.pyplot as plt\n",
    "import seaborn as sns"
   ]
  },
  {
   "cell_type": "code",
   "execution_count": 2,
   "id": "bb91e77e",
   "metadata": {},
   "outputs": [],
   "source": [
    "age = pd.read_csv('../demo.csv')"
   ]
  },
  {
   "cell_type": "code",
   "execution_count": 3,
   "id": "03fd87d5",
   "metadata": {},
   "outputs": [
    {
     "name": "stdout",
     "output_type": "stream",
     "text": [
      "Participants monetary:  98 participants medical:  98\n"
     ]
    }
   ],
   "source": [
    "db_mon = pd.read_csv('data/mon.csv')\n",
    "db_med = pd.read_csv('data/med.csv')\n",
    "\n",
    "print('Participants monetary: ', len(db_mon['sub'].unique()), 'participants medical: ', len(db_med['sub'].unique()))"
   ]
  },
  {
   "cell_type": "code",
   "execution_count": 4,
   "id": "ed6dc25c",
   "metadata": {},
   "outputs": [
    {
     "name": "stdout",
     "output_type": "stream",
     "text": [
      "pariticpant with R&A and no MoCA: [64, 65, 67, 70, 12, 79, 81, 84, 21, 22, 89, 91, 31, 97, 34, 35, 98, 99, 45, 110, 47, 48, 112, 114, 53, 54, 62]\n",
      "pariticpant with MoCA and no R&A: []\n",
      "Number of participants with all data: 71\n"
     ]
    }
   ],
   "source": [
    "# make a list with subjects number\n",
    "s_am = list(age['sub'].unique())\n",
    "s_ra = list(db_mon['sub'].unique())\n",
    "\n",
    "# find participant in one list but not in the second\n",
    "demo_no_ra = list(set(s_am)- set(s_ra))\n",
    "ra_no_demo = list(set(set(s_ra)- set(s_am)))\n",
    "\n",
    "print ('pariticpant with R&A and no MoCA:', ra_no_demo)\n",
    "print ('pariticpant with MoCA and no R&A:', demo_no_ra)\n",
    "\n",
    "age = age[age['sub'].isin(db_mon['sub'].values)]\n",
    "\n",
    "# remove participants without age/moca from the db and add age, moca and gender\n",
    "db_mon = db_mon.merge(age, left_on='sub', right_on='sub')\n",
    "db_med = db_med.merge(age, left_on='sub', right_on='sub')\n",
    "\n",
    "db_mon = db_mon[db_mon['moca_score']>25]\n",
    "db_med = db_med[db_med['moca_score']>25]\n",
    "\n",
    "\n",
    "print('Number of participants with all data:', len(db_med['sub'].unique()))"
   ]
  },
  {
   "cell_type": "code",
   "execution_count": 5,
   "id": "c225e3d2",
   "metadata": {},
   "outputs": [
    {
     "name": "stdout",
     "output_type": "stream",
     "text": [
      "Monetary too risk averse ( 2 ):  [11, 40]\n",
      "Medical too risk averse ( 2 ):  []\n",
      "Final sample of participants with R&A data:  69\n"
     ]
    }
   ],
   "source": [
    "risk_min = 2 # the minimum number of trials participant chose the lottery.\n",
    "\n",
    "# collect number of lottery selection by subject\n",
    "choices_mon = db_mon[['sub','choice']].groupby(['sub']).sum()\n",
    "choices_med = db_med[['sub','choice']].groupby(['sub']).sum()\n",
    "\n",
    "# get the subject number for participant who were too risk averse\n",
    "too_risk_averse_mon = list(choices_mon[choices_mon['choice']<risk_min].index)\n",
    "too_risk_averse_med = list(choices_med[choices_med['choice']<risk_min].index)\n",
    "\n",
    "print('Monetary too risk averse (', risk_min, '): ', too_risk_averse_mon)\n",
    "print('Medical too risk averse (', risk_min, '): ', too_risk_averse_med)\n",
    "\n",
    "\n",
    "# remove too risk averse particiants from the files\n",
    "db_mon = db_mon[~db_mon['sub'].isin(too_risk_averse_mon)]\n",
    "db_med = db_med[~db_med['sub'].isin(too_risk_averse_med)]\n",
    "\n",
    "# compare monetary and medical lists and keep only valid participants in both\n",
    "mon_s = list(db_mon['sub'].unique())\n",
    "med_s = list(db_med['sub'].unique())\n",
    "\n",
    "db_mon = db_mon[db_mon['sub'].isin(med_s)]\n",
    "db_med = db_med[db_med['sub'].isin(mon_s)]\n",
    "\n",
    "print('Final sample of participants with R&A data: ', len(db_med['sub'].unique()))"
   ]
  },
  {
   "cell_type": "code",
   "execution_count": 6,
   "id": "9013e897",
   "metadata": {},
   "outputs": [
    {
     "data": {
      "image/png": "[encoded data removed]",
      "text/plain": [
       "<Figure size 360x432 with 2 Axes>"
      ]
     },
     "metadata": {
      "needs_background": "light"
     },
     "output_type": "display_data"
    }
   ],
   "source": [
    "participants = db_med.drop_duplicates(['sub'])\n",
    "fig, ax = plt.subplots(2, 1, figsize=(5, 6),sharex=True)\n",
    "\n",
    "sns.histplot(participants[participants['gender']=='F']['age'], binwidth=6, ax=ax[0])\n",
    "sns.histplot(participants[participants['gender']=='M']['age'], binwidth=6, color='orange', ax=ax[1])\n",
    "\n",
    "ax[0].set(ylabel='Females', xlabel='')\n",
    "ax[1].set(ylabel='Males')\n",
    "ax[1].invert_yaxis()\n",
    "\n",
    "plt.subplots_adjust(wspace=0, hspace=0)"
   ]
  },
  {
   "cell_type": "code",
   "execution_count": 7,
   "id": "8f421d5d",
   "metadata": {},
   "outputs": [
    {
     "name": "stdout",
     "output_type": "stream",
     "text": [
      "Final sample includ 69 subjects\n"
     ]
    }
   ],
   "source": [
    "# remove missing trials\n",
    "db_mon = db_mon.dropna()\n",
    "db_mon['choice'] = db_mon['choice'].astype('int')\n",
    "\n",
    "# get final number of subject and trials\n",
    "n_subs = db_mon['sub'].unique().shape[0]\n",
    "print(\"Final sample includ {} subjects\".format(n_subs))"
   ]
  },
  {
   "cell_type": "code",
   "execution_count": 8,
   "id": "bf336c5b",
   "metadata": {},
   "outputs": [
    {
     "name": "stdout",
     "output_type": "stream",
     "text": [
      "Final sample includ 69 subjects\n"
     ]
    }
   ],
   "source": [
    "# remove missing trials\n",
    "db_med = db_med.dropna()\n",
    "db_med['choice'] = db_med['choice'].astype('int')\n",
    "\n",
    "# get final number of subject and trials\n",
    "n_subs_med = db_med['sub'].unique().shape[0]\n",
    "print(\"Final sample includ {} subjects\".format(n_subs_med))"
   ]
  },
  {
   "cell_type": "code",
   "execution_count": null,
   "id": "df573f29",
   "metadata": {},
   "outputs": [],
   "source": [
    "#db_mon=db_mon[db_mon.value>5]\n",
    "#db_med=db_med[db_med.value>5]"
   ]
  },
  {
   "cell_type": "code",
   "execution_count": 9,
   "id": "3a1236bc",
   "metadata": {},
   "outputs": [
    {
     "name": "stdout",
     "output_type": "stream",
     "text": [
      "Final sample includ 68 subjects and 5669 valid trials\n"
     ]
    }
   ],
   "source": [
    "db_med = db_med[db_med.catch < 7]\n",
    "\n",
    "# add serial number for participants\n",
    "db_med['subn'] = db_med['sub'].rank(method='dense').astype(int)-1\n",
    "\n",
    "# sort dataframe based on subject, makes it easier to compare the output of the models.\n",
    "db_med = db_med.sort_values('sub').reset_index(drop=True)\n",
    "\n",
    "n_subs_med = db_med['subn'].unique().shape[0]\n",
    "sub_idx_med = db_med.subn.tolist()\n",
    "sub_idx_med = db_med.subn.tolist()\n",
    "\n",
    "print(\"Final sample includ {} subjects and {} valid trials\".format(n_subs_med, len(sub_idx_med)))"
   ]
  },
  {
   "cell_type": "code",
   "execution_count": 10,
   "id": "6d07a060",
   "metadata": {},
   "outputs": [],
   "source": [
    "db_mon['level']= np.where(db_mon[\"value\"] == 5, 1,\n",
    "                          np.where(db_mon[\"value\"] == 8, 2,\n",
    "                                   np.where(db_mon[\"value\"] == 12, 3, 4)))\n",
    "\n",
    "db_med['level']= np.where(db_med[\"value\"] == 5, 1,\n",
    "                          np.where(db_med[\"value\"] == 8, 2,\n",
    "                                   np.where(db_med[\"value\"] == 12, 3, 4)))"
   ]
  },
  {
   "cell_type": "code",
   "execution_count": 11,
   "id": "beac482e",
   "metadata": {},
   "outputs": [],
   "source": [
    "db_med['l1'] = db_med.level > 0\n",
    "db_med['l2'] = db_med.level > 1\n",
    "db_med['l3'] = db_med.level > 2\n",
    "db_med['l4'] = db_med.level > 3\n",
    "\n",
    "db_med['l1'] = db_med['l1'].astype(int)\n",
    "db_med['l2'] = db_med['l2'].astype(int)\n",
    "db_med['l3'] = db_med['l3'].astype(int)\n",
    "db_med['l4'] = db_med['l4'].astype(int)"
   ]
  },
  {
   "cell_type": "code",
   "execution_count": 12,
   "id": "c32495f6",
   "metadata": {},
   "outputs": [],
   "source": [
    "db_mon['l1'] = db_mon.level > 0\n",
    "db_mon['l2'] = db_mon.level > 1\n",
    "db_mon['l3'] = db_mon.level > 2\n",
    "db_mon['l4'] = db_mon.level > 3\n",
    "\n",
    "db_mon['l1'] = db_mon['l1'].astype(int)\n",
    "db_mon['l2'] = db_mon['l2'].astype(int)\n",
    "db_mon['l3'] = db_mon['l3'].astype(int)\n",
    "db_mon['l4'] = db_mon['l4'].astype(int)"
   ]
  },
  {
   "cell_type": "code",
   "execution_count": 13,
   "id": "1b654c3f",
   "metadata": {},
   "outputs": [
    {
     "name": "stdout",
     "output_type": "stream",
     "text": [
      "Final sample includ 66 subjects and 5518 valid trials\n"
     ]
    }
   ],
   "source": [
    "db_mon = db_mon[db_mon.catch < 7]\n",
    "\n",
    "# add serial number for participants\n",
    "db_mon['subn'] = db_mon['sub'].rank(method='dense').astype(int)-1\n",
    "\n",
    "# sort dataframe based on subject, makes it easier to compare the output of the models.\n",
    "db_mon = db_mon.sort_values('sub').reset_index(drop=True)\n",
    "\n",
    "n_subs = db_mon['subn'].unique().shape[0]\n",
    "sub_idx = db_mon.subn.tolist()\n",
    "sub_idx = db_mon.subn.tolist()\n",
    "\n",
    "print(\"Final sample includ {} subjects and {} valid trials\".format(n_subs, len(sub_idx)))"
   ]
  },
  {
   "cell_type": "code",
   "execution_count": null,
   "id": "d3d1da86",
   "metadata": {},
   "outputs": [],
   "source": [
    "def MLE_riskamb(parameters):\n",
    "    # extract parameters\n",
    "    α, β, γ = parameters\n",
    "    \n",
    "    # caclulate proportion between SVs\n",
    "    svLotto = (db_sub['value'].values ** α) * (1-(db_sub['risk'].values+(β * (db_sub['ambiguity'].values/2))))\n",
    "    svRef = 5 ** α\n",
    "    p = special.expit((svRef - svLotto) * γ) \n",
    "    \n",
    "    # Calculate the negative log-likelihood for normal distribution\n",
    "    neg_LL = -np.sum(stats.norm.logpdf(db_sub.choice, p))\n",
    "    return neg_LL\n",
    "\n",
    "def MLE_analysis():\n",
    "    mle_model = minimize(MLE_riskamb, np.array([0.5,0.5,1]), method='L-BFGS-B', bounds=[(0,2),(-1.5,1.5),(-np.inf,np.inf)])\n",
    "    x = mle_model.x\n",
    "    return x"
   ]
  },
  {
   "cell_type": "code",
   "execution_count": null,
   "id": "715eb8a6",
   "metadata": {},
   "outputs": [],
   "source": [
    "subs = db_mon['sub'].unique()\n",
    "mLL = pd.DataFrame()\n",
    "\n",
    "for sub in subs:\n",
    "    db_sub = db_mon[db_mon['sub']==sub]\n",
    "    x = MLE_analysis()\n",
    "    temp = pd.DataFrame({'sub': sub, 'alpha_mll' : x[0], 'beta_mll': x[1], 'gamma_mll': x[2]},index=[0])\n",
    "    mLL = pd.concat([mLL, temp], axis=0, join='outer')\n",
    "mLL.head()"
   ]
  },
  {
   "cell_type": "code",
   "execution_count": 14,
   "id": "a771220a",
   "metadata": {},
   "outputs": [
    {
     "name": "stderr",
     "output_type": "stream",
     "text": [
      "Auto-assigning NUTS sampler...\n",
      "Initializing NUTS using jitter+adapt_diag...\n",
      "Multiprocess sampling (4 chains in 4 jobs)\n",
      "NUTS: [γ, gSig, gMu]\n"
     ]
    },
    {
     "data": {
      "text/html": [
       "\n",
       "    <div>\n",
       "        <style>\n",
       "            /* Turns off some styling */\n",
       "            progress {\n",
       "                /* gets rid of default border in Firefox and Opera. */\n",
       "                border: none;\n",
       "                /* Needs to be in here for Safari polyfill so background images work as expected. */\n",
       "                background-size: auto;\n",
       "            }\n",
       "            .progress-bar-interrupted, .progress-bar-interrupted::-webkit-progress-bar {\n",
       "                background: #F44336;\n",
       "            }\n",
       "        </style>\n",
       "      <progress value='20000' class='' max='20000' style='width:300px; height:20px; vertical-align: middle;'></progress>\n",
       "      100.00% [20000/20000 01:31<00:00 Sampling 4 chains, 0 divergences]\n",
       "    </div>\n",
       "    "
      ],
      "text/plain": [
       "<IPython.core.display.HTML object>"
      ]
     },
     "metadata": {},
     "output_type": "display_data"
    },
    {
     "name": "stderr",
     "output_type": "stream",
     "text": [
      "Sampling 4 chains for 3_000 tune and 2_000 draw iterations (12_000 + 8_000 draws total) took 92 seconds.\n"
     ]
    }
   ],
   "source": [
    "with pm.Model() as RiskAmb_free:\n",
    "\n",
    "    gMu = pm.Normal('gMu', 0,1)\n",
    "    gSig = pm.Exponential('gSig', 1)\n",
    "\n",
    "    γ = pm.Lognormal('γ', gMu , gSig, shape = n_subs)\n",
    "    \n",
    "      \n",
    "    # Expected value of outcome\n",
    "    svLotto = db_mon['value'].values * (db_mon['risk'].values - (db_mon['ambiguity'].values/2))\n",
    "    svRef = 5\n",
    "    p = (svLotto - svRef)/γ[sub_idx]\n",
    "    mu = pm.invlogit(p)\n",
    "       \n",
    "    # Likelihood (sampling distribution) of observations\n",
    "    choice = pm.Binomial('choice',1, mu, observed=db_mon['choice'])\n",
    "    \n",
    "    mon_free = pm.sample(tune=3000, draws=2000, return_inferencedata=True, target_accept=0.99)"
   ]
  },
  {
   "cell_type": "code",
   "execution_count": 15,
   "id": "2108e4c6",
   "metadata": {},
   "outputs": [
    {
     "name": "stderr",
     "output_type": "stream",
     "text": [
      "WARNING (theano.tensor.opt): Optimization Warning: The Op erfcx does not provide a C implementation. As well as being potentially slow, this also disables loop fusion.\n",
      "Auto-assigning NUTS sampler...\n",
      "Initializing NUTS using jitter+adapt_diag...\n",
      "Multiprocess sampling (4 chains in 4 jobs)\n",
      "NUTS: [γ, β, alpha, gSig, gMu, bSig, bMu, alpha_b, alpha_a]\n"
     ]
    },
    {
     "data": {
      "text/html": [
       "\n",
       "    <div>\n",
       "        <style>\n",
       "            /* Turns off some styling */\n",
       "            progress {\n",
       "                /* gets rid of default border in Firefox and Opera. */\n",
       "                border: none;\n",
       "                /* Needs to be in here for Safari polyfill so background images work as expected. */\n",
       "                background-size: auto;\n",
       "            }\n",
       "            .progress-bar-interrupted, .progress-bar-interrupted::-webkit-progress-bar {\n",
       "                background: #F44336;\n",
       "            }\n",
       "        </style>\n",
       "      <progress value='20000' class='' max='20000' style='width:300px; height:20px; vertical-align: middle;'></progress>\n",
       "      100.00% [20000/20000 12:43<00:00 Sampling 4 chains, 0 divergences]\n",
       "    </div>\n",
       "    "
      ],
      "text/plain": [
       "<IPython.core.display.HTML object>"
      ]
     },
     "metadata": {},
     "output_type": "display_data"
    },
    {
     "name": "stderr",
     "output_type": "stream",
     "text": [
      "Sampling 4 chains for 3_000 tune and 2_000 draw iterations (12_000 + 8_000 draws total) took 764 seconds.\n"
     ]
    }
   ],
   "source": [
    "with pm.Model() as RiskAmb_beta:\n",
    "    # Hyper Priors\n",
    "    alpha_a = pm.TruncatedNormal('alpha_a', 4, 1, lower = 1)\n",
    "    alpha_b = pm.TruncatedNormal('alpha_b', 7, 1, lower = 1)\n",
    "    \n",
    "    bMu = pm.Normal('bMu', 0.3,1)\n",
    "    bSig = pm.Exponential('bSig', 1)\n",
    "\n",
    "    gMu = pm.Normal('gMu', 0,1)\n",
    "    gSig = pm.Exponential('gSig', 1)\n",
    "    \n",
    "    alpha = pm.Beta('alpha', alpha_a, alpha_b, shape = n_subs)\n",
    "    α = pm.Deterministic('α', alpha * 2)\n",
    "    β = pm.TruncatedNormal('β', bMu, bSig, lower = -1.5, upper = 1.5, shape = n_subs)\n",
    "    γ = pm.Lognormal('γ', gMu , gSig, shape = n_subs)\n",
    "      \n",
    "    # Expected value of outcome\n",
    "    svLotto = (db_mon['value'].values ** α[sub_idx]) * (db_mon['risk'].values - (β[sub_idx] * (db_mon['ambiguity'].values/2)))\n",
    "    svRef = 5 ** α[sub_idx]\n",
    "    p = (svLotto - svRef)/γ[sub_idx]\n",
    "    mu = pm.invlogit(p)\n",
    "       \n",
    "    # Likelihood (sampling distribution) of observations\n",
    "    choice = pm.Binomial('choice',1, mu, observed=db_mon['choice'])\n",
    "\n",
    "    mon_beta = pm.sample(tune=3000, draws=2000, return_inferencedata=True, target_accept=0.99)"
   ]
  },
  {
   "cell_type": "code",
   "execution_count": 16,
   "id": "37ce8a0f",
   "metadata": {},
   "outputs": [
    {
     "name": "stderr",
     "output_type": "stream",
     "text": [
      "Auto-assigning NUTS sampler...\n",
      "Initializing NUTS using jitter+adapt_diag...\n",
      "Multiprocess sampling (4 chains in 4 jobs)\n",
      "NUTS: [γ, β, alpha, bSig, bMu, alpha_b, alpha_a]\n"
     ]
    },
    {
     "data": {
      "text/html": [
       "\n",
       "    <div>\n",
       "        <style>\n",
       "            /* Turns off some styling */\n",
       "            progress {\n",
       "                /* gets rid of default border in Firefox and Opera. */\n",
       "                border: none;\n",
       "                /* Needs to be in here for Safari polyfill so background images work as expected. */\n",
       "                background-size: auto;\n",
       "            }\n",
       "            .progress-bar-interrupted, .progress-bar-interrupted::-webkit-progress-bar {\n",
       "                background: #F44336;\n",
       "            }\n",
       "        </style>\n",
       "      <progress value='20000' class='' max='20000' style='width:300px; height:20px; vertical-align: middle;'></progress>\n",
       "      100.00% [20000/20000 13:04<00:00 Sampling 4 chains, 0 divergences]\n",
       "    </div>\n",
       "    "
      ],
      "text/plain": [
       "<IPython.core.display.HTML object>"
      ]
     },
     "metadata": {},
     "output_type": "display_data"
    },
    {
     "name": "stderr",
     "output_type": "stream",
     "text": [
      "Sampling 4 chains for 3_000 tune and 2_000 draw iterations (12_000 + 8_000 draws total) took 785 seconds.\n",
      "The number of effective samples is smaller than 10% for some parameters.\n"
     ]
    }
   ],
   "source": [
    "with pm.Model() as RiskAmb_trembel:\n",
    "    # Hyper Priors\n",
    "    alpha_a = pm.TruncatedNormal('alpha_a', 4, 1, lower = 1)\n",
    "    alpha_b = pm.TruncatedNormal('alpha_b', 7, 1, lower = 1)\n",
    "    \n",
    "    bMu = pm.Normal('bMu', 0.3,1)\n",
    "    bSig = pm.Exponential('bSig', 1)\n",
    "\n",
    "    alpha = pm.Beta('alpha', alpha_a, alpha_b, shape = n_subs)\n",
    "    α = pm.Deterministic('α', alpha * 2)\n",
    "    β = pm.TruncatedNormal('β', bMu, bSig, lower = -1.5, upper = 1.5, shape = n_subs)\n",
    "    γ = pm.Beta('γ', 2 , 2, shape = n_subs)\n",
    "\n",
    "    # Expected value of outcome\n",
    "    svLotto = (db_mon['value'].values ** α[sub_idx]) * (db_mon['risk'].values - (β[sub_idx] * (db_mon['ambiguity'].values/2)))\n",
    "    svRef = 5 ** α[sub_idx]\n",
    "    p = (1/(1+np.exp(-(svLotto - svRef))))*(1-γ[sub_idx])+γ[sub_idx]*.5\n",
    "\n",
    "    # Likelihood (sampling distribution) of observations\n",
    "    choice = pm.Binomial('choice',1, p, observed=db_mon['choice'])\n",
    "\n",
    "    mon_hand = pm.sample(tune=3000, draws=2000, return_inferencedata=True, target_accept=0.99)"
   ]
  },
  {
   "cell_type": "code",
   "execution_count": 17,
   "id": "0b904802",
   "metadata": {},
   "outputs": [
    {
     "name": "stderr",
     "output_type": "stream",
     "text": [
      "Auto-assigning NUTS sampler...\n",
      "Initializing NUTS using jitter+adapt_diag...\n",
      "Multiprocess sampling (4 chains in 4 jobs)\n",
      "NUTS: [γ, β, alpha, level4, level3, level2, level1, alpha_b, alpha_a, gSig, gMu, bSig, bMu]\n"
     ]
    },
    {
     "data": {
      "text/html": [
       "\n",
       "    <div>\n",
       "        <style>\n",
       "            /* Turns off some styling */\n",
       "            progress {\n",
       "                /* gets rid of default border in Firefox and Opera. */\n",
       "                border: none;\n",
       "                /* Needs to be in here for Safari polyfill so background images work as expected. */\n",
       "                background-size: auto;\n",
       "            }\n",
       "            .progress-bar-interrupted, .progress-bar-interrupted::-webkit-progress-bar {\n",
       "                background: #F44336;\n",
       "            }\n",
       "        </style>\n",
       "      <progress value='20000' class='' max='20000' style='width:300px; height:20px; vertical-align: middle;'></progress>\n",
       "      100.00% [20000/20000 58:00<00:00 Sampling 4 chains, 0 divergences]\n",
       "    </div>\n",
       "    "
      ],
      "text/plain": [
       "<IPython.core.display.HTML object>"
      ]
     },
     "metadata": {},
     "output_type": "display_data"
    },
    {
     "name": "stderr",
     "output_type": "stream",
     "text": [
      "Sampling 4 chains for 3_000 tune and 2_000 draw iterations (12_000 + 8_000 draws total) took 3480 seconds.\n",
      "The number of effective samples is smaller than 10% for some parameters.\n"
     ]
    }
   ],
   "source": [
    "with pm.Model() as RiskAmb_unique_mon:\n",
    "    \n",
    "    bMu = pm.Normal('bMu', 0.3,1)\n",
    "    bSig = pm.Exponential('bSig', 1)\n",
    "    \n",
    "    gMu = pm.Normal('gMu', 0,1)\n",
    "    gSig = pm.Exponential('gSig', 1)\n",
    "    \n",
    "    alpha_a = pm.TruncatedNormal('alpha_a', 4, 1, lower = 1)\n",
    "    alpha_b = pm.TruncatedNormal('alpha_b', 7, 1, lower = 1)\n",
    "   \n",
    "    level1 = pm.TruncatedNormal('level1', 1, 1, lower = 0, shape = n_subs )\n",
    "    level2 = pm.TruncatedNormal('level2', 1, 1, lower = 0, shape = n_subs )\n",
    "    level3 = pm.TruncatedNormal('level3', 1, 1, lower = 0, shape = n_subs )\n",
    "    level4 = pm.TruncatedNormal('level4', 1, 1, lower = 0, shape = n_subs )\n",
    "    \n",
    "    alpha = pm.Beta('alpha', alpha_a, alpha_b, shape = n_subs)\n",
    "    α = pm.Deterministic('α', alpha * 2)\n",
    "    β = pm.TruncatedNormal('β', bMu, bSig, lower = -1.5, upper = 1.5, shape = n_subs)\n",
    "    γ = pm.Lognormal('γ', gMu , gSig, shape = n_subs)\n",
    "      \n",
    "    # Expected value of outcome\n",
    "    val = db_mon['l1'].values * level1[sub_idx] + db_mon['l2'].values * level2[sub_idx] + db_mon['l3'].values * level3[sub_idx] + db_mon['l4'].values * level4[sub_idx]\n",
    "        \n",
    "    #val = (med_intercept[sub_idx] + med_linslope[sub_idx] * simdata['value'].values ** med_slope[sub_idx]) ** α[sub_idx]\n",
    "    svLotto = (val ** α[sub_idx]) * (db_mon['risk'].values - (β[sub_idx] * (db_mon['ambiguity'].values/2)))\n",
    "    svRef = level1[sub_idx] ** α[sub_idx]\n",
    "    p = (svLotto - svRef)/γ[sub_idx]\n",
    "    mu = pm.invlogit(p)\n",
    "       \n",
    "    # Likelihood (sampling distribution) of observations\n",
    "    choice = pm.Binomial('choice',1, mu, observed=db_mon['choice'])\n",
    "    \n",
    "    mon_uniuqe = pm.sample(tune=3000, draws=2000, return_inferencedata=True, target_accept=0.99)"
   ]
  },
  {
   "cell_type": "code",
   "execution_count": 18,
   "id": "50fa500b",
   "metadata": {},
   "outputs": [
    {
     "name": "stderr",
     "output_type": "stream",
     "text": [
      "Auto-assigning NUTS sampler...\n",
      "Initializing NUTS using jitter+adapt_diag...\n",
      "Multiprocess sampling (4 chains in 4 jobs)\n",
      "NUTS: [γ, β, level4, level3, level2, level1, gSig, gMu, bSig, bMu]\n"
     ]
    },
    {
     "data": {
      "text/html": [
       "\n",
       "    <div>\n",
       "        <style>\n",
       "            /* Turns off some styling */\n",
       "            progress {\n",
       "                /* gets rid of default border in Firefox and Opera. */\n",
       "                border: none;\n",
       "                /* Needs to be in here for Safari polyfill so background images work as expected. */\n",
       "                background-size: auto;\n",
       "            }\n",
       "            .progress-bar-interrupted, .progress-bar-interrupted::-webkit-progress-bar {\n",
       "                background: #F44336;\n",
       "            }\n",
       "        </style>\n",
       "      <progress value='20000' class='' max='20000' style='width:300px; height:20px; vertical-align: middle;'></progress>\n",
       "      100.00% [20000/20000 10:31<00:00 Sampling 4 chains, 0 divergences]\n",
       "    </div>\n",
       "    "
      ],
      "text/plain": [
       "<IPython.core.display.HTML object>"
      ]
     },
     "metadata": {},
     "output_type": "display_data"
    },
    {
     "name": "stderr",
     "output_type": "stream",
     "text": [
      "Sampling 4 chains for 3_000 tune and 2_000 draw iterations (12_000 + 8_000 draws total) took 632 seconds.\n",
      "The number of effective samples is smaller than 25% for some parameters.\n"
     ]
    }
   ],
   "source": [
    "with pm.Model() as RiskAmb_unique_mon1:\n",
    "    \n",
    "    bMu = pm.Normal('bMu', 0.3,1)\n",
    "    bSig = pm.Exponential('bSig', 1)\n",
    "    \n",
    "    gMu = pm.Normal('gMu', 0,1)\n",
    "    gSig = pm.Exponential('gSig', 1)\n",
    "      \n",
    "    level1 = pm.Normal('level1', 1, 1, shape = n_subs )\n",
    "    level2 = pm.Normal('level2', 1, 1, shape = n_subs )\n",
    "    level3 = pm.Normal('level3', 1, 1, shape = n_subs )\n",
    "    level4 = pm.Normal('level4', 1, 1, shape = n_subs )\n",
    "    \n",
    "    #alpha = pm.Beta('alpha', 2,4, shape = n_subs)\n",
    "    #α = pm.Deterministic('α', alpha * 2)\n",
    "    β = pm.TruncatedNormal('β', bMu, bSig, lower = -1.5, upper = 1.5, shape = n_subs)\n",
    "    γ = pm.Lognormal('γ', gMu , gSig, shape = n_subs)\n",
    "      \n",
    "    # Expected value of outcome\n",
    "    val = db_mon['l1'].values * level1[sub_idx] + db_mon['l2'].values * level2[sub_idx] + db_mon['l3'].values * level3[sub_idx] + db_mon['l4'].values * level4[sub_idx]\n",
    "        \n",
    "    #svLotto = (val ** α[sub_idx]) * \n",
    "    svLotto = (db_mon['risk'].values - (β[sub_idx] * (db_mon['ambiguity'].values/2)))\n",
    "    svRef = level1[sub_idx] #** α[sub_idx]\n",
    "    p = (svLotto - svRef)/γ[sub_idx]\n",
    "    mu = pm.invlogit(p)\n",
    "       \n",
    "    # Likelihood (sampling distribution) of observations\n",
    "    choice = pm.Binomial('choice',1, mu, observed=db_mon['choice'])\n",
    "    \n",
    "    mon_uniuqe1 = pm.sample(tune=3000, draws=2000, return_inferencedata=True, target_accept=0.99)"
   ]
  },
  {
   "cell_type": "code",
   "execution_count": 20,
   "id": "15b77645",
   "metadata": {},
   "outputs": [
    {
     "name": "stderr",
     "output_type": "stream",
     "text": [
      "/home/nachshon/anaconda3/envs/risk/lib/python3.8/site-packages/arviz/stats/stats.py:694: UserWarning: Estimated shape parameter of Pareto distribution is greater than 0.7 for one or more samples. You should consider using a more robust model, this is because importance sampling is less likely to work well if the marginal posterior and LOO posterior are very different. This is more likely to happen with a non-robust model and highly influential observations.\n",
      "  warnings.warn(\n",
      "/home/nachshon/anaconda3/envs/risk/lib/python3.8/site-packages/arviz/stats/stats.py:694: UserWarning: Estimated shape parameter of Pareto distribution is greater than 0.7 for one or more samples. You should consider using a more robust model, this is because importance sampling is less likely to work well if the marginal posterior and LOO posterior are very different. This is more likely to happen with a non-robust model and highly influential observations.\n",
      "  warnings.warn(\n",
      "/home/nachshon/anaconda3/envs/risk/lib/python3.8/site-packages/arviz/stats/stats.py:694: UserWarning: Estimated shape parameter of Pareto distribution is greater than 0.7 for one or more samples. You should consider using a more robust model, this is because importance sampling is less likely to work well if the marginal posterior and LOO posterior are very different. This is more likely to happen with a non-robust model and highly influential observations.\n",
      "  warnings.warn(\n",
      "/home/nachshon/anaconda3/envs/risk/lib/python3.8/site-packages/arviz/stats/stats.py:694: UserWarning: Estimated shape parameter of Pareto distribution is greater than 0.7 for one or more samples. You should consider using a more robust model, this is because importance sampling is less likely to work well if the marginal posterior and LOO posterior are very different. This is more likely to happen with a non-robust model and highly influential observations.\n",
      "  warnings.warn(\n"
     ]
    },
    {
     "data": {
      "text/html": [
       "<div>\n",
       "<style scoped>\n",
       "    .dataframe tbody tr th:only-of-type {\n",
       "        vertical-align: middle;\n",
       "    }\n",
       "\n",
       "    .dataframe tbody tr th {\n",
       "        vertical-align: top;\n",
       "    }\n",
       "\n",
       "    .dataframe thead th {\n",
       "        text-align: right;\n",
       "    }\n",
       "</style>\n",
       "<table border=\"1\" class=\"dataframe\">\n",
       "  <thead>\n",
       "    <tr style=\"text-align: right;\">\n",
       "      <th></th>\n",
       "      <th>rank</th>\n",
       "      <th>loo</th>\n",
       "      <th>p_loo</th>\n",
       "      <th>d_loo</th>\n",
       "      <th>weight</th>\n",
       "      <th>se</th>\n",
       "      <th>dse</th>\n",
       "      <th>warning</th>\n",
       "      <th>loo_scale</th>\n",
       "    </tr>\n",
       "  </thead>\n",
       "  <tbody>\n",
       "    <tr>\n",
       "      <th>Unique</th>\n",
       "      <td>0</td>\n",
       "      <td>-1559.494939</td>\n",
       "      <td>237.652562</td>\n",
       "      <td>0.000000</td>\n",
       "      <td>9.551163e-01</td>\n",
       "      <td>46.295474</td>\n",
       "      <td>0.000000</td>\n",
       "      <td>True</td>\n",
       "      <td>log</td>\n",
       "    </tr>\n",
       "    <tr>\n",
       "      <th>Beta</th>\n",
       "      <td>1</td>\n",
       "      <td>-1834.963985</td>\n",
       "      <td>182.020078</td>\n",
       "      <td>275.469046</td>\n",
       "      <td>0.000000e+00</td>\n",
       "      <td>45.276252</td>\n",
       "      <td>23.438674</td>\n",
       "      <td>True</td>\n",
       "      <td>log</td>\n",
       "    </tr>\n",
       "    <tr>\n",
       "      <th>Trembling-hand</th>\n",
       "      <td>2</td>\n",
       "      <td>-2027.092744</td>\n",
       "      <td>129.053261</td>\n",
       "      <td>467.597805</td>\n",
       "      <td>3.639495e-02</td>\n",
       "      <td>33.622190</td>\n",
       "      <td>31.832034</td>\n",
       "      <td>True</td>\n",
       "      <td>log</td>\n",
       "    </tr>\n",
       "    <tr>\n",
       "      <th>simple model</th>\n",
       "      <td>3</td>\n",
       "      <td>-2618.278833</td>\n",
       "      <td>58.930222</td>\n",
       "      <td>1058.783894</td>\n",
       "      <td>2.562616e-12</td>\n",
       "      <td>38.220895</td>\n",
       "      <td>41.423924</td>\n",
       "      <td>True</td>\n",
       "      <td>log</td>\n",
       "    </tr>\n",
       "    <tr>\n",
       "      <th>Unique_noA</th>\n",
       "      <td>4</td>\n",
       "      <td>-3094.243299</td>\n",
       "      <td>148.835652</td>\n",
       "      <td>1534.748360</td>\n",
       "      <td>8.488797e-03</td>\n",
       "      <td>33.481462</td>\n",
       "      <td>45.787330</td>\n",
       "      <td>False</td>\n",
       "      <td>log</td>\n",
       "    </tr>\n",
       "  </tbody>\n",
       "</table>\n",
       "</div>"
      ],
      "text/plain": [
       "                rank          loo       p_loo        d_loo        weight  \\\n",
       "Unique             0 -1559.494939  237.652562     0.000000  9.551163e-01   \n",
       "Beta               1 -1834.963985  182.020078   275.469046  0.000000e+00   \n",
       "Trembling-hand     2 -2027.092744  129.053261   467.597805  3.639495e-02   \n",
       "simple model       3 -2618.278833   58.930222  1058.783894  2.562616e-12   \n",
       "Unique_noA         4 -3094.243299  148.835652  1534.748360  8.488797e-03   \n",
       "\n",
       "                       se        dse  warning loo_scale  \n",
       "Unique          46.295474   0.000000     True       log  \n",
       "Beta            45.276252  23.438674     True       log  \n",
       "Trembling-hand  33.622190  31.832034     True       log  \n",
       "simple model    38.220895  41.423924     True       log  \n",
       "Unique_noA      33.481462  45.787330    False       log  "
      ]
     },
     "execution_count": 20,
     "metadata": {},
     "output_type": "execute_result"
    }
   ],
   "source": [
    "compare_dict = {\"simple model\": mon_free, \n",
    "                \"Beta\": mon_beta, \n",
    "                \"Trembling-hand\": mon_hand, \n",
    "                \"Unique\": mon_uniuqe, \n",
    "                \"Unique_noA\": mon_uniuqe1}\n",
    "comp = az.compare(compare_dict)\n",
    "comp"
   ]
  },
  {
   "cell_type": "code",
   "execution_count": 21,
   "id": "72bae501",
   "metadata": {},
   "outputs": [
    {
     "data": {
      "text/plain": [
       "<AxesSubplot:xlabel='Log'>"
      ]
     },
     "execution_count": 21,
     "metadata": {},
     "output_type": "execute_result"
    },
    {
     "data": {
      "image/png": "[encoded data removed]",
      "text/plain": [
       "<Figure size 432x360 with 1 Axes>"
      ]
     },
     "metadata": {
      "needs_background": "light"
     },
     "output_type": "display_data"
    }
   ],
   "source": [
    "az.plot_compare(comp)"
   ]
  },
  {
   "cell_type": "code",
   "execution_count": 24,
   "id": "61eb5f57",
   "metadata": {},
   "outputs": [
    {
     "data": {
      "text/html": [
       "\n",
       "    <div>\n",
       "        <style>\n",
       "            /* Turns off some styling */\n",
       "            progress {\n",
       "                /* gets rid of default border in Firefox and Opera. */\n",
       "                border: none;\n",
       "                /* Needs to be in here for Safari polyfill so background images work as expected. */\n",
       "                background-size: auto;\n",
       "            }\n",
       "            .progress-bar-interrupted, .progress-bar-interrupted::-webkit-progress-bar {\n",
       "                background: #F44336;\n",
       "            }\n",
       "        </style>\n",
       "      <progress value='8000' class='' max='8000' style='width:300px; height:20px; vertical-align: middle;'></progress>\n",
       "      100.00% [8000/8000 00:33<00:00]\n",
       "    </div>\n",
       "    "
      ],
      "text/plain": [
       "<IPython.core.display.HTML object>"
      ]
     },
     "metadata": {},
     "output_type": "display_data"
    },
    {
     "name": "stderr",
     "output_type": "stream",
     "text": [
      "/home/nachshon/anaconda3/envs/risk/lib/python3.8/site-packages/IPython/core/pylabtools.py:151: UserWarning: Creating legend with loc=\"best\" can be slow with large amounts of data.\n",
      "  fig.canvas.print_figure(bytes_io, **kw)\n"
     ]
    },
    {
     "data": {
      "image/png": "[encoded data removed]",
      "text/plain": [
       "<Figure size 432x288 with 1 Axes>"
      ]
     },
     "metadata": {
      "needs_background": "light"
     },
     "output_type": "display_data"
    }
   ],
   "source": [
    "with RiskAmb_unique_mon:\n",
    "    ppc = pm.sample_posterior_predictive(\n",
    "        mon_uniuqe)\n",
    "az.plot_ppc(az.from_pymc3(posterior_predictive=ppc, model=RiskAmb_unique_mon));"
   ]
  },
  {
   "cell_type": "markdown",
   "id": "50bc30f2",
   "metadata": {},
   "source": [
    "# Medical"
   ]
  },
  {
   "cell_type": "code",
   "execution_count": 25,
   "id": "43c46838",
   "metadata": {},
   "outputs": [
    {
     "name": "stderr",
     "output_type": "stream",
     "text": [
      "Auto-assigning NUTS sampler...\n",
      "Initializing NUTS using jitter+adapt_diag...\n",
      "Multiprocess sampling (4 chains in 4 jobs)\n",
      "NUTS: [γ, β, alpha, alpha_b, alpha_a, bSig, bMu, gSig, gMu]\n"
     ]
    },
    {
     "data": {
      "text/html": [
       "\n",
       "    <div>\n",
       "        <style>\n",
       "            /* Turns off some styling */\n",
       "            progress {\n",
       "                /* gets rid of default border in Firefox and Opera. */\n",
       "                border: none;\n",
       "                /* Needs to be in here for Safari polyfill so background images work as expected. */\n",
       "                background-size: auto;\n",
       "            }\n",
       "            .progress-bar-interrupted, .progress-bar-interrupted::-webkit-progress-bar {\n",
       "                background: #F44336;\n",
       "            }\n",
       "        </style>\n",
       "      <progress value='20000' class='' max='20000' style='width:300px; height:20px; vertical-align: middle;'></progress>\n",
       "      100.00% [20000/20000 11:02<00:00 Sampling 4 chains, 0 divergences]\n",
       "    </div>\n",
       "    "
      ],
      "text/plain": [
       "<IPython.core.display.HTML object>"
      ]
     },
     "metadata": {},
     "output_type": "display_data"
    },
    {
     "name": "stderr",
     "output_type": "stream",
     "text": [
      "Sampling 4 chains for 3_000 tune and 2_000 draw iterations (12_000 + 8_000 draws total) took 663 seconds.\n"
     ]
    }
   ],
   "source": [
    "with pm.Model() as M_RiskAmb_simple:\n",
    "    \n",
    "    gMu = pm.Normal('gMu', 0,1)\n",
    "    gSig = pm.Exponential('gSig', 1)\n",
    "    \n",
    "    bMu = pm.Normal('bMu', 0.3,1)\n",
    "    bSig = pm.Exponential('bSig', 1)\n",
    "   \n",
    "    alpha_a = pm.TruncatedNormal('alpha_a', 4, 1, lower = 1)\n",
    "    alpha_b = pm.TruncatedNormal('alpha_b', 7, 1, lower = 1)\n",
    "    \n",
    "    alpha = pm.Beta('alpha', alpha_a, alpha_b, shape = n_subs_med)#alpha_a, alpha_b, shape = n_subs)\n",
    "    α = pm.Deterministic('α', alpha * 2)\n",
    "    β = pm.TruncatedNormal('β', bMu, bSig, lower = -1.5, upper = 1.5, shape = n_subs_med)\n",
    "    γ = pm.Lognormal('γ', gMu , gSig, shape = n_subs_med)\n",
    "      \n",
    "    # Expected value of outcome\n",
    "    val = db_med['value'].values ** α[sub_idx_med]\n",
    "    svLotto = val * (db_med['risk'].values - (β[sub_idx_med] * (db_med['ambiguity'].values/2)))\n",
    "    svRef = 1\n",
    "    p = (svLotto - svRef)/γ[sub_idx_med]\n",
    "    mu = pm.invlogit(p)\n",
    "       \n",
    "    # Likelihood (sampling distribution) of observations\n",
    "    choice = pm.Binomial('choice',1, mu, observed=db_med['choice'])\n",
    "    \n",
    "    med_simple = pm.sample(tune=3000, draws=2000, return_inferencedata=True, target_accept=0.99)"
   ]
  },
  {
   "cell_type": "code",
   "execution_count": 27,
   "id": "61c43d69",
   "metadata": {},
   "outputs": [
    {
     "name": "stderr",
     "output_type": "stream",
     "text": [
      "Auto-assigning NUTS sampler...\n",
      "Initializing NUTS using jitter+adapt_diag...\n",
      "Multiprocess sampling (4 chains in 4 jobs)\n",
      "NUTS: [γ, β, alpha, gSig, gMu, bSig, bMu, alpha_b, alpha_a, med_intercept, med_linslope, med_slope, iSig, iMu, lSig, lMu, sSig, sMu]\n"
     ]
    },
    {
     "data": {
      "text/html": [
       "\n",
       "    <div>\n",
       "        <style>\n",
       "            /* Turns off some styling */\n",
       "            progress {\n",
       "                /* gets rid of default border in Firefox and Opera. */\n",
       "                border: none;\n",
       "                /* Needs to be in here for Safari polyfill so background images work as expected. */\n",
       "                background-size: auto;\n",
       "            }\n",
       "            .progress-bar-interrupted, .progress-bar-interrupted::-webkit-progress-bar {\n",
       "                background: #F44336;\n",
       "            }\n",
       "        </style>\n",
       "      <progress value='16000' class='' max='16000' style='width:300px; height:20px; vertical-align: middle;'></progress>\n",
       "      100.00% [16000/16000 3:02:31<00:00 Sampling 4 chains, 5,829 divergences]\n",
       "    </div>\n",
       "    "
      ],
      "text/plain": [
       "<IPython.core.display.HTML object>"
      ]
     },
     "metadata": {},
     "output_type": "display_data"
    },
    {
     "name": "stderr",
     "output_type": "stream",
     "text": [
      "Sampling 4 chains for 2_000 tune and 2_000 draw iterations (8_000 + 8_000 draws total) took 10953 seconds.\n",
      "There were 1988 divergences after tuning. Increase `target_accept` or reparameterize.\n",
      "The acceptance probability does not match the target. It is 0.8693732746528523, but should be close to 0.99. Try to increase the number of tuning steps.\n",
      "The acceptance probability does not match the target. It is 0.9662439503338262, but should be close to 0.99. Try to increase the number of tuning steps.\n",
      "The chain reached the maximum tree depth. Increase max_treedepth, increase target_accept or reparameterize.\n",
      "There were 1965 divergences after tuning. Increase `target_accept` or reparameterize.\n",
      "The acceptance probability does not match the target. It is 0.959376465176682, but should be close to 0.99. Try to increase the number of tuning steps.\n",
      "There were 1876 divergences after tuning. Increase `target_accept` or reparameterize.\n",
      "The acceptance probability does not match the target. It is 0.869072165217595, but should be close to 0.99. Try to increase the number of tuning steps.\n",
      "The chain reached the maximum tree depth. Increase max_treedepth, increase target_accept or reparameterize.\n",
      "The rhat statistic is larger than 1.4 for some parameters. The sampler did not converge.\n",
      "The estimated number of effective samples is smaller than 200 for some parameters.\n"
     ]
    }
   ],
   "source": [
    "with pm.Model() as RiskAmb_equ:\n",
    "    \n",
    "    # hyper parameters\n",
    "    sMu = pm.TruncatedNormal('sMu', 1, 1, lower = 0)\n",
    "    sSig = pm.Exponential('sSig', 1)\n",
    "    \n",
    "    lMu = pm.TruncatedNormal('lMu', 1, 1, lower = 0)\n",
    "    lSig = pm.Exponential('lSig', 1)  \n",
    "    \n",
    "    iMu = pm.TruncatedNormal('iMu', 1, 1, lower = 0)\n",
    "    iSig = pm.Exponential('iSig', 1) \n",
    "   \n",
    "    med_slope = pm.Normal('med_slope', sMu, sSig, shape = n_subs_med)\n",
    "    med_linslope = pm.Normal('med_linslope', lMu, lSig, shape = n_subs_med)\n",
    "    med_intercept = pm.Normal('med_intercept', iMu, iSig, shape = n_subs_med)\n",
    "    \n",
    "    alpha_a = pm.TruncatedNormal('alpha_a', 3, 2, lower = 1)\n",
    "    alpha_b = pm.TruncatedNormal('alpha_b', 8, 2, lower = 1)\n",
    "    \n",
    "    bMu = pm.Normal('bMu', 0.3,1)\n",
    "    bSig = pm.Exponential('bSig', 1)\n",
    "    \n",
    "    gMu = pm.Normal('gMu', 0,1)\n",
    "    gSig = pm.Exponential('gSig', 1)\n",
    "    \n",
    "    alpha = pm.Beta('alpha', alpha_a, alpha_b, shape = n_subs_med)\n",
    "    α = pm.Deterministic('α', alpha * 2)\n",
    "    β = pm.TruncatedNormal('β', bMu, bSig, lower = -1.5, upper = 1.5, shape = n_subs_med)\n",
    "    γ = pm.Lognormal('γ', gMu , gSig, shape = n_subs_med)\n",
    "      \n",
    "    # Expected value of outcome \n",
    "    val = (med_intercept[sub_idx_med] + med_linslope[sub_idx_med] * db_med['value'].values ** med_slope[sub_idx_med]) ** α[sub_idx_med]\n",
    "    svLotto = (val ** α[sub_idx_med]) * (db_med['risk'].values - (β[sub_idx_med] * (db_med['ambiguity'].values/2)))\n",
    "    svRef = (med_intercept[sub_idx_med] + med_linslope[sub_idx_med]) ** α[sub_idx_med]\n",
    "    p = (svLotto - svRef)/γ[sub_idx_med]\n",
    "    mu = pm.invlogit(p)\n",
    "       \n",
    "    # Likelihood (sampling distribution) of observations\n",
    "    choice = pm.Binomial('choice',1, mu, observed=db_med['choice'])\n",
    "\n",
    "    med_equ = pm.sample(tune=2000, draws=2000, return_inferencedata=True, target_accept=0.99)"
   ]
  },
  {
   "cell_type": "code",
   "execution_count": null,
   "id": "976c28f9",
   "metadata": {},
   "outputs": [],
   "source": [
    "check = az.summary(med_equ)\n",
    "check[check.r_hat>1.05]"
   ]
  },
  {
   "cell_type": "code",
   "execution_count": 28,
   "id": "228070f9",
   "metadata": {},
   "outputs": [
    {
     "name": "stderr",
     "output_type": "stream",
     "text": [
      "Auto-assigning NUTS sampler...\n",
      "Initializing NUTS using jitter+adapt_diag...\n",
      "Multiprocess sampling (4 chains in 4 jobs)\n",
      "NUTS: [γ, β, alpha, level4, level3, level2, level1, bSig, bMu, alpha_b, alpha_a, gSig, gMu]\n"
     ]
    },
    {
     "data": {
      "text/html": [
       "\n",
       "    <div>\n",
       "        <style>\n",
       "            /* Turns off some styling */\n",
       "            progress {\n",
       "                /* gets rid of default border in Firefox and Opera. */\n",
       "                border: none;\n",
       "                /* Needs to be in here for Safari polyfill so background images work as expected. */\n",
       "                background-size: auto;\n",
       "            }\n",
       "            .progress-bar-interrupted, .progress-bar-interrupted::-webkit-progress-bar {\n",
       "                background: #F44336;\n",
       "            }\n",
       "        </style>\n",
       "      <progress value='20000' class='' max='20000' style='width:300px; height:20px; vertical-align: middle;'></progress>\n",
       "      100.00% [20000/20000 55:47<00:00 Sampling 4 chains, 0 divergences]\n",
       "    </div>\n",
       "    "
      ],
      "text/plain": [
       "<IPython.core.display.HTML object>"
      ]
     },
     "metadata": {},
     "output_type": "display_data"
    },
    {
     "name": "stderr",
     "output_type": "stream",
     "text": [
      "Sampling 4 chains for 3_000 tune and 2_000 draw iterations (12_000 + 8_000 draws total) took 3348 seconds.\n",
      "The number of effective samples is smaller than 25% for some parameters.\n"
     ]
    }
   ],
   "source": [
    "with pm.Model() as M_RiskAmb_unique:\n",
    "    \n",
    "    gMu = pm.Normal('gMu', 0,1)\n",
    "    gSig = pm.Exponential('gSig', 1)\n",
    "    \n",
    "    alpha_a = pm.TruncatedNormal('alpha_a', 4, 1, lower = 1)\n",
    "    alpha_b = pm.TruncatedNormal('alpha_b', 7, 1, lower = 1)\n",
    "    \n",
    "    bMu = pm.Normal('bMu', 0.3,1)\n",
    "    bSig = pm.Exponential('bSig', 1)\n",
    "   \n",
    "    level1 = pm.TruncatedNormal('level1', 1, 1, lower = 0, shape = n_subs_med )\n",
    "    level2 = pm.TruncatedNormal('level2', 1, 1, lower = 0, shape = n_subs_med )\n",
    "    level3 = pm.TruncatedNormal('level3', 1, 1, lower = 0, shape = n_subs_med )\n",
    "    level4 = pm.TruncatedNormal('level4', 1, 1, lower = 0, shape = n_subs_med )\n",
    "    \n",
    "    alpha = pm.Beta('alpha', alpha_a, alpha_b, shape = n_subs_med)\n",
    "    α = pm.Deterministic('α', alpha * 2)\n",
    "    β = pm.TruncatedNormal('β', bMu, bSig, lower = -1.5, upper = 1.5, shape = n_subs_med)\n",
    "    γ = pm.Lognormal('γ', gMu , gSig, shape = n_subs_med)\n",
    "      \n",
    "    # Expected value of outcome\n",
    "    val = db_med['l1'].values * level1[sub_idx_med] + db_med['l2'].values * level2[sub_idx_med] + db_med['l3'].values * level3[sub_idx_med] + db_med['l4'].values * level4[sub_idx_med]\n",
    "        \n",
    "    #val = (med_intercept[sub_idx] + med_linslope[sub_idx] * simdata['value'].values ** med_slope[sub_idx]) ** α[sub_idx]\n",
    "    svLotto = (val ** α[sub_idx_med]) * (db_med['risk'].values - (β[sub_idx_med] * (db_med['ambiguity'].values/2)))\n",
    "    svRef = level1[sub_idx_med] ** α[sub_idx_med]\n",
    "    p = (svLotto - svRef)/γ[sub_idx_med]\n",
    "    mu = pm.invlogit(p)\n",
    "       \n",
    "    # Likelihood (sampling distribution) of observations\n",
    "    choice = pm.Binomial('choice',1, mu, observed=db_med['choice'])\n",
    "    \n",
    "    med_uniuqe = pm.sample(tune=3000, draws=2000, return_inferencedata=True, target_accept=0.99)"
   ]
  },
  {
   "cell_type": "code",
   "execution_count": 29,
   "id": "6f4e951c",
   "metadata": {},
   "outputs": [
    {
     "name": "stderr",
     "output_type": "stream",
     "text": [
      "/home/nachshon/anaconda3/envs/risk/lib/python3.8/site-packages/arviz/stats/stats.py:694: UserWarning: Estimated shape parameter of Pareto distribution is greater than 0.7 for one or more samples. You should consider using a more robust model, this is because importance sampling is less likely to work well if the marginal posterior and LOO posterior are very different. This is more likely to happen with a non-robust model and highly influential observations.\n",
      "  warnings.warn(\n",
      "/home/nachshon/anaconda3/envs/risk/lib/python3.8/site-packages/arviz/stats/stats.py:927: RuntimeWarning: overflow encountered in exp\n",
      "  weights = 1 / np.exp(len_scale - len_scale[:, None]).sum(axis=1)\n",
      "/home/nachshon/anaconda3/envs/risk/lib/python3.8/site-packages/numpy/core/_methods.py:48: RuntimeWarning: overflow encountered in reduce\n",
      "  return umr_sum(a, axis, dtype, out, keepdims, initial, where)\n",
      "/home/nachshon/anaconda3/envs/risk/lib/python3.8/site-packages/arviz/stats/stats.py:694: UserWarning: Estimated shape parameter of Pareto distribution is greater than 0.7 for one or more samples. You should consider using a more robust model, this is because importance sampling is less likely to work well if the marginal posterior and LOO posterior are very different. This is more likely to happen with a non-robust model and highly influential observations.\n",
      "  warnings.warn(\n",
      "/home/nachshon/anaconda3/envs/risk/lib/python3.8/site-packages/arviz/stats/stats.py:694: UserWarning: Estimated shape parameter of Pareto distribution is greater than 0.7 for one or more samples. You should consider using a more robust model, this is because importance sampling is less likely to work well if the marginal posterior and LOO posterior are very different. This is more likely to happen with a non-robust model and highly influential observations.\n",
      "  warnings.warn(\n"
     ]
    },
    {
     "data": {
      "text/html": [
       "<div>\n",
       "<style scoped>\n",
       "    .dataframe tbody tr th:only-of-type {\n",
       "        vertical-align: middle;\n",
       "    }\n",
       "\n",
       "    .dataframe tbody tr th {\n",
       "        vertical-align: top;\n",
       "    }\n",
       "\n",
       "    .dataframe thead th {\n",
       "        text-align: right;\n",
       "    }\n",
       "</style>\n",
       "<table border=\"1\" class=\"dataframe\">\n",
       "  <thead>\n",
       "    <tr style=\"text-align: right;\">\n",
       "      <th></th>\n",
       "      <th>rank</th>\n",
       "      <th>loo</th>\n",
       "      <th>p_loo</th>\n",
       "      <th>d_loo</th>\n",
       "      <th>weight</th>\n",
       "      <th>se</th>\n",
       "      <th>dse</th>\n",
       "      <th>warning</th>\n",
       "      <th>loo_scale</th>\n",
       "    </tr>\n",
       "  </thead>\n",
       "  <tbody>\n",
       "    <tr>\n",
       "      <th>unique</th>\n",
       "      <td>0</td>\n",
       "      <td>-1523.747545</td>\n",
       "      <td>235.367354</td>\n",
       "      <td>0.000000</td>\n",
       "      <td>0.972232</td>\n",
       "      <td>46.117067</td>\n",
       "      <td>0.000000</td>\n",
       "      <td>True</td>\n",
       "      <td>log</td>\n",
       "    </tr>\n",
       "    <tr>\n",
       "      <th>simple model</th>\n",
       "      <td>1</td>\n",
       "      <td>-2148.236363</td>\n",
       "      <td>172.394122</td>\n",
       "      <td>624.488818</td>\n",
       "      <td>0.027768</td>\n",
       "      <td>45.061505</td>\n",
       "      <td>36.425331</td>\n",
       "      <td>True</td>\n",
       "      <td>log</td>\n",
       "    </tr>\n",
       "    <tr>\n",
       "      <th>equation</th>\n",
       "      <td>2</td>\n",
       "      <td>-21138.583816</td>\n",
       "      <td>19030.077664</td>\n",
       "      <td>19614.836271</td>\n",
       "      <td>0.000000</td>\n",
       "      <td>2277.891514</td>\n",
       "      <td>2270.780340</td>\n",
       "      <td>True</td>\n",
       "      <td>log</td>\n",
       "    </tr>\n",
       "  </tbody>\n",
       "</table>\n",
       "</div>"
      ],
      "text/plain": [
       "              rank           loo         p_loo         d_loo    weight  \\\n",
       "unique           0  -1523.747545    235.367354      0.000000  0.972232   \n",
       "simple model     1  -2148.236363    172.394122    624.488818  0.027768   \n",
       "equation         2 -21138.583816  19030.077664  19614.836271  0.000000   \n",
       "\n",
       "                       se          dse  warning loo_scale  \n",
       "unique          46.117067     0.000000     True       log  \n",
       "simple model    45.061505    36.425331     True       log  \n",
       "equation      2277.891514  2270.780340     True       log  "
      ]
     },
     "execution_count": 29,
     "metadata": {},
     "output_type": "execute_result"
    }
   ],
   "source": [
    "compare_dict = {\"simple model\": med_simple, \"equation\": med_equ, \"unique\": med_uniuqe}\n",
    "comp = az.compare(compare_dict)\n",
    "comp"
   ]
  },
  {
   "cell_type": "code",
   "execution_count": 30,
   "id": "5ab4db6a",
   "metadata": {},
   "outputs": [
    {
     "data": {
      "text/plain": [
       "<AxesSubplot:xlabel='Log'>"
      ]
     },
     "execution_count": 30,
     "metadata": {},
     "output_type": "execute_result"
    },
    {
     "data": {
      "image/png": "[encoded data removed]",
      "text/plain": [
       "<Figure size 432x216 with 1 Axes>"
      ]
     },
     "metadata": {
      "needs_background": "light"
     },
     "output_type": "display_data"
    }
   ],
   "source": [
    "az.plot_compare(comp)"
   ]
  },
  {
   "cell_type": "code",
   "execution_count": 31,
   "id": "259a3aba",
   "metadata": {},
   "outputs": [
    {
     "data": {
      "text/html": [
       "\n",
       "    <div>\n",
       "        <style>\n",
       "            /* Turns off some styling */\n",
       "            progress {\n",
       "                /* gets rid of default border in Firefox and Opera. */\n",
       "                border: none;\n",
       "                /* Needs to be in here for Safari polyfill so background images work as expected. */\n",
       "                background-size: auto;\n",
       "            }\n",
       "            .progress-bar-interrupted, .progress-bar-interrupted::-webkit-progress-bar {\n",
       "                background: #F44336;\n",
       "            }\n",
       "        </style>\n",
       "      <progress value='8000' class='' max='8000' style='width:300px; height:20px; vertical-align: middle;'></progress>\n",
       "      100.00% [8000/8000 00:26<00:00]\n",
       "    </div>\n",
       "    "
      ],
      "text/plain": [
       "<IPython.core.display.HTML object>"
      ]
     },
     "metadata": {},
     "output_type": "display_data"
    },
    {
     "name": "stderr",
     "output_type": "stream",
     "text": [
      "/home/nachshon/anaconda3/envs/risk/lib/python3.8/site-packages/IPython/core/pylabtools.py:151: UserWarning: Creating legend with loc=\"best\" can be slow with large amounts of data.\n",
      "  fig.canvas.print_figure(bytes_io, **kw)\n"
     ]
    },
    {
     "data": {
      "image/png": "[encoded data removed]",
      "text/plain": [
       "<Figure size 432x288 with 1 Axes>"
      ]
     },
     "metadata": {
      "needs_background": "light"
     },
     "output_type": "display_data"
    }
   ],
   "source": [
    "with M_RiskAmb_unique:\n",
    "    ppc = pm.sample_posterior_predictive(\n",
    "        med_uniuqe)\n",
    "az.plot_ppc(az.from_pymc3(posterior_predictive=ppc, model=M_RiskAmb_unique));"
   ]
  },
  {
   "cell_type": "code",
   "execution_count": 46,
   "id": "b1004084",
   "metadata": {},
   "outputs": [],
   "source": [
    "df = db_mon[['sub','age', 'gender', 'moca_score']].sort_values('sub').drop_duplicates().reset_index(drop=True)\n",
    "df['age'] = df.age.astype('int')"
   ]
  },
  {
   "cell_type": "code",
   "execution_count": 47,
   "id": "fd2e2b5c",
   "metadata": {},
   "outputs": [],
   "source": [
    "alpha = az.summary(mon_uniuqe, var_names=['α'])[['mean','sd','hdi_3%','hdi_97%']]\n",
    "beta = az.summary(mon_uniuqe,  var_names=['β'])[['mean','sd','hdi_3%','hdi_97%']]\n",
    "gamma = az.summary(mon_uniuqe, var_names=['γ'])[['mean','sd','hdi_3%','hdi_97%']]\n",
    "\n",
    "alpha = alpha.rename(columns={'mean': \"alpha_mon\",'sd': \"alpha_sd\",'hdi_3%':\"minAM\",'hdi_97%':'maxAM'}).reset_index(drop=True)\n",
    "beta  = beta.rename( columns={'mean': \"beta_mon\", 'sd': \"beta_sd\", 'hdi_3%':'minBM','hdi_97%':'maxBM'}).reset_index(drop=True)\n",
    "gamma = gamma.rename(columns={'mean': \"gamma_mon\",'sd': \"gamma_sd\",'hdi_3%':'minGM','hdi_97%':'maxGM'}).reset_index(drop=True)\n",
    "\n",
    "\n",
    "df = df.merge(alpha, left_index=True, right_index=True)\n",
    "df = df.merge(beta, left_index=True, right_index=True)\n",
    "df = df.merge(gamma, left_index=True, right_index=True)"
   ]
  },
  {
   "cell_type": "code",
   "execution_count": 48,
   "id": "46231840",
   "metadata": {},
   "outputs": [
    {
     "data": {
      "text/html": [
       "<div>\n",
       "<style scoped>\n",
       "    .dataframe tbody tr th:only-of-type {\n",
       "        vertical-align: middle;\n",
       "    }\n",
       "\n",
       "    .dataframe tbody tr th {\n",
       "        vertical-align: top;\n",
       "    }\n",
       "\n",
       "    .dataframe thead th {\n",
       "        text-align: right;\n",
       "    }\n",
       "</style>\n",
       "<table border=\"1\" class=\"dataframe\">\n",
       "  <thead>\n",
       "    <tr style=\"text-align: right;\">\n",
       "      <th></th>\n",
       "      <th>sub</th>\n",
       "      <th>age</th>\n",
       "      <th>gender</th>\n",
       "      <th>moca_score</th>\n",
       "      <th>alpha_mon</th>\n",
       "      <th>alpha_sd</th>\n",
       "      <th>minAM</th>\n",
       "      <th>maxAM</th>\n",
       "      <th>beta_mon</th>\n",
       "      <th>beta_sd</th>\n",
       "      <th>...</th>\n",
       "      <th>minAM_med</th>\n",
       "      <th>maxAM_med</th>\n",
       "      <th>beta_med</th>\n",
       "      <th>beta_sd_med</th>\n",
       "      <th>minBM_med</th>\n",
       "      <th>maxBM_med</th>\n",
       "      <th>gamma_med</th>\n",
       "      <th>gamma_sd_med</th>\n",
       "      <th>minGM_med</th>\n",
       "      <th>maxGM_med</th>\n",
       "    </tr>\n",
       "  </thead>\n",
       "  <tbody>\n",
       "    <tr>\n",
       "      <th>0</th>\n",
       "      <td>10</td>\n",
       "      <td>18</td>\n",
       "      <td>M</td>\n",
       "      <td>28</td>\n",
       "      <td>1.158</td>\n",
       "      <td>0.191</td>\n",
       "      <td>0.789</td>\n",
       "      <td>1.498</td>\n",
       "      <td>0.490</td>\n",
       "      <td>0.147</td>\n",
       "      <td>...</td>\n",
       "      <td>0.689</td>\n",
       "      <td>1.463</td>\n",
       "      <td>0.642</td>\n",
       "      <td>0.112</td>\n",
       "      <td>0.422</td>\n",
       "      <td>0.837</td>\n",
       "      <td>0.163</td>\n",
       "      <td>0.074</td>\n",
       "      <td>0.051</td>\n",
       "      <td>0.294</td>\n",
       "    </tr>\n",
       "    <tr>\n",
       "      <th>1</th>\n",
       "      <td>13</td>\n",
       "      <td>48</td>\n",
       "      <td>F</td>\n",
       "      <td>28</td>\n",
       "      <td>0.779</td>\n",
       "      <td>0.207</td>\n",
       "      <td>0.415</td>\n",
       "      <td>1.174</td>\n",
       "      <td>0.515</td>\n",
       "      <td>0.163</td>\n",
       "      <td>...</td>\n",
       "      <td>0.373</td>\n",
       "      <td>1.176</td>\n",
       "      <td>0.700</td>\n",
       "      <td>0.188</td>\n",
       "      <td>0.354</td>\n",
       "      <td>1.062</td>\n",
       "      <td>0.279</td>\n",
       "      <td>0.122</td>\n",
       "      <td>0.103</td>\n",
       "      <td>0.504</td>\n",
       "    </tr>\n",
       "    <tr>\n",
       "      <th>2</th>\n",
       "      <td>14</td>\n",
       "      <td>26</td>\n",
       "      <td>F</td>\n",
       "      <td>30</td>\n",
       "      <td>0.763</td>\n",
       "      <td>0.230</td>\n",
       "      <td>0.347</td>\n",
       "      <td>1.191</td>\n",
       "      <td>0.679</td>\n",
       "      <td>0.290</td>\n",
       "      <td>...</td>\n",
       "      <td>0.538</td>\n",
       "      <td>1.295</td>\n",
       "      <td>0.693</td>\n",
       "      <td>0.135</td>\n",
       "      <td>0.446</td>\n",
       "      <td>0.949</td>\n",
       "      <td>0.216</td>\n",
       "      <td>0.091</td>\n",
       "      <td>0.072</td>\n",
       "      <td>0.376</td>\n",
       "    </tr>\n",
       "    <tr>\n",
       "      <th>3</th>\n",
       "      <td>15</td>\n",
       "      <td>58</td>\n",
       "      <td>F</td>\n",
       "      <td>26</td>\n",
       "      <td>0.692</td>\n",
       "      <td>0.196</td>\n",
       "      <td>0.340</td>\n",
       "      <td>1.057</td>\n",
       "      <td>0.520</td>\n",
       "      <td>0.195</td>\n",
       "      <td>...</td>\n",
       "      <td>0.275</td>\n",
       "      <td>1.001</td>\n",
       "      <td>0.424</td>\n",
       "      <td>0.227</td>\n",
       "      <td>0.019</td>\n",
       "      <td>0.853</td>\n",
       "      <td>0.270</td>\n",
       "      <td>0.106</td>\n",
       "      <td>0.106</td>\n",
       "      <td>0.456</td>\n",
       "    </tr>\n",
       "    <tr>\n",
       "      <th>4</th>\n",
       "      <td>16</td>\n",
       "      <td>74</td>\n",
       "      <td>M</td>\n",
       "      <td>28</td>\n",
       "      <td>0.721</td>\n",
       "      <td>0.240</td>\n",
       "      <td>0.314</td>\n",
       "      <td>1.166</td>\n",
       "      <td>0.589</td>\n",
       "      <td>0.311</td>\n",
       "      <td>...</td>\n",
       "      <td>0.542</td>\n",
       "      <td>1.335</td>\n",
       "      <td>0.736</td>\n",
       "      <td>0.148</td>\n",
       "      <td>0.443</td>\n",
       "      <td>0.998</td>\n",
       "      <td>0.124</td>\n",
       "      <td>0.056</td>\n",
       "      <td>0.036</td>\n",
       "      <td>0.223</td>\n",
       "    </tr>\n",
       "  </tbody>\n",
       "</table>\n",
       "<p>5 rows × 28 columns</p>\n",
       "</div>"
      ],
      "text/plain": [
       "   sub  age gender  moca_score  alpha_mon  alpha_sd  minAM  maxAM  beta_mon  \\\n",
       "0   10   18      M          28      1.158     0.191  0.789  1.498     0.490   \n",
       "1   13   48      F          28      0.779     0.207  0.415  1.174     0.515   \n",
       "2   14   26      F          30      0.763     0.230  0.347  1.191     0.679   \n",
       "3   15   58      F          26      0.692     0.196  0.340  1.057     0.520   \n",
       "4   16   74      M          28      0.721     0.240  0.314  1.166     0.589   \n",
       "\n",
       "   beta_sd  ...  minAM_med  maxAM_med  beta_med  beta_sd_med  minBM_med  \\\n",
       "0    0.147  ...      0.689      1.463     0.642        0.112      0.422   \n",
       "1    0.163  ...      0.373      1.176     0.700        0.188      0.354   \n",
       "2    0.290  ...      0.538      1.295     0.693        0.135      0.446   \n",
       "3    0.195  ...      0.275      1.001     0.424        0.227      0.019   \n",
       "4    0.311  ...      0.542      1.335     0.736        0.148      0.443   \n",
       "\n",
       "   maxBM_med  gamma_med  gamma_sd_med  minGM_med  maxGM_med  \n",
       "0      0.837      0.163         0.074      0.051      0.294  \n",
       "1      1.062      0.279         0.122      0.103      0.504  \n",
       "2      0.949      0.216         0.091      0.072      0.376  \n",
       "3      0.853      0.270         0.106      0.106      0.456  \n",
       "4      0.998      0.124         0.056      0.036      0.223  \n",
       "\n",
       "[5 rows x 28 columns]"
      ]
     },
     "execution_count": 48,
     "metadata": {},
     "output_type": "execute_result"
    }
   ],
   "source": [
    "alpha = az.summary(med_uniuqe, var_names=['α'])[['mean','sd','hdi_3%','hdi_97%']]\n",
    "beta = az.summary(med_uniuqe, var_names=['β'])[['mean','sd','hdi_3%','hdi_97%']]\n",
    "gamma = az.summary(med_uniuqe, var_names=['γ'])[['mean','sd','hdi_3%','hdi_97%']]\n",
    "\n",
    "alpha = alpha.rename(columns={'mean': \"alpha_med\",'sd': \"alpha_sd_med\",'hdi_3%':\"minAM_med\",'hdi_97%':'maxAM_med'}).reset_index(drop=True)\n",
    "beta  = beta.rename( columns={'mean': \"beta_med\", 'sd': \"beta_sd_med\", 'hdi_3%':'minBM_med','hdi_97%':'maxBM_med'}).reset_index(drop=True)\n",
    "gamma = gamma.rename(columns={'mean': \"gamma_med\",'sd': \"gamma_sd_med\",'hdi_3%':'minGM_med','hdi_97%':'maxGM_med'}).reset_index(drop=True)\n",
    "\n",
    "\n",
    "df = df.merge(alpha, left_index=True, right_index=True)\n",
    "df = df.merge(beta, left_index=True, right_index=True)\n",
    "df = df.merge(gamma, left_index=True, right_index=True)\n",
    "\n",
    "\n",
    "df.head()"
   ]
  },
  {
   "cell_type": "code",
   "execution_count": 36,
   "id": "50a5a29f",
   "metadata": {},
   "outputs": [],
   "source": [
    "def corr(df):\n",
    "    with pm.Model() as RR:\n",
    "\n",
    "        a = pm.Normal('intercept', 0, 1)\n",
    "        b = pm.Normal('slope', 0, 1)\n",
    "        eps = pm.Exponential('eps', 1)\n",
    "        y_hat = a + b*df.x\n",
    "\n",
    "        nu = pm.InverseGamma(\"nu\", alpha=3, beta=1)\n",
    "\n",
    "        #likelihood = pm.Normal(\"likelihood\", mu=y_hat, sigma=eps, observed=y)\n",
    "\n",
    "        likelihood = pm.StudentT(\n",
    "            \"likelihood\", mu=y_hat, sigma=eps, nu=nu, observed=df.y\n",
    "        )\n",
    "\n",
    "        trace_robust = pm.sample(tune=3000, draws=1000, return_inferencedata=True, target_accept=0.95)\n",
    "        \n",
    "    return(trace_robust)"
   ]
  },
  {
   "cell_type": "code",
   "execution_count": 37,
   "id": "bd6710c1",
   "metadata": {},
   "outputs": [
    {
     "name": "stderr",
     "output_type": "stream",
     "text": [
      "Auto-assigning NUTS sampler...\n",
      "Initializing NUTS using jitter+adapt_diag...\n",
      "Multiprocess sampling (4 chains in 4 jobs)\n",
      "NUTS: [nu, eps, slope, intercept]\n"
     ]
    },
    {
     "data": {
      "text/html": [
       "\n",
       "    <div>\n",
       "        <style>\n",
       "            /* Turns off some styling */\n",
       "            progress {\n",
       "                /* gets rid of default border in Firefox and Opera. */\n",
       "                border: none;\n",
       "                /* Needs to be in here for Safari polyfill so background images work as expected. */\n",
       "                background-size: auto;\n",
       "            }\n",
       "            .progress-bar-interrupted, .progress-bar-interrupted::-webkit-progress-bar {\n",
       "                background: #F44336;\n",
       "            }\n",
       "        </style>\n",
       "      <progress value='16000' class='' max='16000' style='width:300px; height:20px; vertical-align: middle;'></progress>\n",
       "      100.00% [16000/16000 00:09<00:00 Sampling 4 chains, 0 divergences]\n",
       "    </div>\n",
       "    "
      ],
      "text/plain": [
       "<IPython.core.display.HTML object>"
      ]
     },
     "metadata": {},
     "output_type": "display_data"
    },
    {
     "name": "stderr",
     "output_type": "stream",
     "text": [
      "Sampling 4 chains for 3_000 tune and 1_000 draw iterations (12_000 + 4_000 draws total) took 10 seconds.\n",
      "Auto-assigning NUTS sampler...\n",
      "Initializing NUTS using jitter+adapt_diag...\n",
      "Multiprocess sampling (4 chains in 4 jobs)\n",
      "NUTS: [nu, eps, slope, intercept]\n"
     ]
    },
    {
     "data": {
      "text/html": [
       "\n",
       "    <div>\n",
       "        <style>\n",
       "            /* Turns off some styling */\n",
       "            progress {\n",
       "                /* gets rid of default border in Firefox and Opera. */\n",
       "                border: none;\n",
       "                /* Needs to be in here for Safari polyfill so background images work as expected. */\n",
       "                background-size: auto;\n",
       "            }\n",
       "            .progress-bar-interrupted, .progress-bar-interrupted::-webkit-progress-bar {\n",
       "                background: #F44336;\n",
       "            }\n",
       "        </style>\n",
       "      <progress value='16000' class='' max='16000' style='width:300px; height:20px; vertical-align: middle;'></progress>\n",
       "      100.00% [16000/16000 00:05<00:00 Sampling 4 chains, 0 divergences]\n",
       "    </div>\n",
       "    "
      ],
      "text/plain": [
       "<IPython.core.display.HTML object>"
      ]
     },
     "metadata": {},
     "output_type": "display_data"
    },
    {
     "name": "stderr",
     "output_type": "stream",
     "text": [
      "Sampling 4 chains for 3_000 tune and 1_000 draw iterations (12_000 + 4_000 draws total) took 6 seconds.\n",
      "Auto-assigning NUTS sampler...\n",
      "Initializing NUTS using jitter+adapt_diag...\n",
      "Multiprocess sampling (4 chains in 4 jobs)\n",
      "NUTS: [nu, eps, slope, intercept]\n"
     ]
    },
    {
     "data": {
      "text/html": [
       "\n",
       "    <div>\n",
       "        <style>\n",
       "            /* Turns off some styling */\n",
       "            progress {\n",
       "                /* gets rid of default border in Firefox and Opera. */\n",
       "                border: none;\n",
       "                /* Needs to be in here for Safari polyfill so background images work as expected. */\n",
       "                background-size: auto;\n",
       "            }\n",
       "            .progress-bar-interrupted, .progress-bar-interrupted::-webkit-progress-bar {\n",
       "                background: #F44336;\n",
       "            }\n",
       "        </style>\n",
       "      <progress value='16000' class='' max='16000' style='width:300px; height:20px; vertical-align: middle;'></progress>\n",
       "      100.00% [16000/16000 00:09<00:00 Sampling 4 chains, 0 divergences]\n",
       "    </div>\n",
       "    "
      ],
      "text/plain": [
       "<IPython.core.display.HTML object>"
      ]
     },
     "metadata": {},
     "output_type": "display_data"
    },
    {
     "name": "stderr",
     "output_type": "stream",
     "text": [
      "Sampling 4 chains for 3_000 tune and 1_000 draw iterations (12_000 + 4_000 draws total) took 10 seconds.\n",
      "Auto-assigning NUTS sampler...\n",
      "Initializing NUTS using jitter+adapt_diag...\n",
      "Multiprocess sampling (4 chains in 4 jobs)\n",
      "NUTS: [nu, eps, slope, intercept]\n"
     ]
    },
    {
     "data": {
      "text/html": [
       "\n",
       "    <div>\n",
       "        <style>\n",
       "            /* Turns off some styling */\n",
       "            progress {\n",
       "                /* gets rid of default border in Firefox and Opera. */\n",
       "                border: none;\n",
       "                /* Needs to be in here for Safari polyfill so background images work as expected. */\n",
       "                background-size: auto;\n",
       "            }\n",
       "            .progress-bar-interrupted, .progress-bar-interrupted::-webkit-progress-bar {\n",
       "                background: #F44336;\n",
       "            }\n",
       "        </style>\n",
       "      <progress value='16000' class='' max='16000' style='width:300px; height:20px; vertical-align: middle;'></progress>\n",
       "      100.00% [16000/16000 00:09<00:00 Sampling 4 chains, 0 divergences]\n",
       "    </div>\n",
       "    "
      ],
      "text/plain": [
       "<IPython.core.display.HTML object>"
      ]
     },
     "metadata": {},
     "output_type": "display_data"
    },
    {
     "name": "stderr",
     "output_type": "stream",
     "text": [
      "Sampling 4 chains for 3_000 tune and 1_000 draw iterations (12_000 + 4_000 draws total) took 10 seconds.\n"
     ]
    }
   ],
   "source": [
    "risk_monmed_trace = corr(pd.DataFrame({'x': df.alpha_mon, 'y': df.alpha_med}).reset_index(drop=True))\n",
    "amb_monmed_trace  = corr(pd.DataFrame({'x': df.beta_mon,  'y': df.beta_med}).reset_index(drop=True))\n",
    "mon_trace         = corr(pd.DataFrame({'x': df.alpha_mon, 'y': df.beta_mon}).reset_index(drop=True))\n",
    "med_trace         = corr(pd.DataFrame({'x': df.alpha_med, 'y': df.beta_med}).reset_index(drop=True))\n",
    "\n",
    "risk_monmed = az.summary(risk_monmed_trace, var_names=['slope','intercept'], hdi_prob=.89)[['mean','hdi_5.5%','hdi_94.5%']]\n",
    "amb_monmed  = az.summary(amb_monmed_trace, var_names=['slope','intercept'], hdi_prob=.89)[['mean','hdi_5.5%','hdi_94.5%']]\n",
    "mon_trace   = az.summary(mon_trace, var_names=['slope','intercept'], hdi_prob=.89)[['mean','hdi_5.5%','hdi_94.5%']]\n",
    "med_trace   = az.summary(med_trace, var_names=['slope','intercept'], hdi_prob=.89)[['mean','hdi_5.5%','hdi_94.5%']]"
   ]
  },
  {
   "cell_type": "code",
   "execution_count": 42,
   "id": "66313045",
   "metadata": {},
   "outputs": [
    {
     "name": "stderr",
     "output_type": "stream",
     "text": [
      "/home/nachshon/anaconda3/envs/risk/lib/python3.8/site-packages/seaborn/_decorators.py:36: FutureWarning: Pass the following variables as keyword args: x, y. From version 0.12, the only valid positional argument will be `data`, and passing other arguments without an explicit keyword will result in an error or misinterpretation.\n",
      "  warnings.warn(\n",
      "/home/nachshon/anaconda3/envs/risk/lib/python3.8/site-packages/seaborn/_decorators.py:36: FutureWarning: Pass the following variables as keyword args: x, y. From version 0.12, the only valid positional argument will be `data`, and passing other arguments without an explicit keyword will result in an error or misinterpretation.\n",
      "  warnings.warn(\n",
      "/home/nachshon/anaconda3/envs/risk/lib/python3.8/site-packages/seaborn/_decorators.py:36: FutureWarning: Pass the following variables as keyword args: x, y. From version 0.12, the only valid positional argument will be `data`, and passing other arguments without an explicit keyword will result in an error or misinterpretation.\n",
      "  warnings.warn(\n",
      "/home/nachshon/anaconda3/envs/risk/lib/python3.8/site-packages/seaborn/_decorators.py:36: FutureWarning: Pass the following variables as keyword args: x, y. From version 0.12, the only valid positional argument will be `data`, and passing other arguments without an explicit keyword will result in an error or misinterpretation.\n",
      "  warnings.warn(\n"
     ]
    },
    {
     "data": {
      "text/plain": [
       "Text(0.4, -0.25, 'β = 0.28,\\n89% HDPi [-0.06, 0.68]')"
      ]
     },
     "execution_count": 42,
     "metadata": {},
     "output_type": "execute_result"
    },
    {
     "data": {
      "image/png": "[encoded data removed]",
      "text/plain": [
       "<Figure size 720x720 with 4 Axes>"
      ]
     },
     "metadata": {
      "needs_background": "light"
     },
     "output_type": "display_data"
    }
   ],
   "source": [
    "fig, axes = plt.subplots(2, 2, figsize=(10, 10))\n",
    "sns.scatterplot(x = 'alpha_mon', y = 'alpha_med', data=df, ax=axes[0,0])\n",
    "sns.scatterplot(x = 'beta_mon',  y = 'beta_med', data=df, ax=axes[0,1])\n",
    "sns.scatterplot(x = 'alpha_mon', y = 'beta_mon', data=df, ax=axes[1,0])\n",
    "sns.scatterplot(x = 'alpha_med', y = 'beta_med', data=df, ax=axes[1,1])\n",
    "\n",
    "\n",
    "sns.lineplot(df.alpha_mon, risk_monmed['mean']['intercept'] + risk_monmed['mean']['slope'] * df.alpha_mon, ax=axes[0,0])\n",
    "sns.lineplot(df.beta_mon,  amb_monmed['mean']['intercept']  + amb_monmed['mean']['slope']  * df.beta_mon,  ax=axes[0,1])\n",
    "sns.lineplot(df.alpha_mon, mon_trace['mean']['intercept']   + mon_trace['mean']['slope']   * df.alpha_mon, ax=axes[1,0])\n",
    "sns.lineplot(df.alpha_med, med_trace['mean']['intercept']   + med_trace['mean']['slope']   * df.alpha_med, ax=axes[1,1])\n",
    "\n",
    "#axes[0].set(ylim=(0,1))\n",
    "#axes[1].set(ylim=(0,1))\n",
    "#axes[2].set(ylim=(0,1))\n",
    "\n",
    "\n",
    "text = 'β = {:.2f},\\n89% HDPi [{:.2f}, {:.2f}]'.format(float(risk_monmed['mean']['slope']),\n",
    "                                                        float(risk_monmed['hdi_5.5%']['slope']),\n",
    "                                                        float(risk_monmed['hdi_94.5%']['slope']))\n",
    "axes[0,0].text(0.6, 0.4, text, fontsize=12)\n",
    "\n",
    "text = 'β = {:.2f},\\n89% HDPi [{:.2f}, {:.2f}]'.format(float(amb_monmed['mean']['slope']),\n",
    "                                                        float(amb_monmed['hdi_5.5%']['slope']),\n",
    "                                                        float(amb_monmed['hdi_94.5%']['slope']))\n",
    "axes[0,1].text(-.3, -.25, text, fontsize=12)\n",
    "\n",
    "text = 'β = {:.2f},\\n89% HDPi [{:.2f}, {:.2f}]'.format(float(mon_trace['mean']['slope']),\n",
    "                                                        float(mon_trace['hdi_5.5%']['slope']),\n",
    "                                                        float(mon_trace['hdi_94.5%']['slope']))\n",
    "axes[1,0].text(.6, -.25, text, fontsize=12)\n",
    "\n",
    "text = 'β = {:.2f},\\n89% HDPi [{:.2f}, {:.2f}]'.format(float(med_trace['mean']['slope']),\n",
    "                                                        float(med_trace['hdi_5.5%']['slope']),\n",
    "                                                        float(med_trace['hdi_94.5%']['slope']))\n",
    "axes[1,1].text(.4, -.25, text, fontsize=12)"
   ]
  },
  {
   "cell_type": "code",
   "execution_count": 41,
   "id": "d1bee499",
   "metadata": {},
   "outputs": [
    {
     "name": "stderr",
     "output_type": "stream",
     "text": [
      "Auto-assigning NUTS sampler...\n",
      "Initializing NUTS using jitter+adapt_diag...\n",
      "Multiprocess sampling (4 chains in 4 jobs)\n",
      "NUTS: [nu, eps, slope, intercept]\n"
     ]
    },
    {
     "data": {
      "text/html": [
       "\n",
       "    <div>\n",
       "        <style>\n",
       "            /* Turns off some styling */\n",
       "            progress {\n",
       "                /* gets rid of default border in Firefox and Opera. */\n",
       "                border: none;\n",
       "                /* Needs to be in here for Safari polyfill so background images work as expected. */\n",
       "                background-size: auto;\n",
       "            }\n",
       "            .progress-bar-interrupted, .progress-bar-interrupted::-webkit-progress-bar {\n",
       "                background: #F44336;\n",
       "            }\n",
       "        </style>\n",
       "      <progress value='16000' class='' max='16000' style='width:300px; height:20px; vertical-align: middle;'></progress>\n",
       "      100.00% [16000/16000 00:06<00:00 Sampling 4 chains, 0 divergences]\n",
       "    </div>\n",
       "    "
      ],
      "text/plain": [
       "<IPython.core.display.HTML object>"
      ]
     },
     "metadata": {},
     "output_type": "display_data"
    },
    {
     "name": "stderr",
     "output_type": "stream",
     "text": [
      "Sampling 4 chains for 3_000 tune and 1_000 draw iterations (12_000 + 4_000 draws total) took 7 seconds.\n",
      "Auto-assigning NUTS sampler...\n",
      "Initializing NUTS using jitter+adapt_diag...\n",
      "Multiprocess sampling (4 chains in 4 jobs)\n",
      "NUTS: [nu, eps, slope, intercept]\n"
     ]
    },
    {
     "data": {
      "text/html": [
       "\n",
       "    <div>\n",
       "        <style>\n",
       "            /* Turns off some styling */\n",
       "            progress {\n",
       "                /* gets rid of default border in Firefox and Opera. */\n",
       "                border: none;\n",
       "                /* Needs to be in here for Safari polyfill so background images work as expected. */\n",
       "                background-size: auto;\n",
       "            }\n",
       "            .progress-bar-interrupted, .progress-bar-interrupted::-webkit-progress-bar {\n",
       "                background: #F44336;\n",
       "            }\n",
       "        </style>\n",
       "      <progress value='16000' class='' max='16000' style='width:300px; height:20px; vertical-align: middle;'></progress>\n",
       "      100.00% [16000/16000 00:06<00:00 Sampling 4 chains, 0 divergences]\n",
       "    </div>\n",
       "    "
      ],
      "text/plain": [
       "<IPython.core.display.HTML object>"
      ]
     },
     "metadata": {},
     "output_type": "display_data"
    },
    {
     "name": "stderr",
     "output_type": "stream",
     "text": [
      "Sampling 4 chains for 3_000 tune and 1_000 draw iterations (12_000 + 4_000 draws total) took 7 seconds.\n",
      "Auto-assigning NUTS sampler...\n",
      "Initializing NUTS using jitter+adapt_diag...\n",
      "Multiprocess sampling (4 chains in 4 jobs)\n",
      "NUTS: [nu, eps, slope, intercept]\n"
     ]
    },
    {
     "data": {
      "text/html": [
       "\n",
       "    <div>\n",
       "        <style>\n",
       "            /* Turns off some styling */\n",
       "            progress {\n",
       "                /* gets rid of default border in Firefox and Opera. */\n",
       "                border: none;\n",
       "                /* Needs to be in here for Safari polyfill so background images work as expected. */\n",
       "                background-size: auto;\n",
       "            }\n",
       "            .progress-bar-interrupted, .progress-bar-interrupted::-webkit-progress-bar {\n",
       "                background: #F44336;\n",
       "            }\n",
       "        </style>\n",
       "      <progress value='16000' class='' max='16000' style='width:300px; height:20px; vertical-align: middle;'></progress>\n",
       "      100.00% [16000/16000 00:06<00:00 Sampling 4 chains, 0 divergences]\n",
       "    </div>\n",
       "    "
      ],
      "text/plain": [
       "<IPython.core.display.HTML object>"
      ]
     },
     "metadata": {},
     "output_type": "display_data"
    },
    {
     "name": "stderr",
     "output_type": "stream",
     "text": [
      "Sampling 4 chains for 3_000 tune and 1_000 draw iterations (12_000 + 4_000 draws total) took 6 seconds.\n",
      "Auto-assigning NUTS sampler...\n",
      "Initializing NUTS using jitter+adapt_diag...\n",
      "Multiprocess sampling (4 chains in 4 jobs)\n",
      "NUTS: [nu, eps, slope, intercept]\n"
     ]
    },
    {
     "data": {
      "text/html": [
       "\n",
       "    <div>\n",
       "        <style>\n",
       "            /* Turns off some styling */\n",
       "            progress {\n",
       "                /* gets rid of default border in Firefox and Opera. */\n",
       "                border: none;\n",
       "                /* Needs to be in here for Safari polyfill so background images work as expected. */\n",
       "                background-size: auto;\n",
       "            }\n",
       "            .progress-bar-interrupted, .progress-bar-interrupted::-webkit-progress-bar {\n",
       "                background: #F44336;\n",
       "            }\n",
       "        </style>\n",
       "      <progress value='16000' class='' max='16000' style='width:300px; height:20px; vertical-align: middle;'></progress>\n",
       "      100.00% [16000/16000 00:06<00:00 Sampling 4 chains, 0 divergences]\n",
       "    </div>\n",
       "    "
      ],
      "text/plain": [
       "<IPython.core.display.HTML object>"
      ]
     },
     "metadata": {},
     "output_type": "display_data"
    },
    {
     "name": "stderr",
     "output_type": "stream",
     "text": [
      "Sampling 4 chains for 3_000 tune and 1_000 draw iterations (12_000 + 4_000 draws total) took 7 seconds.\n"
     ]
    }
   ],
   "source": [
    "amon_trace = corr(pd.DataFrame({'x': df.age/100, 'y': df.alpha_mon}).reset_index(drop=True))\n",
    "bmon_trace = corr(pd.DataFrame({'x': df.age/100, 'y': df.beta_mon}).reset_index(drop=True))\n",
    "amed_trace = corr(pd.DataFrame({'x': df.age/100, 'y': df.alpha_med}).reset_index(drop=True))\n",
    "bmed_trace = corr(pd.DataFrame({'x': df.age/100, 'y': df.beta_med}).reset_index(drop=True))\n",
    "\n",
    "a_mon = az.summary(amon_trace, var_names=['slope','intercept'], hdi_prob=.89)[['mean','hdi_5.5%','hdi_94.5%']]\n",
    "b_mon = az.summary(bmon_trace, var_names=['slope','intercept'], hdi_prob=.89)[['mean','hdi_5.5%','hdi_94.5%']]\n",
    "a_med = az.summary(amed_trace, var_names=['slope','intercept'], hdi_prob=.89)[['mean','hdi_5.5%','hdi_94.5%']]\n",
    "b_med = az.summary(bmed_trace, var_names=['slope','intercept'], hdi_prob=.89)[['mean','hdi_5.5%','hdi_94.5%']]"
   ]
  },
  {
   "cell_type": "code",
   "execution_count": 44,
   "id": "17115b8c",
   "metadata": {},
   "outputs": [
    {
     "name": "stderr",
     "output_type": "stream",
     "text": [
      "/home/nachshon/anaconda3/envs/risk/lib/python3.8/site-packages/seaborn/_decorators.py:36: FutureWarning: Pass the following variables as keyword args: x, y. From version 0.12, the only valid positional argument will be `data`, and passing other arguments without an explicit keyword will result in an error or misinterpretation.\n",
      "  warnings.warn(\n",
      "/home/nachshon/anaconda3/envs/risk/lib/python3.8/site-packages/seaborn/_decorators.py:36: FutureWarning: Pass the following variables as keyword args: x, y. From version 0.12, the only valid positional argument will be `data`, and passing other arguments without an explicit keyword will result in an error or misinterpretation.\n",
      "  warnings.warn(\n",
      "/home/nachshon/anaconda3/envs/risk/lib/python3.8/site-packages/seaborn/_decorators.py:36: FutureWarning: Pass the following variables as keyword args: x, y. From version 0.12, the only valid positional argument will be `data`, and passing other arguments without an explicit keyword will result in an error or misinterpretation.\n",
      "  warnings.warn(\n",
      "/home/nachshon/anaconda3/envs/risk/lib/python3.8/site-packages/seaborn/_decorators.py:36: FutureWarning: Pass the following variables as keyword args: x, y. From version 0.12, the only valid positional argument will be `data`, and passing other arguments without an explicit keyword will result in an error or misinterpretation.\n",
      "  warnings.warn(\n"
     ]
    },
    {
     "data": {
      "text/plain": [
       "Text(20, -0.2, 'β = 0.02,\\n89% HDPi [-0.28, 0.34]')"
      ]
     },
     "execution_count": 44,
     "metadata": {},
     "output_type": "execute_result"
    },
    {
     "data": {
      "image/png": "[encoded data removed]",
      "text/plain": [
       "<Figure size 720x720 with 4 Axes>"
      ]
     },
     "metadata": {
      "needs_background": "light"
     },
     "output_type": "display_data"
    }
   ],
   "source": [
    "fig, axes = plt.subplots(2, 2, figsize=(10, 10))\n",
    "sns.scatterplot(y = 'alpha_mon',  x = 'age', data=df, ax=axes[0,0])\n",
    "sns.scatterplot(y = 'beta_mon', x = 'age', data=df, ax=axes[0,1])\n",
    "sns.scatterplot(y = 'alpha_med', x = 'age', data=df, ax=axes[1,0])\n",
    "sns.scatterplot(y = 'beta_med', x = 'age', data=df, ax=axes[1,1])\n",
    "\n",
    "\n",
    "sns.lineplot(df.age,a_mon['mean']['intercept']+a_mon['mean']['slope']*df.age/100, ax=axes[0,0])\n",
    "sns.lineplot(df.age,b_mon['mean']['intercept']+b_mon['mean']['slope']*df.age/100, ax=axes[0,1])\n",
    "sns.lineplot(df.age,a_med['mean']['intercept']+a_med['mean']['slope']*df.age/100, ax=axes[1,0])\n",
    "sns.lineplot(df.age,b_med['mean']['intercept']+b_med['mean']['slope']*df.age/100, ax=axes[1,1])\n",
    "\n",
    "#axes[0].set(ylim=(0,1))\n",
    "#axes[1].set(ylim=(0,1))\n",
    "#axes[2].set(ylim=(0,1))\n",
    "\n",
    "\n",
    "text = 'β = {:.2f},\\n89% HDPi [{:.2f}, {:.2f}]'.format(float(a_mon['mean']['slope']),\n",
    "                                                        float(a_mon['hdi_5.5%']['slope']),\n",
    "                                                        float(a_mon['hdi_94.5%']['slope']))\n",
    "axes[0,0].text(20, .6, text, fontsize=12)\n",
    "\n",
    "text = 'β = {:.2f},\\n89% HDPi [{:.2f}, {:.2f}]'.format(float(b_mon['mean']['slope']),\n",
    "                                                        float(b_mon['hdi_5.5%']['slope']),\n",
    "                                                        float(b_mon['hdi_94.5%']['slope']))\n",
    "axes[0,1].text(20, -.2, text, fontsize=12)\n",
    "\n",
    "text = 'β = {:.2f},\\n89% HDPi [{:.2f}, {:.2f}]'.format(float(a_med['mean']['slope']),\n",
    "                                                        float(a_med['hdi_5.5%']['slope']),\n",
    "                                                        float(a_med['hdi_94.5%']['slope']))\n",
    "axes[1,0].text(20, .4, text, fontsize=12)\n",
    "\n",
    "text = 'β = {:.2f},\\n89% HDPi [{:.2f}, {:.2f}]'.format(float(b_med['mean']['slope']),\n",
    "                                                        float(b_med['hdi_5.5%']['slope']),\n",
    "                                                        float(b_med['hdi_94.5%']['slope']))\n",
    "axes[1,1].text(20, -.2, text, fontsize=12)"
   ]
  },
  {
   "cell_type": "code",
   "execution_count": 50,
   "id": "06d4fc14",
   "metadata": {},
   "outputs": [
    {
     "data": {
      "text/html": [
       "<div>\n",
       "<style scoped>\n",
       "    .dataframe tbody tr th:only-of-type {\n",
       "        vertical-align: middle;\n",
       "    }\n",
       "\n",
       "    .dataframe tbody tr th {\n",
       "        vertical-align: top;\n",
       "    }\n",
       "\n",
       "    .dataframe thead th {\n",
       "        text-align: right;\n",
       "    }\n",
       "</style>\n",
       "<table border=\"1\" class=\"dataframe\">\n",
       "  <thead>\n",
       "    <tr style=\"text-align: right;\">\n",
       "      <th></th>\n",
       "      <th>sub</th>\n",
       "      <th>age</th>\n",
       "      <th>gender</th>\n",
       "      <th>moca_score</th>\n",
       "      <th>alpha_mon</th>\n",
       "      <th>alpha_sd</th>\n",
       "      <th>minAM</th>\n",
       "      <th>maxAM</th>\n",
       "      <th>beta_mon</th>\n",
       "      <th>beta_sd</th>\n",
       "      <th>...</th>\n",
       "      <th>minBM_med</th>\n",
       "      <th>maxBM_med</th>\n",
       "      <th>gamma_med</th>\n",
       "      <th>gamma_sd_med</th>\n",
       "      <th>minGM_med</th>\n",
       "      <th>maxGM_med</th>\n",
       "      <th>AM_mon</th>\n",
       "      <th>BM_mon</th>\n",
       "      <th>AM_med</th>\n",
       "      <th>BM_med</th>\n",
       "    </tr>\n",
       "  </thead>\n",
       "  <tbody>\n",
       "    <tr>\n",
       "      <th>0</th>\n",
       "      <td>10</td>\n",
       "      <td>18</td>\n",
       "      <td>M</td>\n",
       "      <td>28</td>\n",
       "      <td>1.158</td>\n",
       "      <td>0.191</td>\n",
       "      <td>0.789</td>\n",
       "      <td>1.498</td>\n",
       "      <td>0.490</td>\n",
       "      <td>0.147</td>\n",
       "      <td>...</td>\n",
       "      <td>0.422</td>\n",
       "      <td>0.837</td>\n",
       "      <td>0.163</td>\n",
       "      <td>0.074</td>\n",
       "      <td>0.051</td>\n",
       "      <td>0.294</td>\n",
       "      <td>0.709</td>\n",
       "      <td>0.549</td>\n",
       "      <td>0.774</td>\n",
       "      <td>0.415</td>\n",
       "    </tr>\n",
       "    <tr>\n",
       "      <th>1</th>\n",
       "      <td>13</td>\n",
       "      <td>48</td>\n",
       "      <td>F</td>\n",
       "      <td>28</td>\n",
       "      <td>0.779</td>\n",
       "      <td>0.207</td>\n",
       "      <td>0.415</td>\n",
       "      <td>1.174</td>\n",
       "      <td>0.515</td>\n",
       "      <td>0.163</td>\n",
       "      <td>...</td>\n",
       "      <td>0.354</td>\n",
       "      <td>1.062</td>\n",
       "      <td>0.279</td>\n",
       "      <td>0.122</td>\n",
       "      <td>0.103</td>\n",
       "      <td>0.504</td>\n",
       "      <td>0.759</td>\n",
       "      <td>0.615</td>\n",
       "      <td>0.803</td>\n",
       "      <td>0.708</td>\n",
       "    </tr>\n",
       "    <tr>\n",
       "      <th>2</th>\n",
       "      <td>14</td>\n",
       "      <td>26</td>\n",
       "      <td>F</td>\n",
       "      <td>30</td>\n",
       "      <td>0.763</td>\n",
       "      <td>0.230</td>\n",
       "      <td>0.347</td>\n",
       "      <td>1.191</td>\n",
       "      <td>0.679</td>\n",
       "      <td>0.290</td>\n",
       "      <td>...</td>\n",
       "      <td>0.446</td>\n",
       "      <td>0.949</td>\n",
       "      <td>0.216</td>\n",
       "      <td>0.091</td>\n",
       "      <td>0.072</td>\n",
       "      <td>0.376</td>\n",
       "      <td>0.844</td>\n",
       "      <td>1.091</td>\n",
       "      <td>0.757</td>\n",
       "      <td>0.503</td>\n",
       "    </tr>\n",
       "    <tr>\n",
       "      <th>3</th>\n",
       "      <td>15</td>\n",
       "      <td>58</td>\n",
       "      <td>F</td>\n",
       "      <td>26</td>\n",
       "      <td>0.692</td>\n",
       "      <td>0.196</td>\n",
       "      <td>0.340</td>\n",
       "      <td>1.057</td>\n",
       "      <td>0.520</td>\n",
       "      <td>0.195</td>\n",
       "      <td>...</td>\n",
       "      <td>0.019</td>\n",
       "      <td>0.853</td>\n",
       "      <td>0.270</td>\n",
       "      <td>0.106</td>\n",
       "      <td>0.106</td>\n",
       "      <td>0.456</td>\n",
       "      <td>0.717</td>\n",
       "      <td>0.723</td>\n",
       "      <td>0.726</td>\n",
       "      <td>0.834</td>\n",
       "    </tr>\n",
       "    <tr>\n",
       "      <th>4</th>\n",
       "      <td>16</td>\n",
       "      <td>74</td>\n",
       "      <td>M</td>\n",
       "      <td>28</td>\n",
       "      <td>0.721</td>\n",
       "      <td>0.240</td>\n",
       "      <td>0.314</td>\n",
       "      <td>1.166</td>\n",
       "      <td>0.589</td>\n",
       "      <td>0.311</td>\n",
       "      <td>...</td>\n",
       "      <td>0.443</td>\n",
       "      <td>0.998</td>\n",
       "      <td>0.124</td>\n",
       "      <td>0.056</td>\n",
       "      <td>0.036</td>\n",
       "      <td>0.223</td>\n",
       "      <td>0.852</td>\n",
       "      <td>1.155</td>\n",
       "      <td>0.793</td>\n",
       "      <td>0.555</td>\n",
       "    </tr>\n",
       "  </tbody>\n",
       "</table>\n",
       "<p>5 rows × 32 columns</p>\n",
       "</div>"
      ],
      "text/plain": [
       "   sub  age gender  moca_score  alpha_mon  alpha_sd  minAM  maxAM  beta_mon  \\\n",
       "0   10   18      M          28      1.158     0.191  0.789  1.498     0.490   \n",
       "1   13   48      F          28      0.779     0.207  0.415  1.174     0.515   \n",
       "2   14   26      F          30      0.763     0.230  0.347  1.191     0.679   \n",
       "3   15   58      F          26      0.692     0.196  0.340  1.057     0.520   \n",
       "4   16   74      M          28      0.721     0.240  0.314  1.166     0.589   \n",
       "\n",
       "   beta_sd  ...  minBM_med  maxBM_med  gamma_med  gamma_sd_med  minGM_med  \\\n",
       "0    0.147  ...      0.422      0.837      0.163         0.074      0.051   \n",
       "1    0.163  ...      0.354      1.062      0.279         0.122      0.103   \n",
       "2    0.290  ...      0.446      0.949      0.216         0.091      0.072   \n",
       "3    0.195  ...      0.019      0.853      0.270         0.106      0.106   \n",
       "4    0.311  ...      0.443      0.998      0.124         0.056      0.036   \n",
       "\n",
       "   maxGM_med  AM_mon  BM_mon  AM_med  BM_med  \n",
       "0      0.294   0.709   0.549   0.774   0.415  \n",
       "1      0.504   0.759   0.615   0.803   0.708  \n",
       "2      0.376   0.844   1.091   0.757   0.503  \n",
       "3      0.456   0.717   0.723   0.726   0.834  \n",
       "4      0.223   0.852   1.155   0.793   0.555  \n",
       "\n",
       "[5 rows x 32 columns]"
      ]
     },
     "execution_count": 50,
     "metadata": {},
     "output_type": "execute_result"
    }
   ],
   "source": [
    "df['AM_mon']=df.maxAM-df.minAM\n",
    "df['BM_mon']=df.maxBM-df.minBM\n",
    "\n",
    "df['AM_med']=df.maxAM_med-df.minAM_med\n",
    "df['BM_med']=df.maxBM_med-df.minBM_med\n",
    "\n",
    "df.head()"
   ]
  },
  {
   "cell_type": "code",
   "execution_count": 51,
   "id": "1142366a",
   "metadata": {},
   "outputs": [
    {
     "name": "stderr",
     "output_type": "stream",
     "text": [
      "Auto-assigning NUTS sampler...\n",
      "Initializing NUTS using jitter+adapt_diag...\n",
      "Multiprocess sampling (4 chains in 4 jobs)\n",
      "NUTS: [nu, eps, slope, intercept]\n"
     ]
    },
    {
     "data": {
      "text/html": [
       "\n",
       "    <div>\n",
       "        <style>\n",
       "            /* Turns off some styling */\n",
       "            progress {\n",
       "                /* gets rid of default border in Firefox and Opera. */\n",
       "                border: none;\n",
       "                /* Needs to be in here for Safari polyfill so background images work as expected. */\n",
       "                background-size: auto;\n",
       "            }\n",
       "            .progress-bar-interrupted, .progress-bar-interrupted::-webkit-progress-bar {\n",
       "                background: #F44336;\n",
       "            }\n",
       "        </style>\n",
       "      <progress value='16000' class='' max='16000' style='width:300px; height:20px; vertical-align: middle;'></progress>\n",
       "      100.00% [16000/16000 00:10<00:00 Sampling 4 chains, 0 divergences]\n",
       "    </div>\n",
       "    "
      ],
      "text/plain": [
       "<IPython.core.display.HTML object>"
      ]
     },
     "metadata": {},
     "output_type": "display_data"
    },
    {
     "name": "stderr",
     "output_type": "stream",
     "text": [
      "Sampling 4 chains for 3_000 tune and 1_000 draw iterations (12_000 + 4_000 draws total) took 11 seconds.\n",
      "Auto-assigning NUTS sampler...\n",
      "Initializing NUTS using jitter+adapt_diag...\n",
      "Multiprocess sampling (4 chains in 4 jobs)\n",
      "NUTS: [nu, eps, slope, intercept]\n"
     ]
    },
    {
     "data": {
      "text/html": [
       "\n",
       "    <div>\n",
       "        <style>\n",
       "            /* Turns off some styling */\n",
       "            progress {\n",
       "                /* gets rid of default border in Firefox and Opera. */\n",
       "                border: none;\n",
       "                /* Needs to be in here for Safari polyfill so background images work as expected. */\n",
       "                background-size: auto;\n",
       "            }\n",
       "            .progress-bar-interrupted, .progress-bar-interrupted::-webkit-progress-bar {\n",
       "                background: #F44336;\n",
       "            }\n",
       "        </style>\n",
       "      <progress value='16000' class='' max='16000' style='width:300px; height:20px; vertical-align: middle;'></progress>\n",
       "      100.00% [16000/16000 00:09<00:00 Sampling 4 chains, 0 divergences]\n",
       "    </div>\n",
       "    "
      ],
      "text/plain": [
       "<IPython.core.display.HTML object>"
      ]
     },
     "metadata": {},
     "output_type": "display_data"
    },
    {
     "name": "stderr",
     "output_type": "stream",
     "text": [
      "Sampling 4 chains for 3_000 tune and 1_000 draw iterations (12_000 + 4_000 draws total) took 10 seconds.\n",
      "Auto-assigning NUTS sampler...\n",
      "Initializing NUTS using jitter+adapt_diag...\n",
      "Multiprocess sampling (4 chains in 4 jobs)\n",
      "NUTS: [nu, eps, slope, intercept]\n"
     ]
    },
    {
     "data": {
      "text/html": [
       "\n",
       "    <div>\n",
       "        <style>\n",
       "            /* Turns off some styling */\n",
       "            progress {\n",
       "                /* gets rid of default border in Firefox and Opera. */\n",
       "                border: none;\n",
       "                /* Needs to be in here for Safari polyfill so background images work as expected. */\n",
       "                background-size: auto;\n",
       "            }\n",
       "            .progress-bar-interrupted, .progress-bar-interrupted::-webkit-progress-bar {\n",
       "                background: #F44336;\n",
       "            }\n",
       "        </style>\n",
       "      <progress value='16000' class='' max='16000' style='width:300px; height:20px; vertical-align: middle;'></progress>\n",
       "      100.00% [16000/16000 00:10<00:00 Sampling 4 chains, 0 divergences]\n",
       "    </div>\n",
       "    "
      ],
      "text/plain": [
       "<IPython.core.display.HTML object>"
      ]
     },
     "metadata": {},
     "output_type": "display_data"
    },
    {
     "name": "stderr",
     "output_type": "stream",
     "text": [
      "Sampling 4 chains for 3_000 tune and 1_000 draw iterations (12_000 + 4_000 draws total) took 11 seconds.\n",
      "Auto-assigning NUTS sampler...\n",
      "Initializing NUTS using jitter+adapt_diag...\n",
      "Multiprocess sampling (4 chains in 4 jobs)\n",
      "NUTS: [nu, eps, slope, intercept]\n"
     ]
    },
    {
     "data": {
      "text/html": [
       "\n",
       "    <div>\n",
       "        <style>\n",
       "            /* Turns off some styling */\n",
       "            progress {\n",
       "                /* gets rid of default border in Firefox and Opera. */\n",
       "                border: none;\n",
       "                /* Needs to be in here for Safari polyfill so background images work as expected. */\n",
       "                background-size: auto;\n",
       "            }\n",
       "            .progress-bar-interrupted, .progress-bar-interrupted::-webkit-progress-bar {\n",
       "                background: #F44336;\n",
       "            }\n",
       "        </style>\n",
       "      <progress value='16000' class='' max='16000' style='width:300px; height:20px; vertical-align: middle;'></progress>\n",
       "      100.00% [16000/16000 00:10<00:00 Sampling 4 chains, 0 divergences]\n",
       "    </div>\n",
       "    "
      ],
      "text/plain": [
       "<IPython.core.display.HTML object>"
      ]
     },
     "metadata": {},
     "output_type": "display_data"
    },
    {
     "name": "stderr",
     "output_type": "stream",
     "text": [
      "Sampling 4 chains for 3_000 tune and 1_000 draw iterations (12_000 + 4_000 draws total) took 10 seconds.\n"
     ]
    }
   ],
   "source": [
    "Hamon_trace = corr(pd.DataFrame({'x': df.age/100, 'y': df.AM_mon}).reset_index(drop=True))\n",
    "Hbmon_trace = corr(pd.DataFrame({'x': df.age/100, 'y': df.BM_mon}).reset_index(drop=True))\n",
    "Hamed_trace = corr(pd.DataFrame({'x': df.age/100, 'y': df.AM_med}).reset_index(drop=True))\n",
    "Hbmed_trace = corr(pd.DataFrame({'x': df.age/100, 'y': df.BM_med}).reset_index(drop=True))\n",
    "\n",
    "Ha_mon = az.summary(Hamon_trace, var_names=['slope','intercept'], hdi_prob=.89)[['mean','hdi_5.5%','hdi_94.5%']]\n",
    "Hb_mon = az.summary(Hbmon_trace, var_names=['slope','intercept'], hdi_prob=.89)[['mean','hdi_5.5%','hdi_94.5%']]\n",
    "Ha_med = az.summary(Hamed_trace, var_names=['slope','intercept'], hdi_prob=.89)[['mean','hdi_5.5%','hdi_94.5%']]\n",
    "Hb_med = az.summary(Hbmed_trace, var_names=['slope','intercept'], hdi_prob=.89)[['mean','hdi_5.5%','hdi_94.5%']]"
   ]
  },
  {
   "cell_type": "code",
   "execution_count": 53,
   "id": "83f49af2",
   "metadata": {},
   "outputs": [
    {
     "name": "stderr",
     "output_type": "stream",
     "text": [
      "/home/nachshon/anaconda3/envs/risk/lib/python3.8/site-packages/seaborn/_decorators.py:36: FutureWarning: Pass the following variables as keyword args: x, y. From version 0.12, the only valid positional argument will be `data`, and passing other arguments without an explicit keyword will result in an error or misinterpretation.\n",
      "  warnings.warn(\n",
      "/home/nachshon/anaconda3/envs/risk/lib/python3.8/site-packages/seaborn/_decorators.py:36: FutureWarning: Pass the following variables as keyword args: x, y. From version 0.12, the only valid positional argument will be `data`, and passing other arguments without an explicit keyword will result in an error or misinterpretation.\n",
      "  warnings.warn(\n",
      "/home/nachshon/anaconda3/envs/risk/lib/python3.8/site-packages/seaborn/_decorators.py:36: FutureWarning: Pass the following variables as keyword args: x, y. From version 0.12, the only valid positional argument will be `data`, and passing other arguments without an explicit keyword will result in an error or misinterpretation.\n",
      "  warnings.warn(\n",
      "/home/nachshon/anaconda3/envs/risk/lib/python3.8/site-packages/seaborn/_decorators.py:36: FutureWarning: Pass the following variables as keyword args: x, y. From version 0.12, the only valid positional argument will be `data`, and passing other arguments without an explicit keyword will result in an error or misinterpretation.\n",
      "  warnings.warn(\n"
     ]
    },
    {
     "data": {
      "text/plain": [
       "Text(20, 0.2, 'β = 0.40,\\n89% HDPi [0.15, 0.62]')"
      ]
     },
     "execution_count": 53,
     "metadata": {},
     "output_type": "execute_result"
    },
    {
     "data": {
      "image/png": "[encoded data removed]",
      "text/plain": [
       "<Figure size 720x720 with 4 Axes>"
      ]
     },
     "metadata": {
      "needs_background": "light"
     },
     "output_type": "display_data"
    }
   ],
   "source": [
    "fig, axes = plt.subplots(2, 2, figsize=(10, 10))\n",
    "sns.scatterplot(y = 'AM_mon',  x = 'age', data=df, ax=axes[0,0])\n",
    "sns.scatterplot(y = 'BM_mon', x = 'age', data=df, ax=axes[0,1])\n",
    "sns.scatterplot(y = 'AM_med', x = 'age', data=df, ax=axes[1,0])\n",
    "sns.scatterplot(y = 'BM_med', x = 'age', data=df, ax=axes[1,1])\n",
    "\n",
    "\n",
    "sns.lineplot(df.age,Ha_mon['mean']['intercept']+Ha_mon['mean']['slope']*df.age/100, ax=axes[0,0])\n",
    "sns.lineplot(df.age,Hb_mon['mean']['intercept']+Hb_mon['mean']['slope']*df.age/100, ax=axes[0,1])\n",
    "sns.lineplot(df.age,Ha_med['mean']['intercept']+Ha_med['mean']['slope']*df.age/100, ax=axes[1,0])\n",
    "sns.lineplot(df.age,Hb_med['mean']['intercept']+Hb_med['mean']['slope']*df.age/100, ax=axes[1,1])\n",
    "\n",
    "#axes[0].set(ylim=(0,1))\n",
    "#axes[1].set(ylim=(0,1))\n",
    "#axes[2].set(ylim=(0,1))\n",
    "\n",
    "\n",
    "text = 'β = {:.2f},\\n89% HDPi [{:.2f}, {:.2f}]'.format(float(Ha_mon['mean']['slope']),\n",
    "                                                        float(Ha_mon['hdi_5.5%']['slope']),\n",
    "                                                        float(Ha_mon['hdi_94.5%']['slope']))\n",
    "axes[0,0].text(20, .7, text, fontsize=12)\n",
    "\n",
    "text = 'β = {:.2f},\\n89% HDPi [{:.2f}, {:.2f}]'.format(float(Hb_mon['mean']['slope']),\n",
    "                                                        float(Hb_mon['hdi_5.5%']['slope']),\n",
    "                                                        float(Hb_mon['hdi_94.5%']['slope']))\n",
    "axes[0,1].text(20, .3, text, fontsize=12)\n",
    "\n",
    "text = 'β = {:.2f},\\n89% HDPi [{:.2f}, {:.2f}]'.format(float(Ha_med['mean']['slope']),\n",
    "                                                        float(Ha_med['hdi_5.5%']['slope']),\n",
    "                                                        float(Ha_med['hdi_94.5%']['slope']))\n",
    "axes[1,0].text(20, .7, text, fontsize=12)\n",
    "\n",
    "text = 'β = {:.2f},\\n89% HDPi [{:.2f}, {:.2f}]'.format(float(Hb_med['mean']['slope']),\n",
    "                                                        float(Hb_med['hdi_5.5%']['slope']),\n",
    "                                                        float(Hb_med['hdi_94.5%']['slope']))\n",
    "axes[1,1].text(20, .2, text, fontsize=12)"
   ]
  },
  {
   "cell_type": "code",
   "execution_count": 54,
   "id": "7e3345f1",
   "metadata": {},
   "outputs": [
    {
     "name": "stderr",
     "output_type": "stream",
     "text": [
      "Auto-assigning NUTS sampler...\n",
      "Initializing NUTS using jitter+adapt_diag...\n",
      "Multiprocess sampling (4 chains in 4 jobs)\n",
      "NUTS: [nu, eps, slope, intercept]\n"
     ]
    },
    {
     "data": {
      "text/html": [
       "\n",
       "    <div>\n",
       "        <style>\n",
       "            /* Turns off some styling */\n",
       "            progress {\n",
       "                /* gets rid of default border in Firefox and Opera. */\n",
       "                border: none;\n",
       "                /* Needs to be in here for Safari polyfill so background images work as expected. */\n",
       "                background-size: auto;\n",
       "            }\n",
       "            .progress-bar-interrupted, .progress-bar-interrupted::-webkit-progress-bar {\n",
       "                background: #F44336;\n",
       "            }\n",
       "        </style>\n",
       "      <progress value='16000' class='' max='16000' style='width:300px; height:20px; vertical-align: middle;'></progress>\n",
       "      100.00% [16000/16000 00:08<00:00 Sampling 4 chains, 0 divergences]\n",
       "    </div>\n",
       "    "
      ],
      "text/plain": [
       "<IPython.core.display.HTML object>"
      ]
     },
     "metadata": {},
     "output_type": "display_data"
    },
    {
     "name": "stderr",
     "output_type": "stream",
     "text": [
      "Sampling 4 chains for 3_000 tune and 1_000 draw iterations (12_000 + 4_000 draws total) took 9 seconds.\n",
      "Auto-assigning NUTS sampler...\n",
      "Initializing NUTS using jitter+adapt_diag...\n",
      "Multiprocess sampling (4 chains in 4 jobs)\n",
      "NUTS: [nu, eps, slope, intercept]\n"
     ]
    },
    {
     "data": {
      "text/html": [
       "\n",
       "    <div>\n",
       "        <style>\n",
       "            /* Turns off some styling */\n",
       "            progress {\n",
       "                /* gets rid of default border in Firefox and Opera. */\n",
       "                border: none;\n",
       "                /* Needs to be in here for Safari polyfill so background images work as expected. */\n",
       "                background-size: auto;\n",
       "            }\n",
       "            .progress-bar-interrupted, .progress-bar-interrupted::-webkit-progress-bar {\n",
       "                background: #F44336;\n",
       "            }\n",
       "        </style>\n",
       "      <progress value='16000' class='' max='16000' style='width:300px; height:20px; vertical-align: middle;'></progress>\n",
       "      100.00% [16000/16000 00:08<00:00 Sampling 4 chains, 0 divergences]\n",
       "    </div>\n",
       "    "
      ],
      "text/plain": [
       "<IPython.core.display.HTML object>"
      ]
     },
     "metadata": {},
     "output_type": "display_data"
    },
    {
     "name": "stderr",
     "output_type": "stream",
     "text": [
      "Sampling 4 chains for 3_000 tune and 1_000 draw iterations (12_000 + 4_000 draws total) took 8 seconds.\n",
      "Auto-assigning NUTS sampler...\n",
      "Initializing NUTS using jitter+adapt_diag...\n",
      "Multiprocess sampling (4 chains in 4 jobs)\n",
      "NUTS: [nu, eps, slope, intercept]\n"
     ]
    },
    {
     "data": {
      "text/html": [
       "\n",
       "    <div>\n",
       "        <style>\n",
       "            /* Turns off some styling */\n",
       "            progress {\n",
       "                /* gets rid of default border in Firefox and Opera. */\n",
       "                border: none;\n",
       "                /* Needs to be in here for Safari polyfill so background images work as expected. */\n",
       "                background-size: auto;\n",
       "            }\n",
       "            .progress-bar-interrupted, .progress-bar-interrupted::-webkit-progress-bar {\n",
       "                background: #F44336;\n",
       "            }\n",
       "        </style>\n",
       "      <progress value='16000' class='' max='16000' style='width:300px; height:20px; vertical-align: middle;'></progress>\n",
       "      100.00% [16000/16000 00:08<00:00 Sampling 4 chains, 0 divergences]\n",
       "    </div>\n",
       "    "
      ],
      "text/plain": [
       "<IPython.core.display.HTML object>"
      ]
     },
     "metadata": {},
     "output_type": "display_data"
    },
    {
     "name": "stderr",
     "output_type": "stream",
     "text": [
      "Sampling 4 chains for 3_000 tune and 1_000 draw iterations (12_000 + 4_000 draws total) took 8 seconds.\n",
      "Auto-assigning NUTS sampler...\n",
      "Initializing NUTS using jitter+adapt_diag...\n",
      "Multiprocess sampling (4 chains in 4 jobs)\n",
      "NUTS: [nu, eps, slope, intercept]\n"
     ]
    },
    {
     "data": {
      "text/html": [
       "\n",
       "    <div>\n",
       "        <style>\n",
       "            /* Turns off some styling */\n",
       "            progress {\n",
       "                /* gets rid of default border in Firefox and Opera. */\n",
       "                border: none;\n",
       "                /* Needs to be in here for Safari polyfill so background images work as expected. */\n",
       "                background-size: auto;\n",
       "            }\n",
       "            .progress-bar-interrupted, .progress-bar-interrupted::-webkit-progress-bar {\n",
       "                background: #F44336;\n",
       "            }\n",
       "        </style>\n",
       "      <progress value='16000' class='' max='16000' style='width:300px; height:20px; vertical-align: middle;'></progress>\n",
       "      100.00% [16000/16000 00:07<00:00 Sampling 4 chains, 0 divergences]\n",
       "    </div>\n",
       "    "
      ],
      "text/plain": [
       "<IPython.core.display.HTML object>"
      ]
     },
     "metadata": {},
     "output_type": "display_data"
    },
    {
     "name": "stderr",
     "output_type": "stream",
     "text": [
      "Sampling 4 chains for 3_000 tune and 1_000 draw iterations (12_000 + 4_000 draws total) took 7 seconds.\n"
     ]
    }
   ],
   "source": [
    "Samon_trace = corr(pd.DataFrame({'x': df.age/100, 'y': df.alpha_sd}).reset_index(drop=True))\n",
    "Sbmon_trace = corr(pd.DataFrame({'x': df.age/100, 'y': df.beta_sd}).reset_index(drop=True))\n",
    "Samed_trace = corr(pd.DataFrame({'x': df.age/100, 'y': df.alpha_sd_med}).reset_index(drop=True))\n",
    "Sbmed_trace = corr(pd.DataFrame({'x': df.age/100, 'y': df.beta_sd_med}).reset_index(drop=True))\n",
    "\n",
    "Sa_mon = az.summary(Samon_trace, var_names=['slope','intercept'], hdi_prob=.89)[['mean','hdi_5.5%','hdi_94.5%']]\n",
    "Sb_mon = az.summary(Sbmon_trace, var_names=['slope','intercept'], hdi_prob=.89)[['mean','hdi_5.5%','hdi_94.5%']]\n",
    "Sa_med = az.summary(Samed_trace, var_names=['slope','intercept'], hdi_prob=.89)[['mean','hdi_5.5%','hdi_94.5%']]\n",
    "Sb_med = az.summary(Sbmed_trace, var_names=['slope','intercept'], hdi_prob=.89)[['mean','hdi_5.5%','hdi_94.5%']]"
   ]
  },
  {
   "cell_type": "code",
   "execution_count": 56,
   "id": "0de18f91",
   "metadata": {},
   "outputs": [
    {
     "name": "stderr",
     "output_type": "stream",
     "text": [
      "/home/nachshon/anaconda3/envs/risk/lib/python3.8/site-packages/seaborn/_decorators.py:36: FutureWarning: Pass the following variables as keyword args: x, y. From version 0.12, the only valid positional argument will be `data`, and passing other arguments without an explicit keyword will result in an error or misinterpretation.\n",
      "  warnings.warn(\n",
      "/home/nachshon/anaconda3/envs/risk/lib/python3.8/site-packages/seaborn/_decorators.py:36: FutureWarning: Pass the following variables as keyword args: x, y. From version 0.12, the only valid positional argument will be `data`, and passing other arguments without an explicit keyword will result in an error or misinterpretation.\n",
      "  warnings.warn(\n",
      "/home/nachshon/anaconda3/envs/risk/lib/python3.8/site-packages/seaborn/_decorators.py:36: FutureWarning: Pass the following variables as keyword args: x, y. From version 0.12, the only valid positional argument will be `data`, and passing other arguments without an explicit keyword will result in an error or misinterpretation.\n",
      "  warnings.warn(\n",
      "/home/nachshon/anaconda3/envs/risk/lib/python3.8/site-packages/seaborn/_decorators.py:36: FutureWarning: Pass the following variables as keyword args: x, y. From version 0.12, the only valid positional argument will be `data`, and passing other arguments without an explicit keyword will result in an error or misinterpretation.\n",
      "  warnings.warn(\n"
     ]
    },
    {
     "data": {
      "text/plain": [
       "Text(20, 0.06, 'β = 0.11,\\n89% HDPi [0.05, 0.18]')"
      ]
     },
     "execution_count": 56,
     "metadata": {},
     "output_type": "execute_result"
    },
    {
     "data": {
      "image/png": "[encoded data removed]",
      "text/plain": [
       "<Figure size 720x720 with 4 Axes>"
      ]
     },
     "metadata": {
      "needs_background": "light"
     },
     "output_type": "display_data"
    }
   ],
   "source": [
    "fig, axes = plt.subplots(2, 2, figsize=(10, 10))\n",
    "sns.scatterplot(y = 'alpha_sd',  x = 'age', data=df, ax=axes[0,0])\n",
    "sns.scatterplot(y = 'beta_sd', x = 'age', data=df, ax=axes[0,1])\n",
    "sns.scatterplot(y = 'alpha_sd_med', x = 'age', data=df, ax=axes[1,0])\n",
    "sns.scatterplot(y = 'beta_sd_med', x = 'age', data=df, ax=axes[1,1])\n",
    "\n",
    "\n",
    "sns.lineplot(df.age,Sa_mon['mean']['intercept']+Sa_mon['mean']['slope']*df.age/100, ax=axes[0,0])\n",
    "sns.lineplot(df.age,Sb_mon['mean']['intercept']+Sb_mon['mean']['slope']*df.age/100, ax=axes[0,1])\n",
    "sns.lineplot(df.age,Sa_med['mean']['intercept']+Sa_med['mean']['slope']*df.age/100, ax=axes[1,0])\n",
    "sns.lineplot(df.age,Sb_med['mean']['intercept']+Sb_med['mean']['slope']*df.age/100, ax=axes[1,1])\n",
    "\n",
    "#axes[0].set(ylim=(0,1))\n",
    "#axes[1].set(ylim=(0,1))\n",
    "#axes[2].set(ylim=(0,1))\n",
    "\n",
    "\n",
    "text = 'β = {:.2f},\\n89% HDPi [{:.2f}, {:.2f}]'.format(float(Sa_mon['mean']['slope']),\n",
    "                                                        float(Sa_mon['hdi_5.5%']['slope']),\n",
    "                                                        float(Sa_mon['hdi_94.5%']['slope']))\n",
    "axes[0,0].text(20, .19, text, fontsize=12)\n",
    "\n",
    "text = 'β = {:.2f},\\n89% HDPi [{:.2f}, {:.2f}]'.format(float(Sb_mon['mean']['slope']),\n",
    "                                                        float(Sb_mon['hdi_5.5%']['slope']),\n",
    "                                                        float(Sb_mon['hdi_94.5%']['slope']))\n",
    "axes[0,1].text(20, .1, text, fontsize=12)\n",
    "\n",
    "text = 'β = {:.2f},\\n89% HDPi [{:.2f}, {:.2f}]'.format(float(Sa_med['mean']['slope']),\n",
    "                                                        float(Sa_med['hdi_5.5%']['slope']),\n",
    "                                                        float(Sa_med['hdi_94.5%']['slope']))\n",
    "axes[1,0].text(20, .2, text, fontsize=12)\n",
    "\n",
    "text = 'β = {:.2f},\\n89% HDPi [{:.2f}, {:.2f}]'.format(float(Sb_med['mean']['slope']),\n",
    "                                                        float(Sb_med['hdi_5.5%']['slope']),\n",
    "                                                        float(Sb_med['hdi_94.5%']['slope']))\n",
    "axes[1,1].text(20, .06, text, fontsize=12)"
   ]
  },
  {
   "cell_type": "code",
   "execution_count": 62,
   "id": "ddfebad7",
   "metadata": {},
   "outputs": [],
   "source": [
    "df.to_csv('data/model_results.csv')\n",
    "mon_uniuqe.to_netcdf(\"data/mon_trace.nc\")\n",
    "med_uniuqe.to_netcdf(\"data/med_trace.nc\")\n",
    "db_mon.to_csv('data/db_mon.csv')\n",
    "db_med.to_csv('data/db_med.csv')"
   ]
  },
  {
   "cell_type": "code",
   "execution_count": 63,
   "id": "763f5c50",
   "metadata": {},
   "outputs": [
    {
     "data": {
      "text/plain": [
       "'data/mon_trace_beta.nc'"
      ]
     },
     "execution_count": 63,
     "metadata": {},
     "output_type": "execute_result"
    }
   ],
   "source": [
    "mon_beta.to_netcdf(\"data/mon_trace_beta.nc\")"
   ]
  }
 ],
 "metadata": {
  "kernelspec": {
   "display_name": "Python 3 (ipykernel)",
   "language": "python",
   "name": "python3"
  },
  "language_info": {
   "codemirror_mode": {
    "name": "ipython",
    "version": 3
   },
   "file_extension": ".py",
   "mimetype": "text/x-python",
   "name": "python",
   "nbconvert_exporter": "python",
   "pygments_lexer": "ipython3",
   "version": "3.8.12"
  }
 },
 "nbformat": 4,
 "nbformat_minor": 5
}
