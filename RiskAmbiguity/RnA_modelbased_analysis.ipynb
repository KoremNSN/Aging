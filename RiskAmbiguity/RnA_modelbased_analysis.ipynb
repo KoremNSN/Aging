{
 "cells": [
  {
   "cell_type": "markdown",
   "id": "52c783f9",
   "metadata": {},
   "source": [
    "# Model based analysis Risk & Ambiguity\n",
    "#### Korem et al., 2023?\n",
    "\n",
    "This notebook loads the R&A task from the aging project and uses variations of the utility function to try and model the effects of aging on forced choice lottery selection in the medical domain. \n",
    "\n",
    "#### Step 1 model behavior\n",
    "\n",
    "Choices in the medical domain are quantitatively different. </br>\n",
    "Using computational model we will try to see if we can estimate the value. </br>\n",
    "We will test 3 models: </br>\n",
    "    1. No individual parameters </br>\n",
    "    2. Only ambiguity aversion </br>\n",
    "    3. Both ambiguity and probability weighting \n",
    "   \n",
    "#### Step 2 model age\n",
    "\n",
    "Take the best model and check if we add age parameters\n",
    "\n",
    "#### Step 3 validate the model using monetary data and compare it to more classical approaches\n",
    "\n",
    "compare the qualitative model to:</br>\n",
    "    1. No individual parameters</br>\n",
    "    2. Classical utility function</br>\n",
    "    3. \"Trembling hand\" model\n",
    "\n",
    "\n",
    "## Step 0\n",
    "\n",
    "### Load libraries \n"
   ]
  },
  {
   "cell_type": "code",
   "execution_count": 1,
   "id": "b7f195fa",
   "metadata": {},
   "outputs": [],
   "source": [
    "import pandas as pd\n",
    "import numpy as np\n",
    "\n",
    "import pymc3 as pm\n",
    "import arviz as az\n",
    "\n",
    "import matplotlib.pyplot as plt\n",
    "import seaborn as sns"
   ]
  },
  {
   "cell_type": "markdown",
   "id": "036d8a9b",
   "metadata": {},
   "source": [
    "## Load Data"
   ]
  },
  {
   "cell_type": "code",
   "execution_count": 2,
   "id": "bb91e77e",
   "metadata": {},
   "outputs": [
    {
     "name": "stdout",
     "output_type": "stream",
     "text": [
      "Participants monetary:  98 participants medical:  98\n"
     ]
    }
   ],
   "source": [
    "# load demographic data\n",
    "age = pd.read_csv('../demo.csv')\n",
    "\n",
    "# load choice data\n",
    "db_mon = pd.read_csv('data/mon.csv')\n",
    "db_med = pd.read_csv('data/med.csv')\n",
    "\n",
    "print('Participants monetary: ', len(db_mon['sub'].unique()), 'participants medical: ', len(db_med['sub'].unique()))"
   ]
  },
  {
   "cell_type": "markdown",
   "id": "484146c4",
   "metadata": {},
   "source": [
    "## Preprocessing "
   ]
  },
  {
   "cell_type": "code",
   "execution_count": 3,
   "id": "ed6dc25c",
   "metadata": {},
   "outputs": [
    {
     "name": "stdout",
     "output_type": "stream",
     "text": [
      "pariticpant with R&A and no MoCA: [64, 65, 67, 70, 12, 79, 81, 84, 21, 22, 89, 91, 31, 97, 34, 35, 98, 99, 45, 110, 47, 48, 112, 114, 53, 54, 62]\n",
      "pariticpant with MoCA and no R&A: []\n",
      "Number of participants with all data: 71\n"
     ]
    }
   ],
   "source": [
    "# make a list with subjects number\n",
    "s_am = list(age['sub'].unique())\n",
    "s_ra = list(db_mon['sub'].unique())\n",
    "\n",
    "# find participant in one list but not in the second\n",
    "demo_no_ra = list(set(s_am)- set(s_ra))\n",
    "ra_no_demo = list(set(set(s_ra)- set(s_am)))\n",
    "\n",
    "print ('pariticpant with R&A and no MoCA:', ra_no_demo)\n",
    "print ('pariticpant with MoCA and no R&A:', demo_no_ra)\n",
    "\n",
    "age = age[age['sub'].isin(db_mon['sub'].values)]\n",
    "\n",
    "# remove participants without age/moca from the db and add age, moca and gender\n",
    "db_mon = db_mon.merge(age, left_on='sub', right_on='sub')\n",
    "db_med = db_med.merge(age, left_on='sub', right_on='sub')\n",
    "\n",
    "db_mon = db_mon[db_mon['moca_score']>25]\n",
    "db_med = db_med[db_med['moca_score']>25]\n",
    "\n",
    "\n",
    "print('Number of participants with all data:', len(db_med['sub'].unique()))"
   ]
  },
  {
   "cell_type": "code",
   "execution_count": 4,
   "id": "c225e3d2",
   "metadata": {},
   "outputs": [
    {
     "name": "stdout",
     "output_type": "stream",
     "text": [
      "Monetary too risk averse ( 2 ):  [11, 40]\n",
      "Medical too risk averse ( 2 ):  []\n",
      "Subjects who were not too risk averse:  69 69\n"
     ]
    }
   ],
   "source": [
    "risk_min = 2 # the minimum number of trials participant chose the lottery.\n",
    "\n",
    "# collect number of lottery selection by subject\n",
    "choices_mon = db_mon[['sub','choice']].groupby(['sub']).sum()\n",
    "choices_med = db_med[['sub','choice']].groupby(['sub']).sum()\n",
    "\n",
    "# get the subject number for participant who were too risk averse\n",
    "too_risk_averse_mon = list(choices_mon[choices_mon['choice']<risk_min].index)\n",
    "too_risk_averse_med = list(choices_med[choices_med['choice']<risk_min].index)\n",
    "\n",
    "print('Monetary too risk averse (', risk_min, '): ', too_risk_averse_mon)\n",
    "print('Medical too risk averse (', risk_min, '): ', too_risk_averse_med)\n",
    "\n",
    "\n",
    "# remove too risk averse particiants from the data frames\n",
    "db_mon = db_mon[~db_mon['sub'].isin(too_risk_averse_mon)]\n",
    "db_med = db_med[~db_med['sub'].isin(too_risk_averse_med)]\n",
    "\n",
    "# compare monetary and medical lists and keep only valid participants in both\n",
    "mon_s = list(db_mon['sub'].unique())\n",
    "med_s = list(db_med['sub'].unique())\n",
    "\n",
    "db_mon = db_mon[db_mon['sub'].isin(med_s)]\n",
    "db_med = db_med[db_med['sub'].isin(mon_s)]\n",
    "\n",
    "print('Subjects who were not too risk averse: ', len(db_mon['sub'].unique()), len(db_med['sub'].unique()))"
   ]
  },
  {
   "cell_type": "code",
   "execution_count": 5,
   "id": "0ccd2af0",
   "metadata": {},
   "outputs": [
    {
     "name": "stdout",
     "output_type": "stream",
     "text": [
      "participants who failed catch trials: mon: [ 17  27 111] ; med: [111]\n"
     ]
    }
   ],
   "source": [
    "mon_catch = db_mon[db_mon.catch >= 7]\n",
    "med_catch = db_med[db_med.catch >= 7]\n",
    "\n",
    "mon_catch_n = mon_catch['sub'].unique()\n",
    "med_catch_n = med_catch['sub'].unique()\n",
    "\n",
    "print('participants who failed catch trials: mon:', mon_catch_n,'; med:', med_catch_n)"
   ]
  },
  {
   "cell_type": "code",
   "execution_count": 6,
   "id": "3a3f03e7",
   "metadata": {},
   "outputs": [
    {
     "name": "stdout",
     "output_type": "stream",
     "text": [
      "Subjects who didn not fail attention check:  66 66\n"
     ]
    }
   ],
   "source": [
    "# remove participants who failed catch trials\n",
    "db_med = db_med[db_med.catch < 7]\n",
    "db_mon = db_mon[db_mon.catch < 7]\n",
    "\n",
    "mon_s = list(db_mon['sub'].unique())\n",
    "med_s = list(db_med['sub'].unique())\n",
    "\n",
    "db_mon = db_mon[db_mon['sub'].isin(med_s)]\n",
    "db_med = db_med[db_med['sub'].isin(mon_s)]\n",
    "\n",
    "print('Subjects who didn not fail attention check: ', len(db_mon['sub'].unique()), len(db_med['sub'].unique()))"
   ]
  },
  {
   "cell_type": "code",
   "execution_count": 7,
   "id": "3a1236bc",
   "metadata": {},
   "outputs": [
    {
     "name": "stdout",
     "output_type": "stream",
     "text": [
      "Final sample includ 66 subjects and 5501 valid trials\n"
     ]
    }
   ],
   "source": [
    "# remove missing trials\n",
    "db_med = db_med.dropna()\n",
    "db_med['choice'] = db_med['choice'].astype('int')\n",
    "\n",
    "# sort dataframe based on subject, makes it easier to compare the output of the models.\n",
    "db_med = db_med.sort_values('sub').reset_index(drop=True)\n",
    "\n",
    "# add serial number for participants\n",
    "db_med['subn'] = db_med['sub'].rank(method='dense').astype(int)-1\n",
    "\n",
    "n_subs_med = db_med['subn'].unique().shape[0]\n",
    "sub_idx_med = db_med.subn.tolist()\n",
    "\n",
    "print(\"Final sample includ {} subjects and {} valid trials\".format(n_subs_med, len(sub_idx_med)))"
   ]
  },
  {
   "cell_type": "code",
   "execution_count": 8,
   "id": "1b654c3f",
   "metadata": {},
   "outputs": [
    {
     "name": "stdout",
     "output_type": "stream",
     "text": [
      "Final sample includ 66 subjects and 5518 valid trials\n"
     ]
    }
   ],
   "source": [
    "# remove missing trials\n",
    "db_mon = db_mon.dropna()\n",
    "db_mon['choice'] = db_mon['choice'].astype('int')\n",
    "\n",
    "# sort dataframe based on subject, makes it easier to compare the output of the models.\n",
    "db_mon = db_mon.sort_values('sub').reset_index(drop=True)\n",
    "\n",
    "# add serial number for participants\n",
    "db_mon['subn'] = db_mon['sub'].rank(method='dense').astype(int)-1\n",
    "\n",
    "n_subs = db_mon['subn'].unique().shape[0]\n",
    "sub_idx = db_mon.subn.tolist()\n",
    "\n",
    "print(\"Final sample includ {} subjects and {} valid trials\".format(n_subs, len(sub_idx)))"
   ]
  },
  {
   "cell_type": "markdown",
   "id": "010b9cab",
   "metadata": {},
   "source": [
    "### Add categories"
   ]
  },
  {
   "cell_type": "code",
   "execution_count": 9,
   "id": "beac482e",
   "metadata": {},
   "outputs": [],
   "source": [
    "db_med['level']= db_med['value'].rank(method='dense').astype(int)\n",
    "\n",
    "db_med['l1'] = db_med.level > 0\n",
    "db_med['l2'] = db_med.level > 1\n",
    "db_med['l3'] = db_med.level > 2\n",
    "db_med['l4'] = db_med.level > 3\n",
    "\n",
    "db_med['l1'] = db_med['l1'].astype(int)\n",
    "db_med['l2'] = db_med['l2'].astype(int)\n",
    "db_med['l3'] = db_med['l3'].astype(int)\n",
    "db_med['l4'] = db_med['l4'].astype(int)"
   ]
  },
  {
   "cell_type": "code",
   "execution_count": 10,
   "id": "c32495f6",
   "metadata": {},
   "outputs": [],
   "source": [
    "db_mon['level']= db_mon['value'].rank(method='dense').astype(int)\n",
    "\n",
    "db_mon['l1'] = db_mon.level > 0\n",
    "db_mon['l2'] = db_mon.level > 1\n",
    "db_mon['l3'] = db_mon.level > 2\n",
    "db_mon['l4'] = db_mon.level > 3\n",
    "\n",
    "db_mon['l1'] = db_mon['l1'].astype(int)\n",
    "db_mon['l2'] = db_mon['l2'].astype(int)\n",
    "db_mon['l3'] = db_mon['l3'].astype(int)\n",
    "db_mon['l4'] = db_mon['l4'].astype(int)"
   ]
  },
  {
   "cell_type": "markdown",
   "id": "d2db3eff",
   "metadata": {},
   "source": [
    "### Final sample descriptives"
   ]
  },
  {
   "cell_type": "code",
   "execution_count": 11,
   "id": "9013e897",
   "metadata": {},
   "outputs": [
    {
     "name": "stdout",
     "output_type": "stream",
     "text": [
      "Total: 66 \n",
      "Females:  30\n"
     ]
    },
    {
     "data": {
      "image/png": "[encoded data removed]",
      "text/plain": [
       "<Figure size 360x432 with 2 Axes>"
      ]
     },
     "metadata": {
      "needs_background": "light"
     },
     "output_type": "display_data"
    }
   ],
   "source": [
    "participants = db_mon.drop_duplicates(['sub'])\n",
    "fig, ax = plt.subplots(2, 1, figsize=(5, 6),sharex=True)\n",
    "\n",
    "sns.histplot(participants[participants['gender']=='F']['age'], binwidth=6, ax=ax[0])\n",
    "sns.histplot(participants[participants['gender']=='M']['age'], binwidth=6, color='orange', ax=ax[1])\n",
    "\n",
    "ax[0].set(ylabel='Females', xlabel='')\n",
    "ax[1].set(ylabel='Males')\n",
    "ax[1].invert_yaxis()\n",
    "\n",
    "plt.subplots_adjust(wspace=0, hspace=0)\n",
    "print(\"Total:\", participants.shape[0], \"\\nFemales: \", participants[participants['gender']=='F'].shape[0])"
   ]
  },
  {
   "cell_type": "markdown",
   "id": "bc5cdd80",
   "metadata": {},
   "source": [
    "## Step 1 Modeling medical decisions\n",
    "\n",
    "### Model 1: no individual parameters"
   ]
  },
  {
   "cell_type": "code",
   "execution_count": 12,
   "id": "ec24462b",
   "metadata": {},
   "outputs": [
    {
     "name": "stderr",
     "output_type": "stream",
     "text": [
      "Auto-assigning NUTS sampler...\n",
      "Initializing NUTS using jitter+adapt_diag...\n",
      "Multiprocess sampling (4 chains in 4 jobs)\n",
      "NUTS: [γ, gSig, gMu]\n"
     ]
    },
    {
     "data": {
      "text/html": [
       "\n",
       "    <div>\n",
       "        <style>\n",
       "            /* Turns off some styling */\n",
       "            progress {\n",
       "                /* gets rid of default border in Firefox and Opera. */\n",
       "                border: none;\n",
       "                /* Needs to be in here for Safari polyfill so background images work as expected. */\n",
       "                background-size: auto;\n",
       "            }\n",
       "            .progress-bar-interrupted, .progress-bar-interrupted::-webkit-progress-bar {\n",
       "                background: #F44336;\n",
       "            }\n",
       "        </style>\n",
       "      <progress value='16000' class='' max='16000' style='width:300px; height:20px; vertical-align: middle;'></progress>\n",
       "      100.00% [16000/16000 01:08<00:00 Sampling 4 chains, 0 divergences]\n",
       "    </div>\n",
       "    "
      ],
      "text/plain": [
       "<IPython.core.display.HTML object>"
      ]
     },
     "metadata": {},
     "output_type": "display_data"
    },
    {
     "name": "stderr",
     "output_type": "stream",
     "text": [
      "Sampling 4 chains for 2_000 tune and 2_000 draw iterations (8_000 + 8_000 draws total) took 69 seconds.\n"
     ]
    }
   ],
   "source": [
    "with pm.Model() as M_RiskAmb_simple:\n",
    "    \n",
    "    # hyper priors\n",
    "    gMu = pm.Normal('gMu',  0, 1)\n",
    "    gSig = pm.Gamma('gSig', 2, 1)\n",
    "   \n",
    "    γ = pm.Lognormal('γ', gMu, gSig, shape = n_subs_med)\n",
    "      \n",
    "    # Expected value of outcome\n",
    "    val  = db_med['value'].values\n",
    "    prob = db_med['risk'].values - (db_med['ambiguity'].values/2)\n",
    "    \n",
    "    svLotto = val * prob\n",
    "    svRef   = 1\n",
    "    \n",
    "    p  = (svLotto - svRef)/γ[sub_idx_med]\n",
    "    mu = pm.invlogit(p)\n",
    "       \n",
    "    # Likelihood (sampling distribution) of observations\n",
    "    choice = pm.Binomial('choice',1, mu, observed=db_med['choice'])\n",
    "    \n",
    "    med_simple = pm.sample(tune=2000, draws=2000, return_inferencedata=True, target_accept=0.99)"
   ]
  },
  {
   "cell_type": "markdown",
   "id": "6107c27a",
   "metadata": {},
   "source": [
    "### Model 2: Unique values"
   ]
  },
  {
   "cell_type": "code",
   "execution_count": 13,
   "id": "e90c33b1",
   "metadata": {},
   "outputs": [
    {
     "name": "stderr",
     "output_type": "stream",
     "text": [
      "WARNING (theano.tensor.opt): Optimization Warning: The Op erfcx does not provide a C implementation. As well as being potentially slow, this also disables loop fusion.\n",
      "Auto-assigning NUTS sampler...\n",
      "Initializing NUTS using jitter+adapt_diag...\n",
      "Multiprocess sampling (4 chains in 4 jobs)\n",
      "NUTS: [level4, level3, level2, level1, γ, β, bSig, bMu, gSig, gMu]\n"
     ]
    },
    {
     "data": {
      "text/html": [
       "\n",
       "    <div>\n",
       "        <style>\n",
       "            /* Turns off some styling */\n",
       "            progress {\n",
       "                /* gets rid of default border in Firefox and Opera. */\n",
       "                border: none;\n",
       "                /* Needs to be in here for Safari polyfill so background images work as expected. */\n",
       "                background-size: auto;\n",
       "            }\n",
       "            .progress-bar-interrupted, .progress-bar-interrupted::-webkit-progress-bar {\n",
       "                background: #F44336;\n",
       "            }\n",
       "        </style>\n",
       "      <progress value='16000' class='' max='16000' style='width:300px; height:20px; vertical-align: middle;'></progress>\n",
       "      100.00% [16000/16000 25:56<00:00 Sampling 4 chains, 0 divergences]\n",
       "    </div>\n",
       "    "
      ],
      "text/plain": [
       "<IPython.core.display.HTML object>"
      ]
     },
     "metadata": {},
     "output_type": "display_data"
    },
    {
     "name": "stderr",
     "output_type": "stream",
     "text": [
      "Sampling 4 chains for 2_000 tune and 2_000 draw iterations (8_000 + 8_000 draws total) took 1557 seconds.\n",
      "The number of effective samples is smaller than 25% for some parameters.\n"
     ]
    }
   ],
   "source": [
    "with pm.Model() as med_estimated:\n",
    "    \n",
    "    # hyper parameters\n",
    "    gMu  = pm.Normal('gMu', 0, 1)\n",
    "    gSig = pm.Gamma('gSig', 2, 1)\n",
    "    \n",
    "    bMu  = pm.Normal('bMu', .65, 1)\n",
    "    bSig = pm.Gamma('bSig', 2,  1)\n",
    "    \n",
    "    # Priors\n",
    "    β = pm.TruncatedNormal('β', bMu, bSig, lower = -1.5, upper = 1.5, shape = n_subs_med)\n",
    "    γ = pm.Lognormal('γ',       gMu, gSig,                            shape = n_subs_med)\n",
    "    \n",
    "    # to avoid the increasing the mean or the SD we sampled each category seperatly and sumed them up\n",
    "    level1 = pm.Normal('level1', 1, 1, shape = n_subs_med)\n",
    "    level2 = pm.Normal('level2', 1, 1, shape = n_subs_med)\n",
    "    level3 = pm.Normal('level3', 1, 1, shape = n_subs_med)\n",
    "    level4 = pm.Normal('level4', 1, 1, shape = n_subs_med)\n",
    "      \n",
    "    # Expected value of outcome\n",
    "    val = (db_med['l1'].values * level1[sub_idx_med] + \n",
    "           db_med['l2'].values * level2[sub_idx_med] + \n",
    "           db_med['l3'].values * level3[sub_idx_med] + \n",
    "           db_med['l4'].values * level4[sub_idx_med]\n",
    "          )   \n",
    "    \n",
    "    # risk and ambiguity calculation\n",
    "    prob = (db_med['risk'].values) - (β[sub_idx_med] * (db_med['ambiguity'].values/2))  \n",
    "    \n",
    "    svLotto = val * prob\n",
    "    svRef   = level1[sub_idx_med] \n",
    "    \n",
    "    p  = (svLotto - svRef)/γ[sub_idx_med]\n",
    "    mu = pm.invlogit(p)\n",
    "       \n",
    "    # Likelihood (sampling distribution) of observations\n",
    "    choice = pm.Binomial('choice',1, mu, observed=db_med['choice'])\n",
    "    \n",
    "    med_estimated = pm.sample(tune=2000, draws=2000, return_inferencedata=True, target_accept=0.99)"
   ]
  },
  {
   "cell_type": "markdown",
   "id": "0bc8bb2c",
   "metadata": {},
   "source": [
    "### Compare models"
   ]
  },
  {
   "cell_type": "code",
   "execution_count": 14,
   "id": "0d6e7233",
   "metadata": {},
   "outputs": [
    {
     "name": "stderr",
     "output_type": "stream",
     "text": [
      "/home/nachshon/anaconda3/envs/risk/lib/python3.8/site-packages/arviz/stats/stats.py:694: UserWarning: Estimated shape parameter of Pareto distribution is greater than 0.7 for one or more samples. You should consider using a more robust model, this is because importance sampling is less likely to work well if the marginal posterior and LOO posterior are very different. This is more likely to happen with a non-robust model and highly influential observations.\n",
      "  warnings.warn(\n",
      "/home/nachshon/anaconda3/envs/risk/lib/python3.8/site-packages/arviz/stats/stats.py:694: UserWarning: Estimated shape parameter of Pareto distribution is greater than 0.7 for one or more samples. You should consider using a more robust model, this is because importance sampling is less likely to work well if the marginal posterior and LOO posterior are very different. This is more likely to happen with a non-robust model and highly influential observations.\n",
      "  warnings.warn(\n"
     ]
    },
    {
     "data": {
      "text/html": [
       "<div>\n",
       "<style scoped>\n",
       "    .dataframe tbody tr th:only-of-type {\n",
       "        vertical-align: middle;\n",
       "    }\n",
       "\n",
       "    .dataframe tbody tr th {\n",
       "        vertical-align: top;\n",
       "    }\n",
       "\n",
       "    .dataframe thead th {\n",
       "        text-align: right;\n",
       "    }\n",
       "</style>\n",
       "<table border=\"1\" class=\"dataframe\">\n",
       "  <thead>\n",
       "    <tr style=\"text-align: right;\">\n",
       "      <th></th>\n",
       "      <th>rank</th>\n",
       "      <th>loo</th>\n",
       "      <th>p_loo</th>\n",
       "      <th>d_loo</th>\n",
       "      <th>weight</th>\n",
       "      <th>se</th>\n",
       "      <th>dse</th>\n",
       "      <th>warning</th>\n",
       "      <th>loo_scale</th>\n",
       "    </tr>\n",
       "  </thead>\n",
       "  <tbody>\n",
       "    <tr>\n",
       "      <th>Estimated Values</th>\n",
       "      <td>0</td>\n",
       "      <td>-1411.351115</td>\n",
       "      <td>249.089657</td>\n",
       "      <td>0.00000</td>\n",
       "      <td>0.985106</td>\n",
       "      <td>44.922919</td>\n",
       "      <td>0.000000</td>\n",
       "      <td>True</td>\n",
       "      <td>log</td>\n",
       "    </tr>\n",
       "    <tr>\n",
       "      <th>No subjective attitudes</th>\n",
       "      <td>1</td>\n",
       "      <td>-2930.400986</td>\n",
       "      <td>47.201304</td>\n",
       "      <td>1519.04987</td>\n",
       "      <td>0.014894</td>\n",
       "      <td>32.225340</td>\n",
       "      <td>42.753244</td>\n",
       "      <td>True</td>\n",
       "      <td>log</td>\n",
       "    </tr>\n",
       "  </tbody>\n",
       "</table>\n",
       "</div>"
      ],
      "text/plain": [
       "                         rank          loo       p_loo       d_loo    weight  \\\n",
       "Estimated Values            0 -1411.351115  249.089657     0.00000  0.985106   \n",
       "No subjective attitudes     1 -2930.400986   47.201304  1519.04987  0.014894   \n",
       "\n",
       "                                se        dse  warning loo_scale  \n",
       "Estimated Values         44.922919   0.000000     True       log  \n",
       "No subjective attitudes  32.225340  42.753244     True       log  "
      ]
     },
     "execution_count": 14,
     "metadata": {},
     "output_type": "execute_result"
    }
   ],
   "source": [
    "compare_dict = {\n",
    "    \"No subjective attitudes\": med_simple, \n",
    "    \"Estimated Values\": med_estimated}\n",
    "\n",
    "comp = az.compare(compare_dict)\n",
    "comp"
   ]
  },
  {
   "cell_type": "markdown",
   "id": "98b03a76",
   "metadata": {},
   "source": [
    "### Save models"
   ]
  },
  {
   "cell_type": "code",
   "execution_count": 15,
   "id": "0e13851b",
   "metadata": {},
   "outputs": [
    {
     "data": {
      "text/plain": [
       "'data/med_estimated.nc'"
      ]
     },
     "execution_count": 15,
     "metadata": {},
     "output_type": "execute_result"
    }
   ],
   "source": [
    "med_simple.to_netcdf(\"data/med_simple.nc\")\n",
    "med_estimated.to_netcdf('data/med_estimated.nc')"
   ]
  },
  {
   "cell_type": "markdown",
   "id": "97928fd1",
   "metadata": {},
   "source": [
    "## Step 2 adding age\n",
    "\n",
    "### Model 3: Age is associated with ambiguity, value and probability weighting"
   ]
  },
  {
   "cell_type": "code",
   "execution_count": 16,
   "id": "bdd4ef23",
   "metadata": {},
   "outputs": [
    {
     "name": "stderr",
     "output_type": "stream",
     "text": [
      "Auto-assigning NUTS sampler...\n",
      "Initializing NUTS using jitter+adapt_diag...\n",
      "Multiprocess sampling (4 chains in 4 jobs)\n",
      "NUTS: [Age-Ambiguty, Age-Value, level4, level3, level2, level1, γ, β, bSig, bMu, gSig, gMu]\n"
     ]
    },
    {
     "data": {
      "text/html": [
       "\n",
       "    <div>\n",
       "        <style>\n",
       "            /* Turns off some styling */\n",
       "            progress {\n",
       "                /* gets rid of default border in Firefox and Opera. */\n",
       "                border: none;\n",
       "                /* Needs to be in here for Safari polyfill so background images work as expected. */\n",
       "                background-size: auto;\n",
       "            }\n",
       "            .progress-bar-interrupted, .progress-bar-interrupted::-webkit-progress-bar {\n",
       "                background: #F44336;\n",
       "            }\n",
       "        </style>\n",
       "      <progress value='16000' class='' max='16000' style='width:300px; height:20px; vertical-align: middle;'></progress>\n",
       "      100.00% [16000/16000 32:10<00:00 Sampling 4 chains, 0 divergences]\n",
       "    </div>\n",
       "    "
      ],
      "text/plain": [
       "<IPython.core.display.HTML object>"
      ]
     },
     "metadata": {},
     "output_type": "display_data"
    },
    {
     "name": "stderr",
     "output_type": "stream",
     "text": [
      "Sampling 4 chains for 2_000 tune and 2_000 draw iterations (8_000 + 8_000 draws total) took 1930 seconds.\n",
      "The number of effective samples is smaller than 10% for some parameters.\n"
     ]
    }
   ],
   "source": [
    "with pm.Model() as M_RiskAmb_estimated_age:\n",
    "\n",
    "    # hyper parameters\n",
    "    gMu  = pm.Normal('gMu', 0, 1)\n",
    "    gSig = pm.Gamma('gSig', 2, 1)\n",
    "    \n",
    "    bMu  = pm.Normal('bMu', .65, 1)\n",
    "    bSig = pm.Gamma('bSig', 2,  1)\n",
    "\n",
    "    # Priors\n",
    "    β = pm.TruncatedNormal('β',  bMu, bSig, lower = -1.5, upper = 1.5, shape = n_subs_med)\n",
    "    γ = pm.Lognormal('γ',        gMu, gSig,                            shape = n_subs_med)\n",
    "    \n",
    "    level1 = pm.Normal('level1', 1, 1, shape = n_subs_med)\n",
    "    level2 = pm.Normal('level2', 1, 1, shape = n_subs_med)\n",
    "    level3 = pm.Normal('level3', 1, 1, shape = n_subs_med)\n",
    "    level4 = pm.Normal('level4', 1, 1, shape = n_subs_med)\n",
    "    \n",
    "    # Age priors\n",
    "    AgeV = pm.Normal('Age-Value',    0, 1)\n",
    "    AgeA = pm.Normal('Age-Ambiguty', 0, 1)\n",
    "      \n",
    "    # Expected value of outcome\n",
    "    val = (db_med['l1'].values * level1[sub_idx_med] + \n",
    "           db_med['l2'].values * level2[sub_idx_med] + \n",
    "           db_med['l3'].values * level3[sub_idx_med] + \n",
    "           db_med['l4'].values * level4[sub_idx_med]\n",
    "          ) + AgeV * db_med['age'].values/100\n",
    "    \n",
    "    # risk and ambiguity calculation\n",
    "    amb  = β[sub_idx_med] + AgeA * db_med['age'].values/100\n",
    "    \n",
    "    prob = db_med['risk'].values - (amb * (db_med['ambiguity'].values/2))\n",
    "        \n",
    "    svLotto = val * prob\n",
    "    svRef = level1[sub_idx_med] + AgeV * db_med['age'].values/100\n",
    "    \n",
    "    p  = (svLotto - svRef)/γ[sub_idx_med]\n",
    "    mu = pm.invlogit(p)\n",
    "       \n",
    "    # Likelihood (sampling distribution) of observations\n",
    "    choice = pm.Binomial('choice',1, mu, observed=db_med['choice'])\n",
    "    \n",
    "    med_estimated_age = pm.sample(tune=2000, draws=2000, return_inferencedata=True, target_accept=0.99)"
   ]
  },
  {
   "cell_type": "code",
   "execution_count": 17,
   "id": "9bff8a10",
   "metadata": {},
   "outputs": [
    {
     "data": {
      "text/html": [
       "<div>\n",
       "<style scoped>\n",
       "    .dataframe tbody tr th:only-of-type {\n",
       "        vertical-align: middle;\n",
       "    }\n",
       "\n",
       "    .dataframe tbody tr th {\n",
       "        vertical-align: top;\n",
       "    }\n",
       "\n",
       "    .dataframe thead th {\n",
       "        text-align: right;\n",
       "    }\n",
       "</style>\n",
       "<table border=\"1\" class=\"dataframe\">\n",
       "  <thead>\n",
       "    <tr style=\"text-align: right;\">\n",
       "      <th></th>\n",
       "      <th>mean</th>\n",
       "      <th>sd</th>\n",
       "      <th>hdi_5.5%</th>\n",
       "      <th>hdi_94.5%</th>\n",
       "      <th>mcse_mean</th>\n",
       "      <th>mcse_sd</th>\n",
       "      <th>ess_bulk</th>\n",
       "      <th>ess_tail</th>\n",
       "      <th>r_hat</th>\n",
       "    </tr>\n",
       "  </thead>\n",
       "  <tbody>\n",
       "    <tr>\n",
       "      <th>Age-Ambiguty</th>\n",
       "      <td>-0.092</td>\n",
       "      <td>0.236</td>\n",
       "      <td>-0.485</td>\n",
       "      <td>0.269</td>\n",
       "      <td>0.009</td>\n",
       "      <td>0.007</td>\n",
       "      <td>620.0</td>\n",
       "      <td>1005.0</td>\n",
       "      <td>1.01</td>\n",
       "    </tr>\n",
       "    <tr>\n",
       "      <th>Age-Value</th>\n",
       "      <td>0.427</td>\n",
       "      <td>0.254</td>\n",
       "      <td>0.021</td>\n",
       "      <td>0.827</td>\n",
       "      <td>0.006</td>\n",
       "      <td>0.004</td>\n",
       "      <td>1986.0</td>\n",
       "      <td>3649.0</td>\n",
       "      <td>1.00</td>\n",
       "    </tr>\n",
       "  </tbody>\n",
       "</table>\n",
       "</div>"
      ],
      "text/plain": [
       "               mean     sd  hdi_5.5%  hdi_94.5%  mcse_mean  mcse_sd  ess_bulk  \\\n",
       "Age-Ambiguty -0.092  0.236    -0.485      0.269      0.009    0.007     620.0   \n",
       "Age-Value     0.427  0.254     0.021      0.827      0.006    0.004    1986.0   \n",
       "\n",
       "              ess_tail  r_hat  \n",
       "Age-Ambiguty    1005.0   1.01  \n",
       "Age-Value       3649.0   1.00  "
      ]
     },
     "execution_count": 17,
     "metadata": {},
     "output_type": "execute_result"
    }
   ],
   "source": [
    "az.summary(med_estimated_age,var_names=['Age-Ambiguty', 'Age-Value'], hdi_prob=.89)"
   ]
  },
  {
   "cell_type": "markdown",
   "id": "fa4811c8",
   "metadata": {},
   "source": [
    "#### Save model"
   ]
  },
  {
   "cell_type": "code",
   "execution_count": 18,
   "id": "44bbf9be",
   "metadata": {},
   "outputs": [
    {
     "data": {
      "text/plain": [
       "'data/med_estimated_age.nc'"
      ]
     },
     "execution_count": 18,
     "metadata": {},
     "output_type": "execute_result"
    }
   ],
   "source": [
    "med_estimated_age.to_netcdf(\"data/med_estimated_age.nc\")"
   ]
  },
  {
   "cell_type": "markdown",
   "id": "b182bd6e",
   "metadata": {},
   "source": [
    "## Step 3 validating the models using monetary decision making\n",
    "\n",
    "### Model 4: no subjective values"
   ]
  },
  {
   "cell_type": "code",
   "execution_count": 19,
   "id": "a771220a",
   "metadata": {},
   "outputs": [
    {
     "name": "stderr",
     "output_type": "stream",
     "text": [
      "Auto-assigning NUTS sampler...\n",
      "Initializing NUTS using jitter+adapt_diag...\n",
      "Multiprocess sampling (4 chains in 4 jobs)\n",
      "NUTS: [γ, gSig, gMu]\n"
     ]
    },
    {
     "data": {
      "text/html": [
       "\n",
       "    <div>\n",
       "        <style>\n",
       "            /* Turns off some styling */\n",
       "            progress {\n",
       "                /* gets rid of default border in Firefox and Opera. */\n",
       "                border: none;\n",
       "                /* Needs to be in here for Safari polyfill so background images work as expected. */\n",
       "                background-size: auto;\n",
       "            }\n",
       "            .progress-bar-interrupted, .progress-bar-interrupted::-webkit-progress-bar {\n",
       "                background: #F44336;\n",
       "            }\n",
       "        </style>\n",
       "      <progress value='16000' class='' max='16000' style='width:300px; height:20px; vertical-align: middle;'></progress>\n",
       "      100.00% [16000/16000 01:08<00:00 Sampling 4 chains, 0 divergences]\n",
       "    </div>\n",
       "    "
      ],
      "text/plain": [
       "<IPython.core.display.HTML object>"
      ]
     },
     "metadata": {},
     "output_type": "display_data"
    },
    {
     "name": "stderr",
     "output_type": "stream",
     "text": [
      "Sampling 4 chains for 2_000 tune and 2_000 draw iterations (8_000 + 8_000 draws total) took 69 seconds.\n"
     ]
    }
   ],
   "source": [
    "with pm.Model() as RiskAmb_free:\n",
    "\n",
    "    # priors\n",
    "    gMu  = pm.Normal('gMu', 0, 1)\n",
    "    gSig = pm.Gamma('gSig', 2, 1)\n",
    "\n",
    "    γ = pm.Lognormal('γ', gMu , gSig, shape = n_subs)\n",
    "      \n",
    "    # Expected value of outcome\n",
    "    prob = (db_mon['risk'].values - (db_mon['ambiguity'].values/2))\n",
    "    \n",
    "    svLotto = db_mon['value'].values * prob\n",
    "    svRef   = 5\n",
    "    \n",
    "    p  = (svLotto - svRef)/γ[sub_idx]\n",
    "    mu = pm.invlogit(p)\n",
    "       \n",
    "    # Likelihood (sampling distribution) of observations\n",
    "    choice = pm.Binomial('choice',1, mu, observed=db_mon['choice'])\n",
    "    \n",
    "    mon_free = pm.sample(tune=2000, draws=2000, return_inferencedata=True, target_accept=0.99)"
   ]
  },
  {
   "cell_type": "markdown",
   "id": "0fd9332d",
   "metadata": {},
   "source": [
    "### Model 5: utility function"
   ]
  },
  {
   "cell_type": "code",
   "execution_count": 20,
   "id": "fe1875d2",
   "metadata": {},
   "outputs": [
    {
     "name": "stderr",
     "output_type": "stream",
     "text": [
      "Auto-assigning NUTS sampler...\n",
      "Initializing NUTS using jitter+adapt_diag...\n",
      "Multiprocess sampling (4 chains in 4 jobs)\n",
      "NUTS: [γ, β, alpha, bSig, bMu, gSig, gMu, alpha_b, alpha_a]\n"
     ]
    },
    {
     "data": {
      "text/html": [
       "\n",
       "    <div>\n",
       "        <style>\n",
       "            /* Turns off some styling */\n",
       "            progress {\n",
       "                /* gets rid of default border in Firefox and Opera. */\n",
       "                border: none;\n",
       "                /* Needs to be in here for Safari polyfill so background images work as expected. */\n",
       "                background-size: auto;\n",
       "            }\n",
       "            .progress-bar-interrupted, .progress-bar-interrupted::-webkit-progress-bar {\n",
       "                background: #F44336;\n",
       "            }\n",
       "        </style>\n",
       "      <progress value='16000' class='' max='16000' style='width:300px; height:20px; vertical-align: middle;'></progress>\n",
       "      100.00% [16000/16000 10:18<00:00 Sampling 4 chains, 1 divergences]\n",
       "    </div>\n",
       "    "
      ],
      "text/plain": [
       "<IPython.core.display.HTML object>"
      ]
     },
     "metadata": {},
     "output_type": "display_data"
    },
    {
     "name": "stderr",
     "output_type": "stream",
     "text": [
      "Sampling 4 chains for 2_000 tune and 2_000 draw iterations (8_000 + 8_000 draws total) took 619 seconds.\n",
      "There was 1 divergence after tuning. Increase `target_accept` or reparameterize.\n"
     ]
    }
   ],
   "source": [
    "with pm.Model() as RiskAmb_beta:\n",
    "    # Hyper Priors\n",
    "    alpha_a = pm.TruncatedNormal('alpha_a', 4, 1, lower = 1)\n",
    "    alpha_b = pm.TruncatedNormal('alpha_b', 7, 1, lower = 1)\n",
    "    \n",
    "    gMu  = pm.Normal('gMu', 0, 1)\n",
    "    gSig = pm.Gamma('gSig', 2, 1)\n",
    "    \n",
    "    bMu  = pm.Normal('bMu', .65, 1)\n",
    "    bSig = pm.Gamma('bSig', 2,  1)\n",
    "    \n",
    "    # Priors\n",
    "    alpha = pm.Beta('alpha', alpha_a, alpha_b, shape = n_subs)\n",
    "    α = pm.Deterministic('α', alpha * 2)\n",
    "    \n",
    "    β = pm.TruncatedNormal('β',  bMu, bSig, lower = -1.5, upper = 1.5, shape = n_subs)\n",
    "    γ = pm.Lognormal('γ',        gMu, gSig,                            shape = n_subs)\n",
    "    \n",
    "          \n",
    "    # Expected value of outcome\n",
    "    value = db_mon['value'].values ** α[sub_idx]\n",
    "    prob  = db_mon['risk'].values - (β[sub_idx] * (db_mon['ambiguity'].values/2))\n",
    "    \n",
    "    svLotto = value * prob\n",
    "    svRef   = 5 ** α[sub_idx]\n",
    "                                     \n",
    "    p  = (svLotto - svRef)/γ[sub_idx]\n",
    "    mu = pm.invlogit(p)\n",
    "       \n",
    "    # Likelihood (sampling distribution) of observations\n",
    "    choice = pm.Binomial('choice',1, mu, observed=db_mon['choice'])\n",
    "\n",
    "    mon_beta = pm.sample(tune=2000, draws=2000, return_inferencedata=True, target_accept=0.99)"
   ]
  },
  {
   "cell_type": "markdown",
   "id": "610f0edc",
   "metadata": {},
   "source": [
    "### Model 6: \"Trembling hand\" model"
   ]
  },
  {
   "cell_type": "code",
   "execution_count": 21,
   "id": "37ce8a0f",
   "metadata": {},
   "outputs": [
    {
     "name": "stderr",
     "output_type": "stream",
     "text": [
      "Auto-assigning NUTS sampler...\n",
      "Initializing NUTS using jitter+adapt_diag...\n",
      "Multiprocess sampling (4 chains in 4 jobs)\n",
      "NUTS: [γ, β, alpha, bSig, bMu, g_b, g_a, alpha_b, alpha_a]\n"
     ]
    },
    {
     "data": {
      "text/html": [
       "\n",
       "    <div>\n",
       "        <style>\n",
       "            /* Turns off some styling */\n",
       "            progress {\n",
       "                /* gets rid of default border in Firefox and Opera. */\n",
       "                border: none;\n",
       "                /* Needs to be in here for Safari polyfill so background images work as expected. */\n",
       "                background-size: auto;\n",
       "            }\n",
       "            .progress-bar-interrupted, .progress-bar-interrupted::-webkit-progress-bar {\n",
       "                background: #F44336;\n",
       "            }\n",
       "        </style>\n",
       "      <progress value='16000' class='' max='16000' style='width:300px; height:20px; vertical-align: middle;'></progress>\n",
       "      100.00% [16000/16000 10:28<00:00 Sampling 4 chains, 0 divergences]\n",
       "    </div>\n",
       "    "
      ],
      "text/plain": [
       "<IPython.core.display.HTML object>"
      ]
     },
     "metadata": {},
     "output_type": "display_data"
    },
    {
     "name": "stderr",
     "output_type": "stream",
     "text": [
      "Sampling 4 chains for 2_000 tune and 2_000 draw iterations (8_000 + 8_000 draws total) took 629 seconds.\n",
      "The number of effective samples is smaller than 10% for some parameters.\n"
     ]
    }
   ],
   "source": [
    "with pm.Model() as RiskAmb_trembel:\n",
    "    # Hyper Priors\n",
    "    alpha_a = pm.TruncatedNormal('alpha_a', 4, 1, lower = 1)\n",
    "    alpha_b = pm.TruncatedNormal('alpha_b', 7, 1, lower = 1)\n",
    "    \n",
    "    g_a = pm.TruncatedNormal('g_a', 2, 1, lower = 1)\n",
    "    g_b = pm.TruncatedNormal('g_b', 2, 1, lower = 1)\n",
    "    \n",
    "    bMu  = pm.Normal('bMu', .65,   1)\n",
    "    bSig = pm.Gamma('bSig', 2, 1)\n",
    "\n",
    "    # Priors\n",
    "    alpha = pm.Beta('alpha', alpha_a, alpha_b, shape = n_subs)\n",
    "    α = pm.Deterministic('α', alpha * 2)\n",
    "    \n",
    "    β = pm.TruncatedNormal('β',  bMu, bSig, lower = -1.5, upper = 1.5, shape = n_subs)\n",
    "       \n",
    "    # Expected value of outcome\n",
    "    value = db_mon['value'].values ** α[sub_idx]\n",
    "    prob  = db_mon['risk'].values  - (β[sub_idx] * (db_mon['ambiguity'].values/2))\n",
    "    \n",
    "    svLotto = value * prob\n",
    "    svRef = 5 ** α[sub_idx]\n",
    "                                \n",
    "    γ = pm.Beta('γ', g_a, g_b, shape = n_subs)\n",
    "\n",
    "    # Expected value of outcome\n",
    "    prob = db_mon['risk'].values - (β[sub_idx] * (db_mon['ambiguity'].values/2))\n",
    "    val = db_mon['value'].values ** α[sub_idx]\n",
    "            \n",
    "    svLotto =  val * prob\n",
    "    svRef = 5 ** α[sub_idx]\n",
    "    p = (1/(1+np.exp(-(svLotto - svRef))))*(1-γ[sub_idx])+γ[sub_idx]*.5\n",
    "\n",
    "    # Likelihood (sampling distribution) of observations\n",
    "    choice = pm.Binomial('choice',1, p, observed=db_mon['choice'])\n",
    "\n",
    "    mon_hand = pm.sample(tune=2000, draws=2000, return_inferencedata=True, target_accept=0.99)"
   ]
  },
  {
   "cell_type": "markdown",
   "id": "81a8ca04",
   "metadata": {},
   "source": [
    "### Model 7: Unique values"
   ]
  },
  {
   "cell_type": "code",
   "execution_count": 22,
   "id": "c34e5d92",
   "metadata": {},
   "outputs": [
    {
     "name": "stderr",
     "output_type": "stream",
     "text": [
      "Auto-assigning NUTS sampler...\n",
      "Initializing NUTS using jitter+adapt_diag...\n",
      "Multiprocess sampling (4 chains in 4 jobs)\n",
      "NUTS: [level4, level3, level2, level1, β, γ, gSig, gMu, bSig, bMu]\n"
     ]
    },
    {
     "data": {
      "text/html": [
       "\n",
       "    <div>\n",
       "        <style>\n",
       "            /* Turns off some styling */\n",
       "            progress {\n",
       "                /* gets rid of default border in Firefox and Opera. */\n",
       "                border: none;\n",
       "                /* Needs to be in here for Safari polyfill so background images work as expected. */\n",
       "                background-size: auto;\n",
       "            }\n",
       "            .progress-bar-interrupted, .progress-bar-interrupted::-webkit-progress-bar {\n",
       "                background: #F44336;\n",
       "            }\n",
       "        </style>\n",
       "      <progress value='16000' class='' max='16000' style='width:300px; height:20px; vertical-align: middle;'></progress>\n",
       "      100.00% [16000/16000 27:00<00:00 Sampling 4 chains, 1 divergences]\n",
       "    </div>\n",
       "    "
      ],
      "text/plain": [
       "<IPython.core.display.HTML object>"
      ]
     },
     "metadata": {},
     "output_type": "display_data"
    },
    {
     "name": "stderr",
     "output_type": "stream",
     "text": [
      "Sampling 4 chains for 2_000 tune and 2_000 draw iterations (8_000 + 8_000 draws total) took 1621 seconds.\n",
      "There was 1 divergence after tuning. Increase `target_accept` or reparameterize.\n"
     ]
    }
   ],
   "source": [
    "with pm.Model() as RiskAmb_estimated_mon:\n",
    "    \n",
    "    # hyper parameters\n",
    "    bMu  = pm.Normal('bMu', .65, 1)\n",
    "    bSig = pm.Gamma('bSig', 2,  1)\n",
    "    \n",
    "    gMu  = pm.Normal('gMu', 0, 1)\n",
    "    gSig = pm.Gamma('gSig', 2, 1)\n",
    "    \n",
    "    # Priors\n",
    "    γ = pm.Lognormal('γ',       gMu, gSig,                            shape = n_subs)\n",
    "    β = pm.TruncatedNormal('β', bMu, bSig, lower = -1.5, upper = 1.5, shape = n_subs)\n",
    "\n",
    "    \n",
    "    level1 = pm.Normal('level1', 1, 1, shape = n_subs)\n",
    "    level2 = pm.Normal('level2', 1, 1, shape = n_subs)\n",
    "    level3 = pm.Normal('level3', 1, 1, shape = n_subs)\n",
    "    level4 = pm.Normal('level4', 1, 1, shape = n_subs)\n",
    "      \n",
    "    # Expected value of outcome\n",
    "    val = (db_mon['l1'].values * level1[sub_idx] + \n",
    "           db_mon['l2'].values * level2[sub_idx] + \n",
    "           db_mon['l3'].values * level3[sub_idx] + \n",
    "           db_mon['l4'].values * level4[sub_idx]\n",
    "          )   \n",
    "        \n",
    "    # risk and ambiguity calculation\n",
    "    prob  = db_mon['risk'].values - (β[sub_idx] * (db_mon['ambiguity'].values/2))\n",
    "    \n",
    "    svLotto = val * prob\n",
    "    svRef   = level1[sub_idx] \n",
    "    \n",
    "    p  = (svLotto - svRef)/γ[sub_idx]\n",
    "    mu = pm.invlogit(p)\n",
    "       \n",
    "    # Likelihood (sampling distribution) of observations\n",
    "    choice = pm.Binomial('choice',1, mu, observed=db_mon['choice'])\n",
    "    \n",
    "    mon_estimated = pm.sample(tune=2000, draws=2000, return_inferencedata=True, target_accept=0.99)"
   ]
  },
  {
   "cell_type": "markdown",
   "id": "c8daf0d8",
   "metadata": {},
   "source": [
    "#### compare models"
   ]
  },
  {
   "cell_type": "code",
   "execution_count": 23,
   "id": "15b77645",
   "metadata": {},
   "outputs": [
    {
     "name": "stderr",
     "output_type": "stream",
     "text": [
      "/home/nachshon/anaconda3/envs/risk/lib/python3.8/site-packages/arviz/stats/stats.py:694: UserWarning: Estimated shape parameter of Pareto distribution is greater than 0.7 for one or more samples. You should consider using a more robust model, this is because importance sampling is less likely to work well if the marginal posterior and LOO posterior are very different. This is more likely to happen with a non-robust model and highly influential observations.\n",
      "  warnings.warn(\n",
      "/home/nachshon/anaconda3/envs/risk/lib/python3.8/site-packages/arviz/stats/stats.py:694: UserWarning: Estimated shape parameter of Pareto distribution is greater than 0.7 for one or more samples. You should consider using a more robust model, this is because importance sampling is less likely to work well if the marginal posterior and LOO posterior are very different. This is more likely to happen with a non-robust model and highly influential observations.\n",
      "  warnings.warn(\n",
      "/home/nachshon/anaconda3/envs/risk/lib/python3.8/site-packages/arviz/stats/stats.py:694: UserWarning: Estimated shape parameter of Pareto distribution is greater than 0.7 for one or more samples. You should consider using a more robust model, this is because importance sampling is less likely to work well if the marginal posterior and LOO posterior are very different. This is more likely to happen with a non-robust model and highly influential observations.\n",
      "  warnings.warn(\n",
      "/home/nachshon/anaconda3/envs/risk/lib/python3.8/site-packages/arviz/stats/stats.py:694: UserWarning: Estimated shape parameter of Pareto distribution is greater than 0.7 for one or more samples. You should consider using a more robust model, this is because importance sampling is less likely to work well if the marginal posterior and LOO posterior are very different. This is more likely to happen with a non-robust model and highly influential observations.\n",
      "  warnings.warn(\n"
     ]
    },
    {
     "data": {
      "text/html": [
       "<div>\n",
       "<style scoped>\n",
       "    .dataframe tbody tr th:only-of-type {\n",
       "        vertical-align: middle;\n",
       "    }\n",
       "\n",
       "    .dataframe tbody tr th {\n",
       "        vertical-align: top;\n",
       "    }\n",
       "\n",
       "    .dataframe thead th {\n",
       "        text-align: right;\n",
       "    }\n",
       "</style>\n",
       "<table border=\"1\" class=\"dataframe\">\n",
       "  <thead>\n",
       "    <tr style=\"text-align: right;\">\n",
       "      <th></th>\n",
       "      <th>rank</th>\n",
       "      <th>loo</th>\n",
       "      <th>p_loo</th>\n",
       "      <th>d_loo</th>\n",
       "      <th>weight</th>\n",
       "      <th>se</th>\n",
       "      <th>dse</th>\n",
       "      <th>warning</th>\n",
       "      <th>loo_scale</th>\n",
       "    </tr>\n",
       "  </thead>\n",
       "  <tbody>\n",
       "    <tr>\n",
       "      <th>Estimated values</th>\n",
       "      <td>0</td>\n",
       "      <td>-1562.257574</td>\n",
       "      <td>259.854913</td>\n",
       "      <td>0.000000</td>\n",
       "      <td>9.280901e-01</td>\n",
       "      <td>45.987935</td>\n",
       "      <td>0.000000</td>\n",
       "      <td>True</td>\n",
       "      <td>log</td>\n",
       "    </tr>\n",
       "    <tr>\n",
       "      <th>Classic Utility</th>\n",
       "      <td>1</td>\n",
       "      <td>-1833.580130</td>\n",
       "      <td>181.288085</td>\n",
       "      <td>271.322555</td>\n",
       "      <td>9.850873e-13</td>\n",
       "      <td>45.154320</td>\n",
       "      <td>25.243382</td>\n",
       "      <td>True</td>\n",
       "      <td>log</td>\n",
       "    </tr>\n",
       "    <tr>\n",
       "      <th>Trembling-hand</th>\n",
       "      <td>2</td>\n",
       "      <td>-1977.037895</td>\n",
       "      <td>136.310295</td>\n",
       "      <td>414.780320</td>\n",
       "      <td>7.190994e-02</td>\n",
       "      <td>36.577556</td>\n",
       "      <td>31.747156</td>\n",
       "      <td>True</td>\n",
       "      <td>log</td>\n",
       "    </tr>\n",
       "    <tr>\n",
       "      <th>simple model</th>\n",
       "      <td>3</td>\n",
       "      <td>-2618.234341</td>\n",
       "      <td>59.146018</td>\n",
       "      <td>1055.976767</td>\n",
       "      <td>0.000000e+00</td>\n",
       "      <td>38.232897</td>\n",
       "      <td>41.801779</td>\n",
       "      <td>True</td>\n",
       "      <td>log</td>\n",
       "    </tr>\n",
       "  </tbody>\n",
       "</table>\n",
       "</div>"
      ],
      "text/plain": [
       "                  rank          loo       p_loo        d_loo        weight  \\\n",
       "Estimated values     0 -1562.257574  259.854913     0.000000  9.280901e-01   \n",
       "Classic Utility      1 -1833.580130  181.288085   271.322555  9.850873e-13   \n",
       "Trembling-hand       2 -1977.037895  136.310295   414.780320  7.190994e-02   \n",
       "simple model         3 -2618.234341   59.146018  1055.976767  0.000000e+00   \n",
       "\n",
       "                         se        dse  warning loo_scale  \n",
       "Estimated values  45.987935   0.000000     True       log  \n",
       "Classic Utility   45.154320  25.243382     True       log  \n",
       "Trembling-hand    36.577556  31.747156     True       log  \n",
       "simple model      38.232897  41.801779     True       log  "
      ]
     },
     "execution_count": 23,
     "metadata": {},
     "output_type": "execute_result"
    }
   ],
   "source": [
    "compare_dict = {'simple model': mon_free, \n",
    "                'Classic Utility': mon_beta,\n",
    "                'Trembling-hand': mon_hand, \n",
    "                'Estimated values': mon_estimated\n",
    "}\n",
    "\n",
    "comp = az.compare(compare_dict)\n",
    "comp"
   ]
  },
  {
   "cell_type": "markdown",
   "id": "1b676d78",
   "metadata": {},
   "source": [
    "#### Save models"
   ]
  },
  {
   "cell_type": "code",
   "execution_count": 24,
   "id": "a997e50b",
   "metadata": {},
   "outputs": [
    {
     "data": {
      "text/plain": [
       "'data/mon_estimated.nc'"
      ]
     },
     "execution_count": 24,
     "metadata": {},
     "output_type": "execute_result"
    }
   ],
   "source": [
    "mon_free.to_netcdf(\"data/mon_free.nc\")\n",
    "mon_beta.to_netcdf('data/mon_beta.nc')\n",
    "mon_hand.to_netcdf('data/mon_hand.nc')\n",
    "mon_estimated.to_netcdf('data/mon_estimated.nc')"
   ]
  },
  {
   "cell_type": "markdown",
   "id": "bd48ab18",
   "metadata": {},
   "source": [
    "## Step 4: test age in the winning model\n",
    "\n",
    "### Model 8: Unique values with probability weighting and age"
   ]
  },
  {
   "cell_type": "code",
   "execution_count": 25,
   "id": "f60d3bc5",
   "metadata": {},
   "outputs": [
    {
     "name": "stderr",
     "output_type": "stream",
     "text": [
      "Auto-assigning NUTS sampler...\n",
      "Initializing NUTS using jitter+adapt_diag...\n",
      "Multiprocess sampling (4 chains in 4 jobs)\n",
      "NUTS: [level4, level3, level2, level1, Age-Ambiguty, Age-Value, γ, β, gSig, gMu, bSig, bMu]\n"
     ]
    },
    {
     "data": {
      "text/html": [
       "\n",
       "    <div>\n",
       "        <style>\n",
       "            /* Turns off some styling */\n",
       "            progress {\n",
       "                /* gets rid of default border in Firefox and Opera. */\n",
       "                border: none;\n",
       "                /* Needs to be in here for Safari polyfill so background images work as expected. */\n",
       "                background-size: auto;\n",
       "            }\n",
       "            .progress-bar-interrupted, .progress-bar-interrupted::-webkit-progress-bar {\n",
       "                background: #F44336;\n",
       "            }\n",
       "        </style>\n",
       "      <progress value='16000' class='' max='16000' style='width:300px; height:20px; vertical-align: middle;'></progress>\n",
       "      100.00% [16000/16000 34:05<00:00 Sampling 4 chains, 0 divergences]\n",
       "    </div>\n",
       "    "
      ],
      "text/plain": [
       "<IPython.core.display.HTML object>"
      ]
     },
     "metadata": {},
     "output_type": "display_data"
    },
    {
     "name": "stderr",
     "output_type": "stream",
     "text": [
      "Sampling 4 chains for 2_000 tune and 2_000 draw iterations (8_000 + 8_000 draws total) took 2045 seconds.\n",
      "The number of effective samples is smaller than 10% for some parameters.\n"
     ]
    }
   ],
   "source": [
    "with pm.Model() as RiskAmb_unique_mon_age:\n",
    "    \n",
    "    # hyper parameters\n",
    "    bMu  = pm.Normal('bMu', .65, 1)\n",
    "    bSig = pm.Gamma('bSig', 2,  1)\n",
    "    \n",
    "    gMu  = pm.Normal('gMu', 0, 1)\n",
    "    gSig = pm.Gamma('gSig', 2, 1)\n",
    "    \n",
    "    # Priors\n",
    "    β = pm.TruncatedNormal('β',  bMu, bSig, lower = -1.5, upper = 1.5, shape = n_subs)\n",
    "    γ = pm.Lognormal('γ',        gMu, gSig,                            shape = n_subs)\n",
    "    \n",
    "    # Age priors\n",
    "    AgeV = pm.Normal('Age-Value',    0, 1)\n",
    "    AgeA = pm.Normal('Age-Ambiguty', 0, 1)\n",
    "      \n",
    "    level1 = pm.Normal('level1', 1, 1, shape = n_subs)\n",
    "    level2 = pm.Normal('level2', 1, 1, shape = n_subs)\n",
    "    level3 = pm.Normal('level3', 1, 1, shape = n_subs)\n",
    "    level4 = pm.Normal('level4', 1, 1, shape = n_subs)\n",
    "      \n",
    "    # Expected value of outcome\n",
    "    val = (db_mon['l1'].values * level1[sub_idx] + \n",
    "           db_mon['l2'].values * level2[sub_idx] + \n",
    "           db_mon['l3'].values * level3[sub_idx] + \n",
    "           db_mon['l4'].values * level4[sub_idx]\n",
    "          ) + AgeV * db_mon['age'].values/100\n",
    "    \n",
    "    amb  = β[sub_idx] + AgeA * db_mon['age'].values/100\n",
    "    \n",
    "    prob  = db_mon['risk'].values - (amb * (db_mon['ambiguity'].values/2))\n",
    "    \n",
    "    svLotto = val * prob\n",
    "    svRef = level1[sub_idx] + AgeV * db_mon['age'].values/100\n",
    "    \n",
    "    p  = (svLotto - svRef)/γ[sub_idx]\n",
    "    mu = pm.invlogit(p)\n",
    "       \n",
    "    # Likelihood (sampling distribution) of observations\n",
    "    choice = pm.Binomial('choice',1, mu, observed=db_mon['choice'])\n",
    "    \n",
    "    mon_estimated_age = pm.sample(tune=2000, draws=2000, return_inferencedata=True, target_accept=0.99)"
   ]
  },
  {
   "cell_type": "code",
   "execution_count": 26,
   "id": "19fac1d9",
   "metadata": {},
   "outputs": [
    {
     "data": {
      "text/html": [
       "<div>\n",
       "<style scoped>\n",
       "    .dataframe tbody tr th:only-of-type {\n",
       "        vertical-align: middle;\n",
       "    }\n",
       "\n",
       "    .dataframe tbody tr th {\n",
       "        vertical-align: top;\n",
       "    }\n",
       "\n",
       "    .dataframe thead th {\n",
       "        text-align: right;\n",
       "    }\n",
       "</style>\n",
       "<table border=\"1\" class=\"dataframe\">\n",
       "  <thead>\n",
       "    <tr style=\"text-align: right;\">\n",
       "      <th></th>\n",
       "      <th>mean</th>\n",
       "      <th>sd</th>\n",
       "      <th>hdi_5.5%</th>\n",
       "      <th>hdi_94.5%</th>\n",
       "      <th>mcse_mean</th>\n",
       "      <th>mcse_sd</th>\n",
       "      <th>ess_bulk</th>\n",
       "      <th>ess_tail</th>\n",
       "      <th>r_hat</th>\n",
       "    </tr>\n",
       "  </thead>\n",
       "  <tbody>\n",
       "    <tr>\n",
       "      <th>Age-Ambiguty</th>\n",
       "      <td>-0.181</td>\n",
       "      <td>0.218</td>\n",
       "      <td>-0.522</td>\n",
       "      <td>0.180</td>\n",
       "      <td>0.009</td>\n",
       "      <td>0.006</td>\n",
       "      <td>559.0</td>\n",
       "      <td>1294.0</td>\n",
       "      <td>1.01</td>\n",
       "    </tr>\n",
       "    <tr>\n",
       "      <th>Age-Value</th>\n",
       "      <td>0.843</td>\n",
       "      <td>0.261</td>\n",
       "      <td>0.433</td>\n",
       "      <td>1.261</td>\n",
       "      <td>0.005</td>\n",
       "      <td>0.003</td>\n",
       "      <td>3352.0</td>\n",
       "      <td>4743.0</td>\n",
       "      <td>1.00</td>\n",
       "    </tr>\n",
       "  </tbody>\n",
       "</table>\n",
       "</div>"
      ],
      "text/plain": [
       "               mean     sd  hdi_5.5%  hdi_94.5%  mcse_mean  mcse_sd  ess_bulk  \\\n",
       "Age-Ambiguty -0.181  0.218    -0.522      0.180      0.009    0.006     559.0   \n",
       "Age-Value     0.843  0.261     0.433      1.261      0.005    0.003    3352.0   \n",
       "\n",
       "              ess_tail  r_hat  \n",
       "Age-Ambiguty    1294.0   1.01  \n",
       "Age-Value       4743.0   1.00  "
      ]
     },
     "execution_count": 26,
     "metadata": {},
     "output_type": "execute_result"
    }
   ],
   "source": [
    "az.summary(mon_estimated_age, var_names=['Age-Ambiguty', 'Age-Value'], hdi_prob=.89)"
   ]
  },
  {
   "cell_type": "markdown",
   "id": "7184591e",
   "metadata": {},
   "source": [
    "### save model"
   ]
  },
  {
   "cell_type": "code",
   "execution_count": 27,
   "id": "e8348f13",
   "metadata": {},
   "outputs": [
    {
     "data": {
      "text/plain": [
       "'data/mon_estimated_age.nc'"
      ]
     },
     "execution_count": 27,
     "metadata": {},
     "output_type": "execute_result"
    }
   ],
   "source": [
    "mon_estimated_age.to_netcdf(\"data/mon_estimated_age.nc\")"
   ]
  },
  {
   "cell_type": "markdown",
   "id": "3d3aa718",
   "metadata": {},
   "source": [
    "### Plot Estimated values"
   ]
  },
  {
   "cell_type": "code",
   "execution_count": 28,
   "id": "d1253e5a",
   "metadata": {},
   "outputs": [],
   "source": [
    "# get subjects data\n",
    "df = db_med[['sub','age', 'gender', 'moca_score']].sort_values('sub').drop_duplicates().reset_index(drop=True)\n",
    "df['age'] = df.age.astype('int')\n",
    "\n",
    "# extract parameters from the model\n",
    "level1 = az.summary(med_estimated, var_names=['level1'])[['mean','sd']]\n",
    "level2 = az.summary(med_estimated, var_names=['level2'])[['mean','sd']]\n",
    "level3 = az.summary(med_estimated, var_names=['level3'])[['mean','sd']]\n",
    "level4 = az.summary(med_estimated, var_names=['level4'])[['mean','sd']]\n",
    "beta = az.summary(  med_estimated, var_names=['β']     )[['mean','sd']]\n",
    "\n",
    "# change column names\n",
    "level1 = level1.rename(columns={'mean': \"level1_med\",'sd': \"level1_sd_med\"}).reset_index(drop=True)\n",
    "level2 = level2.rename(columns={'mean': \"level2_med\",'sd': \"level2_sd_med\"}).reset_index(drop=True)\n",
    "level3 = level3.rename(columns={'mean': \"level3_med\",'sd': \"level3_sd_med\"}).reset_index(drop=True)\n",
    "level4 = level4.rename(columns={'mean': \"level4_med\",'sd': \"level4_sd_med\"}).reset_index(drop=True)\n",
    "beta   = beta.rename(  columns={'mean': \"beta_med\",  'sd': \"beta_sd_med\"}).reset_index(drop=True)\n",
    "\n",
    "# combine to a single dataframe\n",
    "df = df.merge(level1, left_index=True, right_index=True)\n",
    "df = df.merge(level2, left_index=True, right_index=True)\n",
    "df = df.merge(level3, left_index=True, right_index=True)\n",
    "df = df.merge(level4, left_index=True, right_index=True)\n",
    "df = df.merge(beta,   left_index=True, right_index=True)\n",
    "\n",
    "# calculate the SV of each level\n",
    "df['level1'] = df['level1_med']\n",
    "df['level2'] = df['level1'] + df['level2_med']\n",
    "df['level3'] = df['level2'] + df['level3_med']\n",
    "df['level4'] = df['level3'] + df['level4_med']"
   ]
  },
  {
   "cell_type": "code",
   "execution_count": 29,
   "id": "0f037923",
   "metadata": {},
   "outputs": [
    {
     "name": "stdout",
     "output_type": "stream",
     "text": [
      "Levels Mean:  1.226757575757576 1.5458333333333334 1.1559242424242426 0.8512575757575757\n",
      "Levels SD:  0.5898441258041298 0.5905554032801955 0.7021215104758656 0.686636296267317\n"
     ]
    }
   ],
   "source": [
    "df_long_med = df.melt(id_vars='sub',\n",
    "                      value_vars=['level1', 'level2', 'level3', 'level4'], \n",
    "                      var_name='level')\n",
    "\n",
    "hist = db_med.groupby(['sub','level','risk','ambiguity']).sum()['choice']\n",
    "hist = hist.reset_index()\n",
    "\n",
    "\n",
    "hist['risk'] = hist.risk.astype('category')\n",
    "hist['ambiguity'] = hist.ambiguity.astype('category')\n",
    "hist['level'] = hist.level.astype('category')\n",
    "\n",
    "print(\"Levels Mean: \", \n",
    "      np.mean(df['level1_med']), \n",
    "      np.mean(df['level2_med']),\n",
    "      np.mean(df['level3_med']),\n",
    "      np.mean(df['level4_med']))\n",
    "\n",
    "print(\"Levels SD: \", \n",
    "      np.std(df['level1_med']), \n",
    "      np.std(df['level2_med']),\n",
    "      np.std(df['level3_med']),\n",
    "      np.std(df['level4_med']))\n",
    "\n",
    "level_mapping = {\n",
    "    'level1': 'Slight',\n",
    "    'level2': 'Moderate',\n",
    "    'level3': 'Major',\n",
    "    'level4': 'Complete recovery'\n",
    "}\n",
    "\n",
    "df_long_med['levelName'] = df_long_med['level'].map(level_mapping)"
   ]
  },
  {
   "cell_type": "code",
   "execution_count": 30,
   "id": "4c8d1189",
   "metadata": {},
   "outputs": [],
   "source": [
    "# get subjects data\n",
    "df = db_mon[['sub','age', 'gender', 'moca_score']].sort_values('sub').drop_duplicates().reset_index(drop=True)\n",
    "df['age'] = df.age.astype('int')\n",
    "\n",
    "# extract parameters from the model\n",
    "level1 = az.summary(mon_estimated, var_names=['level1'])[['mean','sd']]\n",
    "level2 = az.summary(mon_estimated, var_names=['level2'])[['mean','sd']]\n",
    "level3 = az.summary(mon_estimated, var_names=['level3'])[['mean','sd']]\n",
    "level4 = az.summary(mon_estimated, var_names=['level4'])[['mean','sd']]\n",
    "beta   = az.summary(mon_estimated, var_names=['β']     )[['mean','sd']]\n",
    "\n",
    "# change column names\n",
    "level1 = level1.rename(columns={'mean': \"level1_mon\",'sd': \"level1_sd_mon\"}).reset_index(drop=True)\n",
    "level2 = level2.rename(columns={'mean': \"level2_mon\",'sd': \"level2_sd_mon\"}).reset_index(drop=True)\n",
    "level3 = level3.rename(columns={'mean': \"level3_mon\",'sd': \"level3_sd_mon\"}).reset_index(drop=True)\n",
    "level4 = level4.rename(columns={'mean': \"level4_mon\",'sd': \"level4_sd_mon\"}).reset_index(drop=True)\n",
    "beta   = beta.rename(  columns={'mean': \"beta_mon\",  'sd': \"beta_sd_mon\"}  ).reset_index(drop=True)\n",
    "\n",
    "# combine to a single dataframe\n",
    "df = df.merge(level1, left_index=True, right_index=True)\n",
    "df = df.merge(level2, left_index=True, right_index=True)\n",
    "df = df.merge(level3, left_index=True, right_index=True)\n",
    "df = df.merge(level4, left_index=True, right_index=True)\n",
    "df = df.merge(beta,   left_index=True, right_index=True)\n",
    "\n",
    "# calculate the SV of each level\n",
    "df['level1'] = df['level1_mon']\n",
    "df['level2'] = df['level1'] + df['level2_mon']\n",
    "df['level3'] = df['level2'] + df['level3_mon']\n",
    "df['level4'] = df['level3'] + df['level4_mon']"
   ]
  },
  {
   "cell_type": "code",
   "execution_count": 31,
   "id": "ea944879",
   "metadata": {},
   "outputs": [
    {
     "name": "stdout",
     "output_type": "stream",
     "text": [
      "Levels Mean:  1.3892727272727274 0.8180151515151516 1.147 1.3676060606060607\n",
      "Levels SD:  0.4774016968605047 0.7275782055731034 0.7154204951275054 0.7850474774059534\n"
     ]
    }
   ],
   "source": [
    "df_long_mon = df.melt(id_vars='sub',\n",
    "                      value_vars=['level1', 'level2', 'level3', 'level4'],\n",
    "                      var_name='level')\n",
    "\n",
    "hist = db_mon.groupby(['sub','level','risk','ambiguity']).sum()['choice']\n",
    "hist = hist.reset_index()\n",
    "\n",
    "\n",
    "hist['risk'] = hist.risk.astype('category')\n",
    "hist['ambiguity'] = hist.ambiguity.astype('category')\n",
    "hist['level'] = hist.level.astype('category')\n",
    "\n",
    "print(\"Levels Mean: \", \n",
    "      np.mean(df['level1_mon']), \n",
    "      np.mean(df['level2_mon']),\n",
    "      np.mean(df['level3_mon']),\n",
    "      np.mean(df['level4_mon']))\n",
    "\n",
    "print(\"Levels SD: \", \n",
    "      np.std(df['level1_mon']), \n",
    "      np.std(df['level2_mon']),\n",
    "      np.std(df['level3_mon']),\n",
    "      np.std(df['level4_mon']))\n",
    "\n",
    "level_mapping = {\n",
    "    'level1': 5,\n",
    "    'level2': 8,\n",
    "    'level3': 12,\n",
    "    'level4': 25\n",
    "}\n",
    "\n",
    "df_long_mon['levelName'] = df_long_mon['level'].map(level_mapping)"
   ]
  },
  {
   "cell_type": "code",
   "execution_count": 32,
   "id": "f82dbf11",
   "metadata": {},
   "outputs": [
    {
     "data": {
      "image/png": "[encoded data removed]",
      "text/plain": [
       "<Figure size 1800x720 with 2 Axes>"
      ]
     },
     "metadata": {
      "needs_background": "light"
     },
     "output_type": "display_data"
    }
   ],
   "source": [
    "fig, axes = plt.subplots(1, 2, figsize=(25, 10), sharey=True)\n",
    "sns.lineplot(data = df_long_mon, x = 'levelName', y='value', ax=axes[0])\n",
    "sns.lineplot(data = df_long_med, x = 'levelName', y='value', ax=axes[1])\n",
    "\n",
    "\n",
    "#axes[1].set(ylabel=\"Estimated Value\")\n",
    "axes[0].set_title('Monetary', fontweight=\"bold\", size=60)\n",
    "axes[1].set_title('Medical', fontweight=\"bold\", size=60)\n",
    "axes[0].set_ylabel('Estimated Value', fontsize = 50.0)\n",
    "axes[0].set_xlabel('', fontsize = 50.0)\n",
    "axes[1].set_xlabel('', fontsize = 50.0)\n",
    "axes[0].tick_params(axis='both', which='major', labelsize=40)\n",
    "axes[1].tick_params(axis='both', which='major', labelsize=40)\n",
    "axes[1].tick_params(axis='x', labelrotation=8)\n",
    "\n",
    "\n",
    "axes[0].set_facecolor('White')\n",
    "axes[1].set_facecolor('White')\n",
    "\n",
    "for spine in ['right', 'top']:\n",
    "    axes[0].spines[spine].set_color('white')\n",
    "    axes[1].spines[spine].set_color('white')\n",
    "    \n",
    "fig.tight_layout()\n"
   ]
  },
  {
   "cell_type": "code",
   "execution_count": 33,
   "id": "17f301b4",
   "metadata": {},
   "outputs": [
    {
     "name": "stderr",
     "output_type": "stream",
     "text": [
      "Auto-assigning NUTS sampler...\n",
      "Initializing NUTS using jitter+adapt_diag...\n",
      "Multiprocess sampling (4 chains in 4 jobs)\n",
      "NUTS: [γ, age_b, β, age_a, alpha, bSig, bMu, gSig, gMu, alpha_b, alpha_a]\n"
     ]
    },
    {
     "data": {
      "text/html": [
       "\n",
       "    <div>\n",
       "        <style>\n",
       "            /* Turns off some styling */\n",
       "            progress {\n",
       "                /* gets rid of default border in Firefox and Opera. */\n",
       "                border: none;\n",
       "                /* Needs to be in here for Safari polyfill so background images work as expected. */\n",
       "                background-size: auto;\n",
       "            }\n",
       "            .progress-bar-interrupted, .progress-bar-interrupted::-webkit-progress-bar {\n",
       "                background: #F44336;\n",
       "            }\n",
       "        </style>\n",
       "      <progress value='16000' class='' max='16000' style='width:300px; height:20px; vertical-align: middle;'></progress>\n",
       "      100.00% [16000/16000 04:32<00:00 Sampling 4 chains, 3 divergences]\n",
       "    </div>\n",
       "    "
      ],
      "text/plain": [
       "<IPython.core.display.HTML object>"
      ]
     },
     "metadata": {},
     "output_type": "display_data"
    },
    {
     "name": "stderr",
     "output_type": "stream",
     "text": [
      "Sampling 4 chains for 2_000 tune and 2_000 draw iterations (8_000 + 8_000 draws total) took 273 seconds.\n",
      "There were 3 divergences after tuning. Increase `target_accept` or reparameterize.\n"
     ]
    }
   ],
   "source": [
    "with pm.Model() as RiskAmb_beta_fixed_age:\n",
    "    # Hyper Priors\n",
    "    alpha_a = pm.TruncatedNormal('alpha_a', 4, 1, lower = 1)\n",
    "    alpha_b = pm.TruncatedNormal('alpha_b', 7, 1, lower = 1)\n",
    "    \n",
    "    gMu  = pm.Normal('gMu', 0, 1)\n",
    "    gSig = pm.Gamma('gSig', 2, 1)\n",
    "    \n",
    "    bMu  = pm.Normal('bMu', .65, 1)\n",
    "    bSig = pm.Gamma('bSig', 2,  1)\n",
    "    \n",
    "    # Priors\n",
    "    alpha = pm.Beta('alpha', alpha_a, alpha_b)\n",
    "    age_a = pm.Normal('age_a', 0, 1)\n",
    "    \n",
    "    α = pm.Deterministic('α', alpha * 2)\n",
    "    \n",
    "    \n",
    "    β = pm.TruncatedNormal('β',  bMu, bSig, lower = -1.5, upper = 1.5)\n",
    "    age_b = pm.Normal('age_b', 0, 1)\n",
    "    \n",
    "    γ = pm.Lognormal('γ', gMu, gSig)\n",
    "    \n",
    "          \n",
    "    # Expected value of outcome\n",
    "    risk  = α + db_mon['age'].values/100 * age_a\n",
    "    amb   = β + db_mon['age'].values/100 * age_b\n",
    "    value = db_mon['value'].values ** risk\n",
    "    prob  = db_mon['risk'].values - (amb * (db_mon['ambiguity'].values/2))\n",
    "    \n",
    "    svLotto = value * prob\n",
    "    svRef   = 5 ** risk\n",
    "                                     \n",
    "    p  = (svLotto - svRef)/γ\n",
    "    mu = pm.invlogit(p)\n",
    "       \n",
    "    # Likelihood (sampling distribution) of observations\n",
    "    choice = pm.Binomial('choice',1, mu, observed=db_mon['choice'])\n",
    "\n",
    "    mon_beta_const_age = pm.sample(tune=2000, draws=2000, return_inferencedata=True, target_accept=0.99)"
   ]
  },
  {
   "cell_type": "code",
   "execution_count": 34,
   "id": "c8d85124",
   "metadata": {},
   "outputs": [
    {
     "data": {
      "text/html": [
       "<div>\n",
       "<style scoped>\n",
       "    .dataframe tbody tr th:only-of-type {\n",
       "        vertical-align: middle;\n",
       "    }\n",
       "\n",
       "    .dataframe tbody tr th {\n",
       "        vertical-align: top;\n",
       "    }\n",
       "\n",
       "    .dataframe thead th {\n",
       "        text-align: right;\n",
       "    }\n",
       "</style>\n",
       "<table border=\"1\" class=\"dataframe\">\n",
       "  <thead>\n",
       "    <tr style=\"text-align: right;\">\n",
       "      <th></th>\n",
       "      <th>mean</th>\n",
       "      <th>sd</th>\n",
       "      <th>hdi_3%</th>\n",
       "      <th>hdi_97%</th>\n",
       "      <th>mcse_mean</th>\n",
       "      <th>mcse_sd</th>\n",
       "      <th>ess_bulk</th>\n",
       "      <th>ess_tail</th>\n",
       "      <th>r_hat</th>\n",
       "    </tr>\n",
       "  </thead>\n",
       "  <tbody>\n",
       "    <tr>\n",
       "      <th>age_a</th>\n",
       "      <td>-0.164</td>\n",
       "      <td>0.036</td>\n",
       "      <td>-0.233</td>\n",
       "      <td>-0.098</td>\n",
       "      <td>0.001</td>\n",
       "      <td>0.000</td>\n",
       "      <td>4565.0</td>\n",
       "      <td>5237.0</td>\n",
       "      <td>1.0</td>\n",
       "    </tr>\n",
       "    <tr>\n",
       "      <th>age_b</th>\n",
       "      <td>-0.371</td>\n",
       "      <td>0.105</td>\n",
       "      <td>-0.562</td>\n",
       "      <td>-0.170</td>\n",
       "      <td>0.002</td>\n",
       "      <td>0.001</td>\n",
       "      <td>4222.0</td>\n",
       "      <td>5152.0</td>\n",
       "      <td>1.0</td>\n",
       "    </tr>\n",
       "  </tbody>\n",
       "</table>\n",
       "</div>"
      ],
      "text/plain": [
       "        mean     sd  hdi_3%  hdi_97%  mcse_mean  mcse_sd  ess_bulk  ess_tail  \\\n",
       "age_a -0.164  0.036  -0.233   -0.098      0.001    0.000    4565.0    5237.0   \n",
       "age_b -0.371  0.105  -0.562   -0.170      0.002    0.001    4222.0    5152.0   \n",
       "\n",
       "       r_hat  \n",
       "age_a    1.0  \n",
       "age_b    1.0  "
      ]
     },
     "execution_count": 34,
     "metadata": {},
     "output_type": "execute_result"
    }
   ],
   "source": [
    "az.summary(mon_beta_const_age, var_names=['age_a','age_b'])"
   ]
  }
 ],
 "metadata": {
  "kernelspec": {
   "display_name": "Python 3 (ipykernel)",
   "language": "python",
   "name": "python3"
  },
  "language_info": {
   "codemirror_mode": {
    "name": "ipython",
    "version": 3
   },
   "file_extension": ".py",
   "mimetype": "text/x-python",
   "name": "python",
   "nbconvert_exporter": "python",
   "pygments_lexer": "ipython3",
   "version": "3.8.12"
  }
 },
 "nbformat": 4,
 "nbformat_minor": 5
}
