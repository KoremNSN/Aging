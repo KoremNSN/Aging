{
 "cells": [
  {
   "cell_type": "markdown",
   "id": "40038708",
   "metadata": {},
   "source": [
    "# Model free analysis in the Aging project\n",
    "\n",
    "1. In this notebook I will look at catch trial fails <br>\n",
    "2. Age effect on proportion <br>\n",
    "    2.1 age effect on proportion in risky trials <br>\n",
    "    2.2 age effect on proportion in ambiguous trials <br>\n",
    "3. cross domain correlations <br> \n",
    "4. consistency \n",
    "\n",
    "## Load libraries "
   ]
  },
  {
   "cell_type": "code",
   "execution_count": 1,
   "id": "fed9da1a",
   "metadata": {},
   "outputs": [],
   "source": [
    "import pandas as pd\n",
    "import numpy as np\n",
    "import scipy as sp\n",
    "\n",
    "import pymc3 as pm\n",
    "import arviz as az\n",
    "\n",
    "import matplotlib\n",
    "import seaborn as sns\n",
    "\n",
    "import matplotlib.pyplot as plt\n",
    "from mpl_toolkits.axes_grid1 import make_axes_locatable"
   ]
  },
  {
   "cell_type": "code",
   "execution_count": 2,
   "id": "b5005c49",
   "metadata": {},
   "outputs": [
    {
     "name": "stdout",
     "output_type": "stream",
     "text": [
      "Participants monetary:  95 participants medical:  95\n"
     ]
    }
   ],
   "source": [
    "age = pd.read_csv('../demo.csv')\n",
    "db_mon = pd.read_csv('data/mon.csv')\n",
    "db_med = pd.read_csv('data/med.csv')\n",
    "\n",
    "print('Participants monetary: ', len(db_mon['sub'].unique()), 'participants medical: ', len(db_med['sub'].unique()))"
   ]
  },
  {
   "cell_type": "code",
   "execution_count": 3,
   "id": "4d09d372",
   "metadata": {},
   "outputs": [
    {
     "name": "stdout",
     "output_type": "stream",
     "text": [
      "pariticpant with R&A and no MoCA: [64, 65, 67, 70, 12, 79, 81, 84, 21, 22, 89, 91, 31, 97, 34, 35, 98, 99, 45, 110, 47, 48, 111, 112, 53, 54, 62]\n",
      "pariticpant with MoCA and no R&A: []\n",
      "Number of participants with all data: 68\n"
     ]
    }
   ],
   "source": [
    "# make a list with subjects number\n",
    "s_am = list(age['sub'].unique())\n",
    "s_ra = list(db_mon['sub'].unique())\n",
    "\n",
    "# find participant in one list but not in the second\n",
    "demo_no_ra = list(set(s_am)- set(s_ra))\n",
    "ra_no_demo = list(set(set(s_ra)- set(s_am)))\n",
    "\n",
    "print ('pariticpant with R&A and no MoCA:', ra_no_demo)\n",
    "print ('pariticpant with MoCA and no R&A:', demo_no_ra)\n",
    "\n",
    "age = age[age['sub'].isin(db_mon['sub'].values)]\n",
    "\n",
    "# remove participants without age/moca from the db and add age, moca and gender\n",
    "db_mon = db_mon.merge(age, left_on='sub', right_on='sub')\n",
    "db_med = db_med.merge(age, left_on='sub', right_on='sub')\n",
    "\n",
    "db_mon = db_mon[db_mon['moca_score']>25]\n",
    "db_med = db_med[db_med['moca_score']>25]\n",
    "\n",
    "\n",
    "print('Number of participants with all data:', len(db_med['sub'].unique()))"
   ]
  },
  {
   "cell_type": "code",
   "execution_count": 4,
   "id": "f82b9034",
   "metadata": {},
   "outputs": [
    {
     "name": "stdout",
     "output_type": "stream",
     "text": [
      "Monetary too risk averse ( 2 ):  [11, 40]\n",
      "Medical too risk averse ( 2 ):  []\n",
      "Final sample of participants with R&A data:  66\n"
     ]
    }
   ],
   "source": [
    "risk_min = 2 # the minimum number of trials participant chose the lottery.\n",
    "\n",
    "# collect number of lottery selection by subject\n",
    "choices_mon = db_mon[['sub','choice']].groupby(['sub']).sum()\n",
    "choices_med = db_med[['sub','choice']].groupby(['sub']).sum()\n",
    "\n",
    "# get the subject number for participant who were too risk averse\n",
    "too_risk_averse_mon = list(choices_mon[choices_mon['choice']<risk_min].index)\n",
    "too_risk_averse_med = list(choices_med[choices_med['choice']<risk_min].index)\n",
    "\n",
    "print('Monetary too risk averse (', risk_min, '): ', too_risk_averse_mon)\n",
    "print('Medical too risk averse (', risk_min, '): ', too_risk_averse_med)\n",
    "\n",
    "\n",
    "# remove too risk averse particiants from the files\n",
    "db_mon = db_mon[~db_mon['sub'].isin(too_risk_averse_mon)]\n",
    "db_med = db_med[~db_med['sub'].isin(too_risk_averse_med)]\n",
    "\n",
    "# compare monetary and medical lists and keep only valid participants in both\n",
    "mon_s = list(db_mon['sub'].unique())\n",
    "med_s = list(db_med['sub'].unique())\n",
    "\n",
    "db_mon = db_mon[db_mon['sub'].isin(med_s)]\n",
    "db_med = db_med[db_med['sub'].isin(mon_s)]\n",
    "\n",
    "print('Final sample of participants with R&A data: ', len(db_med['sub'].unique()))"
   ]
  },
  {
   "cell_type": "code",
   "execution_count": 5,
   "id": "cd06f7af",
   "metadata": {},
   "outputs": [
    {
     "name": "stdout",
     "output_type": "stream",
     "text": [
      "      Montary   Medical   OverAll\n",
      "sub                              \n",
      "17   0.916667  0.500000  0.708333\n",
      "27   0.916667  0.333333  0.625000\n"
     ]
    }
   ],
   "source": [
    "# average number of times participants chose the lottery in catch trials\n",
    "catch_mon = pd.DataFrame(db_mon[db_mon.value==5].groupby('sub').mean()['choice'])\n",
    "catch_med = pd.DataFrame(db_med[db_med.value==5].groupby('sub').mean()['choice'])\n",
    "\n",
    "# merge data sets\n",
    "catch = catch_mon.merge(catch_med, left_on='sub', right_on='sub')\n",
    "\n",
    "# create a mean catch across trials\n",
    "catch['choice'] = (catch.choice_x +  catch.choice_y)/2\n",
    "\n",
    "catch.columns = ['Montary', 'Medical', 'OverAll']\n",
    "#Subjects who failed catch trials\n",
    "print(catch[catch['OverAll']>0.5].head())\n",
    "catch = catch[catch['OverAll']<0.5].reset_index()\n",
    "\n",
    "catch_s = list(catch['sub'].unique())\n",
    "\n",
    "db_mon = db_mon[db_mon['sub'].isin(catch_s)]\n",
    "db_med = db_med[db_med['sub'].isin(catch_s)]"
   ]
  },
  {
   "cell_type": "code",
   "execution_count": 6,
   "id": "fc1fdec1",
   "metadata": {},
   "outputs": [],
   "source": [
    "db_mon = db_mon.dropna()\n",
    "db_med = db_med.dropna()\n",
    "\n",
    "mon_prop = db_mon.groupby('sub').mean()\n",
    "med_prop = db_med.groupby('sub').mean()"
   ]
  },
  {
   "cell_type": "markdown",
   "id": "b25a511a",
   "metadata": {},
   "source": [
    "## Use robust regression to check an association between age and proportion"
   ]
  },
  {
   "cell_type": "code",
   "execution_count": 7,
   "id": "410a5ac4",
   "metadata": {},
   "outputs": [],
   "source": [
    "def corr(df):\n",
    "    with pm.Model() as RR:\n",
    "\n",
    "        a = pm.Normal('intercept', 0, 1)\n",
    "        b = pm.Normal('slope', 0, 1)\n",
    "        eps = pm.Exponential('eps', 1)\n",
    "        y_hat = a + b*df.x\n",
    "\n",
    "        nu = pm.InverseGamma(\"nu\", alpha=3, beta=1)\n",
    "\n",
    "        #likelihood = pm.Normal(\"likelihood\", mu=y_hat, sigma=eps, observed=df.y)\n",
    "\n",
    "        likelihood = pm.StudentT(\"likelihood\", mu=y_hat, sigma=eps, nu=nu, observed=df.y)\n",
    "\n",
    "        trace_robust = pm.sample(tune=3000, draws=1000, return_inferencedata=True, target_accept=0.95)\n",
    "        \n",
    "    return(trace_robust)"
   ]
  },
  {
   "cell_type": "code",
   "execution_count": 8,
   "id": "5290fa24",
   "metadata": {},
   "outputs": [
    {
     "name": "stderr",
     "output_type": "stream",
     "text": [
      "Auto-assigning NUTS sampler...\n",
      "Initializing NUTS using jitter+adapt_diag...\n",
      "Multiprocess sampling (4 chains in 4 jobs)\n",
      "NUTS: [nu, eps, slope, intercept]\n"
     ]
    },
    {
     "data": {
      "text/html": [
       "\n",
       "    <div>\n",
       "        <style>\n",
       "            /* Turns off some styling */\n",
       "            progress {\n",
       "                /* gets rid of default border in Firefox and Opera. */\n",
       "                border: none;\n",
       "                /* Needs to be in here for Safari polyfill so background images work as expected. */\n",
       "                background-size: auto;\n",
       "            }\n",
       "            .progress-bar-interrupted, .progress-bar-interrupted::-webkit-progress-bar {\n",
       "                background: #F44336;\n",
       "            }\n",
       "        </style>\n",
       "      <progress value='16000' class='' max='16000' style='width:300px; height:20px; vertical-align: middle;'></progress>\n",
       "      100.00% [16000/16000 00:06<00:00 Sampling 4 chains, 0 divergences]\n",
       "    </div>\n",
       "    "
      ],
      "text/plain": [
       "<IPython.core.display.HTML object>"
      ]
     },
     "metadata": {},
     "output_type": "display_data"
    },
    {
     "name": "stderr",
     "output_type": "stream",
     "text": [
      "Sampling 4 chains for 3_000 tune and 1_000 draw iterations (12_000 + 4_000 draws total) took 7 seconds.\n",
      "Auto-assigning NUTS sampler...\n",
      "Initializing NUTS using jitter+adapt_diag...\n",
      "Multiprocess sampling (4 chains in 4 jobs)\n",
      "NUTS: [nu, eps, slope, intercept]\n"
     ]
    },
    {
     "data": {
      "text/html": [
       "\n",
       "    <div>\n",
       "        <style>\n",
       "            /* Turns off some styling */\n",
       "            progress {\n",
       "                /* gets rid of default border in Firefox and Opera. */\n",
       "                border: none;\n",
       "                /* Needs to be in here for Safari polyfill so background images work as expected. */\n",
       "                background-size: auto;\n",
       "            }\n",
       "            .progress-bar-interrupted, .progress-bar-interrupted::-webkit-progress-bar {\n",
       "                background: #F44336;\n",
       "            }\n",
       "        </style>\n",
       "      <progress value='16000' class='' max='16000' style='width:300px; height:20px; vertical-align: middle;'></progress>\n",
       "      100.00% [16000/16000 00:06<00:00 Sampling 4 chains, 0 divergences]\n",
       "    </div>\n",
       "    "
      ],
      "text/plain": [
       "<IPython.core.display.HTML object>"
      ]
     },
     "metadata": {},
     "output_type": "display_data"
    },
    {
     "name": "stderr",
     "output_type": "stream",
     "text": [
      "Sampling 4 chains for 3_000 tune and 1_000 draw iterations (12_000 + 4_000 draws total) took 7 seconds.\n"
     ]
    }
   ],
   "source": [
    "mon_age_trace = corr(pd.DataFrame({'x': mon_prop.age/100, 'y': mon_prop.choice}).reset_index(drop=True))\n",
    "med_age_trace = corr(pd.DataFrame({'x': med_prop.age/100, 'y': med_prop.choice}).reset_index(drop=True))"
   ]
  },
  {
   "cell_type": "code",
   "execution_count": 9,
   "id": "cf889116",
   "metadata": {},
   "outputs": [],
   "source": [
    "mon_prop_age = az.summary(mon_age_trace, var_names=['slope','intercept'], hdi_prob=.89)[['mean','hdi_5.5%','hdi_94.5%']]\n",
    "med_prop_age = az.summary(med_age_trace, var_names=['slope','intercept'], hdi_prob=.89)[['mean','hdi_5.5%','hdi_94.5%']]"
   ]
  },
  {
   "cell_type": "code",
   "execution_count": 10,
   "id": "41f5adbd",
   "metadata": {},
   "outputs": [
    {
     "name": "stderr",
     "output_type": "stream",
     "text": [
      "/home/nachshon/anaconda3/envs/reversal/lib/python3.9/site-packages/seaborn/_decorators.py:36: FutureWarning: Pass the following variables as keyword args: x, y. From version 0.12, the only valid positional argument will be `data`, and passing other arguments without an explicit keyword will result in an error or misinterpretation.\n",
      "  warnings.warn(\n",
      "/home/nachshon/anaconda3/envs/reversal/lib/python3.9/site-packages/seaborn/_decorators.py:36: FutureWarning: Pass the following variables as keyword args: x, y. From version 0.12, the only valid positional argument will be `data`, and passing other arguments without an explicit keyword will result in an error or misinterpretation.\n",
      "  warnings.warn(\n"
     ]
    },
    {
     "data": {
      "text/plain": [
       "Text(20, 0.89, 'β = -0.06,\\n89% HDPi [-0.24, 0.12]')"
      ]
     },
     "execution_count": 10,
     "metadata": {},
     "output_type": "execute_result"
    },
    {
     "data": {
      "image/png": "[encoded data removed]",
      "text/plain": [
       "<Figure size 720x360 with 2 Axes>"
      ]
     },
     "metadata": {
      "needs_background": "light"
     },
     "output_type": "display_data"
    }
   ],
   "source": [
    "fig, axes = plt.subplots(1, 2, figsize=(10, 5))\n",
    "\n",
    "sns.scatterplot(y = 'choice', x = 'age', data=mon_prop, ax=axes[0])\n",
    "sns.scatterplot(y = 'choice', x = 'age', data=med_prop, ax=axes[1])\n",
    "\n",
    "sns.lineplot(mon_prop.age,mon_prop_age['mean']['intercept']+mon_prop_age['mean']['slope']*mon_prop.age/100, ax=axes[0])\n",
    "sns.lineplot(med_prop.age,med_prop_age['mean']['intercept']+med_prop_age['mean']['slope']*med_prop.age/100, ax=axes[1])\n",
    "\n",
    "axes[0].set(ylim=(0, 1), xlabel='Age', ylabel='Choice Proportion', title='Monetary')\n",
    "axes[1].set(ylim=(0, 1), xlabel='Age', ylabel=None, title='Medical')\n",
    "\n",
    "\n",
    "text = 'β = {:.2f},\\n89% HDPi [{:.2f}, {:.2f}]'.format(float(mon_prop_age['mean']['slope']),\n",
    "                                                        float(mon_prop_age['hdi_5.5%']['slope']),\n",
    "                                                        float(mon_prop_age['hdi_94.5%']['slope']))\n",
    "axes[0].text(20, .89, text, fontsize=12)\n",
    "\n",
    "text = 'β = {:.2f},\\n89% HDPi [{:.2f}, {:.2f}]'.format(float(med_prop_age['mean']['slope']),\n",
    "                                                        float(med_prop_age['hdi_5.5%']['slope']),\n",
    "                                                        float(med_prop_age['hdi_94.5%']['slope']))\n",
    "axes[1].text(20, .89, text, fontsize=12)\n"
   ]
  },
  {
   "cell_type": "code",
   "execution_count": 11,
   "id": "7507b34c",
   "metadata": {},
   "outputs": [],
   "source": [
    "mon_risk_prop = db_mon[(db_mon.choice == 1) & (db_mon.ambiguity == 0)].groupby('sub').count()['choice']/db_mon[(db_mon.ambiguity == 0)].groupby('sub').count()['choice']\n",
    "mon_ambg_prop = db_mon[(db_mon.choice == 1) & (db_mon.ambiguity >  0)].groupby('sub').count()['choice']/db_mon[(db_mon.ambiguity >  0)].groupby('sub').count()['choice']\n",
    "\n",
    "med_risk_prop = db_med[(db_med.choice == 1) & (db_med.ambiguity == 0)].groupby('sub').count()['choice']/db_med[(db_med.ambiguity == 0)].groupby('sub').count()['choice']\n",
    "med_ambg_prop = db_med[(db_med.choice == 1) & (db_med.ambiguity >  0)].groupby('sub').count()['choice']/db_med[(db_med.ambiguity >  0)].groupby('sub').count()['choice']\n",
    "\n",
    "mon_risk_prop = mon_risk_prop.replace(np.nan, 0)\n",
    "mon_ambg_prop = mon_ambg_prop.replace(np.nan, 0)\n",
    "med_risk_prop = med_risk_prop.replace(np.nan, 0)\n",
    "med_ambg_prop = med_ambg_prop.replace(np.nan, 0)\n",
    "\n",
    "mon_risk_prop=mon_risk_prop.reset_index()\n",
    "mon_ambg_prop=mon_ambg_prop.reset_index()\n",
    "med_risk_prop=med_risk_prop.reset_index()\n",
    "med_ambg_prop=med_ambg_prop.reset_index()"
   ]
  },
  {
   "cell_type": "code",
   "execution_count": 12,
   "id": "dc2b3292",
   "metadata": {},
   "outputs": [],
   "source": [
    "# get participants response at 0.5 risk and no ambiguity for ambiguity corrections\n",
    "amb_correction_mon = db_mon[(db_mon['ambiguity'] == 0) & (db_mon['risk'] == 0.5)][['sub','value','choice']]\n",
    "amb_correction_mon = amb_correction_mon.groupby(['sub','value']).mean()\n",
    "amb_correction_mon.reset_index(inplace=True)\n",
    "\n",
    "amb_correction_med = db_med[(db_med['ambiguity'] == 0) & (db_med['risk'] == 0.5)][['sub','value','choice']]\n",
    "amb_correction_med = amb_correction_med.groupby(['sub','value']).mean()\n",
    "amb_correction_med.reset_index(inplace=True)"
   ]
  },
  {
   "cell_type": "code",
   "execution_count": 13,
   "id": "9bcc0e90",
   "metadata": {},
   "outputs": [],
   "source": [
    "mon_ambg_prop = mon_ambg_prop.merge(amb_correction_mon.groupby('sub').mean(), left_on='sub', right_on='sub')\n",
    "med_ambg_prop = med_ambg_prop.merge(amb_correction_med.groupby('sub').mean(), left_on='sub', right_on='sub')\n",
    "\n",
    "mon_ambg_prop['choice'] = mon_ambg_prop.choice_x-mon_ambg_prop.choice_y\n",
    "med_ambg_prop['choice'] = med_ambg_prop.choice_x-med_ambg_prop.choice_y"
   ]
  },
  {
   "cell_type": "code",
   "execution_count": 14,
   "id": "1c8af782",
   "metadata": {},
   "outputs": [
    {
     "name": "stderr",
     "output_type": "stream",
     "text": [
      "/home/nachshon/anaconda3/envs/reversal/lib/python3.9/site-packages/pandas/core/frame.py:9190: FutureWarning: Passing 'suffixes' which cause duplicate columns {'choice_x'} in the result is deprecated and will raise a MergeError in a future version.\n",
      "  return merge(\n"
     ]
    }
   ],
   "source": [
    "proportion = mon_risk_prop.merge(med_risk_prop, left_on='sub', right_on='sub')\n",
    "\n",
    "proportion = proportion.merge(mon_ambg_prop[['sub','choice']], left_on='sub', right_on='sub')\n",
    "proportion = proportion.merge(med_ambg_prop[['sub','choice']], left_on='sub', right_on='sub')\n",
    "\n",
    "proportion.columns = ['sub', 'MontaryRisk', 'MedicalRisk', 'MontaryAmb', 'MedicalAmb']\n",
    "proportion = proportion.merge(age, left_on='sub', right_on='sub')"
   ]
  },
  {
   "cell_type": "code",
   "execution_count": 15,
   "id": "5614b191",
   "metadata": {},
   "outputs": [
    {
     "name": "stderr",
     "output_type": "stream",
     "text": [
      "Auto-assigning NUTS sampler...\n",
      "Initializing NUTS using jitter+adapt_diag...\n",
      "Multiprocess sampling (4 chains in 4 jobs)\n",
      "NUTS: [nu, eps, slope, intercept]\n"
     ]
    },
    {
     "data": {
      "text/html": [
       "\n",
       "    <div>\n",
       "        <style>\n",
       "            /* Turns off some styling */\n",
       "            progress {\n",
       "                /* gets rid of default border in Firefox and Opera. */\n",
       "                border: none;\n",
       "                /* Needs to be in here for Safari polyfill so background images work as expected. */\n",
       "                background-size: auto;\n",
       "            }\n",
       "            .progress-bar-interrupted, .progress-bar-interrupted::-webkit-progress-bar {\n",
       "                background: #F44336;\n",
       "            }\n",
       "        </style>\n",
       "      <progress value='16000' class='' max='16000' style='width:300px; height:20px; vertical-align: middle;'></progress>\n",
       "      100.00% [16000/16000 00:08<00:00 Sampling 4 chains, 0 divergences]\n",
       "    </div>\n",
       "    "
      ],
      "text/plain": [
       "<IPython.core.display.HTML object>"
      ]
     },
     "metadata": {},
     "output_type": "display_data"
    },
    {
     "name": "stderr",
     "output_type": "stream",
     "text": [
      "Sampling 4 chains for 3_000 tune and 1_000 draw iterations (12_000 + 4_000 draws total) took 9 seconds.\n",
      "Auto-assigning NUTS sampler...\n",
      "Initializing NUTS using jitter+adapt_diag...\n",
      "Multiprocess sampling (4 chains in 4 jobs)\n",
      "NUTS: [nu, eps, slope, intercept]\n"
     ]
    },
    {
     "data": {
      "text/html": [
       "\n",
       "    <div>\n",
       "        <style>\n",
       "            /* Turns off some styling */\n",
       "            progress {\n",
       "                /* gets rid of default border in Firefox and Opera. */\n",
       "                border: none;\n",
       "                /* Needs to be in here for Safari polyfill so background images work as expected. */\n",
       "                background-size: auto;\n",
       "            }\n",
       "            .progress-bar-interrupted, .progress-bar-interrupted::-webkit-progress-bar {\n",
       "                background: #F44336;\n",
       "            }\n",
       "        </style>\n",
       "      <progress value='16000' class='' max='16000' style='width:300px; height:20px; vertical-align: middle;'></progress>\n",
       "      100.00% [16000/16000 00:04<00:00 Sampling 4 chains, 0 divergences]\n",
       "    </div>\n",
       "    "
      ],
      "text/plain": [
       "<IPython.core.display.HTML object>"
      ]
     },
     "metadata": {},
     "output_type": "display_data"
    },
    {
     "name": "stderr",
     "output_type": "stream",
     "text": [
      "Sampling 4 chains for 3_000 tune and 1_000 draw iterations (12_000 + 4_000 draws total) took 4 seconds.\n"
     ]
    }
   ],
   "source": [
    "risk_trace = corr(pd.DataFrame({'x': proportion.MontaryRisk, 'y': proportion.MedicalRisk}).reset_index(drop=True))\n",
    "ambg_trace = corr(pd.DataFrame({'x': proportion.MontaryAmb, 'y': proportion.MedicalAmb}).reset_index(drop=True))\n",
    "\n",
    "risk = az.summary(risk_trace, var_names=['slope','intercept'], hdi_prob=.89)[['mean','hdi_5.5%','hdi_94.5%']]\n",
    "ambg = az.summary(ambg_trace, var_names=['slope','intercept'], hdi_prob=.89)[['mean','hdi_5.5%','hdi_94.5%']]"
   ]
  },
  {
   "cell_type": "code",
   "execution_count": 16,
   "id": "32eca1b3",
   "metadata": {},
   "outputs": [],
   "source": [
    "norm = matplotlib.colors.Normalize(vmin=18, vmax=90)\n",
    "colors = {}\n",
    "cmap = sns.diverging_palette(240, 10, as_cmap=True )\n",
    "\n",
    "for cval in range(18,90):\n",
    "    colors.update({cval : cmap(norm(cval))})\n",
    "    "
   ]
  },
  {
   "cell_type": "code",
   "execution_count": 26,
   "id": "c8c5609a",
   "metadata": {},
   "outputs": [
    {
     "name": "stderr",
     "output_type": "stream",
     "text": [
      "/home/nachshon/anaconda3/envs/reversal/lib/python3.9/site-packages/seaborn/_decorators.py:36: FutureWarning: Pass the following variables as keyword args: x, y. From version 0.12, the only valid positional argument will be `data`, and passing other arguments without an explicit keyword will result in an error or misinterpretation.\n",
      "  warnings.warn(\n",
      "/home/nachshon/anaconda3/envs/reversal/lib/python3.9/site-packages/seaborn/_decorators.py:36: FutureWarning: Pass the following variables as keyword args: x, y. From version 0.12, the only valid positional argument will be `data`, and passing other arguments without an explicit keyword will result in an error or misinterpretation.\n",
      "  warnings.warn(\n"
     ]
    },
    {
     "data": {
      "image/png": "[encoded data removed]",
      "text/plain": [
       "<Figure size 720x360 with 3 Axes>"
      ]
     },
     "metadata": {
      "needs_background": "light"
     },
     "output_type": "display_data"
    }
   ],
   "source": [
    "fig, axes = plt.subplots(1, 2, figsize=(10, 5))\n",
    "sns.scatterplot(y = 'MedicalRisk', x = 'MontaryRisk', data=proportion, ax=axes[0], hue = 'age', palette = colors)\n",
    "sns.scatterplot(y = 'MedicalAmb', x = 'MontaryAmb', data=proportion, ax=axes[1], hue = 'age', palette = colors)\n",
    "\n",
    "sns.lineplot(proportion.MontaryRisk,risk['mean']['intercept']+risk['mean']['slope']*proportion.MontaryRisk, ax=axes[0])\n",
    "sns.lineplot(proportion.MontaryAmb,ambg['mean']['intercept']+ambg['mean']['slope']*proportion.MontaryAmb, ax=axes[1])\n",
    "\n",
    "axes[0].set(xlabel='Age', ylabel='Choice Proportion', title='Monetary')\n",
    "axes[1].set(xlabel='Age', ylabel=None, title='Medical')\n",
    "\n",
    "\n",
    "text = 'β = {:.2f},\\n89% HDPi [{:.2f}, {:.2f}]'.format(float(risk['mean']['slope']),\n",
    "                                                        float(risk['hdi_5.5%']['slope']),\n",
    "                                                        float(risk['hdi_94.5%']['slope']))\n",
    "axes[0].text(.15, .8, text, fontsize=12)\n",
    "\n",
    "text = 'β = {:.2f},\\n89% HDPi [{:.2f}, {:.2f}]'.format(float(ambg['mean']['slope']),\n",
    "                                                        float(ambg['hdi_5.5%']['slope']),\n",
    "                                                        float(ambg['hdi_94.5%']['slope']))\n",
    "axes[1].text(-.8, .2, text, fontsize=12)\n",
    "\n",
    "#fig.suptitle('Correlation of Choice Behavior within Domains', fontsize=16)\n",
    "\n",
    "axes[0].legend_.remove()\n",
    "axes[1].legend_.remove()\n",
    "\n",
    "\n",
    "## create colorbar ##\n",
    "divider = make_axes_locatable(plt.gca())\n",
    "ax_cb = divider.new_horizontal(size=\"5%\", pad=0.05)\n",
    "fig.add_axes(ax_cb)\n",
    "cb1 = matplotlib.colorbar.ColorbarBase(ax_cb, cmap=cmap,\n",
    "                                norm=norm,\n",
    "                                orientation='vertical')\n",
    "cb1.set_label('Age')\n",
    "plt.show()\n"
   ]
  },
  {
   "cell_type": "code",
   "execution_count": 18,
   "id": "e317518f",
   "metadata": {},
   "outputs": [
    {
     "name": "stderr",
     "output_type": "stream",
     "text": [
      "Auto-assigning NUTS sampler...\n",
      "Initializing NUTS using jitter+adapt_diag...\n",
      "Multiprocess sampling (4 chains in 4 jobs)\n",
      "NUTS: [nu, eps, slope, intercept]\n"
     ]
    },
    {
     "data": {
      "text/html": [
       "\n",
       "    <div>\n",
       "        <style>\n",
       "            /* Turns off some styling */\n",
       "            progress {\n",
       "                /* gets rid of default border in Firefox and Opera. */\n",
       "                border: none;\n",
       "                /* Needs to be in here for Safari polyfill so background images work as expected. */\n",
       "                background-size: auto;\n",
       "            }\n",
       "            .progress-bar-interrupted, .progress-bar-interrupted::-webkit-progress-bar {\n",
       "                background: #F44336;\n",
       "            }\n",
       "        </style>\n",
       "      <progress value='16000' class='' max='16000' style='width:300px; height:20px; vertical-align: middle;'></progress>\n",
       "      100.00% [16000/16000 00:07<00:00 Sampling 4 chains, 0 divergences]\n",
       "    </div>\n",
       "    "
      ],
      "text/plain": [
       "<IPython.core.display.HTML object>"
      ]
     },
     "metadata": {},
     "output_type": "display_data"
    },
    {
     "name": "stderr",
     "output_type": "stream",
     "text": [
      "Sampling 4 chains for 3_000 tune and 1_000 draw iterations (12_000 + 4_000 draws total) took 8 seconds.\n",
      "Auto-assigning NUTS sampler...\n",
      "Initializing NUTS using jitter+adapt_diag...\n",
      "Multiprocess sampling (4 chains in 4 jobs)\n",
      "NUTS: [nu, eps, slope, intercept]\n"
     ]
    },
    {
     "data": {
      "text/html": [
       "\n",
       "    <div>\n",
       "        <style>\n",
       "            /* Turns off some styling */\n",
       "            progress {\n",
       "                /* gets rid of default border in Firefox and Opera. */\n",
       "                border: none;\n",
       "                /* Needs to be in here for Safari polyfill so background images work as expected. */\n",
       "                background-size: auto;\n",
       "            }\n",
       "            .progress-bar-interrupted, .progress-bar-interrupted::-webkit-progress-bar {\n",
       "                background: #F44336;\n",
       "            }\n",
       "        </style>\n",
       "      <progress value='16000' class='' max='16000' style='width:300px; height:20px; vertical-align: middle;'></progress>\n",
       "      100.00% [16000/16000 00:08<00:00 Sampling 4 chains, 0 divergences]\n",
       "    </div>\n",
       "    "
      ],
      "text/plain": [
       "<IPython.core.display.HTML object>"
      ]
     },
     "metadata": {},
     "output_type": "display_data"
    },
    {
     "name": "stderr",
     "output_type": "stream",
     "text": [
      "Sampling 4 chains for 3_000 tune and 1_000 draw iterations (12_000 + 4_000 draws total) took 8 seconds.\n"
     ]
    }
   ],
   "source": [
    "mon_trace = corr(pd.DataFrame({'x': proportion.MontaryRisk, 'y': proportion.MontaryAmb}).reset_index(drop=True))\n",
    "med_trace = corr(pd.DataFrame({'x': proportion.MedicalRisk, 'y': proportion.MedicalAmb}).reset_index(drop=True))\n",
    "\n",
    "mon = az.summary(mon_trace, var_names=['slope','intercept'], hdi_prob=.89)[['mean','hdi_5.5%','hdi_94.5%']]\n",
    "med = az.summary(med_trace, var_names=['slope','intercept'], hdi_prob=.89)[['mean','hdi_5.5%','hdi_94.5%']]"
   ]
  },
  {
   "cell_type": "code",
   "execution_count": 29,
   "id": "bdf69cbc",
   "metadata": {},
   "outputs": [
    {
     "name": "stderr",
     "output_type": "stream",
     "text": [
      "/home/nachshon/anaconda3/envs/reversal/lib/python3.9/site-packages/seaborn/_decorators.py:36: FutureWarning: Pass the following variables as keyword args: x, y. From version 0.12, the only valid positional argument will be `data`, and passing other arguments without an explicit keyword will result in an error or misinterpretation.\n",
      "  warnings.warn(\n",
      "/home/nachshon/anaconda3/envs/reversal/lib/python3.9/site-packages/seaborn/_decorators.py:36: FutureWarning: Pass the following variables as keyword args: x, y. From version 0.12, the only valid positional argument will be `data`, and passing other arguments without an explicit keyword will result in an error or misinterpretation.\n",
      "  warnings.warn(\n"
     ]
    },
    {
     "data": {
      "image/png": "[encoded data removed]",
      "text/plain": [
       "<Figure size 720x360 with 3 Axes>"
      ]
     },
     "metadata": {
      "needs_background": "light"
     },
     "output_type": "display_data"
    }
   ],
   "source": [
    "fig, axes = plt.subplots(1, 2, figsize=(10, 5))\n",
    "sns.scatterplot(x = 'MontaryRisk', y = 'MontaryAmb', data=proportion, ax=axes[0], hue = 'age', palette = colors)\n",
    "sns.scatterplot(x = 'MedicalRisk', y = 'MedicalAmb', data=proportion, ax=axes[1], hue = 'age', palette = colors)\n",
    "\n",
    "sns.lineplot(proportion.MontaryRisk,mon['mean']['intercept']+mon['mean']['slope']*proportion.MontaryRisk, ax=axes[0])\n",
    "sns.lineplot(proportion.MedicalRisk,med['mean']['intercept']+med['mean']['slope']*proportion.MedicalRisk, ax=axes[1])\n",
    "\n",
    "axes[0].set(xlabel='Age', ylabel='Choice Proportion', title='Monetary')\n",
    "axes[1].set(xlabel='Age', ylabel=None, title='Medical')\n",
    "\n",
    "\n",
    "text = 'β = {:.2f},\\n89% HDPi [{:.2f}, {:.2f}]'.format(float(mon['mean']['slope']),\n",
    "                                                        float(mon['hdi_5.5%']['slope']),\n",
    "                                                        float(mon['hdi_94.5%']['slope']))\n",
    "axes[0].text(.15, -.82, text, fontsize=12)\n",
    "\n",
    "text = 'β = {:.2f},\\n89% HDPi [{:.2f}, {:.2f}]'.format(float(med['mean']['slope']),\n",
    "                                                        float(med['hdi_5.5%']['slope']),\n",
    "                                                        float(med['hdi_94.5%']['slope']))\n",
    "axes[1].text(.21, -.78, text, fontsize=12)\n",
    "\n",
    "#fig.suptitle('Correlation of Choice Behavior between Domains', fontsize=16)\n",
    "\n",
    "axes[0].legend_.remove()\n",
    "axes[1].legend_.remove()\n",
    "\n",
    "\n",
    "## create colorbar ##\n",
    "divider = make_axes_locatable(plt.gca())\n",
    "ax_cb = divider.new_horizontal(size=\"5%\", pad=0.05)\n",
    "fig.add_axes(ax_cb)\n",
    "cb1 = matplotlib.colorbar.ColorbarBase(ax_cb, cmap=cmap,\n",
    "                                norm=norm,\n",
    "                                orientation='vertical')\n",
    "cb1.set_label('Age')\n",
    "plt.show()\n",
    "\n"
   ]
  },
  {
   "cell_type": "code",
   "execution_count": 20,
   "id": "3a3ad45c",
   "metadata": {},
   "outputs": [],
   "source": [
    "const = db_mon.groupby(['sub','age', 'risk', 'ambiguity', 'value']).sum()['choice'].reset_index()\n",
    "const['score'] = np.where(const['choice']==4, 0, \n",
    "                          np.where(const['choice']==3, 1, \n",
    "                                   np.where(const['choice']==2, 2, const['choice'])))\n",
    "const = const.groupby(['sub','age']).sum()['score'].reset_index()\n",
    "\n",
    "const_med = db_med.groupby(['sub','age', 'risk', 'ambiguity', 'value']).sum()['choice'].reset_index()\n",
    "const_med['score'] = np.where(const_med['choice']==4, 0, \n",
    "                          np.where(const_med['choice']==3, 1, \n",
    "                                   np.where(const_med['choice']==2, 2, const_med['choice'])))\n",
    "const_med = const_med.groupby(['sub','age']).sum()['score'].reset_index()"
   ]
  },
  {
   "cell_type": "code",
   "execution_count": 21,
   "id": "932df7d0",
   "metadata": {},
   "outputs": [
    {
     "name": "stderr",
     "output_type": "stream",
     "text": [
      "Auto-assigning NUTS sampler...\n",
      "Initializing NUTS using jitter+adapt_diag...\n",
      "Multiprocess sampling (4 chains in 4 jobs)\n",
      "NUTS: [nu, eps, slope, intercept]\n"
     ]
    },
    {
     "data": {
      "text/html": [
       "\n",
       "    <div>\n",
       "        <style>\n",
       "            /* Turns off some styling */\n",
       "            progress {\n",
       "                /* gets rid of default border in Firefox and Opera. */\n",
       "                border: none;\n",
       "                /* Needs to be in here for Safari polyfill so background images work as expected. */\n",
       "                background-size: auto;\n",
       "            }\n",
       "            .progress-bar-interrupted, .progress-bar-interrupted::-webkit-progress-bar {\n",
       "                background: #F44336;\n",
       "            }\n",
       "        </style>\n",
       "      <progress value='16000' class='' max='16000' style='width:300px; height:20px; vertical-align: middle;'></progress>\n",
       "      100.00% [16000/16000 00:05<00:00 Sampling 4 chains, 0 divergences]\n",
       "    </div>\n",
       "    "
      ],
      "text/plain": [
       "<IPython.core.display.HTML object>"
      ]
     },
     "metadata": {},
     "output_type": "display_data"
    },
    {
     "name": "stderr",
     "output_type": "stream",
     "text": [
      "Sampling 4 chains for 3_000 tune and 1_000 draw iterations (12_000 + 4_000 draws total) took 6 seconds.\n",
      "Auto-assigning NUTS sampler...\n",
      "Initializing NUTS using jitter+adapt_diag...\n",
      "Multiprocess sampling (4 chains in 4 jobs)\n",
      "NUTS: [nu, eps, slope, intercept]\n"
     ]
    },
    {
     "data": {
      "text/html": [
       "\n",
       "    <div>\n",
       "        <style>\n",
       "            /* Turns off some styling */\n",
       "            progress {\n",
       "                /* gets rid of default border in Firefox and Opera. */\n",
       "                border: none;\n",
       "                /* Needs to be in here for Safari polyfill so background images work as expected. */\n",
       "                background-size: auto;\n",
       "            }\n",
       "            .progress-bar-interrupted, .progress-bar-interrupted::-webkit-progress-bar {\n",
       "                background: #F44336;\n",
       "            }\n",
       "        </style>\n",
       "      <progress value='16000' class='' max='16000' style='width:300px; height:20px; vertical-align: middle;'></progress>\n",
       "      100.00% [16000/16000 00:05<00:00 Sampling 4 chains, 0 divergences]\n",
       "    </div>\n",
       "    "
      ],
      "text/plain": [
       "<IPython.core.display.HTML object>"
      ]
     },
     "metadata": {},
     "output_type": "display_data"
    },
    {
     "name": "stderr",
     "output_type": "stream",
     "text": [
      "Sampling 4 chains for 3_000 tune and 1_000 draw iterations (12_000 + 4_000 draws total) took 6 seconds.\n"
     ]
    }
   ],
   "source": [
    "inc_mon = corr(pd.DataFrame({'x': const.age/10, 'y': const.score}).reset_index(drop=True))\n",
    "inc_med = corr(pd.DataFrame({'x': const_med.age/10,  'y': const_med.score}).reset_index(drop=True))\n",
    "\n",
    "incMon = az.summary(inc_mon, var_names=['slope','intercept'], hdi_prob=.89)[['mean','hdi_5.5%','hdi_94.5%']]\n",
    "incMed  = az.summary(inc_med,  var_names=['slope','intercept'], hdi_prob=.89)[['mean','hdi_5.5%','hdi_94.5%']]"
   ]
  },
  {
   "cell_type": "code",
   "execution_count": 24,
   "id": "f39bb99c",
   "metadata": {},
   "outputs": [
    {
     "name": "stderr",
     "output_type": "stream",
     "text": [
      "/home/nachshon/anaconda3/envs/reversal/lib/python3.9/site-packages/seaborn/_decorators.py:36: FutureWarning: Pass the following variables as keyword args: x, y. From version 0.12, the only valid positional argument will be `data`, and passing other arguments without an explicit keyword will result in an error or misinterpretation.\n",
      "  warnings.warn(\n",
      "/home/nachshon/anaconda3/envs/reversal/lib/python3.9/site-packages/seaborn/_decorators.py:36: FutureWarning: Pass the following variables as keyword args: x, y. From version 0.12, the only valid positional argument will be `data`, and passing other arguments without an explicit keyword will result in an error or misinterpretation.\n",
      "  warnings.warn(\n"
     ]
    },
    {
     "data": {
      "text/plain": [
       "Text(20, 15, 'β = 0.57,\\n89% HDPi [0.30, 0.84]')"
      ]
     },
     "execution_count": 24,
     "metadata": {},
     "output_type": "execute_result"
    },
    {
     "data": {
      "image/png": "[encoded data removed]",
      "text/plain": [
       "<Figure size 720x360 with 2 Axes>"
      ]
     },
     "metadata": {
      "needs_background": "light"
     },
     "output_type": "display_data"
    }
   ],
   "source": [
    "fig, axes = plt.subplots(1, 2, figsize=(10, 5))\n",
    "#fig.suptitle('Correlation of Age and Inconsistency', fontsize=16)\n",
    "\n",
    "sns.scatterplot(x = 'age', y = 'score', data=const, ax=axes[0])\n",
    "sns.scatterplot(x = 'age', y = 'score', data=const_med, ax=axes[1])\n",
    "\n",
    "sns.lineplot(const.age,incMon['mean']['intercept']+incMon['mean']['slope']*const.age/10, ax=axes[0])\n",
    "sns.lineplot(const_med.age,incMed['mean']['intercept']+incMed['mean']['slope']*const_med.age/10, ax=axes[1])\n",
    "\n",
    "axes[0].set(xlabel='Age', ylabel='Inconsistency', title='Monetary')\n",
    "axes[1].set(xlabel='Age', ylabel=None, title='Medical')\n",
    "\n",
    "\n",
    "text = 'β = {:.2f},\\n89% HDPi [{:.2f}, {:.2f}]'.format(float(incMon['mean']['slope']),\n",
    "                                                        float(incMon['hdi_5.5%']['slope']),\n",
    "                                                        float(incMon['hdi_94.5%']['slope']))\n",
    "axes[0].text(20, 17, text, fontsize=12)\n",
    "\n",
    "text = 'β = {:.2f},\\n89% HDPi [{:.2f}, {:.2f}]'.format(float(incMed['mean']['slope']),\n",
    "                                                        float(incMed['hdi_5.5%']['slope']),\n",
    "                                                        float(incMed['hdi_94.5%']['slope']))\n",
    "axes[1].text(20, 15, text, fontsize=12)\n",
    "\n"
   ]
  },
  {
   "cell_type": "code",
   "execution_count": 23,
   "id": "d7d9333f",
   "metadata": {},
   "outputs": [],
   "source": [
    "proportion.to_csv('data/prop.csv')\n",
    "const.to_csv('data/const_mon.csv')\n",
    "const_med.to_csv('data/const_med.csv')"
   ]
  }
 ],
 "metadata": {
  "kernelspec": {
   "display_name": "Python 3 (ipykernel)",
   "language": "python",
   "name": "python3"
  },
  "language_info": {
   "codemirror_mode": {
    "name": "ipython",
    "version": 3
   },
   "file_extension": ".py",
   "mimetype": "text/x-python",
   "name": "python",
   "nbconvert_exporter": "python",
   "pygments_lexer": "ipython3",
   "version": "3.9.7"
  }
 },
 "nbformat": 4,
 "nbformat_minor": 5
}
