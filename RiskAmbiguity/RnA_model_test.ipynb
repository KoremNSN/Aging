{
 "cells": [
  {
   "cell_type": "code",
   "execution_count": 1,
   "id": "cf5a0802",
   "metadata": {},
   "outputs": [
    {
     "name": "stderr",
     "output_type": "stream",
     "text": [
      "/home/nachshon/anaconda3/envs/risk/lib/python3.8/site-packages/outdated/utils.py:14: OutdatedPackageWarning: The package pingouin is out of date. Your version is 0.5.1, the latest is 0.5.3.\n",
      "Set the environment variable OUTDATED_IGNORE=1 to disable these warnings.\n",
      "  return warn(\n",
      "/home/nachshon/anaconda3/envs/risk/lib/python3.8/site-packages/outdated/utils.py:14: OutdatedPackageWarning: The package outdated is out of date. Your version is 0.2.1, the latest is 0.2.2.\n",
      "Set the environment variable OUTDATED_IGNORE=1 to disable these warnings.\n",
      "  return warn(\n"
     ]
    }
   ],
   "source": [
    "import pandas as pd\n",
    "import numpy as np\n",
    "import scipy as sp\n",
    "\n",
    "from scipy import stats, special\n",
    "from scipy.optimize import minimize \n",
    "import pingouin as pg\n",
    "\n",
    "import pymc3 as pm\n",
    "import arviz as az\n",
    "\n",
    "import matplotlib.pyplot as plt\n",
    "import seaborn as sns"
   ]
  },
  {
   "cell_type": "code",
   "execution_count": 2,
   "id": "187a1559",
   "metadata": {},
   "outputs": [
    {
     "name": "stdout",
     "output_type": "stream",
     "text": [
      "Participants monetary:  66 participants medical:  68\n"
     ]
    }
   ],
   "source": [
    "db_mon = pd.read_csv('data/db_mon.csv')\n",
    "db_med = pd.read_csv('data/db_med.csv')\n",
    "\n",
    "print('Participants monetary: ', len(db_mon['sub'].unique()), 'participants medical: ', len(db_med['sub'].unique()))"
   ]
  },
  {
   "cell_type": "code",
   "execution_count": 3,
   "id": "863b8b9c",
   "metadata": {},
   "outputs": [],
   "source": [
    "mon_uniuqe = az.from_netcdf(\"data/mon_trace.nc\")\n",
    "med_uniuqe = az.from_netcdf(\"data/med_trace.nc\")"
   ]
  },
  {
   "cell_type": "code",
   "execution_count": 4,
   "id": "42661758",
   "metadata": {},
   "outputs": [],
   "source": [
    "df_mon = db_mon[['sub','age', 'gender', 'moca_score']].sort_values('sub').drop_duplicates().reset_index(drop=True)\n",
    "df_mon['age'] = df_mon.age.astype('int')\n",
    "\n",
    "df_med = db_med[['sub','age', 'gender', 'moca_score']].sort_values('sub').drop_duplicates().reset_index(drop=True)\n",
    "df_med['age'] = df_med.age.astype('int')"
   ]
  },
  {
   "cell_type": "code",
   "execution_count": 5,
   "id": "2bda6a75",
   "metadata": {},
   "outputs": [],
   "source": [
    "alpha  = az.summary(mon_uniuqe, var_names=['α'])[['mean']]\n",
    "beta   = az.summary(mon_uniuqe, var_names=['β'])[['mean']]\n",
    "level1 = az.summary(mon_uniuqe, var_names=['level1'])[['mean']]\n",
    "level2 = az.summary(mon_uniuqe, var_names=['level2'])[['mean']]\n",
    "level3 = az.summary(mon_uniuqe, var_names=['level3'])[['mean']]\n",
    "level4 = az.summary(mon_uniuqe, var_names=['level4'])[['mean']]\n",
    "\n",
    "alpha  = alpha.rename(columns={'mean':  \"alpha_mon\"}).reset_index(drop=True)\n",
    "beta   = beta.rename(columns={'mean':   \"beta_mon\"}).reset_index(drop=True)\n",
    "level1 = level1.rename(columns={'mean': \"level1_mon\"}).reset_index(drop=True)\n",
    "level2 = level2.rename(columns={'mean': \"level2_mon\"}).reset_index(drop=True)\n",
    "level3 = level3.rename(columns={'mean': \"level3_mon\"}).reset_index(drop=True)\n",
    "level4 = level4.rename(columns={'mean': \"level4_mon\"}).reset_index(drop=True)\n",
    "\n",
    "df_mon = df_mon.merge(alpha,  left_index=True, right_index=True)\n",
    "df_mon = df_mon.merge(beta,   left_index=True, right_index=True)\n",
    "df_mon = df_mon.merge(level1, left_index=True, right_index=True)\n",
    "df_mon = df_mon.merge(level2, left_index=True, right_index=True)\n",
    "df_mon = df_mon.merge(level3, left_index=True, right_index=True)\n",
    "df_mon = df_mon.merge(level4, left_index=True, right_index=True)"
   ]
  },
  {
   "cell_type": "code",
   "execution_count": 6,
   "id": "ed7f16e4",
   "metadata": {},
   "outputs": [],
   "source": [
    "alpha  = az.summary(med_uniuqe, var_names=['α'])[['mean']]\n",
    "beta   = az.summary(med_uniuqe, var_names=['β'])[['mean']]\n",
    "level1 = az.summary(med_uniuqe, var_names=['level1'])[['mean']]\n",
    "level2 = az.summary(med_uniuqe, var_names=['level2'])[['mean']]\n",
    "level3 = az.summary(med_uniuqe, var_names=['level3'])[['mean']]\n",
    "level4 = az.summary(med_uniuqe, var_names=['level4'])[['mean']]\n",
    "\n",
    "alpha  = alpha.rename(columns={'mean':  \"alpha_med\"}).reset_index(drop=True)\n",
    "beta   = beta.rename(columns={'mean':   \"beta_med\"}).reset_index(drop=True)\n",
    "level1 = level1.rename(columns={'mean': \"level1_med\"}).reset_index(drop=True)\n",
    "level2 = level2.rename(columns={'mean': \"level2_med\"}).reset_index(drop=True)\n",
    "level3 = level3.rename(columns={'mean': \"level3_med\"}).reset_index(drop=True)\n",
    "level4 = level4.rename(columns={'mean': \"level4_med\"}).reset_index(drop=True)\n",
    "\n",
    "df_med = df_med.merge(alpha,  left_index=True, right_index=True)\n",
    "df_med = df_med.merge(beta,   left_index=True, right_index=True)\n",
    "df_med = df_med.merge(level1, left_index=True, right_index=True)\n",
    "df_med = df_med.merge(level2, left_index=True, right_index=True)\n",
    "df_med = df_med.merge(level3, left_index=True, right_index=True)\n",
    "df_med = df_med.merge(level4, left_index=True, right_index=True)"
   ]
  },
  {
   "cell_type": "code",
   "execution_count": 7,
   "id": "3af56757",
   "metadata": {},
   "outputs": [],
   "source": [
    "monetary = db_mon.groupby(['sub','value','risk','ambiguity']).mean().reset_index()\n",
    "medical = db_med.groupby(['sub','value','risk','ambiguity']).mean().reset_index()"
   ]
  },
  {
   "cell_type": "code",
   "execution_count": 8,
   "id": "df3619a9",
   "metadata": {},
   "outputs": [],
   "source": [
    "monetary = monetary.merge(df_mon, left_on='sub', right_on='sub')\n",
    "medical  = monetary.merge(df_med, left_on='sub', right_on='sub')"
   ]
  },
  {
   "cell_type": "code",
   "execution_count": 9,
   "id": "79f2864f",
   "metadata": {},
   "outputs": [],
   "source": [
    "monetary['val'] = (monetary.l1*monetary.level1_mon + \n",
    "                   monetary.l2*monetary.level2_mon + \n",
    "                   monetary.l3*monetary.level3_mon + \n",
    "                   monetary.l4*monetary.level4_mon)\n",
    "\n",
    "monetary['SVsafe']  = (monetary.l1 *  monetary.level1_mon) ** monetary.alpha_mon\n",
    "monetary['SVlotto'] = monetary.val ** monetary.alpha_mon   * (monetary.risk - monetary.beta_mon * monetary.ambiguity/2)\n",
    "\n",
    "medical['val'] = (medical.l1*medical.level1_med + \n",
    "                  medical.l2*medical.level2_med + \n",
    "                  medical.l3*medical.level3_med + \n",
    "                  medical.l4*medical.level4_med)\n",
    "\n",
    "medical['SVsafe'] = (medical.l1 * medical.level1_mon) ** medical.alpha_mon\n",
    "medical['SVlotto'] = medical.val ** medical.alpha_mon * (medical.risk - medical.beta_mon * medical.ambiguity/2)"
   ]
  },
  {
   "cell_type": "code",
   "execution_count": 10,
   "id": "49d3c380",
   "metadata": {},
   "outputs": [],
   "source": [
    "def inv_logit(p):\n",
    "    return np.exp(p) / (1 + np.exp(p))"
   ]
  },
  {
   "cell_type": "code",
   "execution_count": 11,
   "id": "8d235205",
   "metadata": {},
   "outputs": [],
   "source": [
    "monetary['p'] = inv_logit(monetary.SVlotto - monetary.SVsafe)\n",
    "medical['p']  = inv_logit(medical.SVlotto  - medical.SVsafe)"
   ]
  },
  {
   "cell_type": "code",
   "execution_count": 12,
   "id": "28874367",
   "metadata": {},
   "outputs": [
    {
     "data": {
      "text/plain": [
       "SpearmanrResult(correlation=0.8712126325816062, pvalue=0.0)"
      ]
     },
     "execution_count": 12,
     "metadata": {},
     "output_type": "execute_result"
    }
   ],
   "source": [
    "sp.stats.spearmanr(monetary.choice, monetary.p)"
   ]
  },
  {
   "cell_type": "code",
   "execution_count": 13,
   "id": "15aeff0c",
   "metadata": {},
   "outputs": [
    {
     "data": {
      "text/plain": [
       "SpearmanrResult(correlation=0.7897151392661118, pvalue=0.0)"
      ]
     },
     "execution_count": 13,
     "metadata": {},
     "output_type": "execute_result"
    }
   ],
   "source": [
    "sp.stats.spearmanr(medical.choice, medical.p)"
   ]
  },
  {
   "cell_type": "code",
   "execution_count": 14,
   "id": "a03d7265",
   "metadata": {},
   "outputs": [],
   "source": [
    "def corr(df):\n",
    "    with pm.Model() as RR:\n",
    "\n",
    "        a = pm.Normal('intercept', 0, 1)\n",
    "        b = pm.Normal('slope', 0, 1)\n",
    "        eps = pm.Exponential('eps', 1)\n",
    "        y_hat = a + b*df.x\n",
    "\n",
    "        nu = pm.InverseGamma(\"nu\", alpha=3, beta=1)\n",
    "\n",
    "        #likelihood = pm.Normal(\"likelihood\", mu=y_hat, sigma=eps, observed=y)\n",
    "\n",
    "        likelihood = pm.StudentT(\n",
    "            \"likelihood\", mu=y_hat, sigma=eps, nu=nu, observed=df.y\n",
    "        )\n",
    "\n",
    "        trace_robust = pm.sample(tune=3000, draws=1000, return_inferencedata=True, target_accept=0.95)\n",
    "        \n",
    "    return(trace_robust)"
   ]
  },
  {
   "cell_type": "code",
   "execution_count": 15,
   "id": "70b7a42b",
   "metadata": {},
   "outputs": [
    {
     "name": "stderr",
     "output_type": "stream",
     "text": [
      "Auto-assigning NUTS sampler...\n",
      "Initializing NUTS using jitter+adapt_diag...\n",
      "Multiprocess sampling (4 chains in 4 jobs)\n",
      "NUTS: [nu, eps, slope, intercept]\n"
     ]
    },
    {
     "data": {
      "text/html": [
       "\n",
       "    <div>\n",
       "        <style>\n",
       "            /* Turns off some styling */\n",
       "            progress {\n",
       "                /* gets rid of default border in Firefox and Opera. */\n",
       "                border: none;\n",
       "                /* Needs to be in here for Safari polyfill so background images work as expected. */\n",
       "                background-size: auto;\n",
       "            }\n",
       "            .progress-bar-interrupted, .progress-bar-interrupted::-webkit-progress-bar {\n",
       "                background: #F44336;\n",
       "            }\n",
       "        </style>\n",
       "      <progress value='16000' class='' max='16000' style='width:300px; height:20px; vertical-align: middle;'></progress>\n",
       "      100.00% [16000/16000 00:07<00:00 Sampling 4 chains, 0 divergences]\n",
       "    </div>\n",
       "    "
      ],
      "text/plain": [
       "<IPython.core.display.HTML object>"
      ]
     },
     "metadata": {},
     "output_type": "display_data"
    },
    {
     "name": "stderr",
     "output_type": "stream",
     "text": [
      "Sampling 4 chains for 3_000 tune and 1_000 draw iterations (12_000 + 4_000 draws total) took 8 seconds.\n",
      "Auto-assigning NUTS sampler...\n",
      "Initializing NUTS using jitter+adapt_diag...\n",
      "Multiprocess sampling (4 chains in 4 jobs)\n",
      "NUTS: [nu, eps, slope, intercept]\n"
     ]
    },
    {
     "data": {
      "text/html": [
       "\n",
       "    <div>\n",
       "        <style>\n",
       "            /* Turns off some styling */\n",
       "            progress {\n",
       "                /* gets rid of default border in Firefox and Opera. */\n",
       "                border: none;\n",
       "                /* Needs to be in here for Safari polyfill so background images work as expected. */\n",
       "                background-size: auto;\n",
       "            }\n",
       "            .progress-bar-interrupted, .progress-bar-interrupted::-webkit-progress-bar {\n",
       "                background: #F44336;\n",
       "            }\n",
       "        </style>\n",
       "      <progress value='16000' class='' max='16000' style='width:300px; height:20px; vertical-align: middle;'></progress>\n",
       "      100.00% [16000/16000 00:07<00:00 Sampling 4 chains, 0 divergences]\n",
       "    </div>\n",
       "    "
      ],
      "text/plain": [
       "<IPython.core.display.HTML object>"
      ]
     },
     "metadata": {},
     "output_type": "display_data"
    },
    {
     "name": "stderr",
     "output_type": "stream",
     "text": [
      "Sampling 4 chains for 3_000 tune and 1_000 draw iterations (12_000 + 4_000 draws total) took 7 seconds.\n"
     ]
    }
   ],
   "source": [
    "mon_r = corr(pd.DataFrame({'x': monetary.choice, 'y': monetary.p}).reset_index(drop=True))\n",
    "med_r = corr(pd.DataFrame({'x': medical.choice,  'y': medical.p}).reset_index(drop=True))\n",
    "\n",
    "mon_trace = az.summary(mon_r, var_names=['slope','intercept'], hdi_prob=.89)[['mean','hdi_5.5%','hdi_94.5%']]\n",
    "med_trace = az.summary(med_r, var_names=['slope','intercept'], hdi_prob=.89)[['mean','hdi_5.5%','hdi_94.5%']]"
   ]
  },
  {
   "cell_type": "code",
   "execution_count": 16,
   "id": "a258c3ab",
   "metadata": {},
   "outputs": [
    {
     "name": "stderr",
     "output_type": "stream",
     "text": [
      "/home/nachshon/anaconda3/envs/risk/lib/python3.8/site-packages/seaborn/_decorators.py:36: FutureWarning: Pass the following variables as keyword args: x, y. From version 0.12, the only valid positional argument will be `data`, and passing other arguments without an explicit keyword will result in an error or misinterpretation.\n",
      "  warnings.warn(\n",
      "/home/nachshon/anaconda3/envs/risk/lib/python3.8/site-packages/seaborn/_decorators.py:36: FutureWarning: Pass the following variables as keyword args: x, y. From version 0.12, the only valid positional argument will be `data`, and passing other arguments without an explicit keyword will result in an error or misinterpretation.\n",
      "  warnings.warn(\n"
     ]
    },
    {
     "data": {
      "text/plain": [
       "Text(0.1, 0.1, 'β = 0.39,\\n89% HDPi [0.38, 0.40]')"
      ]
     },
     "execution_count": 16,
     "metadata": {},
     "output_type": "execute_result"
    },
    {
     "data": {
      "image/png": "[encoded data removed]",
      "text/plain": [
       "<Figure size 720x360 with 2 Axes>"
      ]
     },
     "metadata": {
      "needs_background": "light"
     },
     "output_type": "display_data"
    }
   ],
   "source": [
    "fig, axes = plt.subplots(1, 2, figsize=(10, 5))\n",
    "sns.scatterplot(x = 'choice', y = 'p', data=monetary, ax=axes[0])\n",
    "sns.scatterplot(x = 'choice', y = 'p', data=medical, ax=axes[1])\n",
    "\n",
    "sns.lineplot(monetary.choice,mon_trace['mean']['intercept']+mon_trace['mean']['slope']*monetary.choice, ax=axes[0])\n",
    "sns.lineplot(medical.choice,med_trace['mean']['intercept']+med_trace['mean']['slope']*medical.choice, ax=axes[1])\n",
    "\n",
    "\n",
    "text = 'β = {:.2f},\\n89% HDPi [{:.2f}, {:.2f}]'.format(float(mon_trace['mean']['slope']),\n",
    "                                                       float(mon_trace['hdi_5.5%']['slope']),\n",
    "                                                       float(mon_trace['hdi_94.5%']['slope']))\n",
    "axes[0].text(0.1, 0.1, text, fontsize=12)\n",
    "\n",
    "text = 'β = {:.2f},\\n89% HDPi [{:.2f}, {:.2f}]'.format(float(med_trace['mean']['slope']),\n",
    "                                                       float(med_trace['hdi_5.5%']['slope']),\n",
    "                                                       float(med_trace['hdi_94.5%']['slope']))\n",
    "axes[1].text(0.1, 0.1, text, fontsize=12)"
   ]
  },
  {
   "cell_type": "code",
   "execution_count": 17,
   "id": "93e18c27",
   "metadata": {},
   "outputs": [],
   "source": [
    "mon_beta = az.from_netcdf(\"data/mon_trace_beta.nc\")"
   ]
  },
  {
   "cell_type": "code",
   "execution_count": 18,
   "id": "d47dd020",
   "metadata": {},
   "outputs": [],
   "source": [
    "df_mon2 = db_mon[['sub','age', 'gender', 'moca_score']].sort_values('sub').drop_duplicates().reset_index(drop=True)\n",
    "df_mon2['age'] = df_mon2.age.astype('int')"
   ]
  },
  {
   "cell_type": "code",
   "execution_count": 19,
   "id": "4dafd09d",
   "metadata": {},
   "outputs": [],
   "source": [
    "alpha  = az.summary(mon_beta, var_names=['α'])[['mean']]\n",
    "beta   = az.summary(mon_beta, var_names=['β'])[['mean']]\n",
    "\n",
    "alpha  = alpha.rename(columns={'mean':  \"alpha_mon\"}).reset_index(drop=True)\n",
    "beta   = beta.rename(columns={'mean':   \"beta_mon\"}).reset_index(drop=True)\n",
    "\n",
    "df_mon2 = df_mon2.merge(alpha,  left_index=True, right_index=True)\n",
    "df_mon2 = df_mon2.merge(beta,   left_index=True, right_index=True)"
   ]
  },
  {
   "cell_type": "code",
   "execution_count": 20,
   "id": "d58c664c",
   "metadata": {},
   "outputs": [],
   "source": [
    "monetary2 = db_mon.groupby(['sub','value','risk','ambiguity']).mean().reset_index()\n",
    "monetary2 = monetary2.merge(df_mon2, left_on='sub', right_on='sub')"
   ]
  },
  {
   "cell_type": "code",
   "execution_count": 21,
   "id": "06257d6c",
   "metadata": {},
   "outputs": [
    {
     "data": {
      "text/html": [
       "<div>\n",
       "<style scoped>\n",
       "    .dataframe tbody tr th:only-of-type {\n",
       "        vertical-align: middle;\n",
       "    }\n",
       "\n",
       "    .dataframe tbody tr th {\n",
       "        vertical-align: top;\n",
       "    }\n",
       "\n",
       "    .dataframe thead th {\n",
       "        text-align: right;\n",
       "    }\n",
       "</style>\n",
       "<table border=\"1\" class=\"dataframe\">\n",
       "  <thead>\n",
       "    <tr style=\"text-align: right;\">\n",
       "      <th></th>\n",
       "      <th>sub</th>\n",
       "      <th>value</th>\n",
       "      <th>risk</th>\n",
       "      <th>ambiguity</th>\n",
       "      <th>choice</th>\n",
       "      <th>catch</th>\n",
       "      <th>age_x</th>\n",
       "      <th>moca_score_x</th>\n",
       "      <th>level</th>\n",
       "      <th>l1</th>\n",
       "      <th>l2</th>\n",
       "      <th>l3</th>\n",
       "      <th>l4</th>\n",
       "      <th>subn</th>\n",
       "      <th>age_y</th>\n",
       "      <th>gender</th>\n",
       "      <th>moca_score_y</th>\n",
       "      <th>alpha_mon</th>\n",
       "      <th>beta_mon</th>\n",
       "    </tr>\n",
       "  </thead>\n",
       "  <tbody>\n",
       "    <tr>\n",
       "      <th>0</th>\n",
       "      <td>10</td>\n",
       "      <td>5</td>\n",
       "      <td>0.25</td>\n",
       "      <td>0.00</td>\n",
       "      <td>0.0</td>\n",
       "      <td>0.0</td>\n",
       "      <td>18.0</td>\n",
       "      <td>28.0</td>\n",
       "      <td>1.0</td>\n",
       "      <td>1.0</td>\n",
       "      <td>0.0</td>\n",
       "      <td>0.0</td>\n",
       "      <td>0.0</td>\n",
       "      <td>0.0</td>\n",
       "      <td>18</td>\n",
       "      <td>M</td>\n",
       "      <td>28</td>\n",
       "      <td>0.889</td>\n",
       "      <td>0.49</td>\n",
       "    </tr>\n",
       "    <tr>\n",
       "      <th>1</th>\n",
       "      <td>10</td>\n",
       "      <td>5</td>\n",
       "      <td>0.50</td>\n",
       "      <td>0.00</td>\n",
       "      <td>0.0</td>\n",
       "      <td>0.0</td>\n",
       "      <td>18.0</td>\n",
       "      <td>28.0</td>\n",
       "      <td>1.0</td>\n",
       "      <td>1.0</td>\n",
       "      <td>0.0</td>\n",
       "      <td>0.0</td>\n",
       "      <td>0.0</td>\n",
       "      <td>0.0</td>\n",
       "      <td>18</td>\n",
       "      <td>M</td>\n",
       "      <td>28</td>\n",
       "      <td>0.889</td>\n",
       "      <td>0.49</td>\n",
       "    </tr>\n",
       "    <tr>\n",
       "      <th>2</th>\n",
       "      <td>10</td>\n",
       "      <td>5</td>\n",
       "      <td>0.50</td>\n",
       "      <td>0.24</td>\n",
       "      <td>0.0</td>\n",
       "      <td>0.0</td>\n",
       "      <td>18.0</td>\n",
       "      <td>28.0</td>\n",
       "      <td>1.0</td>\n",
       "      <td>1.0</td>\n",
       "      <td>0.0</td>\n",
       "      <td>0.0</td>\n",
       "      <td>0.0</td>\n",
       "      <td>0.0</td>\n",
       "      <td>18</td>\n",
       "      <td>M</td>\n",
       "      <td>28</td>\n",
       "      <td>0.889</td>\n",
       "      <td>0.49</td>\n",
       "    </tr>\n",
       "    <tr>\n",
       "      <th>3</th>\n",
       "      <td>10</td>\n",
       "      <td>5</td>\n",
       "      <td>0.50</td>\n",
       "      <td>0.50</td>\n",
       "      <td>0.0</td>\n",
       "      <td>0.0</td>\n",
       "      <td>18.0</td>\n",
       "      <td>28.0</td>\n",
       "      <td>1.0</td>\n",
       "      <td>1.0</td>\n",
       "      <td>0.0</td>\n",
       "      <td>0.0</td>\n",
       "      <td>0.0</td>\n",
       "      <td>0.0</td>\n",
       "      <td>18</td>\n",
       "      <td>M</td>\n",
       "      <td>28</td>\n",
       "      <td>0.889</td>\n",
       "      <td>0.49</td>\n",
       "    </tr>\n",
       "    <tr>\n",
       "      <th>4</th>\n",
       "      <td>10</td>\n",
       "      <td>5</td>\n",
       "      <td>0.50</td>\n",
       "      <td>0.74</td>\n",
       "      <td>0.0</td>\n",
       "      <td>0.0</td>\n",
       "      <td>18.0</td>\n",
       "      <td>28.0</td>\n",
       "      <td>1.0</td>\n",
       "      <td>1.0</td>\n",
       "      <td>0.0</td>\n",
       "      <td>0.0</td>\n",
       "      <td>0.0</td>\n",
       "      <td>0.0</td>\n",
       "      <td>18</td>\n",
       "      <td>M</td>\n",
       "      <td>28</td>\n",
       "      <td>0.889</td>\n",
       "      <td>0.49</td>\n",
       "    </tr>\n",
       "  </tbody>\n",
       "</table>\n",
       "</div>"
      ],
      "text/plain": [
       "   sub  value  risk  ambiguity  choice  catch  age_x  moca_score_x  level  \\\n",
       "0   10      5  0.25       0.00     0.0    0.0   18.0          28.0    1.0   \n",
       "1   10      5  0.50       0.00     0.0    0.0   18.0          28.0    1.0   \n",
       "2   10      5  0.50       0.24     0.0    0.0   18.0          28.0    1.0   \n",
       "3   10      5  0.50       0.50     0.0    0.0   18.0          28.0    1.0   \n",
       "4   10      5  0.50       0.74     0.0    0.0   18.0          28.0    1.0   \n",
       "\n",
       "    l1   l2   l3   l4  subn  age_y gender  moca_score_y  alpha_mon  beta_mon  \n",
       "0  1.0  0.0  0.0  0.0   0.0     18      M            28      0.889      0.49  \n",
       "1  1.0  0.0  0.0  0.0   0.0     18      M            28      0.889      0.49  \n",
       "2  1.0  0.0  0.0  0.0   0.0     18      M            28      0.889      0.49  \n",
       "3  1.0  0.0  0.0  0.0   0.0     18      M            28      0.889      0.49  \n",
       "4  1.0  0.0  0.0  0.0   0.0     18      M            28      0.889      0.49  "
      ]
     },
     "execution_count": 21,
     "metadata": {},
     "output_type": "execute_result"
    }
   ],
   "source": [
    "monetary2.head()"
   ]
  },
  {
   "cell_type": "code",
   "execution_count": 22,
   "id": "6df2e87e",
   "metadata": {},
   "outputs": [],
   "source": [
    "monetary2['SVsafe']  = 5 ** monetary2.alpha_mon\n",
    "monetary2['SVlotto'] = monetary2.value ** monetary2.alpha_mon * (monetary2.risk - monetary2.beta_mon * monetary2.ambiguity/2)\n",
    "\n",
    "monetary2['p'] = inv_logit(monetary2.SVlotto - monetary2.SVsafe)"
   ]
  },
  {
   "cell_type": "code",
   "execution_count": 24,
   "id": "14ce11d0",
   "metadata": {},
   "outputs": [
    {
     "data": {
      "text/plain": [
       "SpearmanrResult(correlation=0.7914418640518699, pvalue=0.0)"
      ]
     },
     "execution_count": 24,
     "metadata": {},
     "output_type": "execute_result"
    }
   ],
   "source": [
    "sp.stats.spearmanr(monetary2.choice, monetary2.p)"
   ]
  },
  {
   "cell_type": "code",
   "execution_count": null,
   "id": "4f581732",
   "metadata": {},
   "outputs": [],
   "source": []
  }
 ],
 "metadata": {
  "kernelspec": {
   "display_name": "Python 3 (ipykernel)",
   "language": "python",
   "name": "python3"
  },
  "language_info": {
   "codemirror_mode": {
    "name": "ipython",
    "version": 3
   },
   "file_extension": ".py",
   "mimetype": "text/x-python",
   "name": "python",
   "nbconvert_exporter": "python",
   "pygments_lexer": "ipython3",
   "version": "3.8.12"
  }
 },
 "nbformat": 4,
 "nbformat_minor": 5
}
