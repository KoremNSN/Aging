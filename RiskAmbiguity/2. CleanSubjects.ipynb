{
 "cells": [
  {
   "cell_type": "code",
   "execution_count": 1,
   "id": "9e84fc2b",
   "metadata": {},
   "outputs": [],
   "source": [
    "# Import necessary libraries and modules\n",
    "import pandas as pd\n",
    "import numpy as np\n",
    "\n",
    "# Matplotlib and Seaborn for data visualization\n",
    "import matplotlib.pyplot as plt\n",
    "import seaborn as sns"
   ]
  },
  {
   "cell_type": "code",
   "execution_count": 2,
   "id": "b1f708e5",
   "metadata": {},
   "outputs": [
    {
     "name": "stdout",
     "output_type": "stream",
     "text": [
      "Participants monetary:  98 participants medical:  98\n"
     ]
    }
   ],
   "source": [
    "# load demographic data\n",
    "age = pd.read_csv('../demo.csv')\n",
    "age['ageZ'] = (age['age'] - age['age'].mean()) / age['age'].std()\n",
    "\n",
    "# load choice data\n",
    "db_mon = pd.read_csv('data/mon.csv')\n",
    "db_med = pd.read_csv('data/med.csv')\n",
    "\n",
    "print('Participants monetary: ', len(db_mon['sub'].unique()), 'participants medical: ', len(db_med['sub'].unique()))"
   ]
  },
  {
   "cell_type": "code",
   "execution_count": 3,
   "id": "e82b5855",
   "metadata": {},
   "outputs": [
    {
     "name": "stdout",
     "output_type": "stream",
     "text": [
      "pariticpant with R&A and no MoCA: [12, 21, 22, 31, 34, 35, 45, 47, 48, 53, 54, 62, 64, 65, 67, 70, 79, 81, 84, 89, 91, 97, 98, 99, 110, 112, 114]\n",
      "Number of participants with all data: 71\n"
     ]
    }
   ],
   "source": [
    "# Extract unique subject numbers from the 'age' and 'db_mon' dataframes.\n",
    "s_am = list(age['sub'].unique())  # Subjects from the 'age' dataframe\n",
    "s_ra = list(db_mon['sub'].unique())  # Subjects from the 'db_mon' dataframe\n",
    "\n",
    "# Identify subjects who are present in one list but not in the other.\n",
    "demo_no_ra = list(set(s_am) - set(s_ra))  # Participants in 'age' but not in 'db_mon'\n",
    "ra_no_demo = list(set(s_ra) - set(s_am))  # Participants in 'db_mon' but not in 'age'\n",
    "\n",
    "# Print the participants who are in the 'db_mon' dataset but do not have MoCA data.\n",
    "print('pariticpant with R&A and no MoCA:', ra_no_demo)\n",
    "\n",
    "\n",
    "# Filter the 'age' dataframe to only include participants who are also present in the 'db_mon' dataframe.\n",
    "age = age[age['sub'].isin(db_mon['sub'].values)]\n",
    "\n",
    "# Merge the demographic data (age, MoCA score, and gender) with the 'db_mon' and 'db_med' datasets.\n",
    "# This provides a consolidated view where each participant's data from different sources is combined into one row.\n",
    "db_mon = db_mon.merge(age, left_on='sub', right_on='sub')  # Merge with 'db_mon'\n",
    "db_med = db_med.merge(age, left_on='sub', right_on='sub')  # Merge with 'db_med'\n",
    "\n",
    "# Filter participants based on their MoCA score. \n",
    "# Only include cognitive healthy participants (MoCA score greater than 25).\n",
    "db_mon = db_mon[db_mon['moca_score'] > 25]\n",
    "db_med = db_med[db_med['moca_score'] > 25]\n",
    "\n",
    "# Print the total number of participants who have all required data (after merging and filtering).\n",
    "print('Number of participants with all data:', len(db_med['sub'].unique()))"
   ]
  },
  {
   "cell_type": "code",
   "execution_count": 4,
   "id": "92cc3e02",
   "metadata": {},
   "outputs": [
    {
     "name": "stdout",
     "output_type": "stream",
     "text": [
      "Monetary too risk averse ( 1 ):  [11, 40]\n",
      "Medical too risk averse ( 1 ):  []\n",
      "Subjects who were not too risk averse:  69 69\n"
     ]
    }
   ],
   "source": [
    "# Define a threshold for the minimum number of trials in which a participant chose the lottery option.\n",
    "risk_min = 1\n",
    "\n",
    "# For each participant in the 'db_mon' and 'db_med' datasets, sum up the number of times they chose the lottery option.\n",
    "choices_mon = db_mon[['sub', 'choice']].groupby(['sub']).sum()  # For 'db_mon' dataset\n",
    "choices_med = db_med[['sub', 'choice']].groupby(['sub']).sum()  # For 'db_med' dataset\n",
    "\n",
    "# Identify participants who chose the lottery less than the threshold (risk_min) and are thus considered too risk-averse.\n",
    "too_risk_averse_mon = list(choices_mon[choices_mon['choice'] < risk_min].index)  # For 'db_mon' dataset\n",
    "too_risk_averse_med = list(choices_med[choices_med['choice'] < risk_min].index)  # For 'db_med' dataset\n",
    "\n",
    "# Print the participants who are too risk-averse for both monetary and medical scenarios.\n",
    "print('Monetary too risk averse (', risk_min, '): ', too_risk_averse_mon)\n",
    "print('Medical too risk averse (', risk_min, '): ', too_risk_averse_med)\n",
    "\n",
    "# Exclude the too risk-averse participants from the 'db_mon' and 'db_med' datasets.\n",
    "db_mon = db_mon[~db_mon['sub'].isin(too_risk_averse_mon)]\n",
    "db_med = db_med[~db_med['sub'].isin(too_risk_averse_med)]\n",
    "\n",
    "# Extract unique participants from the updated 'db_mon' and 'db_med' datasets.\n",
    "mon_s = list(db_mon['sub'].unique())\n",
    "med_s = list(db_med['sub'].unique())\n",
    "\n",
    "# Filter both datasets to only include participants that are present in both.\n",
    "# This ensures consistency and allows for direct comparisons between the monetary and medical scenarios.\n",
    "db_mon = db_mon[db_mon['sub'].isin(med_s)]\n",
    "db_med = db_med[db_med['sub'].isin(mon_s)]\n",
    "\n",
    "# Print the number of participants retained after the above filters.\n",
    "print('Subjects who were not too risk averse: ', len(db_mon['sub'].unique()), len(db_med['sub'].unique()))"
   ]
  },
  {
   "cell_type": "code",
   "execution_count": 5,
   "id": "42fcdf62",
   "metadata": {},
   "outputs": [
    {
     "name": "stdout",
     "output_type": "stream",
     "text": [
      "Subjects who failed catch trials: mon: [ 17  27 111] ; med: [111]\n",
      "Subjects who didn not fail attention check:  66 66\n"
     ]
    }
   ],
   "source": [
    "# Identify participants in the 'db_mon' and 'db_med' datasets who failed 7 or more catch trials out of 12.\n",
    "mon_catch = db_mon[db_mon.catch >= 7]  # For 'db_mon' dataset\n",
    "med_catch = db_med[db_med.catch >= 7]  # For 'db_med' dataset\n",
    "\n",
    "# Extract the unique participant identifiers for those who failed catch trials in both datasets.\n",
    "mon_catch_n = mon_catch['sub'].unique()  # For 'db_mon' dataset\n",
    "med_catch_n = med_catch['sub'].unique()  # For 'db_med' dataset\n",
    "\n",
    "# Print the participants who failed catch trials in both monetary and medical scenarios.\n",
    "print('Subjects who failed catch trials: mon:', mon_catch_n, '; med:', med_catch_n)\n",
    "\n",
    "# Exclude participants from both datasets who failed 7 or more catch trials out of 12.\n",
    "db_med = db_med[db_med.catch < 7]\n",
    "db_mon = db_mon[db_mon.catch < 7]\n",
    "\n",
    "# Extract unique participants from the updated 'db_mon' and 'db_med' datasets.\n",
    "mon_s = list(db_mon['sub'].unique())\n",
    "med_s = list(db_med['sub'].unique())\n",
    "\n",
    "# Filter both datasets to only include participants that are present in both.\n",
    "# This step ensures that participants who failed the catch trials in one scenario but not in the other are excluded from both.\n",
    "db_mon = db_mon[db_mon['sub'].isin(med_s)]\n",
    "db_med = db_med[db_med['sub'].isin(mon_s)]\n",
    "\n",
    "# Print the number of participants retained after excluding those who failed the catch trials.\n",
    "print('Subjects who didn not fail attention check: ', len(db_mon['sub'].unique()), len(db_med['sub'].unique()))"
   ]
  },
  {
   "cell_type": "code",
   "execution_count": 6,
   "id": "b2239849",
   "metadata": {},
   "outputs": [
    {
     "name": "stdout",
     "output_type": "stream",
     "text": [
      "Final sample Medical includes 66 subjects and 5501 valid trials\n",
      "Final sample Monetary includes 66 subjects and 5518 valid trials\n"
     ]
    }
   ],
   "source": [
    "# For the 'db_med' dataset:\n",
    "\n",
    "# Remove rows with missing data.\n",
    "db_med = db_med.dropna()\n",
    "\n",
    "# Convert the 'choice' column to integer data type.\n",
    "db_med['choice'] = db_med['choice'].astype('int')\n",
    "\n",
    "# Sort the dataset based on the 'sub' (subject) column for easier comparison in later analyses.\n",
    "db_med = db_med.sort_values('sub').reset_index(drop=True)\n",
    "\n",
    "# Assign a unique serial number for each participant. This will be useful for indexing operations.\n",
    "db_med['subn'] = db_med['sub'].rank(method='dense').astype(int) - 1\n",
    "\n",
    "# Count the number of unique subjects in the 'db_med' dataset.\n",
    "n_subs_med = db_med['subn'].unique().shape[0]\n",
    "\n",
    "# Create a list of subject indices for all rows in the 'db_med' dataset.\n",
    "sub_idx_med = db_med.subn.tolist()\n",
    "\n",
    "# Print the final number of subjects and trials in the 'db_med' dataset.\n",
    "print(\"Final sample Medical includes {} subjects and {} valid trials\".format(n_subs_med, len(sub_idx_med)))\n",
    "\n",
    "\n",
    "# For the 'db_mon' dataset (similar processing as for 'db_med'):\n",
    "\n",
    "# Remove rows with missing data.\n",
    "db_mon = db_mon.dropna()\n",
    "\n",
    "# Convert the 'choice' column to integer data type.\n",
    "db_mon['choice'] = db_mon['choice'].astype('int')\n",
    "\n",
    "# Sort the dataset based on the 'sub' (subject) column for easier comparison in later analyses.\n",
    "db_mon = db_mon.sort_values('sub').reset_index(drop=True)\n",
    "\n",
    "# Assign a unique serial number for each participant.\n",
    "db_mon['subn'] = db_mon['sub'].rank(method='dense').astype(int) - 1\n",
    "\n",
    "# Count the number of unique subjects in the 'db_mon' dataset.\n",
    "n_subs = db_mon['subn'].unique().shape[0]\n",
    "\n",
    "# Create a list of subject indices for all rows in the 'db_mon' dataset.\n",
    "sub_idx = db_mon.subn.tolist()\n",
    "\n",
    "# Print the final number of subjects and trials in the 'db_mon' dataset.\n",
    "print(\"Final sample Monetary includes {} subjects and {} valid trials\".format(n_subs, len(sub_idx)))"
   ]
  },
  {
   "cell_type": "code",
   "execution_count": 7,
   "id": "f7655dbd",
   "metadata": {},
   "outputs": [
    {
     "data": {
      "image/png": "[encoded data removed]",
      "text/plain": [
       "<Figure size 864x432 with 2 Axes>"
      ]
     },
     "metadata": {
      "needs_background": "light"
     },
     "output_type": "display_data"
    }
   ],
   "source": [
    "# For the 'db_med' dataset:\n",
    "\n",
    "# Create a new column 'level' in the 'db_med' dataset by ranking the 'value' column using the dense method.\n",
    "db_med['level'] = db_med['value'].rank(method='dense').astype(int)\n",
    "\n",
    "# Create dummy variables (indicators) for each level by comparing 'level' to thresholds from 0 to 3.\n",
    "db_med['l1'] = db_med.level > 0\n",
    "db_med['l2'] = db_med.level > 1\n",
    "db_med['l3'] = db_med.level > 2\n",
    "db_med['l4'] = db_med.level > 3\n",
    "\n",
    "# Convert the boolean dummy variables to integers (0 or 1).\n",
    "db_med['l1'] = db_med['l1'].astype(int)\n",
    "db_med['l2'] = db_med['l2'].astype(int)\n",
    "db_med['l3'] = db_med['l3'].astype(int)\n",
    "db_med['l4'] = db_med['l4'].astype(int)\n",
    "\n",
    "# For the 'db_mon' dataset:\n",
    "\n",
    "# Rank the 'value' column in the 'db_mon' dataset.\n",
    "db_mon['level'] = db_mon['value'].rank(method='dense').astype(int)\n",
    "\n",
    "# Create dummy variables for each level in the 'db_mon' dataset.\n",
    "db_mon['l1'] = db_mon.level > 0\n",
    "db_mon['l2'] = db_mon.level > 1\n",
    "db_mon['l3'] = db_mon.level > 2\n",
    "db_mon['l4'] = db_mon.level > 3\n",
    "\n",
    "# Convert boolean indicators to integers.\n",
    "db_mon['l1'] = db_mon['l1'].astype(int)\n",
    "db_mon['l2'] = db_mon['l2'].astype(int)\n",
    "db_mon['l3'] = db_mon['l3'].astype(int)\n",
    "db_mon['l4'] = db_mon['l4'].astype(int)\n",
    "\n",
    "# Z-transform the 'age' variable for both datasets to have a mean of 0 and a standard deviation of 1. \n",
    "db_mon['ageZ'] = (db_mon['age'] - db_mon['age'].mean()) / db_mon['age'].std()\n",
    "db_med['ageZ'] = (db_med['age'] - db_med['age'].mean()) / db_med['age'].std()\n",
    "\n",
    "# Create a subplot layout with 1 row and 2 columns.\n",
    "fig, axes = plt.subplots(1, 2, figsize=(12, 6))\n",
    "\n",
    "# Plot the original 'age' histogram for the 'db_mon' dataset on the first subplot.\n",
    "axes[0].hist(db_mon['age'], bins=20, edgecolor='black')\n",
    "axes[0].set_title('Age')\n",
    "axes[0].set_xlabel('Value')\n",
    "axes[0].set_ylabel('Frequency')\n",
    "\n",
    "# Plot the Z-transformed 'ageZ' histogram for the 'db_mon' dataset on the second subplot.\n",
    "axes[1].hist(db_mon['ageZ'], bins=20, edgecolor='black')\n",
    "axes[1].set_title('Age (Z-transformed)')\n",
    "axes[1].set_xlabel('Value')\n",
    "axes[1].set_ylabel('Frequency')\n",
    "\n",
    "# Display the created plots.\n",
    "plt.show()\n"
   ]
  },
  {
   "cell_type": "code",
   "execution_count": 8,
   "id": "0c3c3685",
   "metadata": {},
   "outputs": [
    {
     "name": "stdout",
     "output_type": "stream",
     "text": [
      "Total: 66 \n",
      "Females:  30\n"
     ]
    },
    {
     "data": {
      "image/png": "[encoded data removed]",
      "text/plain": [
       "<Figure size 360x432 with 2 Axes>"
      ]
     },
     "metadata": {
      "needs_background": "light"
     },
     "output_type": "display_data"
    }
   ],
   "source": [
    "# Drop duplicates based on the 'sub' (subject) column to get unique participants\n",
    "participants = db_mon.drop_duplicates(['sub'])\n",
    "\n",
    "# Create a subplot layout with 2 rows and 1 column.\n",
    "fig, ax = plt.subplots(2, 1, figsize=(5, 6), sharex=True)\n",
    "\n",
    "# On the first subplot (top), plot the age distribution for female participants\n",
    "sns.histplot(participants[participants['gender'] == 'F']['age'], binwidth=6, ax=ax[0])\n",
    "\n",
    "# On the second subplot (bottom), plot the age distribution for male participants using an orange color\n",
    "sns.histplot(participants[participants['gender'] == 'M']['age'], binwidth=6, color='orange', ax=ax[1])\n",
    "\n",
    "# Set the y-labels for both subplots to denote the gender, and only set an x-label for the bottom plot\n",
    "ax[0].set(ylabel='Females', xlabel='')\n",
    "ax[1].set(ylabel='Males')\n",
    "\n",
    "# Invert the y-axis for the male age distribution to have the histogram bars grow upwards \n",
    "# (this makes it visually comparable with the female age distribution)\n",
    "ax[1].invert_yaxis()\n",
    "\n",
    "# Adjust the space between subplots to make them touch (removing any gap)\n",
    "plt.subplots_adjust(wspace=0, hspace=0)\n",
    "\n",
    "# Print out the total number of unique participants and the number of female participants\n",
    "print(\"Total:\", participants.shape[0], \"\\nFemales: \", participants[participants['gender'] == 'F'].shape[0])"
   ]
  },
  {
   "cell_type": "code",
   "execution_count": 9,
   "id": "fed11155",
   "metadata": {},
   "outputs": [],
   "source": [
    "db_mon.to_csv('data/mon_clean.csv')\n",
    "db_med.to_csv('data/med_clean.csv')"
   ]
  }
 ],
 "metadata": {
  "kernelspec": {
   "display_name": "Python 3 (ipykernel)",
   "language": "python",
   "name": "python3"
  },
  "language_info": {
   "codemirror_mode": {
    "name": "ipython",
    "version": 3
   },
   "file_extension": ".py",
   "mimetype": "text/x-python",
   "name": "python",
   "nbconvert_exporter": "python",
   "pygments_lexer": "ipython3",
   "version": "3.9.13"
  }
 },
 "nbformat": 4,
 "nbformat_minor": 5
}
