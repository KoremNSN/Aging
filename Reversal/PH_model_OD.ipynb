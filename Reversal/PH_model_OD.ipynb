{
 "cells": [
  {
   "cell_type": "markdown",
   "id": "f034b55e-623a-4a14-aff8-52a9225459b5",
   "metadata": {},
   "source": [
    "## PH model\n",
    "@author: Or Duek\n",
    "\n",
    "In this notebook there are two different ways of calculating the Hybrid model\n",
    "On each function you'll see reference to the relevant paper"
   ]
  },
  {
   "cell_type": "code",
   "execution_count": 3,
   "id": "45d6a47c-c1e2-462c-bda6-1a0ea1fff5b3",
   "metadata": {},
   "outputs": [],
   "source": [
    "%config Completer.use_jedi = False\n",
    "\n",
    "import pandas as pd\n",
    "import numpy as np\n",
    "import matplotlib.pyplot as plt\n",
    "import seaborn as sns\n",
    "import theano\n",
    "import theano.tensor as tt\n",
    "import scipy\n",
    "import pingouin as pg\n",
    "import os\n",
    "\n",
    "import pymc3 as pm\n",
    "import arviz as az\n",
    "import statsmodels.api as sm\n",
    "import statsmodels.formula.api as smf\n",
    "\n",
    "from glob import glob"
   ]
  },
  {
   "cell_type": "markdown",
   "id": "ffa16c76-b2e1-4301-bfab-13c0c0f3b336",
   "metadata": {},
   "source": [
    "#### Load data (Nachshon)"
   ]
  },
  {
   "cell_type": "code",
   "execution_count": 4,
   "id": "6902754f-47de-4b71-84d9-f851423ff006",
   "metadata": {},
   "outputs": [
    {
     "name": "stdout",
     "output_type": "stream",
     "text": [
      "Number of participants with age:  91 ; females:  43\n",
      "Number of participants with MoCA:  81 ; MoCA > 25: 63 ; females:  38\n",
      "mean: 54.45679012345679 std: 22.041514916632877 min-max: 18 89\n",
      "mean: 51.888888888888886 std: 21.998637123089434 min-max: 18 88\n"
     ]
    }
   ],
   "source": [
    "#Load Age and MoCA scores from the session log file.\n",
    "age = pd.read_excel('/media/Data/Lab_Projects/Aging/aging_session_log.xlsx', sheet_name='sessions').iloc[:,[0,7,9]]\n",
    "moca = pd.read_excel('/media/Data/Lab_Projects/Aging/aging_session_log.xlsx', sheet_name='assessments').iloc[:,[0,22]]\n",
    "\n",
    "# Change name of the first column to 'sub'\n",
    "age.columns.values[0] = moca.columns.values[0] = \"sub\"\n",
    "\n",
    "# remove unnecessary rows\n",
    "age = age[age.gender != 'gender']\n",
    "age = age.dropna().reset_index()\n",
    "age = age.drop(['index'], axis=1)\n",
    "\n",
    "print(\"Number of participants with age: \",age.shape[0],'; females: ', age[age['gender']=='F'].shape[0])\n",
    "# merge files\n",
    "age = age.merge(moca, left_on='sub', right_on='sub')\n",
    "age['sub'] = age['sub'].map(lambda x: int(x.lstrip('AG_'))) # remove the AG_ prfix from the subject number\n",
    "age['sub'] = age['sub'].astype(int)\n",
    "age['age'] = age.age.astype('int')\n",
    "\n",
    "print('Number of participants with MoCA: ', age.shape[0], '; MoCA > 25:', age[age.moca_score>25].shape[0],'; females: ', age[age['gender']=='F'].shape[0])\n",
    "print('mean:', np.mean(age.age), 'std:', np.std(age.age), 'min-max:',np.min(age.age),np.max(age.age))\n",
    "age_c = age[age['moca_score']>25]\n",
    "print('mean:', np.mean(age_c.age), 'std:', np.std(age_c.age), 'min-max:',np.min(age_c.age),np.max(age_c.age))"
   ]
  },
  {
   "cell_type": "code",
   "execution_count": 5,
   "id": "3384d44b-bbbb-42c0-b55d-e5b3c0612e95",
   "metadata": {},
   "outputs": [
    {
     "name": "stdout",
     "output_type": "stream",
     "text": [
      "number of subject:  88\n"
     ]
    }
   ],
   "source": [
    "glober = '/media/Data/Lab_Projects/Aging/behavioral/Reversal/AG_*_RV/ETLearning_*.csv'\n",
    "\n",
    "db = pd.DataFrame()\n",
    "\n",
    "for sub in glob(glober):\n",
    "    \n",
    "    try:\n",
    "        df = pd.read_csv(sub)\n",
    "        df['sub'] = sub.split('_')[2]\n",
    "        if df.shape[0] == 70:\n",
    "            db = pd.concat([db, df], axis = 0)\n",
    "            #db = db.append(df)#[df.trialNum<36])\n",
    "    except:\n",
    "        print(sub)\n",
    "        print('error')\n",
    "\n",
    "#db['rating'] = db['rating'].replace(0, np.nan)\n",
    "db = db.sort_values(by=['sub','trialNum'])\n",
    "print('number of subject: ', len(db['sub'].unique()))"
   ]
  },
  {
   "cell_type": "code",
   "execution_count": 6,
   "id": "2a2b33b5-2ed1-463d-94c6-1b604e98b5d3",
   "metadata": {},
   "outputs": [
    {
     "name": "stdout",
     "output_type": "stream",
     "text": [
      "Valid subjects:  63\n"
     ]
    }
   ],
   "source": [
    "db['sub'] = db['sub'].astype('int')\n",
    "db = db.merge(age_c, left_on='sub', right_on='sub')\n",
    "#db = db[db.moca_score >25]\n",
    "db = db.sort_values('sub')\n",
    "print('Valid subjects: ', len(np.unique(db['sub'])))"
   ]
  },
  {
   "cell_type": "code",
   "execution_count": 7,
   "id": "3f1687cf-b7fb-4c91-b216-6f6d60879930",
   "metadata": {},
   "outputs": [
    {
     "name": "stdout",
     "output_type": "stream",
     "text": [
      "   sub  rating\n",
      "0  102      13\n"
     ]
    }
   ],
   "source": [
    "x = db[db['RT']==-1].groupby('sub').count()['rating']\n",
    "x = x[x>5].reset_index()\n",
    "print(x)\n",
    "db = db[~db['sub'].isin(x['sub'].values)]"
   ]
  },
  {
   "cell_type": "code",
   "execution_count": 8,
   "id": "f5d1e3a7-71c9-47b5-a344-d78a381b6b43",
   "metadata": {},
   "outputs": [],
   "source": [
    "subs = db.drop_duplicates('sub')\n",
    "subs = subs.drop(['trialNum', 'rectOri', 'rectValue', 'rating', 'RT'],axis = 1).reset_index()\n",
    "#subs.head()"
   ]
  },
  {
   "cell_type": "markdown",
   "id": "e6eb3157-3360-4246-a8e1-910b7781743f",
   "metadata": {},
   "source": [
    "## get descriptive data"
   ]
  },
  {
   "cell_type": "code",
   "execution_count": 17,
   "id": "8609999c-8ad7-4c88-b5c4-d51f875aa196",
   "metadata": {},
   "outputs": [],
   "source": [
    "n_subj   = len(db['sub'].unique())\n",
    "n_trials = max(db.trialNum)\n",
    "\n",
    "trials, subj = np.meshgrid(range(n_trials), range(n_subj))\n",
    "trials = tt.as_tensor_variable(trials.T)\n",
    "subj   = tt.as_tensor_variable(subj.T)"
   ]
  },
  {
   "cell_type": "code",
   "execution_count": 18,
   "id": "3ff351fc-17b0-40d8-aec2-a59323f14320",
   "metadata": {},
   "outputs": [],
   "source": [
    "stim   = np.reshape([db['rectOri']],   (n_subj, n_trials)).T\n",
    "reward = np.reshape([db['rectValue']], (n_subj, n_trials)).T\n",
    "rating = np.reshape([db['rating']],    (n_subj, n_trials)).T\n",
    "\n",
    "stim   = np.array(stim/45,  dtype='int')\n",
    "reward = np.array(reward/6*9, dtype='int')"
   ]
  },
  {
   "cell_type": "code",
   "execution_count": 22,
   "id": "b70de077-1fb3-4ee9-96fe-e0bc611472e9",
   "metadata": {},
   "outputs": [
    {
     "data": {
      "text/plain": [
       "62"
      ]
     },
     "execution_count": 22,
     "metadata": {},
     "output_type": "execute_result"
    }
   ],
   "source": [
    "n_subj"
   ]
  },
  {
   "cell_type": "code",
   "execution_count": 19,
   "id": "2bc9590f-8cbf-4f4a-a6d5-b571729410e8",
   "metadata": {},
   "outputs": [],
   "source": [
    "stim = tt.as_tensor_variable(stim)\n",
    "reward = tt.as_tensor_variable(reward)"
   ]
  },
  {
   "cell_type": "code",
   "execution_count": 60,
   "id": "d7277440-e963-4810-8183-c3a9ff13d240",
   "metadata": {},
   "outputs": [],
   "source": [
    "# Rouhani et al. version https://elifesciences.org/articles/61077\n",
    "# generate functions to run\n",
    "def update_Q_r(stim, shock,\n",
    "             Qs,vec,\n",
    "             eta,kappa,n_subj):\n",
    "    \"\"\"\n",
    "    This function updates the Q table according to Hybrid PH model\n",
    "    For information, please see this paper: https://www.sciencedirect.com/science/article/pii/S0896627316305840?via%3Dihub\n",
    "  \n",
    "    \"\"\"\n",
    "      \n",
    "    delta = shock - Qs[tt.arange(n_subj), stim]\n",
    "    #alpha = tt.set_subtensor(alpha[tt.arange(n_subj), stim], eta * abs(delta) + (1-eta)*alpha[tt.arange(n_subj), stim])\n",
    "    # based on Rohani et al. \n",
    "    #alpha = tt.set_subtensor(alpha[tt.arange(n_subj), stim], eta + kappa * abs(delta))\n",
    "    alpha = eta + (kappa * abs(delta))\n",
    "    alpha = 1 / (1 + pm.math.exp(-alpha)) # sigmoid function\n",
    "    Qs = tt.set_subtensor(Qs[tt.arange(n_subj),stim], Qs[tt.arange(n_subj),stim] + alpha * delta)\n",
    "    \n",
    "    # in order to get a vector of expected outcome (dependent on the stimulus presentes [CS+, CS-] \n",
    "    # we us if statement (switch in theano)\n",
    "    vec = tt.set_subtensor(vec[tt.arange(n_subj),0], (tt.switch(tt.eq(stim,1), \n",
    "                                                                Qs[tt.arange(n_subj),1], Qs[tt.arange(n_subj),0])))\n",
    "    \n",
    "    # we use the same idea to get the associability per trial\n",
    "    # assoc = tt.set_subtensor(assoc[tt.arange(n_subj),0], (tt.switch(tt.eq(stim,1), \n",
    "    #                                                             alpha[tt.arange(n_subj),1], alpha[tt.arange(n_subj),0])))\n",
    "    \n",
    "    return Qs, vec, alpha"
   ]
  },
  {
   "cell_type": "code",
   "execution_count": null,
   "id": "ff39da66-89a3-425d-9927-907c09aac81b",
   "metadata": {},
   "outputs": [
    {
     "name": "stderr",
     "output_type": "stream",
     "text": [
      "Auto-assigning NUTS sampler...\n",
      "Initializing NUTS using jitter+adapt_diag...\n",
      "Multiprocess sampling (4 chains in 10 jobs)\n",
      "NUTS: [eps, beta, kappa, eta]\n"
     ]
    },
    {
     "data": {
      "text/html": [
       "\n",
       "    <div>\n",
       "        <style>\n",
       "            /* Turns off some styling */\n",
       "            progress {\n",
       "                /* gets rid of default border in Firefox and Opera. */\n",
       "                border: none;\n",
       "                /* Needs to be in here for Safari polyfill so background images work as expected. */\n",
       "                background-size: auto;\n",
       "            }\n",
       "            .progress-bar-interrupted, .progress-bar-interrupted::-webkit-progress-bar {\n",
       "                background: #F44336;\n",
       "            }\n",
       "        </style>\n",
       "      <progress value='56' class='' max='8000' style='width:300px; height:20px; vertical-align: middle;'></progress>\n",
       "      0.70% [56/8000 00:18<43:24 Sampling 4 chains, 0 divergences]\n",
       "    </div>\n",
       "    "
      ],
      "text/plain": [
       "<IPython.core.display.HTML object>"
      ]
     },
     "metadata": {},
     "output_type": "display_data"
    }
   ],
   "source": [
    "with pm.Model() as m1:\n",
    "  \n",
    "      \n",
    "    eta = pm.Normal('eta', 0,1, shape=n_subj)\n",
    "    kappa = pm.Normal('kappa', 0,1, shape=n_subj)\n",
    "    beta = pm.Normal('beta',0, 1, shape=n_subj)\n",
    "    eps = pm.HalfNormal('eps', 5)\n",
    "    \n",
    "    # intercept\n",
    "    #intercept = pm.Normal('intercept', 0, .5, shape=n_subj)\n",
    "    \n",
    "    Qs = 0.5 * tt.ones((n_subj,2), dtype='float64') # set values for boths stimuli (CS+, CS-)\n",
    "    vec = 0.5 * tt.ones((n_subj,1), dtype='float64') # vector to save the relevant stimulus's expactation\n",
    "  #  alpha = 0 * tt.ones((n_subj,2), dtype='float64') # vector to save the relevant stimulus's expactation\n",
    "   # assoc = 0 * tt.ones((n_subj,1), dtype='float64') # vector to save the relevant stimulus's expactation\n",
    "    \n",
    "    [Qs,vec, alpha], updates = theano.scan(\n",
    "        fn=update_Q_r,\n",
    "        sequences=[stim, reward],\n",
    "        outputs_info=[Qs, vec, None],\n",
    "        non_sequences=[eta, kappa, n_subj])\n",
    "    \n",
    "    vec_ = vec[trials, subj,0] * beta[subj]# + intercept[subj]\n",
    "    \n",
    "    scrs = pm.Normal('scrs', mu = vec_, sd = eps, observed=rating) \n",
    "    \n",
    "    # add matrix of expected values (trials X subjects)\n",
    "    ev = pm.Deterministic('expected_value', vec_)\n",
    "    # add associability\n",
    "   # alpha = pm.Deterministic('pe', alpha)\n",
    "    \n",
    "    tr = pm.sample(target_accept=.9, chains=4, cores=10, return_inferencedata=True)"
   ]
  }
 ],
 "metadata": {
  "kernelspec": {
   "display_name": "Python 3 (ipykernel)",
   "language": "python",
   "name": "python3"
  },
  "language_info": {
   "codemirror_mode": {
    "name": "ipython",
    "version": 3
   },
   "file_extension": ".py",
   "mimetype": "text/x-python",
   "name": "python",
   "nbconvert_exporter": "python",
   "pygments_lexer": "ipython3",
   "version": "3.7.7"
  }
 },
 "nbformat": 4,
 "nbformat_minor": 5
}
