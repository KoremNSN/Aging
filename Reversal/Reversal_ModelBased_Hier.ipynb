{
 "cells": [
  {
   "cell_type": "code",
   "execution_count": 1,
   "id": "812e0d53",
   "metadata": {},
   "outputs": [],
   "source": [
    "%config Completer.use_jedi = False\n",
    "\n",
    "import pandas as pd\n",
    "import numpy as np\n",
    "import matplotlib.pyplot as plt\n",
    "import seaborn as sns\n",
    "import theano\n",
    "import theano.tensor as tt\n",
    "import scipy\n",
    "import os\n",
    "import update_q\n",
    "\n",
    "import pymc3 as pm\n",
    "import arviz as az\n",
    "\n",
    "from glob import glob"
   ]
  },
  {
   "cell_type": "code",
   "execution_count": 2,
   "id": "3b3eed96",
   "metadata": {},
   "outputs": [],
   "source": [
    "age = pd.read_csv('../demo.csv')"
   ]
  },
  {
   "cell_type": "code",
   "execution_count": 3,
   "id": "606da768",
   "metadata": {},
   "outputs": [
    {
     "name": "stdout",
     "output_type": "stream",
     "text": [
      "number of subject:  98\n"
     ]
    }
   ],
   "source": [
    "glober = '/media/Data/Lab_Projects/Aging/behavioral/Reversal/AG_*_RV/ETLearning_*.csv'\n",
    "\n",
    "db = pd.DataFrame()\n",
    "\n",
    "for sub in glob(glober):\n",
    "    \n",
    "    try:\n",
    "        df = pd.read_csv(sub)\n",
    "        df['sub'] = sub.split('_')[2]\n",
    "        if df.shape[0] == 70:\n",
    "            db = pd.concat([db, df], axis = 0)\n",
    "            #db = db.append(df)#[df.trialNum<36])\n",
    "    except:\n",
    "        print(sub)\n",
    "        print('error')\n",
    "\n",
    "#db['rating'] = db['rating'].replace(0, np.nan)\n",
    "db = db.sort_values(by=['sub','trialNum'])\n",
    "print('number of subject: ', len(db['sub'].unique()))"
   ]
  },
  {
   "cell_type": "code",
   "execution_count": 4,
   "id": "01c76552",
   "metadata": {},
   "outputs": [
    {
     "name": "stdout",
     "output_type": "stream",
     "text": [
      "Valid subjects:  71\n"
     ]
    }
   ],
   "source": [
    "db['sub'] = db['sub'].astype('int')\n",
    "db = db.merge(age, left_on='sub', right_on='sub')\n",
    "db = db.sort_values('sub')\n",
    "print('Valid subjects: ', len(np.unique(db['sub'])))"
   ]
  },
  {
   "cell_type": "code",
   "execution_count": 5,
   "id": "7387e5c4",
   "metadata": {},
   "outputs": [
    {
     "name": "stdout",
     "output_type": "stream",
     "text": [
      "   sub  rating\n",
      "0  102      13\n"
     ]
    }
   ],
   "source": [
    "x = db[db['RT']==-1].groupby('sub').count()['rating']\n",
    "x = x[x>5].reset_index()\n",
    "print(x)\n",
    "db = db[~db['sub'].isin(x['sub'].values)]"
   ]
  },
  {
   "cell_type": "code",
   "execution_count": 6,
   "id": "0d904166",
   "metadata": {},
   "outputs": [
    {
     "data": {
      "text/html": [
       "<div>\n",
       "<style scoped>\n",
       "    .dataframe tbody tr th:only-of-type {\n",
       "        vertical-align: middle;\n",
       "    }\n",
       "\n",
       "    .dataframe tbody tr th {\n",
       "        vertical-align: top;\n",
       "    }\n",
       "\n",
       "    .dataframe thead th {\n",
       "        text-align: right;\n",
       "    }\n",
       "</style>\n",
       "<table border=\"1\" class=\"dataframe\">\n",
       "  <thead>\n",
       "    <tr style=\"text-align: right;\">\n",
       "      <th></th>\n",
       "      <th>sub</th>\n",
       "      <th>gender</th>\n",
       "      <th>age</th>\n",
       "      <th>moca_score</th>\n",
       "    </tr>\n",
       "  </thead>\n",
       "  <tbody>\n",
       "    <tr>\n",
       "      <th>0</th>\n",
       "      <td>10</td>\n",
       "      <td>M</td>\n",
       "      <td>18</td>\n",
       "      <td>28</td>\n",
       "    </tr>\n",
       "    <tr>\n",
       "      <th>1</th>\n",
       "      <td>11</td>\n",
       "      <td>F</td>\n",
       "      <td>43</td>\n",
       "      <td>26</td>\n",
       "    </tr>\n",
       "    <tr>\n",
       "      <th>2</th>\n",
       "      <td>13</td>\n",
       "      <td>F</td>\n",
       "      <td>48</td>\n",
       "      <td>28</td>\n",
       "    </tr>\n",
       "    <tr>\n",
       "      <th>3</th>\n",
       "      <td>14</td>\n",
       "      <td>F</td>\n",
       "      <td>26</td>\n",
       "      <td>30</td>\n",
       "    </tr>\n",
       "    <tr>\n",
       "      <th>4</th>\n",
       "      <td>15</td>\n",
       "      <td>F</td>\n",
       "      <td>58</td>\n",
       "      <td>26</td>\n",
       "    </tr>\n",
       "  </tbody>\n",
       "</table>\n",
       "</div>"
      ],
      "text/plain": [
       "   sub gender  age  moca_score\n",
       "0   10      M   18          28\n",
       "1   11      F   43          26\n",
       "2   13      F   48          28\n",
       "3   14      F   26          30\n",
       "4   15      F   58          26"
      ]
     },
     "execution_count": 6,
     "metadata": {},
     "output_type": "execute_result"
    }
   ],
   "source": [
    "subs = db.drop_duplicates('sub')\n",
    "subs = subs.drop(['trialNum', 'rectOri', 'rectValue', 'rating', 'RT'],axis = 1).reset_index(drop=True)\n",
    "subs.head()"
   ]
  },
  {
   "cell_type": "code",
   "execution_count": 7,
   "id": "4ad0cf0d",
   "metadata": {},
   "outputs": [],
   "source": [
    "n_subj   = len(db['sub'].unique())\n",
    "n_trials = max(db.trialNum)\n",
    "\n",
    "trials, subj = np.meshgrid(list(range(n_trials)), range(n_subj))\n",
    "trial = (trials<35)*1\n",
    "trials = tt.as_tensor_variable(trials.T)\n",
    "trial = tt.as_tensor_variable(trial.T)\n",
    "subj   = tt.as_tensor_variable(subj.T)"
   ]
  },
  {
   "cell_type": "code",
   "execution_count": 8,
   "id": "475347c3",
   "metadata": {},
   "outputs": [],
   "source": [
    "stim   = np.reshape([db['rectOri']],   (n_subj, n_trials)).T\n",
    "reward = np.reshape([db['rectValue']], (n_subj, n_trials)).T\n",
    "rating = np.reshape([db['rating']],    (n_subj, n_trials)).T\n",
    "rating = [np.nan if 0 else x/9 for x in rating]\n",
    "\n",
    "stim   = np.array(stim/45,  dtype='int')\n",
    "reward = np.array(reward/6, dtype='int')"
   ]
  },
  {
   "cell_type": "code",
   "execution_count": 9,
   "id": "3b49db24",
   "metadata": {},
   "outputs": [],
   "source": [
    "stim = tt.as_tensor_variable(stim)\n",
    "reward = tt.as_tensor_variable(reward)"
   ]
  },
  {
   "cell_type": "code",
   "execution_count": 10,
   "id": "4aed2f42",
   "metadata": {},
   "outputs": [],
   "source": [
    "ageT = np.reshape([db['age']],   (n_subj, n_trials)).T\n",
    "ageT = np.array(ageT/100,  dtype='int')\n",
    "ageT = tt.as_tensor_variable(ageT)"
   ]
  },
  {
   "cell_type": "code",
   "execution_count": 11,
   "id": "37837550",
   "metadata": {},
   "outputs": [],
   "source": [
    "tune = 2000 # 2000\n",
    "draws = 2000\n",
    "target_accept = .95 #.99"
   ]
  },
  {
   "cell_type": "code",
   "execution_count": 12,
   "id": "b441832f",
   "metadata": {},
   "outputs": [
    {
     "name": "stderr",
     "output_type": "stream",
     "text": [
      "Auto-assigning NUTS sampler...\n",
      "Initializing NUTS using jitter+adapt_diag...\n",
      "Multiprocess sampling (4 chains in 4 jobs)\n",
      "NUTS: [alpha, a_b, a_a, eps, beta, beta_sd, beta_h, intercept, sd, mu]\n"
     ]
    },
    {
     "data": {
      "text/html": [
       "\n",
       "    <div>\n",
       "        <style>\n",
       "            /* Turns off some styling */\n",
       "            progress {\n",
       "                /* gets rid of default border in Firefox and Opera. */\n",
       "                border: none;\n",
       "                /* Needs to be in here for Safari polyfill so background images work as expected. */\n",
       "                background-size: auto;\n",
       "            }\n",
       "            .progress-bar-interrupted, .progress-bar-interrupted::-webkit-progress-bar {\n",
       "                background: #F44336;\n",
       "            }\n",
       "        </style>\n",
       "      <progress value='16000' class='' max='16000' style='width:300px; height:20px; vertical-align: middle;'></progress>\n",
       "      100.00% [16000/16000 25:43<00:00 Sampling 4 chains, 0 divergences]\n",
       "    </div>\n",
       "    "
      ],
      "text/plain": [
       "<IPython.core.display.HTML object>"
      ]
     },
     "metadata": {},
     "output_type": "display_data"
    },
    {
     "name": "stderr",
     "output_type": "stream",
     "text": [
      "Sampling 4 chains for 2_000 tune and 2_000 draw iterations (8_000 + 8_000 draws total) took 1545 seconds.\n",
      "The number of effective samples is smaller than 10% for some parameters.\n"
     ]
    }
   ],
   "source": [
    "with pm.Model() as model_RW_H:\n",
    "    \n",
    "    mu = pm.Normal('mu', 0, 1)\n",
    "    sd = pm.HalfNormal('sd',2) \n",
    "    intercept = pm.Normal('intercept', mu, sd, shape=n_subj)\n",
    "    \n",
    "    beta_h = pm.Normal('beta_h', 0,1)\n",
    "    beta_sd = pm.HalfNormal('beta_sd', 1)\n",
    "    beta = pm.Normal('beta',beta_h, beta_sd, shape=n_subj)\n",
    "    \n",
    "    eps = pm.HalfNormal('eps', 5)\n",
    "    \n",
    "    a_a = pm.TruncatedNormal('a_a', 3, 2, lower=1)\n",
    "    a_b = pm.TruncatedNormal('a_b', 7, 2, lower=1)\n",
    "\n",
    "    alpha = pm.Beta('alpha', a_a, a_b, shape=n_subj)\n",
    "    \n",
    "    \n",
    "    Qs = .5 * tt.ones((n_subj,2), dtype='float64') # set values for boths stimuli (CS+, CS-)\n",
    "    vec = .5 * tt.ones((n_subj,1), dtype='float64') # vector to save the relevant stimulus's expactation\n",
    "    \n",
    "    [Qs,vec], updates = theano.scan(\n",
    "        fn=update_q.update_Q,\n",
    "        sequences=[stim, reward],\n",
    "        outputs_info=[Qs, vec],\n",
    "        non_sequences=[alpha, n_subj])\n",
    "   \n",
    "    \n",
    "    vec_ = vec[trials,subj,0] * beta[subj] + intercept[subj]\n",
    "    \n",
    "    learn = pm.Normal('learn', vec_, eps, observed=rating) \n",
    "    \n",
    "    # add matrix of expected values (trials X subjects)\n",
    "    ev = pm.Deterministic('expected_value', vec_)\n",
    "    \n",
    "    trace_RW_h = pm.sample(tune=tune, draws=draws, return_inferencedata=True, target_accept= target_accept)"
   ]
  },
  {
   "cell_type": "code",
   "execution_count": 13,
   "id": "eb23bb0a",
   "metadata": {},
   "outputs": [
    {
     "name": "stderr",
     "output_type": "stream",
     "text": [
      "Auto-assigning NUTS sampler...\n",
      "Initializing NUTS using jitter+adapt_diag...\n",
      "Multiprocess sampling (4 chains in 4 jobs)\n",
      "NUTS: [alpha_n, alpha_p, an_b, an_a, ap_b, ap_a, eps, beta, beta_sd, beta_h, intercept, sd, mu]\n"
     ]
    },
    {
     "data": {
      "text/html": [
       "\n",
       "    <div>\n",
       "        <style>\n",
       "            /* Turns off some styling */\n",
       "            progress {\n",
       "                /* gets rid of default border in Firefox and Opera. */\n",
       "                border: none;\n",
       "                /* Needs to be in here for Safari polyfill so background images work as expected. */\n",
       "                background-size: auto;\n",
       "            }\n",
       "            .progress-bar-interrupted, .progress-bar-interrupted::-webkit-progress-bar {\n",
       "                background: #F44336;\n",
       "            }\n",
       "        </style>\n",
       "      <progress value='16000' class='' max='16000' style='width:300px; height:20px; vertical-align: middle;'></progress>\n",
       "      100.00% [16000/16000 41:10<00:00 Sampling 4 chains, 0 divergences]\n",
       "    </div>\n",
       "    "
      ],
      "text/plain": [
       "<IPython.core.display.HTML object>"
      ]
     },
     "metadata": {},
     "output_type": "display_data"
    },
    {
     "name": "stderr",
     "output_type": "stream",
     "text": [
      "Sampling 4 chains for 2_000 tune and 2_000 draw iterations (8_000 + 8_000 draws total) took 2471 seconds.\n",
      "The number of effective samples is smaller than 10% for some parameters.\n"
     ]
    }
   ],
   "source": [
    "with pm.Model() as model_RW_valence_H:\n",
    "    \n",
    "    mu = pm.Normal('mu', 0, 1)\n",
    "    sd = pm.HalfNormal('sd',5) \n",
    "    intercept = pm.Normal('intercept', mu, sd, shape=n_subj)\n",
    "     \n",
    "    beta_h = pm.Normal('beta_h', 0,1)\n",
    "    beta_sd = pm.HalfNormal('beta_sd', 1)\n",
    "    beta = pm.Normal('beta',beta_h, beta_sd, shape=n_subj)\n",
    "    \n",
    "    eps = pm.HalfNormal('eps', 5)\n",
    "    \n",
    "    ap_a = pm.TruncatedNormal('ap_a', 3, 2, lower=1)\n",
    "    ap_b = pm.TruncatedNormal('ap_b', 7, 2, lower=1)\n",
    "    \n",
    "    an_a = pm.TruncatedNormal('an_a', 3, 2, lower=1)\n",
    "    an_b = pm.TruncatedNormal('an_b', 7, 2, lower=1)\n",
    "\n",
    "    alpha_p = pm.Beta('alpha_p', ap_a, ap_b, shape=n_subj)\n",
    "    alpha_n = pm.Beta('alpha_n', an_a, an_b, shape=n_subj)\n",
    "    \n",
    "    \n",
    "    Qs = .5 * tt.ones((n_subj,2), dtype='float64') # set values for boths stimuli (CS+, CS-)\n",
    "    vec = .5 * tt.ones((n_subj,1), dtype='float64') # vector to save the relevant stimulus's expactation\n",
    "    \n",
    "    [Qs,vec], updates = theano.scan(\n",
    "        fn=update_q.update_Q_valence,\n",
    "        sequences=[stim, reward],\n",
    "        outputs_info=[Qs, vec],\n",
    "        non_sequences=[alpha_p, alpha_n, n_subj])\n",
    "   \n",
    "    \n",
    "    vec_ = vec[trials,subj,0] * beta[subj] + intercept[subj]\n",
    "    \n",
    "    learn = pm.Normal('learn', vec_, eps, observed=rating) \n",
    "    \n",
    "    # add matrix of expected values (trials X subjects)\n",
    "    ev = pm.Deterministic('expected_value', vec_)\n",
    "    \n",
    "    trace_RW_valence_h = pm.sample(tune=tune, draws=draws, return_inferencedata=True, target_accept= target_accept)"
   ]
  },
  {
   "cell_type": "code",
   "execution_count": 15,
   "id": "60b6c034",
   "metadata": {},
   "outputs": [
    {
     "name": "stderr",
     "output_type": "stream",
     "text": [
      "Auto-assigning NUTS sampler...\n",
      "Initializing NUTS using jitter+adapt_diag...\n",
      "Multiprocess sampling (4 chains in 4 jobs)\n",
      "NUTS: [eps, alpha_2, alpha_1, a_b2, a_a2, a_b1, a_a1, beta, beta_sd, beta_h, intercept, sd, mu]\n"
     ]
    },
    {
     "data": {
      "text/html": [
       "\n",
       "    <div>\n",
       "        <style>\n",
       "            /* Turns off some styling */\n",
       "            progress {\n",
       "                /* gets rid of default border in Firefox and Opera. */\n",
       "                border: none;\n",
       "                /* Needs to be in here for Safari polyfill so background images work as expected. */\n",
       "                background-size: auto;\n",
       "            }\n",
       "            .progress-bar-interrupted, .progress-bar-interrupted::-webkit-progress-bar {\n",
       "                background: #F44336;\n",
       "            }\n",
       "        </style>\n",
       "      <progress value='16000' class='' max='16000' style='width:300px; height:20px; vertical-align: middle;'></progress>\n",
       "      100.00% [16000/16000 43:42<00:00 Sampling 4 chains, 0 divergences]\n",
       "    </div>\n",
       "    "
      ],
      "text/plain": [
       "<IPython.core.display.HTML object>"
      ]
     },
     "metadata": {},
     "output_type": "display_data"
    },
    {
     "name": "stderr",
     "output_type": "stream",
     "text": [
      "Sampling 4 chains for 2_000 tune and 2_000 draw iterations (8_000 + 8_000 draws total) took 2625 seconds.\n",
      "The number of effective samples is smaller than 25% for some parameters.\n"
     ]
    }
   ],
   "source": [
    "with pm.Model() as model_RW_halves_h:\n",
    "    \n",
    "    mu = pm.Normal('mu', 0, 1)\n",
    "    sd = pm.HalfNormal('sd',1) \n",
    "    intercept = pm.Normal('intercept', mu, sd, shape=n_subj)\n",
    "    \n",
    "    beta_h = pm.Normal('beta_h', 0,1)\n",
    "    beta_sd = pm.HalfNormal('beta_sd', 1)\n",
    "    beta = pm.Normal('beta',beta_h, beta_sd, shape=n_subj)\n",
    "    \n",
    "    a_a1 = pm.TruncatedNormal('a_a1', 3, 1, lower=1)\n",
    "    a_b1 = pm.TruncatedNormal('a_b1', 8, 2, lower=1)\n",
    "    \n",
    "    a_a2 = pm.TruncatedNormal('a_a2', 3, 1, lower=1)\n",
    "    a_b2 = pm.TruncatedNormal('a_b2', 8, 2, lower=1)\n",
    "\n",
    "\n",
    "    alpha_1 = pm.Beta('alpha_1', a_a1, a_b1, shape=n_subj)\n",
    "    alpha_2 = pm.Beta('alpha_2', a_a2, a_b2, shape=n_subj)\n",
    "    \n",
    "    eps = pm.HalfNormal('eps', 5)\n",
    "    \n",
    "    Qs = .5 * tt.ones((n_subj,2), dtype='float64') # set values for boths stimuli (CS+, CS-)\n",
    "    vec = .5 * tt.ones((n_subj,1), dtype='float64') # vector to save the relevant stimulus's expactation\n",
    "    \n",
    "    [Qs,vec], updates = theano.scan(\n",
    "        fn=update_q.update_Q_half,\n",
    "        sequences=[stim, reward, trial],\n",
    "        outputs_info=[Qs, vec],\n",
    "        non_sequences=[alpha_1, alpha_2,  n_subj])\n",
    "   \n",
    "    \n",
    "    vec_ = vec[trials,subj,0] * beta[subj] + intercept[subj]\n",
    "    \n",
    "    learn = pm.Normal('learn', vec_, eps, observed=rating) \n",
    "    \n",
    "    # add matrix of expected values (trials X subjects)\n",
    "    ev = pm.Deterministic('expected_value', vec_)\n",
    "    \n",
    "    trace_RW_halves_h = pm.sample(tune=tune, draws=draws, return_inferencedata=True, target_accept= target_accept)"
   ]
  },
  {
   "cell_type": "code",
   "execution_count": 31,
   "id": "815d73c8",
   "metadata": {},
   "outputs": [
    {
     "name": "stderr",
     "output_type": "stream",
     "text": [
      "Auto-assigning NUTS sampler...\n",
      "Initializing NUTS using jitter+adapt_diag...\n",
      "Multiprocess sampling (4 chains in 4 jobs)\n",
      "NUTS: [eps, alphan_2, alphan_1, alphap_2, alphap_1, an_b2, an_a2, an_b1, an_a1, ap_b2, ap_a2, ap_b1, ap_a1, beta, beta_sd, beta_h, intercept, sd, mu]\n"
     ]
    },
    {
     "data": {
      "text/html": [
       "\n",
       "    <div>\n",
       "        <style>\n",
       "            /* Turns off some styling */\n",
       "            progress {\n",
       "                /* gets rid of default border in Firefox and Opera. */\n",
       "                border: none;\n",
       "                /* Needs to be in here for Safari polyfill so background images work as expected. */\n",
       "                background-size: auto;\n",
       "            }\n",
       "            .progress-bar-interrupted, .progress-bar-interrupted::-webkit-progress-bar {\n",
       "                background: #F44336;\n",
       "            }\n",
       "        </style>\n",
       "      <progress value='16000' class='' max='16000' style='width:300px; height:20px; vertical-align: middle;'></progress>\n",
       "      100.00% [16000/16000 1:04:25<00:00 Sampling 4 chains, 0 divergences]\n",
       "    </div>\n",
       "    "
      ],
      "text/plain": [
       "<IPython.core.display.HTML object>"
      ]
     },
     "metadata": {},
     "output_type": "display_data"
    },
    {
     "name": "stderr",
     "output_type": "stream",
     "text": [
      "Sampling 4 chains for 2_000 tune and 2_000 draw iterations (8_000 + 8_000 draws total) took 3867 seconds.\n",
      "The number of effective samples is smaller than 10% for some parameters.\n"
     ]
    }
   ],
   "source": [
    "with pm.Model() as model_RW_valence_halves:\n",
    "    \n",
    "    mu = pm.Normal('mu', 0, 1)\n",
    "    sd = pm.HalfNormal('sd',1) \n",
    "    intercept = pm.Normal('intercept', mu, sd, shape=n_subj)\n",
    "    \n",
    "    beta_h = pm.Normal('beta_h', 0,1)\n",
    "    beta_sd = pm.HalfNormal('beta_sd', 1)\n",
    "    beta = pm.Normal('beta',beta_h, beta_sd, shape=n_subj)\n",
    "    \n",
    "    ap_a1 = pm.TruncatedNormal('ap_a1', 3, 1, lower=1)\n",
    "    ap_b1 = pm.TruncatedNormal('ap_b1', 8, 2, lower=1)\n",
    "    \n",
    "    ap_a2 = pm.TruncatedNormal('ap_a2', 3, 1, lower=1)\n",
    "    ap_b2 = pm.TruncatedNormal('ap_b2', 8, 2, lower=1)\n",
    "    \n",
    "    an_a1 = pm.TruncatedNormal('an_a1', 3, 1, lower=1)\n",
    "    an_b1 = pm.TruncatedNormal('an_b1', 8, 2, lower=1)\n",
    "    \n",
    "    an_a2 = pm.TruncatedNormal('an_a2', 3, 1, lower=1)\n",
    "    an_b2 = pm.TruncatedNormal('an_b2', 8, 2, lower=1)\n",
    "\n",
    "    alphap_1 = pm.Beta('alphap_1', ap_a1, ap_b1, shape=n_subj)\n",
    "    alphap_2 = pm.Beta('alphap_2', ap_a2, ap_b2, shape=n_subj)\n",
    "    alphan_1 = pm.Beta('alphan_1', an_a1, an_b1, shape=n_subj)\n",
    "    alphan_2 = pm.Beta('alphan_2', an_a2, an_b2, shape=n_subj)\n",
    "    \n",
    "    eps = pm.HalfNormal('eps', 5)\n",
    "    \n",
    "    Qs = .5 * tt.ones((n_subj,2), dtype='float64') # set values for boths stimuli (CS+, CS-)\n",
    "    vec = .5 * tt.ones((n_subj,1), dtype='float64') # vector to save the relevant stimulus's expactation\n",
    "    \n",
    "    [Qs,vec], updates = theano.scan(\n",
    "        fn=update_q.update_Q_valence_half,\n",
    "        sequences=[stim, reward, trial],\n",
    "        outputs_info=[Qs, vec],\n",
    "        non_sequences=[alphap_1, alphan_1, alphap_2, alphan_2,  n_subj])\n",
    "   \n",
    "    \n",
    "    vec_ = vec[trials,subj,0] * beta[subj] + intercept[subj]\n",
    "    \n",
    "    learn = pm.Normal('learn', vec_, eps, observed=rating) \n",
    "    \n",
    "    # add matrix of expected values (trials X subjects)\n",
    "    ev = pm.Deterministic('expected_value', vec_)\n",
    "    \n",
    "    trace_RW_valence_halves_h = pm.sample(tune=tune, draws=draws, return_inferencedata=True, target_accept= target_accept)"
   ]
  },
  {
   "cell_type": "code",
   "execution_count": 14,
   "id": "9e2afa1d",
   "metadata": {},
   "outputs": [
    {
     "name": "stderr",
     "output_type": "stream",
     "text": [
      "Auto-assigning NUTS sampler...\n",
      "Initializing NUTS using jitter+adapt_diag...\n",
      "Multiprocess sampling (4 chains in 4 jobs)\n",
      "NUTS: [decay, decay_b, decay_a, alpha, a_b, a_a, eps, beta, beta_sd, beta_h, intercept, sd, mu]\n"
     ]
    },
    {
     "data": {
      "text/html": [
       "\n",
       "    <div>\n",
       "        <style>\n",
       "            /* Turns off some styling */\n",
       "            progress {\n",
       "                /* gets rid of default border in Firefox and Opera. */\n",
       "                border: none;\n",
       "                /* Needs to be in here for Safari polyfill so background images work as expected. */\n",
       "                background-size: auto;\n",
       "            }\n",
       "            .progress-bar-interrupted, .progress-bar-interrupted::-webkit-progress-bar {\n",
       "                background: #F44336;\n",
       "            }\n",
       "        </style>\n",
       "      <progress value='16000' class='' max='16000' style='width:300px; height:20px; vertical-align: middle;'></progress>\n",
       "      100.00% [16000/16000 2:25:29<00:00 Sampling 4 chains, 5 divergences]\n",
       "    </div>\n",
       "    "
      ],
      "text/plain": [
       "<IPython.core.display.HTML object>"
      ]
     },
     "metadata": {},
     "output_type": "display_data"
    },
    {
     "name": "stderr",
     "output_type": "stream",
     "text": [
      "Sampling 4 chains for 2_000 tune and 2_000 draw iterations (8_000 + 8_000 draws total) took 8730 seconds.\n",
      "There were 5 divergences after tuning. Increase `target_accept` or reparameterize.\n",
      "The rhat statistic is larger than 1.05 for some parameters. This indicates slight problems during sampling.\n",
      "The estimated number of effective samples is smaller than 200 for some parameters.\n"
     ]
    }
   ],
   "source": [
    "with pm.Model() as model_RW_decay_H:\n",
    "    \n",
    "    mu = pm.Normal('mu', 0, 1)\n",
    "    sd = pm.HalfNormal('sd',1) \n",
    "    intercept = pm.Normal('intercept', mu, sd, shape=n_subj)\n",
    "    \n",
    "    beta_h = pm.Normal('beta_h', 0,1)\n",
    "    beta_sd = pm.HalfNormal('beta_sd', 1)\n",
    "    beta = pm.Normal('beta',beta_h, beta_sd, shape=n_subj)\n",
    "    \n",
    "    eps = pm.HalfNormal('eps', 5)\n",
    "    \n",
    "    a_a = pm.TruncatedNormal('a_a', 3, 1, lower=1)\n",
    "    a_b = pm.TruncatedNormal('a_b', 8, 2, lower=1)\n",
    "\n",
    "    alpha = pm.Beta('alpha', a_a, a_b, shape=n_subj)\n",
    "    \n",
    "    decay_a = pm.TruncatedNormal('decay_a', 5, 2, lower=1)\n",
    "    decay_b = pm.TruncatedNormal('decay_b', 5, 2, lower=1)\n",
    "    \n",
    "    decay = pm.Beta('decay', decay_a, decay_b, shape=n_subj)\n",
    "    \n",
    "    Qs = .5 * tt.ones((n_subj,2), dtype='float64') # set values for boths stimuli (CS+, CS-)\n",
    "    vec = .5 * tt.ones((n_subj,1), dtype='float64') # vector to save the relevant stimulus's expactation\n",
    "    \n",
    "    [Qs,vec], updates = theano.scan(\n",
    "        fn=update_q.update_Q_decay,\n",
    "        sequences=[stim, reward],\n",
    "        outputs_info=[Qs, vec],\n",
    "        non_sequences=[alpha, decay, n_subj])\n",
    "   \n",
    "    \n",
    "    vec_ = vec[trials,subj,0] * beta[subj] + intercept[subj]\n",
    "    \n",
    "    learn = pm.Normal('learn', vec_, eps, observed=rating) \n",
    "    \n",
    "    # add matrix of expected values (trials X subjects)\n",
    "    ev = pm.Deterministic('expected_value', vec_)\n",
    "    \n",
    "    trace_RW_decay_h = pm.sample(tune=tune, draws=draws, return_inferencedata=True, target_accept= .99)"
   ]
  },
  {
   "cell_type": "code",
   "execution_count": 16,
   "id": "05a9f438",
   "metadata": {},
   "outputs": [
    {
     "name": "stderr",
     "output_type": "stream",
     "text": [
      "Auto-assigning NUTS sampler...\n",
      "Initializing NUTS using jitter+adapt_diag...\n",
      "Multiprocess sampling (4 chains in 4 jobs)\n",
      "NUTS: [eps, kappa, eta, kappa_b, kappa_a, eta_b, eta_a, beta, beta_sd, beta_h, intercept, sd, mu]\n"
     ]
    },
    {
     "data": {
      "text/html": [
       "\n",
       "    <div>\n",
       "        <style>\n",
       "            /* Turns off some styling */\n",
       "            progress {\n",
       "                /* gets rid of default border in Firefox and Opera. */\n",
       "                border: none;\n",
       "                /* Needs to be in here for Safari polyfill so background images work as expected. */\n",
       "                background-size: auto;\n",
       "            }\n",
       "            .progress-bar-interrupted, .progress-bar-interrupted::-webkit-progress-bar {\n",
       "                background: #F44336;\n",
       "            }\n",
       "        </style>\n",
       "      <progress value='16000' class='' max='16000' style='width:300px; height:20px; vertical-align: middle;'></progress>\n",
       "      100.00% [16000/16000 4:24:22<00:00 Sampling 4 chains, 0 divergences]\n",
       "    </div>\n",
       "    "
      ],
      "text/plain": [
       "<IPython.core.display.HTML object>"
      ]
     },
     "metadata": {},
     "output_type": "display_data"
    },
    {
     "name": "stderr",
     "output_type": "stream",
     "text": [
      "Sampling 4 chains for 2_000 tune and 2_000 draw iterations (8_000 + 8_000 draws total) took 15865 seconds.\n",
      "The estimated number of effective samples is smaller than 200 for some parameters.\n"
     ]
    }
   ],
   "source": [
    "with pm.Model() as model_PH_h:\n",
    "    \n",
    "    # Hyper priors\n",
    "    mu = pm.Normal('mu', 0, 1)\n",
    "    sd = pm.HalfNormal('sd',1) \n",
    "    intercept = pm.Normal('intercept', mu, sd, shape=n_subj)\n",
    "    \n",
    "    beta_h = pm.Normal('beta_h', 0,1)\n",
    "    beta_sd = pm.HalfNormal('beta_sd', .1)\n",
    "    beta = pm.Normal('beta',beta_h, beta_sd, shape=n_subj)\n",
    "    \n",
    "    \n",
    "    eta_a = pm.TruncatedNormal('eta_a', 3, 1, lower=1)\n",
    "    eta_b = pm.TruncatedNormal('eta_b', 8, 2, lower=1)\n",
    "    \n",
    "    kappa_a = pm.TruncatedNormal('kappa_a', 8, 2, lower=1)\n",
    "    kappa_b = pm.TruncatedNormal('kappa_b', 3, 1, lower=1)\n",
    "      \n",
    "    eta = pm.Beta('eta', eta_a, eta_b, shape=n_subj)\n",
    "    kappa = pm.Beta('kappa', kappa_a, kappa_b, shape=n_subj)\n",
    "\n",
    "    \n",
    "    eps = pm.HalfNormal('eps', 5)\n",
    "    \n",
    "    \n",
    "    Qs = 0.5 * tt.ones((n_subj,2), dtype='float64') # set values for boths stimuli (CS+, CS-)\n",
    "    vec = 0.5 * tt.ones((n_subj,1), dtype='float64') # vector to save the relevant stimulus's expactation\n",
    "    alpha = 0 * tt.ones((n_subj,2), dtype='float64') # vector to save the relevant stimulus's expactation\n",
    "    assoc = 0 * tt.ones((n_subj,1), dtype='float64') # vector to save the relevant stimulus's expactation\n",
    "    \n",
    "    [Qs,vec, alpha, assoc], updates = theano.scan(\n",
    "        fn=update_q.update_Q_hall,\n",
    "        sequences=[stim, reward],\n",
    "        outputs_info=[Qs, vec, alpha, assoc],\n",
    "        non_sequences=[eta, kappa, n_subj])\n",
    "    \n",
    "    vec_ = vec[trials, subj,0] * beta[subj] + intercept[subj]\n",
    "    \n",
    "    learn = pm.Normal('learn', mu = vec_, sd = eps, observed=rating) \n",
    "    \n",
    "    ev = pm.Deterministic('expected_value', vec_)\n",
    "    \n",
    "    trace_PH_h = pm.sample(tune=tune, draws=draws, return_inferencedata=True, target_accept= .99)"
   ]
  },
  {
   "cell_type": "code",
   "execution_count": 32,
   "id": "28abd91e",
   "metadata": {},
   "outputs": [
    {
     "data": {
      "text/html": [
       "<div>\n",
       "<style scoped>\n",
       "    .dataframe tbody tr th:only-of-type {\n",
       "        vertical-align: middle;\n",
       "    }\n",
       "\n",
       "    .dataframe tbody tr th {\n",
       "        vertical-align: top;\n",
       "    }\n",
       "\n",
       "    .dataframe thead th {\n",
       "        text-align: right;\n",
       "    }\n",
       "</style>\n",
       "<table border=\"1\" class=\"dataframe\">\n",
       "  <thead>\n",
       "    <tr style=\"text-align: right;\">\n",
       "      <th></th>\n",
       "      <th>rank</th>\n",
       "      <th>loo</th>\n",
       "      <th>p_loo</th>\n",
       "      <th>d_loo</th>\n",
       "      <th>weight</th>\n",
       "      <th>se</th>\n",
       "      <th>dse</th>\n",
       "      <th>warning</th>\n",
       "      <th>loo_scale</th>\n",
       "    </tr>\n",
       "  </thead>\n",
       "  <tbody>\n",
       "    <tr>\n",
       "      <th>RW valence halves</th>\n",
       "      <td>0</td>\n",
       "      <td>-519.644522</td>\n",
       "      <td>141.946154</td>\n",
       "      <td>0.000000</td>\n",
       "      <td>5.863039e-01</td>\n",
       "      <td>41.355722</td>\n",
       "      <td>0.000000</td>\n",
       "      <td>False</td>\n",
       "      <td>log</td>\n",
       "    </tr>\n",
       "    <tr>\n",
       "      <th>RW halves</th>\n",
       "      <td>1</td>\n",
       "      <td>-531.741088</td>\n",
       "      <td>140.585150</td>\n",
       "      <td>12.096566</td>\n",
       "      <td>4.136961e-01</td>\n",
       "      <td>41.144829</td>\n",
       "      <td>12.639943</td>\n",
       "      <td>False</td>\n",
       "      <td>log</td>\n",
       "    </tr>\n",
       "    <tr>\n",
       "      <th>RW</th>\n",
       "      <td>2</td>\n",
       "      <td>-595.453611</td>\n",
       "      <td>95.213203</td>\n",
       "      <td>75.809088</td>\n",
       "      <td>0.000000e+00</td>\n",
       "      <td>39.533995</td>\n",
       "      <td>11.135869</td>\n",
       "      <td>False</td>\n",
       "      <td>log</td>\n",
       "    </tr>\n",
       "    <tr>\n",
       "      <th>PH</th>\n",
       "      <td>3</td>\n",
       "      <td>-602.906095</td>\n",
       "      <td>81.079481</td>\n",
       "      <td>83.261573</td>\n",
       "      <td>0.000000e+00</td>\n",
       "      <td>39.378260</td>\n",
       "      <td>12.010881</td>\n",
       "      <td>False</td>\n",
       "      <td>log</td>\n",
       "    </tr>\n",
       "    <tr>\n",
       "      <th>RW decay</th>\n",
       "      <td>4</td>\n",
       "      <td>-606.331563</td>\n",
       "      <td>85.985635</td>\n",
       "      <td>86.687040</td>\n",
       "      <td>1.949552e-13</td>\n",
       "      <td>39.412341</td>\n",
       "      <td>12.306622</td>\n",
       "      <td>False</td>\n",
       "      <td>log</td>\n",
       "    </tr>\n",
       "  </tbody>\n",
       "</table>\n",
       "</div>"
      ],
      "text/plain": [
       "                   rank         loo       p_loo      d_loo        weight  \\\n",
       "RW valence halves     0 -519.644522  141.946154   0.000000  5.863039e-01   \n",
       "RW halves             1 -531.741088  140.585150  12.096566  4.136961e-01   \n",
       "RW                    2 -595.453611   95.213203  75.809088  0.000000e+00   \n",
       "PH                    3 -602.906095   81.079481  83.261573  0.000000e+00   \n",
       "RW decay              4 -606.331563   85.985635  86.687040  1.949552e-13   \n",
       "\n",
       "                          se        dse  warning loo_scale  \n",
       "RW valence halves  41.355722   0.000000    False       log  \n",
       "RW halves          41.144829  12.639943    False       log  \n",
       "RW                 39.533995  11.135869    False       log  \n",
       "PH                 39.378260  12.010881    False       log  \n",
       "RW decay           39.412341  12.306622    False       log  "
      ]
     },
     "execution_count": 32,
     "metadata": {},
     "output_type": "execute_result"
    }
   ],
   "source": [
    "models = {'RW': trace_RW_h, \n",
    "          'RW valence': trace_RW_valence_h,\n",
    "          'RW halves':trace_RW_halves_h,\n",
    "          'RW valence halves': trace_RW_valence_h,\n",
    "          'RW decay':trace_RW_valence_halves_h, \n",
    "          'PH': trace_PH_h}\n",
    "\n",
    "comp = az.compare(models)\n",
    "az.compare(models, ic='loo')"
   ]
  },
  {
   "cell_type": "code",
   "execution_count": 33,
   "id": "03e1711b",
   "metadata": {},
   "outputs": [
    {
     "data": {
      "text/plain": [
       "<AxesSubplot:xlabel='Log'>"
      ]
     },
     "execution_count": 33,
     "metadata": {},
     "output_type": "execute_result"
    },
    {
     "data": {
      "image/png": "[encoded data removed]",
      "text/plain": [
       "<Figure size 432x360 with 1 Axes>"
      ]
     },
     "metadata": {
      "needs_background": "light"
     },
     "output_type": "display_data"
    }
   ],
   "source": [
    "az.plot_compare(comp)"
   ]
  },
  {
   "cell_type": "code",
   "execution_count": 19,
   "id": "caf9518f",
   "metadata": {},
   "outputs": [
    {
     "data": {
      "text/plain": [
       "<AxesSubplot:xlabel='Log'>"
      ]
     },
     "execution_count": 19,
     "metadata": {},
     "output_type": "execute_result"
    },
    {
     "data": {
      "image/png": "[encoded data removed]",
      "text/plain": [
       "<Figure size 432x360 with 1 Axes>"
      ]
     },
     "metadata": {
      "needs_background": "light"
     },
     "output_type": "display_data"
    }
   ],
   "source": [
    "az.plot_compare(comp) #old"
   ]
  },
  {
   "cell_type": "code",
   "execution_count": 20,
   "id": "ad231e51",
   "metadata": {},
   "outputs": [
    {
     "data": {
      "text/html": [
       "\n",
       "    <div>\n",
       "        <style>\n",
       "            /* Turns off some styling */\n",
       "            progress {\n",
       "                /* gets rid of default border in Firefox and Opera. */\n",
       "                border: none;\n",
       "                /* Needs to be in here for Safari polyfill so background images work as expected. */\n",
       "                background-size: auto;\n",
       "            }\n",
       "            .progress-bar-interrupted, .progress-bar-interrupted::-webkit-progress-bar {\n",
       "                background: #F44336;\n",
       "            }\n",
       "        </style>\n",
       "      <progress value='8000' class='' max='8000' style='width:300px; height:20px; vertical-align: middle;'></progress>\n",
       "      100.00% [8000/8000 00:29<00:00]\n",
       "    </div>\n",
       "    "
      ],
      "text/plain": [
       "<IPython.core.display.HTML object>"
      ]
     },
     "metadata": {},
     "output_type": "display_data"
    },
    {
     "data": {
      "image/png": "[encoded data removed]",
      "text/plain": [
       "<Figure size 432x288 with 1 Axes>"
      ]
     },
     "metadata": {
      "needs_background": "light"
     },
     "output_type": "display_data"
    }
   ],
   "source": [
    "with model_RW_halves_h:\n",
    "    ppc = pm.sample_posterior_predictive(\n",
    "        trace_RW_halves_h)\n",
    "az.plot_ppc(az.from_pymc3(posterior_predictive=ppc, model=model_RW_halves_h));"
   ]
  },
  {
   "cell_type": "code",
   "execution_count": 35,
   "id": "25aba635",
   "metadata": {},
   "outputs": [],
   "source": [
    "df = db[['sub','age', 'gender', 'moca_score']].sort_values('sub').drop_duplicates().reset_index(drop=True)\n",
    "df['age'] = df.age.astype('int')\n"
   ]
  },
  {
   "cell_type": "code",
   "execution_count": 37,
   "id": "baf49ae5",
   "metadata": {},
   "outputs": [
    {
     "data": {
      "text/html": [
       "<div>\n",
       "<style scoped>\n",
       "    .dataframe tbody tr th:only-of-type {\n",
       "        vertical-align: middle;\n",
       "    }\n",
       "\n",
       "    .dataframe tbody tr th {\n",
       "        vertical-align: top;\n",
       "    }\n",
       "\n",
       "    .dataframe thead th {\n",
       "        text-align: right;\n",
       "    }\n",
       "</style>\n",
       "<table border=\"1\" class=\"dataframe\">\n",
       "  <thead>\n",
       "    <tr style=\"text-align: right;\">\n",
       "      <th></th>\n",
       "      <th>sub</th>\n",
       "      <th>age</th>\n",
       "      <th>gender</th>\n",
       "      <th>moca_score</th>\n",
       "      <th>alphap_1</th>\n",
       "      <th>alphap_2</th>\n",
       "      <th>alphan_1</th>\n",
       "      <th>alphan_2</th>\n",
       "    </tr>\n",
       "  </thead>\n",
       "  <tbody>\n",
       "    <tr>\n",
       "      <th>0</th>\n",
       "      <td>10</td>\n",
       "      <td>18</td>\n",
       "      <td>M</td>\n",
       "      <td>28</td>\n",
       "      <td>0.124</td>\n",
       "      <td>0.385</td>\n",
       "      <td>0.261</td>\n",
       "      <td>0.115</td>\n",
       "    </tr>\n",
       "    <tr>\n",
       "      <th>1</th>\n",
       "      <td>11</td>\n",
       "      <td>43</td>\n",
       "      <td>F</td>\n",
       "      <td>26</td>\n",
       "      <td>0.331</td>\n",
       "      <td>0.473</td>\n",
       "      <td>0.196</td>\n",
       "      <td>0.053</td>\n",
       "    </tr>\n",
       "    <tr>\n",
       "      <th>2</th>\n",
       "      <td>13</td>\n",
       "      <td>48</td>\n",
       "      <td>F</td>\n",
       "      <td>28</td>\n",
       "      <td>0.126</td>\n",
       "      <td>0.438</td>\n",
       "      <td>0.253</td>\n",
       "      <td>0.093</td>\n",
       "    </tr>\n",
       "    <tr>\n",
       "      <th>3</th>\n",
       "      <td>14</td>\n",
       "      <td>26</td>\n",
       "      <td>F</td>\n",
       "      <td>30</td>\n",
       "      <td>0.151</td>\n",
       "      <td>0.432</td>\n",
       "      <td>0.259</td>\n",
       "      <td>0.117</td>\n",
       "    </tr>\n",
       "    <tr>\n",
       "      <th>4</th>\n",
       "      <td>15</td>\n",
       "      <td>58</td>\n",
       "      <td>F</td>\n",
       "      <td>26</td>\n",
       "      <td>0.139</td>\n",
       "      <td>0.496</td>\n",
       "      <td>0.240</td>\n",
       "      <td>0.126</td>\n",
       "    </tr>\n",
       "  </tbody>\n",
       "</table>\n",
       "</div>"
      ],
      "text/plain": [
       "   sub  age gender  moca_score  alphap_1  alphap_2  alphan_1  alphan_2\n",
       "0   10   18      M          28     0.124     0.385     0.261     0.115\n",
       "1   11   43      F          26     0.331     0.473     0.196     0.053\n",
       "2   13   48      F          28     0.126     0.438     0.253     0.093\n",
       "3   14   26      F          30     0.151     0.432     0.259     0.117\n",
       "4   15   58      F          26     0.139     0.496     0.240     0.126"
      ]
     },
     "execution_count": 37,
     "metadata": {},
     "output_type": "execute_result"
    }
   ],
   "source": [
    "alphap_1 = az.summary(trace_RW_valence_halves_h, var_names=['alphap_1'])[['mean']]\n",
    "alphap_2 = az.summary(trace_RW_valence_halves_h, var_names=['alphap_2'])[['mean']]\n",
    "alphan_1 = az.summary(trace_RW_valence_halves_h, var_names=['alphan_1'])[['mean']]\n",
    "alphan_2 = az.summary(trace_RW_valence_halves_h, var_names=['alphan_2'])[['mean']]\n",
    "\n",
    "alphap_1 = alphap_1.rename(columns={'mean': \"alphap_1\"}).reset_index(drop=True)\n",
    "alphap_2 = alphap_2.rename(columns={'mean': \"alphap_2\"}).reset_index(drop=True)\n",
    "alphan_1 = alphan_1.rename(columns={'mean': \"alphan_1\"}).reset_index(drop=True)\n",
    "alphan_2 = alphan_2.rename(columns={'mean': \"alphan_2\"}).reset_index(drop=True)\n",
    "\n",
    "df = df.merge(alphap_1, left_index=True, right_index=True)\n",
    "df = df.merge(alphap_2, left_index=True, right_index=True)\n",
    "df = df.merge(alphan_1, left_index=True, right_index=True)\n",
    "df = df.merge(alphan_2, left_index=True, right_index=True)\n",
    "\n",
    "df.head()"
   ]
  },
  {
   "cell_type": "code",
   "execution_count": 38,
   "id": "c9277472",
   "metadata": {},
   "outputs": [
    {
     "name": "stderr",
     "output_type": "stream",
     "text": [
      "Auto-assigning NUTS sampler...\n",
      "Initializing NUTS using jitter+adapt_diag...\n",
      "Multiprocess sampling (4 chains in 4 jobs)\n",
      "NUTS: [nu, eps, slope, intercept]\n"
     ]
    },
    {
     "data": {
      "text/html": [
       "\n",
       "    <div>\n",
       "        <style>\n",
       "            /* Turns off some styling */\n",
       "            progress {\n",
       "                /* gets rid of default border in Firefox and Opera. */\n",
       "                border: none;\n",
       "                /* Needs to be in here for Safari polyfill so background images work as expected. */\n",
       "                background-size: auto;\n",
       "            }\n",
       "            .progress-bar-interrupted, .progress-bar-interrupted::-webkit-progress-bar {\n",
       "                background: #F44336;\n",
       "            }\n",
       "        </style>\n",
       "      <progress value='16000' class='' max='16000' style='width:300px; height:20px; vertical-align: middle;'></progress>\n",
       "      100.00% [16000/16000 00:07<00:00 Sampling 4 chains, 0 divergences]\n",
       "    </div>\n",
       "    "
      ],
      "text/plain": [
       "<IPython.core.display.HTML object>"
      ]
     },
     "metadata": {},
     "output_type": "display_data"
    },
    {
     "name": "stderr",
     "output_type": "stream",
     "text": [
      "Sampling 4 chains for 3_000 tune and 1_000 draw iterations (12_000 + 4_000 draws total) took 8 seconds.\n",
      "Auto-assigning NUTS sampler...\n",
      "Initializing NUTS using jitter+adapt_diag...\n",
      "Multiprocess sampling (4 chains in 4 jobs)\n",
      "NUTS: [nu, eps, slope, intercept]\n"
     ]
    },
    {
     "data": {
      "text/html": [
       "\n",
       "    <div>\n",
       "        <style>\n",
       "            /* Turns off some styling */\n",
       "            progress {\n",
       "                /* gets rid of default border in Firefox and Opera. */\n",
       "                border: none;\n",
       "                /* Needs to be in here for Safari polyfill so background images work as expected. */\n",
       "                background-size: auto;\n",
       "            }\n",
       "            .progress-bar-interrupted, .progress-bar-interrupted::-webkit-progress-bar {\n",
       "                background: #F44336;\n",
       "            }\n",
       "        </style>\n",
       "      <progress value='16000' class='' max='16000' style='width:300px; height:20px; vertical-align: middle;'></progress>\n",
       "      100.00% [16000/16000 00:07<00:00 Sampling 4 chains, 0 divergences]\n",
       "    </div>\n",
       "    "
      ],
      "text/plain": [
       "<IPython.core.display.HTML object>"
      ]
     },
     "metadata": {},
     "output_type": "display_data"
    },
    {
     "name": "stderr",
     "output_type": "stream",
     "text": [
      "Sampling 4 chains for 3_000 tune and 1_000 draw iterations (12_000 + 4_000 draws total) took 8 seconds.\n",
      "Auto-assigning NUTS sampler...\n",
      "Initializing NUTS using jitter+adapt_diag...\n",
      "Multiprocess sampling (4 chains in 4 jobs)\n",
      "NUTS: [nu, eps, slope, intercept]\n"
     ]
    },
    {
     "data": {
      "text/html": [
       "\n",
       "    <div>\n",
       "        <style>\n",
       "            /* Turns off some styling */\n",
       "            progress {\n",
       "                /* gets rid of default border in Firefox and Opera. */\n",
       "                border: none;\n",
       "                /* Needs to be in here for Safari polyfill so background images work as expected. */\n",
       "                background-size: auto;\n",
       "            }\n",
       "            .progress-bar-interrupted, .progress-bar-interrupted::-webkit-progress-bar {\n",
       "                background: #F44336;\n",
       "            }\n",
       "        </style>\n",
       "      <progress value='16000' class='' max='16000' style='width:300px; height:20px; vertical-align: middle;'></progress>\n",
       "      100.00% [16000/16000 00:08<00:00 Sampling 4 chains, 0 divergences]\n",
       "    </div>\n",
       "    "
      ],
      "text/plain": [
       "<IPython.core.display.HTML object>"
      ]
     },
     "metadata": {},
     "output_type": "display_data"
    },
    {
     "name": "stderr",
     "output_type": "stream",
     "text": [
      "Sampling 4 chains for 3_000 tune and 1_000 draw iterations (12_000 + 4_000 draws total) took 9 seconds.\n",
      "Auto-assigning NUTS sampler...\n",
      "Initializing NUTS using jitter+adapt_diag...\n",
      "Multiprocess sampling (4 chains in 4 jobs)\n",
      "NUTS: [nu, eps, slope, intercept]\n"
     ]
    },
    {
     "data": {
      "text/html": [
       "\n",
       "    <div>\n",
       "        <style>\n",
       "            /* Turns off some styling */\n",
       "            progress {\n",
       "                /* gets rid of default border in Firefox and Opera. */\n",
       "                border: none;\n",
       "                /* Needs to be in here for Safari polyfill so background images work as expected. */\n",
       "                background-size: auto;\n",
       "            }\n",
       "            .progress-bar-interrupted, .progress-bar-interrupted::-webkit-progress-bar {\n",
       "                background: #F44336;\n",
       "            }\n",
       "        </style>\n",
       "      <progress value='16000' class='' max='16000' style='width:300px; height:20px; vertical-align: middle;'></progress>\n",
       "      100.00% [16000/16000 00:07<00:00 Sampling 4 chains, 0 divergences]\n",
       "    </div>\n",
       "    "
      ],
      "text/plain": [
       "<IPython.core.display.HTML object>"
      ]
     },
     "metadata": {},
     "output_type": "display_data"
    },
    {
     "name": "stderr",
     "output_type": "stream",
     "text": [
      "Sampling 4 chains for 3_000 tune and 1_000 draw iterations (12_000 + 4_000 draws total) took 7 seconds.\n"
     ]
    }
   ],
   "source": [
    "ap1_trace = corr(pd.DataFrame({'x': df.age/100, 'y': df.alphap_1}).reset_index(drop=True))\n",
    "ap2_trace = corr(pd.DataFrame({'x': df.age/100, 'y': df.alphap_2}).reset_index(drop=True))\n",
    "an1_trace = corr(pd.DataFrame({'x': df.age/100, 'y': df.alphan_1}).reset_index(drop=True))\n",
    "an2_trace = corr(pd.DataFrame({'x': df.age/100, 'y': df.alphan_2}).reset_index(drop=True))\n",
    "\n",
    "ap1 = az.summary(ap1_trace, var_names=['slope','intercept'], hdi_prob=.89)[['mean','hdi_5.5%','hdi_94.5%']]\n",
    "ap2 = az.summary(ap2_trace, var_names=['slope','intercept'], hdi_prob=.89)[['mean','hdi_5.5%','hdi_94.5%']]\n",
    "an1 = az.summary(an1_trace, var_names=['slope','intercept'], hdi_prob=.89)[['mean','hdi_5.5%','hdi_94.5%']]\n",
    "an2 = az.summary(an2_trace, var_names=['slope','intercept'], hdi_prob=.89)[['mean','hdi_5.5%','hdi_94.5%']]"
   ]
  },
  {
   "cell_type": "code",
   "execution_count": 40,
   "id": "18ff4693",
   "metadata": {},
   "outputs": [
    {
     "name": "stderr",
     "output_type": "stream",
     "text": [
      "/home/nachshon/anaconda3/envs/reversal/lib/python3.9/site-packages/seaborn/_decorators.py:36: FutureWarning: Pass the following variables as keyword args: x, y. From version 0.12, the only valid positional argument will be `data`, and passing other arguments without an explicit keyword will result in an error or misinterpretation.\n",
      "  warnings.warn(\n",
      "/home/nachshon/anaconda3/envs/reversal/lib/python3.9/site-packages/seaborn/_decorators.py:36: FutureWarning: Pass the following variables as keyword args: x, y. From version 0.12, the only valid positional argument will be `data`, and passing other arguments without an explicit keyword will result in an error or misinterpretation.\n",
      "  warnings.warn(\n",
      "/home/nachshon/anaconda3/envs/reversal/lib/python3.9/site-packages/seaborn/_decorators.py:36: FutureWarning: Pass the following variables as keyword args: x, y. From version 0.12, the only valid positional argument will be `data`, and passing other arguments without an explicit keyword will result in an error or misinterpretation.\n",
      "  warnings.warn(\n",
      "/home/nachshon/anaconda3/envs/reversal/lib/python3.9/site-packages/seaborn/_decorators.py:36: FutureWarning: Pass the following variables as keyword args: x, y. From version 0.12, the only valid positional argument will be `data`, and passing other arguments without an explicit keyword will result in an error or misinterpretation.\n",
      "  warnings.warn(\n"
     ]
    },
    {
     "data": {
      "text/plain": [
       "Text(20, 0.2, 'β = 0.02,\\n89% HDPi [0.00, 0.03]')"
      ]
     },
     "execution_count": 40,
     "metadata": {},
     "output_type": "execute_result"
    },
    {
     "data": {
      "image/png": "[encoded data removed]",
      "text/plain": [
       "<Figure size 720x720 with 4 Axes>"
      ]
     },
     "metadata": {
      "needs_background": "light"
     },
     "output_type": "display_data"
    }
   ],
   "source": [
    "fig, axes = plt.subplots(2, 2, figsize=(10, 10))\n",
    "sns.scatterplot(y = 'alphap_1',  x = 'age', data=df, ax=axes[0,0])\n",
    "sns.scatterplot(y = 'alphap_2', x = 'age', data=df, ax=axes[0,1])\n",
    "sns.scatterplot(y = 'alphan_1', x = 'age', data=df, ax=axes[1,0])\n",
    "sns.scatterplot(y = 'alphan_2', x = 'age', data=df, ax=axes[1,1])\n",
    "\n",
    "\n",
    "sns.lineplot(df.age,ap1['mean']['intercept']+ap1['mean']['slope']*df.age/100, ax=axes[0,0])\n",
    "sns.lineplot(df.age,ap2['mean']['intercept']+ap2['mean']['slope']*df.age/100, ax=axes[0,1])\n",
    "sns.lineplot(df.age,an1['mean']['intercept']+an1['mean']['slope']*df.age/100, ax=axes[1,0])\n",
    "sns.lineplot(df.age,an2['mean']['intercept']+an2['mean']['slope']*df.age/100, ax=axes[1,1])\n",
    "\n",
    "#axes[0].set(ylim=(0,1))\n",
    "#axes[1].set(ylim=(0,1))\n",
    "#axes[2].set(ylim=(0,1))\n",
    "\n",
    "\n",
    "text = 'β = {:.2f},\\n89% HDPi [{:.2f}, {:.2f}]'.format(float(ap1['mean']['slope']),\n",
    "                                                        float(ap1['hdi_5.5%']['slope']),\n",
    "                                                        float(ap1['hdi_94.5%']['slope']))\n",
    "axes[0,0].text(20, .3, text, fontsize=12)\n",
    "\n",
    "text = 'β = {:.2f},\\n89% HDPi [{:.2f}, {:.2f}]'.format(float(ap2['mean']['slope']),\n",
    "                                                        float(ap2['hdi_5.5%']['slope']),\n",
    "                                                        float(ap2['hdi_94.5%']['slope']))\n",
    "axes[0,1].text(20, .25, text, fontsize=12)\n",
    "\n",
    "text = 'β = {:.2f},\\n89% HDPi [{:.2f}, {:.2f}]'.format(float(an1['mean']['slope']),\n",
    "                                                        float(an1['hdi_5.5%']['slope']),\n",
    "                                                        float(an1['hdi_94.5%']['slope']))\n",
    "axes[1,0].text(20, .15, text, fontsize=12)\n",
    "\n",
    "text = 'β = {:.2f},\\n89% HDPi [{:.2f}, {:.2f}]'.format(float(an2['mean']['slope']),\n",
    "                                                        float(an2['hdi_5.5%']['slope']),\n",
    "                                                        float(an2['hdi_94.5%']['slope']))\n",
    "axes[1,1].text(20, .2, text, fontsize=12)"
   ]
  },
  {
   "cell_type": "code",
   "execution_count": null,
   "id": "6341324c",
   "metadata": {},
   "outputs": [],
   "source": [
    "trace_RW_valence_halves_h"
   ]
  },
  {
   "cell_type": "code",
   "execution_count": 22,
   "id": "7c310866",
   "metadata": {},
   "outputs": [
    {
     "data": {
      "text/html": [
       "<div>\n",
       "<style scoped>\n",
       "    .dataframe tbody tr th:only-of-type {\n",
       "        vertical-align: middle;\n",
       "    }\n",
       "\n",
       "    .dataframe tbody tr th {\n",
       "        vertical-align: top;\n",
       "    }\n",
       "\n",
       "    .dataframe thead th {\n",
       "        text-align: right;\n",
       "    }\n",
       "</style>\n",
       "<table border=\"1\" class=\"dataframe\">\n",
       "  <thead>\n",
       "    <tr style=\"text-align: right;\">\n",
       "      <th></th>\n",
       "      <th>sub</th>\n",
       "      <th>age</th>\n",
       "      <th>gender</th>\n",
       "      <th>moca_score</th>\n",
       "      <th>alpha_1</th>\n",
       "      <th>alpha_2</th>\n",
       "    </tr>\n",
       "  </thead>\n",
       "  <tbody>\n",
       "    <tr>\n",
       "      <th>0</th>\n",
       "      <td>10</td>\n",
       "      <td>18</td>\n",
       "      <td>M</td>\n",
       "      <td>28</td>\n",
       "      <td>0.271</td>\n",
       "      <td>0.047</td>\n",
       "    </tr>\n",
       "    <tr>\n",
       "      <th>1</th>\n",
       "      <td>11</td>\n",
       "      <td>43</td>\n",
       "      <td>F</td>\n",
       "      <td>26</td>\n",
       "      <td>0.352</td>\n",
       "      <td>0.066</td>\n",
       "    </tr>\n",
       "    <tr>\n",
       "      <th>2</th>\n",
       "      <td>13</td>\n",
       "      <td>48</td>\n",
       "      <td>F</td>\n",
       "      <td>28</td>\n",
       "      <td>0.253</td>\n",
       "      <td>0.084</td>\n",
       "    </tr>\n",
       "    <tr>\n",
       "      <th>3</th>\n",
       "      <td>14</td>\n",
       "      <td>26</td>\n",
       "      <td>F</td>\n",
       "      <td>30</td>\n",
       "      <td>0.256</td>\n",
       "      <td>0.123</td>\n",
       "    </tr>\n",
       "    <tr>\n",
       "      <th>4</th>\n",
       "      <td>15</td>\n",
       "      <td>58</td>\n",
       "      <td>F</td>\n",
       "      <td>26</td>\n",
       "      <td>0.254</td>\n",
       "      <td>0.091</td>\n",
       "    </tr>\n",
       "  </tbody>\n",
       "</table>\n",
       "</div>"
      ],
      "text/plain": [
       "   sub  age gender  moca_score  alpha_1  alpha_2\n",
       "0   10   18      M          28    0.271    0.047\n",
       "1   11   43      F          26    0.352    0.066\n",
       "2   13   48      F          28    0.253    0.084\n",
       "3   14   26      F          30    0.256    0.123\n",
       "4   15   58      F          26    0.254    0.091"
      ]
     },
     "execution_count": 22,
     "metadata": {},
     "output_type": "execute_result"
    }
   ],
   "source": [
    "alpha_1 = az.summary(trace_RW_halves_h, var_names=['alpha_1'])[['mean']]\n",
    "alpha_2 = az.summary(trace_RW_halves_h, var_names=['alpha_2'])[['mean']]\n",
    "\n",
    "alpha_1 = alpha_1.rename(columns={'mean': \"alpha_1\"}).reset_index(drop=True)\n",
    "alpha_2 = alpha_2.rename(columns={'mean': \"alpha_2\"}).reset_index(drop=True)\n",
    "\n",
    "df = df.merge(alpha_1, left_index=True, right_index=True)\n",
    "df = df.merge(alpha_2, left_index=True, right_index=True)\n",
    "\n",
    "df.head()"
   ]
  },
  {
   "cell_type": "code",
   "execution_count": 23,
   "id": "b74d08b3",
   "metadata": {},
   "outputs": [],
   "source": [
    "def corr(df):\n",
    "    with pm.Model() as RR:\n",
    "\n",
    "        a = pm.Normal('intercept', 0, 1)\n",
    "        b = pm.Normal('slope', 0, 1)\n",
    "        eps = pm.Exponential('eps', 1)\n",
    "        y_hat = a + b*df.x\n",
    "\n",
    "        nu = pm.InverseGamma(\"nu\", alpha=3, beta=1)\n",
    "\n",
    "        #likelihood = pm.Normal(\"likelihood\", mu=y_hat, sigma=eps, observed=y)\n",
    "\n",
    "        likelihood = pm.StudentT(\n",
    "            \"likelihood\", mu=y_hat, sigma=eps, nu=nu, observed=df.y\n",
    "        )\n",
    "\n",
    "        trace_robust = pm.sample(tune=3000, draws=1000, return_inferencedata=True, target_accept=0.95)\n",
    "        \n",
    "    return(trace_robust)"
   ]
  },
  {
   "cell_type": "code",
   "execution_count": 24,
   "id": "3db425a6",
   "metadata": {},
   "outputs": [
    {
     "name": "stderr",
     "output_type": "stream",
     "text": [
      "Auto-assigning NUTS sampler...\n",
      "Initializing NUTS using jitter+adapt_diag...\n",
      "Multiprocess sampling (4 chains in 4 jobs)\n",
      "NUTS: [nu, eps, slope, intercept]\n"
     ]
    },
    {
     "data": {
      "text/html": [
       "\n",
       "    <div>\n",
       "        <style>\n",
       "            /* Turns off some styling */\n",
       "            progress {\n",
       "                /* gets rid of default border in Firefox and Opera. */\n",
       "                border: none;\n",
       "                /* Needs to be in here for Safari polyfill so background images work as expected. */\n",
       "                background-size: auto;\n",
       "            }\n",
       "            .progress-bar-interrupted, .progress-bar-interrupted::-webkit-progress-bar {\n",
       "                background: #F44336;\n",
       "            }\n",
       "        </style>\n",
       "      <progress value='16000' class='' max='16000' style='width:300px; height:20px; vertical-align: middle;'></progress>\n",
       "      100.00% [16000/16000 00:09<00:00 Sampling 4 chains, 0 divergences]\n",
       "    </div>\n",
       "    "
      ],
      "text/plain": [
       "<IPython.core.display.HTML object>"
      ]
     },
     "metadata": {},
     "output_type": "display_data"
    },
    {
     "name": "stderr",
     "output_type": "stream",
     "text": [
      "Sampling 4 chains for 3_000 tune and 1_000 draw iterations (12_000 + 4_000 draws total) took 9 seconds.\n",
      "Auto-assigning NUTS sampler...\n",
      "Initializing NUTS using jitter+adapt_diag...\n",
      "Multiprocess sampling (4 chains in 4 jobs)\n",
      "NUTS: [nu, eps, slope, intercept]\n"
     ]
    },
    {
     "data": {
      "text/html": [
       "\n",
       "    <div>\n",
       "        <style>\n",
       "            /* Turns off some styling */\n",
       "            progress {\n",
       "                /* gets rid of default border in Firefox and Opera. */\n",
       "                border: none;\n",
       "                /* Needs to be in here for Safari polyfill so background images work as expected. */\n",
       "                background-size: auto;\n",
       "            }\n",
       "            .progress-bar-interrupted, .progress-bar-interrupted::-webkit-progress-bar {\n",
       "                background: #F44336;\n",
       "            }\n",
       "        </style>\n",
       "      <progress value='16000' class='' max='16000' style='width:300px; height:20px; vertical-align: middle;'></progress>\n",
       "      100.00% [16000/16000 00:07<00:00 Sampling 4 chains, 0 divergences]\n",
       "    </div>\n",
       "    "
      ],
      "text/plain": [
       "<IPython.core.display.HTML object>"
      ]
     },
     "metadata": {},
     "output_type": "display_data"
    },
    {
     "name": "stderr",
     "output_type": "stream",
     "text": [
      "Sampling 4 chains for 3_000 tune and 1_000 draw iterations (12_000 + 4_000 draws total) took 8 seconds.\n"
     ]
    }
   ],
   "source": [
    "a1_trace = corr(pd.DataFrame({'x': df.age/100, 'y': df.alpha_1}).reset_index(drop=True))\n",
    "a2_trace = corr(pd.DataFrame({'x': df.age/100, 'y': df.alpha_2}).reset_index(drop=True))\n",
    "\n",
    "a1 = az.summary(a1_trace, var_names=['slope','intercept'], hdi_prob=.89)[['mean','hdi_5.5%','hdi_94.5%']]\n",
    "a2 = az.summary(a2_trace, var_names=['slope','intercept'], hdi_prob=.89)[['mean','hdi_5.5%','hdi_94.5%']]"
   ]
  },
  {
   "cell_type": "code",
   "execution_count": 26,
   "id": "01f840da",
   "metadata": {},
   "outputs": [
    {
     "name": "stderr",
     "output_type": "stream",
     "text": [
      "/home/nachshon/anaconda3/envs/reversal/lib/python3.9/site-packages/seaborn/_decorators.py:36: FutureWarning: Pass the following variables as keyword args: x, y. From version 0.12, the only valid positional argument will be `data`, and passing other arguments without an explicit keyword will result in an error or misinterpretation.\n",
      "  warnings.warn(\n",
      "/home/nachshon/anaconda3/envs/reversal/lib/python3.9/site-packages/seaborn/_decorators.py:36: FutureWarning: Pass the following variables as keyword args: x, y. From version 0.12, the only valid positional argument will be `data`, and passing other arguments without an explicit keyword will result in an error or misinterpretation.\n",
      "  warnings.warn(\n"
     ]
    },
    {
     "data": {
      "text/plain": [
       "Text(18, 0.02, 'β = -0.01,\\n89% HDPi [-0.03, 0.02]')"
      ]
     },
     "execution_count": 26,
     "metadata": {},
     "output_type": "execute_result"
    },
    {
     "data": {
      "image/png": "[encoded data removed]",
      "text/plain": [
       "<Figure size 720x360 with 2 Axes>"
      ]
     },
     "metadata": {
      "needs_background": "light"
     },
     "output_type": "display_data"
    }
   ],
   "source": [
    "fig, axes = plt.subplots(1, 2, figsize=(10, 5))\n",
    "sns.scatterplot(y = 'alpha_1', x = 'age', data=df, ax=axes[0])\n",
    "sns.scatterplot(y = 'alpha_2', x = 'age', data=df, ax=axes[1])\n",
    "\n",
    "sns.lineplot(df.age,a1['mean']['intercept']+a1['mean']['slope']*df.age/100, ax=axes[0])\n",
    "sns.lineplot(df.age,a2['mean']['intercept']+a2['mean']['slope']*df.age/100, ax=axes[1])\n",
    "\n",
    "# axes[0].set(ylim=(-4.5,6.5))\n",
    "# axes[1].set(ylim=(-4.5,6.5))\n",
    "\n",
    "\n",
    "text = 'β = {:.2f},\\n89% HDPi [{:.2f}, {:.2f}]'.format(float(a1['mean']['slope']),\n",
    "                                                       float(a1['hdi_5.5%']['slope']),\n",
    "                                                       float(a1['hdi_94.5%']['slope']))\n",
    "axes[0].text(18, .2, text, fontsize=12)\n",
    "\n",
    "text = 'β = {:.2f},\\n89% HDPi [{:.2f}, {:.2f}]'.format(float(a2['mean']['slope']),\n",
    "                                                       float(a2['hdi_5.5%']['slope']),\n",
    "                                                       float(a2['hdi_94.5%']['slope']))\n",
    "axes[1].text(18, .02, text, fontsize=12)\n",
    "\n",
    "\n"
   ]
  },
  {
   "cell_type": "code",
   "execution_count": 41,
   "id": "235b1230",
   "metadata": {},
   "outputs": [],
   "source": [
    "df.to_csv('data/reversal_model_results.csv')"
   ]
  },
  {
   "cell_type": "code",
   "execution_count": 42,
   "id": "1e5bf8ab",
   "metadata": {},
   "outputs": [
    {
     "data": {
      "text/plain": [
       "'data/RW_vh_h.nc'"
      ]
     },
     "execution_count": 42,
     "metadata": {},
     "output_type": "execute_result"
    }
   ],
   "source": [
    "trace_RW_valence_h.to_netcdf(\"data/RW_vh_h.nc\")"
   ]
  },
  {
   "cell_type": "code",
   "execution_count": 43,
   "id": "c8ee80a6",
   "metadata": {},
   "outputs": [],
   "source": [
    "db.to_csv('data/db_trials.csv')"
   ]
  }
 ],
 "metadata": {
  "kernelspec": {
   "display_name": "Python 3 (ipykernel)",
   "language": "python",
   "name": "python3"
  },
  "language_info": {
   "codemirror_mode": {
    "name": "ipython",
    "version": 3
   },
   "file_extension": ".py",
   "mimetype": "text/x-python",
   "name": "python",
   "nbconvert_exporter": "python",
   "pygments_lexer": "ipython3",
   "version": "3.9.7"
  }
 },
 "nbformat": 4,
 "nbformat_minor": 5
}
