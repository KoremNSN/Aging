{
 "cells": [
  {
   "cell_type": "code",
   "execution_count": 1,
   "id": "5cff19c9",
   "metadata": {},
   "outputs": [
    {
     "name": "stderr",
     "output_type": "stream",
     "text": [
      "/home/nachshon/anaconda3/envs/reversal/lib/python3.9/site-packages/outdated/utils.py:14: OutdatedPackageWarning: The package outdated is out of date. Your version is 0.2.1, the latest is 0.2.2.\n",
      "Set the environment variable OUTDATED_IGNORE=1 to disable these warnings.\n",
      "  return warn(\n",
      "/home/nachshon/anaconda3/envs/reversal/lib/python3.9/site-packages/outdated/utils.py:14: OutdatedPackageWarning: The package pingouin is out of date. Your version is 0.5.1, the latest is 0.5.3.\n",
      "Set the environment variable OUTDATED_IGNORE=1 to disable these warnings.\n",
      "  return warn(\n"
     ]
    }
   ],
   "source": [
    "import pandas as pd\n",
    "import numpy as np\n",
    "import scipy as sp\n",
    "\n",
    "from scipy import stats, special\n",
    "from scipy.optimize import minimize \n",
    "import pingouin as pg\n",
    "\n",
    "import pymc3 as pm\n",
    "import arviz as az\n",
    "\n",
    "import matplotlib.pyplot as plt\n",
    "import seaborn as sns"
   ]
  },
  {
   "cell_type": "code",
   "execution_count": 15,
   "id": "982bd978",
   "metadata": {},
   "outputs": [
    {
     "name": "stdout",
     "output_type": "stream",
     "text": [
      "Participants:  70\n"
     ]
    }
   ],
   "source": [
    "db = pd.read_csv('data/db_trials.csv')\n",
    "print('Participants: ', len(db['sub'].unique()))"
   ]
  },
  {
   "cell_type": "code",
   "execution_count": 3,
   "id": "ef6a36c5",
   "metadata": {},
   "outputs": [],
   "source": [
    "trace = az.from_netcdf(\"data/RW_vh_h.nc\")"
   ]
  },
  {
   "cell_type": "code",
   "execution_count": 16,
   "id": "8f7d8720",
   "metadata": {},
   "outputs": [],
   "source": [
    "db['rating'] = db.rating/9\n",
    "db['rectOri'] = db.rectOri/45\n",
    "db['rectValue'] = db.rectValue/6\n",
    "\n",
    "db = db.sort_values(['sub','trialNum'])"
   ]
  },
  {
   "cell_type": "code",
   "execution_count": 6,
   "id": "71627c6e",
   "metadata": {},
   "outputs": [],
   "source": [
    "df = db[['sub']].sort_values('sub').drop_duplicates().reset_index(drop=True)"
   ]
  },
  {
   "cell_type": "code",
   "execution_count": 7,
   "id": "01fae85c",
   "metadata": {},
   "outputs": [],
   "source": [
    "alphap_1 = az.summary(trace, var_names=['alphap_1'])[['mean']]\n",
    "alphap_2 = az.summary(trace, var_names=['alphap_2'])[['mean']]\n",
    "alphan_1 = az.summary(trace, var_names=['alphan_1'])[['mean']]\n",
    "alphan_2 = az.summary(trace, var_names=['alphan_2'])[['mean']]\n",
    "\n",
    "alphap_1 = alphap_1.rename(columns={'mean': \"alphap_1\"}).reset_index(drop=True)\n",
    "alphap_2 = alphap_2.rename(columns={'mean': \"alphap_2\"}).reset_index(drop=True)\n",
    "alphan_1 = alphan_1.rename(columns={'mean': \"alphan_1\"}).reset_index(drop=True)\n",
    "alphan_2 = alphan_2.rename(columns={'mean': \"alphan_2\"}).reset_index(drop=True)\n",
    "\n",
    "df = df.merge(alphap_1, left_index=True, right_index=True)\n",
    "df = df.merge(alphap_2, left_index=True, right_index=True)\n",
    "df = df.merge(alphan_1, left_index=True, right_index=True)\n",
    "df = df.merge(alphan_2, left_index=True, right_index=True)"
   ]
  },
  {
   "cell_type": "code",
   "execution_count": 32,
   "id": "a44e953a",
   "metadata": {},
   "outputs": [
    {
     "data": {
      "text/html": [
       "<div>\n",
       "<style scoped>\n",
       "    .dataframe tbody tr th:only-of-type {\n",
       "        vertical-align: middle;\n",
       "    }\n",
       "\n",
       "    .dataframe tbody tr th {\n",
       "        vertical-align: top;\n",
       "    }\n",
       "\n",
       "    .dataframe thead th {\n",
       "        text-align: right;\n",
       "    }\n",
       "</style>\n",
       "<table border=\"1\" class=\"dataframe\">\n",
       "  <thead>\n",
       "    <tr style=\"text-align: right;\">\n",
       "      <th></th>\n",
       "      <th>Unnamed: 0</th>\n",
       "      <th>trialNum</th>\n",
       "      <th>rectOri</th>\n",
       "      <th>rectValue</th>\n",
       "      <th>rating</th>\n",
       "      <th>RT</th>\n",
       "      <th>sub</th>\n",
       "      <th>gender</th>\n",
       "      <th>age</th>\n",
       "      <th>moca_score</th>\n",
       "      <th>alphap_1</th>\n",
       "      <th>alphap_2</th>\n",
       "      <th>alphan_1</th>\n",
       "      <th>alphan_2</th>\n",
       "    </tr>\n",
       "  </thead>\n",
       "  <tbody>\n",
       "    <tr>\n",
       "      <th>0</th>\n",
       "      <td>0</td>\n",
       "      <td>1</td>\n",
       "      <td>1.0</td>\n",
       "      <td>0.0</td>\n",
       "      <td>0.333333</td>\n",
       "      <td>0.867000</td>\n",
       "      <td>10</td>\n",
       "      <td>M</td>\n",
       "      <td>18</td>\n",
       "      <td>28</td>\n",
       "      <td>0.124</td>\n",
       "      <td>0.385</td>\n",
       "      <td>0.261</td>\n",
       "      <td>0.115</td>\n",
       "    </tr>\n",
       "    <tr>\n",
       "      <th>1</th>\n",
       "      <td>1</td>\n",
       "      <td>2</td>\n",
       "      <td>0.0</td>\n",
       "      <td>0.0</td>\n",
       "      <td>0.777778</td>\n",
       "      <td>0.733563</td>\n",
       "      <td>10</td>\n",
       "      <td>M</td>\n",
       "      <td>18</td>\n",
       "      <td>28</td>\n",
       "      <td>0.124</td>\n",
       "      <td>0.385</td>\n",
       "      <td>0.261</td>\n",
       "      <td>0.115</td>\n",
       "    </tr>\n",
       "    <tr>\n",
       "      <th>2</th>\n",
       "      <td>2</td>\n",
       "      <td>3</td>\n",
       "      <td>1.0</td>\n",
       "      <td>1.0</td>\n",
       "      <td>0.555556</td>\n",
       "      <td>0.633451</td>\n",
       "      <td>10</td>\n",
       "      <td>M</td>\n",
       "      <td>18</td>\n",
       "      <td>28</td>\n",
       "      <td>0.124</td>\n",
       "      <td>0.385</td>\n",
       "      <td>0.261</td>\n",
       "      <td>0.115</td>\n",
       "    </tr>\n",
       "    <tr>\n",
       "      <th>3</th>\n",
       "      <td>3</td>\n",
       "      <td>4</td>\n",
       "      <td>0.0</td>\n",
       "      <td>0.0</td>\n",
       "      <td>0.333333</td>\n",
       "      <td>0.645628</td>\n",
       "      <td>10</td>\n",
       "      <td>M</td>\n",
       "      <td>18</td>\n",
       "      <td>28</td>\n",
       "      <td>0.124</td>\n",
       "      <td>0.385</td>\n",
       "      <td>0.261</td>\n",
       "      <td>0.115</td>\n",
       "    </tr>\n",
       "    <tr>\n",
       "      <th>4</th>\n",
       "      <td>4</td>\n",
       "      <td>5</td>\n",
       "      <td>1.0</td>\n",
       "      <td>0.0</td>\n",
       "      <td>0.444444</td>\n",
       "      <td>1.800124</td>\n",
       "      <td>10</td>\n",
       "      <td>M</td>\n",
       "      <td>18</td>\n",
       "      <td>28</td>\n",
       "      <td>0.124</td>\n",
       "      <td>0.385</td>\n",
       "      <td>0.261</td>\n",
       "      <td>0.115</td>\n",
       "    </tr>\n",
       "  </tbody>\n",
       "</table>\n",
       "</div>"
      ],
      "text/plain": [
       "   Unnamed: 0  trialNum  rectOri  rectValue    rating        RT  sub gender  \\\n",
       "0           0         1      1.0        0.0  0.333333  0.867000   10      M   \n",
       "1           1         2      0.0        0.0  0.777778  0.733563   10      M   \n",
       "2           2         3      1.0        1.0  0.555556  0.633451   10      M   \n",
       "3           3         4      0.0        0.0  0.333333  0.645628   10      M   \n",
       "4           4         5      1.0        0.0  0.444444  1.800124   10      M   \n",
       "\n",
       "   age  moca_score  alphap_1  alphap_2  alphan_1  alphan_2  \n",
       "0   18          28     0.124     0.385     0.261     0.115  \n",
       "1   18          28     0.124     0.385     0.261     0.115  \n",
       "2   18          28     0.124     0.385     0.261     0.115  \n",
       "3   18          28     0.124     0.385     0.261     0.115  \n",
       "4   18          28     0.124     0.385     0.261     0.115  "
      ]
     },
     "execution_count": 32,
     "metadata": {},
     "output_type": "execute_result"
    }
   ],
   "source": [
    "RW = db.merge(df, left_on='sub', right_on='sub')\n",
    "RW.head()"
   ]
  },
  {
   "cell_type": "code",
   "execution_count": 33,
   "id": "e1e0cadd",
   "metadata": {},
   "outputs": [
    {
     "name": "stderr",
     "output_type": "stream",
     "text": [
      "/home/nachshon/anaconda3/envs/reversal/lib/python3.9/site-packages/pandas/core/indexing.py:1732: SettingWithCopyWarning: \n",
      "A value is trying to be set on a copy of a slice from a DataFrame\n",
      "\n",
      "See the caveats in the documentation: https://pandas.pydata.org/pandas-docs/stable/user_guide/indexing.html#returning-a-view-versus-a-copy\n",
      "  self._setitem_single_block(indexer, value, name)\n"
     ]
    },
    {
     "data": {
      "text/html": [
       "<div>\n",
       "<style scoped>\n",
       "    .dataframe tbody tr th:only-of-type {\n",
       "        vertical-align: middle;\n",
       "    }\n",
       "\n",
       "    .dataframe tbody tr th {\n",
       "        vertical-align: top;\n",
       "    }\n",
       "\n",
       "    .dataframe thead th {\n",
       "        text-align: right;\n",
       "    }\n",
       "</style>\n",
       "<table border=\"1\" class=\"dataframe\">\n",
       "  <thead>\n",
       "    <tr style=\"text-align: right;\">\n",
       "      <th></th>\n",
       "      <th>Unnamed: 0</th>\n",
       "      <th>trialNum</th>\n",
       "      <th>rectOri</th>\n",
       "      <th>rectValue</th>\n",
       "      <th>rating</th>\n",
       "      <th>RT</th>\n",
       "      <th>sub</th>\n",
       "      <th>gender</th>\n",
       "      <th>age</th>\n",
       "      <th>moca_score</th>\n",
       "      <th>alphap_1</th>\n",
       "      <th>alphap_2</th>\n",
       "      <th>alphan_1</th>\n",
       "      <th>alphan_2</th>\n",
       "      <th>V</th>\n",
       "      <th>PE</th>\n",
       "    </tr>\n",
       "  </thead>\n",
       "  <tbody>\n",
       "    <tr>\n",
       "      <th>0</th>\n",
       "      <td>0</td>\n",
       "      <td>1</td>\n",
       "      <td>1.0</td>\n",
       "      <td>0.0</td>\n",
       "      <td>0.333333</td>\n",
       "      <td>0.867000</td>\n",
       "      <td>10</td>\n",
       "      <td>M</td>\n",
       "      <td>18</td>\n",
       "      <td>28</td>\n",
       "      <td>0.124</td>\n",
       "      <td>0.385</td>\n",
       "      <td>0.261</td>\n",
       "      <td>0.115</td>\n",
       "      <td>0.500000</td>\n",
       "      <td>-0.500000</td>\n",
       "    </tr>\n",
       "    <tr>\n",
       "      <th>1</th>\n",
       "      <td>1</td>\n",
       "      <td>2</td>\n",
       "      <td>0.0</td>\n",
       "      <td>0.0</td>\n",
       "      <td>0.777778</td>\n",
       "      <td>0.733563</td>\n",
       "      <td>10</td>\n",
       "      <td>M</td>\n",
       "      <td>18</td>\n",
       "      <td>28</td>\n",
       "      <td>0.124</td>\n",
       "      <td>0.385</td>\n",
       "      <td>0.261</td>\n",
       "      <td>0.115</td>\n",
       "      <td>0.500000</td>\n",
       "      <td>-0.500000</td>\n",
       "    </tr>\n",
       "    <tr>\n",
       "      <th>2</th>\n",
       "      <td>2</td>\n",
       "      <td>3</td>\n",
       "      <td>1.0</td>\n",
       "      <td>1.0</td>\n",
       "      <td>0.555556</td>\n",
       "      <td>0.633451</td>\n",
       "      <td>10</td>\n",
       "      <td>M</td>\n",
       "      <td>18</td>\n",
       "      <td>28</td>\n",
       "      <td>0.124</td>\n",
       "      <td>0.385</td>\n",
       "      <td>0.261</td>\n",
       "      <td>0.115</td>\n",
       "      <td>0.369500</td>\n",
       "      <td>0.630500</td>\n",
       "    </tr>\n",
       "    <tr>\n",
       "      <th>3</th>\n",
       "      <td>3</td>\n",
       "      <td>4</td>\n",
       "      <td>0.0</td>\n",
       "      <td>0.0</td>\n",
       "      <td>0.333333</td>\n",
       "      <td>0.645628</td>\n",
       "      <td>10</td>\n",
       "      <td>M</td>\n",
       "      <td>18</td>\n",
       "      <td>28</td>\n",
       "      <td>0.124</td>\n",
       "      <td>0.385</td>\n",
       "      <td>0.261</td>\n",
       "      <td>0.115</td>\n",
       "      <td>0.369500</td>\n",
       "      <td>-0.369500</td>\n",
       "    </tr>\n",
       "    <tr>\n",
       "      <th>4</th>\n",
       "      <td>4</td>\n",
       "      <td>5</td>\n",
       "      <td>1.0</td>\n",
       "      <td>0.0</td>\n",
       "      <td>0.444444</td>\n",
       "      <td>1.800124</td>\n",
       "      <td>10</td>\n",
       "      <td>M</td>\n",
       "      <td>18</td>\n",
       "      <td>28</td>\n",
       "      <td>0.124</td>\n",
       "      <td>0.385</td>\n",
       "      <td>0.261</td>\n",
       "      <td>0.115</td>\n",
       "      <td>0.447682</td>\n",
       "      <td>-0.447682</td>\n",
       "    </tr>\n",
       "  </tbody>\n",
       "</table>\n",
       "</div>"
      ],
      "text/plain": [
       "   Unnamed: 0  trialNum  rectOri  rectValue    rating        RT  sub gender  \\\n",
       "0           0         1      1.0        0.0  0.333333  0.867000   10      M   \n",
       "1           1         2      0.0        0.0  0.777778  0.733563   10      M   \n",
       "2           2         3      1.0        1.0  0.555556  0.633451   10      M   \n",
       "3           3         4      0.0        0.0  0.333333  0.645628   10      M   \n",
       "4           4         5      1.0        0.0  0.444444  1.800124   10      M   \n",
       "\n",
       "   age  moca_score  alphap_1  alphap_2  alphan_1  alphan_2         V        PE  \n",
       "0   18          28     0.124     0.385     0.261     0.115  0.500000 -0.500000  \n",
       "1   18          28     0.124     0.385     0.261     0.115  0.500000 -0.500000  \n",
       "2   18          28     0.124     0.385     0.261     0.115  0.369500  0.630500  \n",
       "3   18          28     0.124     0.385     0.261     0.115  0.369500 -0.369500  \n",
       "4   18          28     0.124     0.385     0.261     0.115  0.447682 -0.447682  "
      ]
     },
     "execution_count": 33,
     "metadata": {},
     "output_type": "execute_result"
    }
   ],
   "source": [
    "sub = 0\n",
    "RW['V'] = 0.5\n",
    "RW['PE'] = 0\n",
    "for i, row in RW.iterrows():\n",
    "    if RW['sub'].iloc[i] != sub:\n",
    "        sub = RW['sub'].iloc[i]\n",
    "        CSa_v = 0.5\n",
    "        CSb_v = 0.5\n",
    "        CSa = RW['rectOri'].iloc[i]\n",
    "        CSb = abs(1-CSa)\n",
    "        ap = RW['alphap_1'].iloc[i]\n",
    "        an = RW['alphan_1'].iloc[i]\n",
    "        \n",
    "    if RW['trialNum'].iloc[i] == 36:    \n",
    "        ap = RW['alphap_2'].iloc[i]\n",
    "        an = RW['alphan_2'].iloc[i]    \n",
    "    \n",
    "    outcome = RW['rectValue'].iloc[i]\n",
    "    if RW['rectOri'].iloc[i] == CSa:\n",
    "        RW['V'].iloc[i] = CSa_v\n",
    "        RW['PE'].iloc[i] = outcome - CSa_v\n",
    "        if outcome == 1:\n",
    "            CSa_v = CSa_v + RW['PE'].iloc[i]*ap\n",
    "        else:\n",
    "            CSa_v = CSa_v + RW['PE'].iloc[i]*an\n",
    "    else:\n",
    "        RW['V'].iloc[i] = CSb_v\n",
    "        RW['PE'].iloc[i] = outcome - CSb_v\n",
    "        if outcome == 1:\n",
    "            CSb_v = CSb_v + RW['PE'].iloc[i]*ap\n",
    "        else:\n",
    "            CSb_v = CSb_v + RW['PE'].iloc[i]*an\n",
    "        \n",
    "    \n",
    "RW.head()    "
   ]
  },
  {
   "cell_type": "code",
   "execution_count": 34,
   "id": "2462aefc",
   "metadata": {},
   "outputs": [
    {
     "data": {
      "text/plain": [
       "SpearmanrResult(correlation=0.09691097378254372, pvalue=1.0604981968783552e-11)"
      ]
     },
     "execution_count": 34,
     "metadata": {},
     "output_type": "execute_result"
    }
   ],
   "source": [
    "sp.stats.spearmanr(RW.rating, RW.V)"
   ]
  },
  {
   "cell_type": "code",
   "execution_count": 52,
   "id": "8987c7fe",
   "metadata": {},
   "outputs": [],
   "source": [
    "sub10 = RW[RW['sub'] == 71]"
   ]
  },
  {
   "cell_type": "code",
   "execution_count": 53,
   "id": "49dcc4fd",
   "metadata": {},
   "outputs": [
    {
     "data": {
      "text/plain": [
       "<AxesSubplot:xlabel='trialNum', ylabel='rating'>"
      ]
     },
     "execution_count": 53,
     "metadata": {},
     "output_type": "execute_result"
    },
    {
     "data": {
      "image/png": "[encoded data removed]",
      "text/plain": [
       "<Figure size 432x288 with 1 Axes>"
      ]
     },
     "metadata": {
      "needs_background": "light"
     },
     "output_type": "display_data"
    }
   ],
   "source": [
    "sns.lineplot(x='trialNum', y='rating', data=sub10, hue ='rectOri')\n"
   ]
  },
  {
   "cell_type": "code",
   "execution_count": 54,
   "id": "aeecc87d",
   "metadata": {},
   "outputs": [
    {
     "data": {
      "text/plain": [
       "<AxesSubplot:xlabel='trialNum', ylabel='V'>"
      ]
     },
     "execution_count": 54,
     "metadata": {},
     "output_type": "execute_result"
    },
    {
     "data": {
      "image/png": "[encoded data removed]",
      "text/plain": [
       "<Figure size 432x288 with 1 Axes>"
      ]
     },
     "metadata": {
      "needs_background": "light"
     },
     "output_type": "display_data"
    }
   ],
   "source": [
    "sns.lineplot(x='trialNum', y='V', data=sub10, hue ='rectOri')"
   ]
  }
 ],
 "metadata": {
  "kernelspec": {
   "display_name": "Python 3 (ipykernel)",
   "language": "python",
   "name": "python3"
  },
  "language_info": {
   "codemirror_mode": {
    "name": "ipython",
    "version": 3
   },
   "file_extension": ".py",
   "mimetype": "text/x-python",
   "name": "python",
   "nbconvert_exporter": "python",
   "pygments_lexer": "ipython3",
   "version": "3.9.7"
  }
 },
 "nbformat": 4,
 "nbformat_minor": 5
}
