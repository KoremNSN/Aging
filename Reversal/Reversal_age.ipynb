{
 "cells": [
  {
   "cell_type": "markdown",
   "id": "4842dd0d",
   "metadata": {},
   "source": [
    "# Reversal with age\n",
    "\n",
    "### Load libraries"
   ]
  },
  {
   "cell_type": "code",
   "execution_count": 1,
   "id": "887923a0",
   "metadata": {},
   "outputs": [],
   "source": [
    "%config Completer.use_jedi = False\n",
    "\n",
    "import pandas as pd\n",
    "import numpy as np\n",
    "import scipy, os\n",
    "from glob import glob\n",
    "\n",
    "import matplotlib.pyplot as plt\n",
    "import seaborn as sns\n",
    "\n",
    "import theano\n",
    "import theano.tensor as tt\n",
    "\n",
    "import update_q # this is helper functions I used as a seperate file to make the notebook more readable\n",
    "\n",
    "import pymc3 as pm\n",
    "import arviz as az"
   ]
  },
  {
   "cell_type": "markdown",
   "id": "7c13442d",
   "metadata": {},
   "source": [
    "### Load the data\n",
    "\n",
    "For the data you need the demographics file, created using a different script and access to the S@Y."
   ]
  },
  {
   "cell_type": "code",
   "execution_count": 2,
   "id": "d74ae381",
   "metadata": {},
   "outputs": [
    {
     "name": "stdout",
     "output_type": "stream",
     "text": [
      "number of subject:  98\n"
     ]
    }
   ],
   "source": [
    "age = pd.read_csv('../demo.csv')\n",
    "glober = '/media/Data/Lab_Projects/Aging/behavioral/Reversal/AG_*_RV/ETLearning_*.csv' # file location on S@Y\n",
    "db = pd.DataFrame()\n",
    "\n",
    "for sub in glob(glober):\n",
    "    \n",
    "    try:\n",
    "        df = pd.read_csv(sub)\n",
    "        df['sub'] = sub.split('_')[2]\n",
    "        if df.shape[0] == 70:\n",
    "            db = pd.concat([db, df], axis = 0)\n",
    "            #db = db.append(df)#[df.trialNum<36]) # to be used in for ACQ analysis only\n",
    "    except:\n",
    "        print(sub)\n",
    "        print('error')\n",
    "\n",
    "db = db.sort_values(by=['sub','trialNum'])\n",
    "\n",
    "print('number of subject: ', len(db['sub'].unique()))"
   ]
  },
  {
   "cell_type": "markdown",
   "id": "cba57d84",
   "metadata": {},
   "source": [
    "#### Clean data\n",
    "\n",
    "Remove subject with low MoCA (early dementia)"
   ]
  },
  {
   "cell_type": "code",
   "execution_count": 3,
   "id": "5440fcf3",
   "metadata": {},
   "outputs": [
    {
     "name": "stdout",
     "output_type": "stream",
     "text": [
      "Valid subjects:  71\n"
     ]
    }
   ],
   "source": [
    "db['sub'] = db['sub'].astype('int')\n",
    "db = db.merge(age, left_on='sub', right_on='sub')\n",
    "db = db.sort_values('sub')\n",
    "print('Valid subjects: ', len(np.unique(db['sub'])))"
   ]
  },
  {
   "cell_type": "markdown",
   "id": "14f4af01",
   "metadata": {},
   "source": [
    "Remove subject who didn't respond in time for more than 5 trials"
   ]
  },
  {
   "cell_type": "code",
   "execution_count": 4,
   "id": "f83fe458",
   "metadata": {},
   "outputs": [
    {
     "name": "stdout",
     "output_type": "stream",
     "text": [
      "   sub  rating\n",
      "0  102      13\n"
     ]
    }
   ],
   "source": [
    "x = db[db['RT']==-1].groupby('sub').count()['rating']\n",
    "x = x[x>5].reset_index()\n",
    "print(x)\n",
    "db = db[~db['sub'].isin(x['sub'].values)]"
   ]
  },
  {
   "cell_type": "markdown",
   "id": "5e2c0eb2",
   "metadata": {},
   "source": [
    "### Data preparation\n",
    "\n",
    "extract number of subjects and indexes for modeling "
   ]
  },
  {
   "cell_type": "code",
   "execution_count": 6,
   "id": "ed8d269e",
   "metadata": {},
   "outputs": [],
   "source": [
    "n_subj   = len(db['sub'].unique())\n",
    "n_trials = max(db.trialNum) # all have 70 trials\n",
    "\n",
    "trials, subj = np.meshgrid(list(range(n_trials)), range(n_subj))\n",
    "trial = (trials<35)*1 # for modeling alpha for ACQ and reversal phases\n",
    "trials = tt.as_tensor_variable(trials.T)\n",
    "trial = tt.as_tensor_variable(trial.T)\n",
    "subj   = tt.as_tensor_variable(subj.T)\n",
    "\n",
    "\n",
    "stim   = np.reshape([db['rectOri']],   (n_subj, n_trials)).T # tilt of the X (0 or 45)\n",
    "reward = np.reshape([db['rectValue']], (n_subj, n_trials)).T # was there a reward (0 or 6)\n",
    "rating = np.reshape([db['rating']],    (n_subj, n_trials)).T # response 1-9\n",
    "rating = [np.nan if 0 else x/9 for x in rating]\n",
    "\n",
    "stim   = np.array(stim/45,  dtype='int')\n",
    "reward = np.array(reward/6, dtype='int')\n",
    "\n",
    "stim = tt.as_tensor_variable(stim)\n",
    "reward = tt.as_tensor_variable(reward)"
   ]
  },
  {
   "cell_type": "markdown",
   "id": "a99624f9",
   "metadata": {},
   "source": [
    "Age can be entered as an int 18-88 or as a float .18-.88.\n",
    "\n",
    "Using int will be more similar to the stimulus and reward \n",
    "\n",
    "However I think the float will be easier to fit as it will be on the same scale."
   ]
  },
  {
   "cell_type": "code",
   "execution_count": 8,
   "id": "5d777533",
   "metadata": {},
   "outputs": [],
   "source": [
    "ageT = np.reshape([db['age']],   (n_subj, n_trials)).T\n",
    "# ageT = np.array(ageT,  dtype='int')\n",
    "ageT = np.array(ageT/100,  dtype='float')\n",
    "ageT = tt.as_tensor_variable(ageT)"
   ]
  },
  {
   "cell_type": "code",
   "execution_count": 37,
   "id": "334f19c8",
   "metadata": {},
   "outputs": [
    {
     "data": {
      "text/plain": [
       "array([0.18, 0.43, 0.48, 0.26, 0.58, 0.74, 0.59, 0.83, 0.32, 0.56, 0.33,\n",
       "       0.27, 0.28, 0.67, 0.7 , 0.79, 0.72, 0.65, 0.27, 0.23, 0.22, 0.67,\n",
       "       0.52, 0.79, 0.59, 0.81, 0.24, 0.74, 0.74, 0.22, 0.21, 0.74, 0.43,\n",
       "       0.67, 0.74, 0.54, 0.54, 0.37, 0.29, 0.57, 0.7 , 0.64, 0.18, 0.7 ,\n",
       "       0.7 , 0.24, 0.26, 0.88, 0.79, 0.65, 0.5 , 0.71, 0.57, 0.86, 0.61,\n",
       "       0.43, 0.83, 0.75, 0.19, 0.29, 0.19, 0.21, 0.73, 0.21, 0.35, 0.19,\n",
       "       0.26, 0.33, 0.21, 0.3 ])"
      ]
     },
     "execution_count": 37,
     "metadata": {},
     "output_type": "execute_result"
    }
   ],
   "source": [
    "ageList = db[['sub','age']].drop_duplicates()\n",
    "ageList = ageList['age'].values/100\n"
   ]
  },
  {
   "cell_type": "markdown",
   "id": "bbf5f5ec",
   "metadata": {},
   "source": [
    "### Tuning parameters"
   ]
  },
  {
   "cell_type": "code",
   "execution_count": 9,
   "id": "1a226349",
   "metadata": {},
   "outputs": [],
   "source": [
    "tune = 2000 # 2000\n",
    "draws = 2000\n",
    "target_accept = .95 #.99"
   ]
  },
  {
   "cell_type": "markdown",
   "id": "fdc0d3d5",
   "metadata": {},
   "source": [
    "### Modeling \n",
    "\n",
    "#### Alpha calculated before updating"
   ]
  },
  {
   "cell_type": "code",
   "execution_count": null,
   "id": "acf264ec",
   "metadata": {},
   "outputs": [
    {
     "name": "stderr",
     "output_type": "stream",
     "text": [
      "Auto-assigning NUTS sampler...\n",
      "Initializing NUTS using jitter+adapt_diag...\n",
      "Multiprocess sampling (4 chains in 4 jobs)\n",
      "NUTS: [alpha, eps, a_b, a_a, Age, beta, beta_sd, beta_h, intercept, sd, mu]\n"
     ]
    },
    {
     "data": {
      "text/html": [
       "\n",
       "    <div>\n",
       "        <style>\n",
       "            /* Turns off some styling */\n",
       "            progress {\n",
       "                /* gets rid of default border in Firefox and Opera. */\n",
       "                border: none;\n",
       "                /* Needs to be in here for Safari polyfill so background images work as expected. */\n",
       "                background-size: auto;\n",
       "            }\n",
       "            .progress-bar-interrupted, .progress-bar-interrupted::-webkit-progress-bar {\n",
       "                background: #F44336;\n",
       "            }\n",
       "        </style>\n",
       "      <progress value='2620' class='' max='16000' style='width:300px; height:20px; vertical-align: middle;'></progress>\n",
       "      16.38% [2620/16000 15:07<1:17:16 Sampling 4 chains, 0 divergences]\n",
       "    </div>\n",
       "    "
      ],
      "text/plain": [
       "<IPython.core.display.HTML object>"
      ]
     },
     "metadata": {},
     "output_type": "display_data"
    }
   ],
   "source": [
    "with pm.Model() as model_RW_Pyage:\n",
    "    \n",
    "    # connecting function\n",
    "    mu = pm.Normal('mu', 0, 1)\n",
    "    sd = pm.HalfNormal('sd',2) \n",
    "    intercept = pm.Normal('intercept', mu, sd, shape=n_subj)\n",
    "    \n",
    "    beta_h = pm.Normal('beta_h', 0,1)\n",
    "    beta_sd = pm.HalfNormal('beta_sd', 1)\n",
    "    beta = pm.Normal('beta',beta_h, beta_sd, shape=n_subj)\n",
    "    \n",
    "    # Age slope\n",
    "    Age = pm.Normal('Age', 0, 1)\n",
    "        \n",
    "    \n",
    "    # Model Hyper priors\n",
    "    a_a = pm.TruncatedNormal('a_a', 3, 2, lower=1)\n",
    "    a_b = pm.TruncatedNormal('a_b', 7, 2, lower=1)\n",
    "    eps = pm.HalfNormal('eps', 5)\n",
    "    \n",
    "    \n",
    "    alpha = pm.Beta('alpha', a_a, a_b, shape=n_subj)\n",
    "    \n",
    "    alphaAge = alpha + Age*ageList\n",
    "    \n",
    "    \n",
    "    \n",
    "    Qs = .5 * tt.ones((n_subj,2), dtype='float64') # set values for boths stimuli (CS+, CS-)\n",
    "    vec = .5 * tt.ones((n_subj,1), dtype='float64') # vector to save the relevant stimulus's expactation\n",
    "    \n",
    "    [Qs,vec], updates = theano.scan(\n",
    "        fn=update_q.update_Q,\n",
    "        sequences=[stim, reward],\n",
    "        outputs_info=[Qs, vec],\n",
    "        non_sequences=[alphaAge, n_subj])\n",
    "   \n",
    "    \n",
    "    vec_ = vec[trials,subj,0] * beta[subj] + intercept[subj]\n",
    "    \n",
    "    learn = pm.Normal('learn', vec_, eps, observed=rating) \n",
    "    \n",
    "    # add matrix of expected values (trials X subjects)\n",
    "    ev = pm.Deterministic('expected_value', vec_)\n",
    "    \n",
    "    trace_RW_h_age = pm.sample(tune=tune, draws=draws, return_inferencedata=True, target_accept= target_accept)"
   ]
  },
  {
   "cell_type": "markdown",
   "id": "b21e34e5",
   "metadata": {},
   "source": [
    "#### Alpha calculated as part of the updating process"
   ]
  },
  {
   "cell_type": "code",
   "execution_count": null,
   "id": "5f05dc6e",
   "metadata": {},
   "outputs": [],
   "source": [
    "with pm.Model() as model_RW_Pyage:\n",
    "    \n",
    "    # connecting function\n",
    "    mu = pm.Normal('mu', 0, 1)\n",
    "    sd = pm.HalfNormal('sd',2) \n",
    "    intercept = pm.Normal('intercept', mu, sd, shape=n_subj)\n",
    "    \n",
    "    beta_h = pm.Normal('beta_h', 0,1)\n",
    "    beta_sd = pm.HalfNormal('beta_sd', 1)\n",
    "    beta = pm.Normal('beta',beta_h, beta_sd, shape=n_subj)\n",
    "    \n",
    "    # Age slope\n",
    "    Age = pm.Normal('Age', 0, 1)\n",
    "        \n",
    "    \n",
    "    # Model Hyper priors\n",
    "    a_a = pm.TruncatedNormal('a_a', 3, 2, lower=1)\n",
    "    a_b = pm.TruncatedNormal('a_b', 7, 2, lower=1)\n",
    "    eps = pm.HalfNormal('eps', 5)\n",
    "    \n",
    "    alpha = pm.Beta('alpha', a_a, a_b, shape=n_subj)\n",
    "\n",
    "    \n",
    "    Qs = .5 * tt.ones((n_subj,2), dtype='float64') # set values for boths stimuli (CS+, CS-)\n",
    "    vec = .5 * tt.ones((n_subj,1), dtype='float64') # vector to save the relevant stimulus's expactation\n",
    "    \n",
    "    [Qs,vec], updates = theano.scan(\n",
    "        fn=update_q.update_Q_age,\n",
    "        sequences=[stim, reward, ageT],\n",
    "        outputs_info=[Qs, vec],\n",
    "        non_sequences=[alpha, n_subj])\n",
    "   \n",
    "    \n",
    "    vec_ = vec[trials,subj,0] * beta[subj] + intercept[subj]\n",
    "    \n",
    "    learn = pm.Normal('learn', vec_, eps, observed=rating) \n",
    "    \n",
    "    # add matrix of expected values (trials X subjects)\n",
    "    ev = pm.Deterministic('expected_value', vec_)\n",
    "    \n",
    "    trace_RW_h_age = pm.sample(tune=tune, draws=draws, return_inferencedata=True, target_accept= target_accept)"
   ]
  }
 ],
 "metadata": {
  "kernelspec": {
   "display_name": "Python 3 (ipykernel)",
   "language": "python",
   "name": "python3"
  },
  "language_info": {
   "codemirror_mode": {
    "name": "ipython",
    "version": 3
   },
   "file_extension": ".py",
   "mimetype": "text/x-python",
   "name": "python",
   "nbconvert_exporter": "python",
   "pygments_lexer": "ipython3",
   "version": "3.9.7"
  }
 },
 "nbformat": 4,
 "nbformat_minor": 5
}
