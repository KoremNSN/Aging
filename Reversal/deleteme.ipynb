{
 "cells": [
  {
   "cell_type": "code",
   "execution_count": 10,
   "id": "faa76123",
   "metadata": {},
   "outputs": [],
   "source": [
    "%config Completer.use_jedi = False\n",
    "\n",
    "import pandas as pd\n",
    "import numpy as np\n",
    "import matplotlib.pyplot as plt\n",
    "import seaborn as sns\n",
    "import theano\n",
    "import theano.tensor as tt\n",
    "import scipy\n",
    "import os\n",
    "# import stan\n",
    "import cmdstanpy"
   ]
  },
  {
   "cell_type": "code",
   "execution_count": 11,
   "id": "6b510120",
   "metadata": {},
   "outputs": [
    {
     "data": {
      "text/plain": [
       "array([ 189,   86,  205,   71,   87,  204,   85,   24,  101,  100,  132,\n",
       "        185,  167,   43,   62,  105,   73,   82,   30,  160,  196,  146,\n",
       "       1223,  106,    8,   94,  112,  169, 1222,   55,  170,  131,   47,\n",
       "        177,   89,  130,  172,  200,  173,   26,   59,    1,   72, 1232,\n",
       "        166,   32,   11,  104,   16, 1205,  186,   56,   53,  150,   65,\n",
       "        154,  193,  165,    4,  103,   95,  168,   20,  102,   75,   48,\n",
       "         27,    5,  136,  182,  202,  114,  121,   81,  203,  108,   80,\n",
       "        122,   66,   38,  184,  171,  183,   13,   22,  179,  592,  153,\n",
       "        144,  178,   63,  124,   21,   19,   10,  158,   83,  113,  107,\n",
       "        126,  152])"
      ]
     },
     "execution_count": 11,
     "metadata": {},
     "output_type": "execute_result"
    }
   ],
   "source": [
    "\n",
    "\n",
    "# read scr file\n",
    "scr = pd.read_csv('firstSCRpart.csv')\n",
    "scr['sub'].unique()\n",
    "\n"
   ]
  },
  {
   "cell_type": "code",
   "execution_count": 13,
   "id": "3b242ff8",
   "metadata": {},
   "outputs": [
    {
     "name": "stdout",
     "output_type": "stream",
     "text": [
      "(60,)\n",
      "(60,)\n",
      "(60,)\n"
     ]
    }
   ],
   "source": [
    "\n",
    "\n",
    "# organize data accordingly\n",
    "# first, grab just the relevant variables (subject, trial, stimuli, shock)\n",
    "# we need to generate a new variable shock (1=yes, 0=no)\n",
    "# we also need a new variable stim (1=CS+, 2=CS-)\n",
    "scrVec = scrTwo['CDA.AmpSum'].values\n",
    "print(scrVec.shape)\n",
    "shockVec = np.zeros(len(scrVec), dtype=np.int32) # vector to capture shock (1=yes, 0=no)\n",
    "stimVec = np.zeros(len(scrVec), dtype=np.int32) # vector to capture stimulus (1=CS+, 2= CS-)\n",
    "\n",
    "for i, cond in enumerate(scrTwo['Condition'].values):\n",
    "    #print(i)\n",
    "    if cond=='CSplusUS1':\n",
    "        shockVec[i]= 1\n",
    "        stimVec[i] = 1\n",
    "    else:\n",
    "        shockVec[i] = 0\n",
    "        if cond=='CSminus1':\n",
    "            stimVec[i] = 2\n",
    "        else:\n",
    "            stimVec[i] = 1\n",
    "print(shockVec.shape)\n",
    "print(stimVec.shape)\n",
    "nTrials = 30 #len(scrTwo['Event.Nr']) # grab number of trials\n",
    "\n"
   ]
  },
  {
   "cell_type": "code",
   "execution_count": 14,
   "id": "97337271",
   "metadata": {},
   "outputs": [
    {
     "data": {
      "text/plain": [
       "array([0.2852, 0.1033, 0.0783, 0.1772, 0.    , 0.    , 0.    , 0.    ,\n",
       "       0.2063, 0.    , 0.2062, 0.127 , 0.067 , 0.    , 0.011 , 0.    ,\n",
       "       0.1756, 0.183 , 0.0865, 0.3701, 0.    , 0.    , 0.    , 0.1691,\n",
       "       0.0112, 0.0439, 0.    , 0.    , 0.    , 0.    , 3.614 , 0.1215,\n",
       "       0.8997, 1.8746, 0.    , 1.7057, 0.9741, 0.    , 0.9165, 0.0278,\n",
       "       0.0149, 0.0959, 0.    , 0.    , 0.    , 0.0296, 0.058 , 0.    ,\n",
       "       0.    , 0.    , 0.    , 0.    , 0.0354, 0.    , 0.    , 0.    ,\n",
       "       0.    , 0.    , 0.0501, 0.    ])"
      ]
     },
     "execution_count": 14,
     "metadata": {},
     "output_type": "execute_result"
    }
   ],
   "source": [
    "\n",
    "\n",
    "Tsubj = [30,30] # set trials per subject\n",
    "# create matrix for shocks (trials X Subject), scr (trials X subject) and stimulus (trials X subject)\n",
    "stim = np.reshape(stimVec, (2,30)).T # transform to matrix trials x subject\n",
    "shock = np.reshape(shockVec, (2,30)).T \n",
    "scrMat = np.reshape(scrVec, (2,30)).T\n",
    "scrVec\n",
    "\n"
   ]
  },
  {
   "cell_type": "code",
   "execution_count": 18,
   "id": "aef97dc7",
   "metadata": {},
   "outputs": [
    {
     "data": {
      "text/plain": [
       "60"
      ]
     },
     "execution_count": 18,
     "metadata": {},
     "output_type": "execute_result"
    }
   ],
   "source": [
    "len(stimVec)"
   ]
  }
 ],
 "metadata": {
  "kernelspec": {
   "display_name": "Python 3 (ipykernel)",
   "language": "python",
   "name": "python3"
  },
  "language_info": {
   "codemirror_mode": {
    "name": "ipython",
    "version": 3
   },
   "file_extension": ".py",
   "mimetype": "text/x-python",
   "name": "python",
   "nbconvert_exporter": "python",
   "pygments_lexer": "ipython3",
   "version": "3.9.7"
  }
 },
 "nbformat": 4,
 "nbformat_minor": 5
}
