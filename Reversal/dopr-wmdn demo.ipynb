{
 "cells": [
  {
   "cell_type": "code",
   "execution_count": 49,
   "id": "f529377b",
   "metadata": {},
   "outputs": [],
   "source": [
    "from glob import glob\n",
    "import pandas as pd\n",
    "import json\n",
    "import datetime "
   ]
  },
  {
   "cell_type": "code",
   "execution_count": 52,
   "id": "54533294",
   "metadata": {},
   "outputs": [],
   "source": [
    "glober_WMDM = '/media/Data/Lab_Projects/WMDM/**/*-trialdata.csv'\n"
   ]
  },
  {
   "cell_type": "code",
   "execution_count": 43,
   "id": "eac859ac",
   "metadata": {},
   "outputs": [
    {
     "data": {
      "text/html": [
       "<div>\n",
       "<style scoped>\n",
       "    .dataframe tbody tr th:only-of-type {\n",
       "        vertical-align: middle;\n",
       "    }\n",
       "\n",
       "    .dataframe tbody tr th {\n",
       "        vertical-align: top;\n",
       "    }\n",
       "\n",
       "    .dataframe thead th {\n",
       "        text-align: right;\n",
       "    }\n",
       "</style>\n",
       "<table border=\"1\" class=\"dataframe\">\n",
       "  <thead>\n",
       "    <tr style=\"text-align: right;\">\n",
       "      <th></th>\n",
       "      <th>uniqueid</th>\n",
       "      <th>currenttrial</th>\n",
       "      <th>time</th>\n",
       "      <th>trialData</th>\n",
       "    </tr>\n",
       "  </thead>\n",
       "  <tbody>\n",
       "    <tr>\n",
       "      <th>0</th>\n",
       "      <td>A11S8IAAVDXCUS:3Y4W8Q93LZLG89892NR9QIRUYHWDVE</td>\n",
       "      <td>0</td>\n",
       "      <td>1622566479142</td>\n",
       "      <td>{\"rt\": 10968, \"stimulus\": \"/static/img/inst/WM...</td>\n",
       "    </tr>\n",
       "    <tr>\n",
       "      <th>1</th>\n",
       "      <td>A11S8IAAVDXCUS:3Y4W8Q93LZLG89892NR9QIRUYHWDVE</td>\n",
       "      <td>1</td>\n",
       "      <td>1622566482008</td>\n",
       "      <td>{\"rt\": 2865, \"stimulus\": \"/static/img/inst/WMD...</td>\n",
       "    </tr>\n",
       "    <tr>\n",
       "      <th>2</th>\n",
       "      <td>A11S8IAAVDXCUS:3Y4W8Q93LZLG89892NR9QIRUYHWDVE</td>\n",
       "      <td>2</td>\n",
       "      <td>1622566485724</td>\n",
       "      <td>{\"rt\": 3715, \"stimulus\": \"/static/img/inst/WMD...</td>\n",
       "    </tr>\n",
       "    <tr>\n",
       "      <th>3</th>\n",
       "      <td>A11S8IAAVDXCUS:3Y4W8Q93LZLG89892NR9QIRUYHWDVE</td>\n",
       "      <td>3</td>\n",
       "      <td>1622566490196</td>\n",
       "      <td>{\"rt\": 4472, \"stimulus\": \"/static/img/inst/WMD...</td>\n",
       "    </tr>\n",
       "    <tr>\n",
       "      <th>4</th>\n",
       "      <td>A11S8IAAVDXCUS:3Y4W8Q93LZLG89892NR9QIRUYHWDVE</td>\n",
       "      <td>4</td>\n",
       "      <td>1622566498188</td>\n",
       "      <td>{\"rt\": 7991, \"stimulus\": \"/static/img/inst/WMD...</td>\n",
       "    </tr>\n",
       "    <tr>\n",
       "      <th>...</th>\n",
       "      <td>...</td>\n",
       "      <td>...</td>\n",
       "      <td>...</td>\n",
       "      <td>...</td>\n",
       "    </tr>\n",
       "    <tr>\n",
       "      <th>1853</th>\n",
       "      <td>A11S8IAAVDXCUS:3Y4W8Q93LZLG89892NR9QIRUYHWDVE</td>\n",
       "      <td>1853</td>\n",
       "      <td>1622568836745</td>\n",
       "      <td>{\"rt\": null, \"stimulus\": \"&lt;p class=\\\"stimulus\\...</td>\n",
       "    </tr>\n",
       "    <tr>\n",
       "      <th>1854</th>\n",
       "      <td>A11S8IAAVDXCUS:3Y4W8Q93LZLG89892NR9QIRUYHWDVE</td>\n",
       "      <td>1854</td>\n",
       "      <td>1622568836746</td>\n",
       "      <td>{\"trial_type\": \"call-function\", \"trial_index\":...</td>\n",
       "    </tr>\n",
       "    <tr>\n",
       "      <th>1855</th>\n",
       "      <td>A11S8IAAVDXCUS:3Y4W8Q93LZLG89892NR9QIRUYHWDVE</td>\n",
       "      <td>1855</td>\n",
       "      <td>1622568850009</td>\n",
       "      <td>{\"rt\": 13257, \"responses\": \"{\\\"Q0\\\":\\\"31\\\",\\\"Q...</td>\n",
       "    </tr>\n",
       "    <tr>\n",
       "      <th>1856</th>\n",
       "      <td>A11S8IAAVDXCUS:3Y4W8Q93LZLG89892NR9QIRUYHWDVE</td>\n",
       "      <td>1856</td>\n",
       "      <td>1622568859849</td>\n",
       "      <td>{\"rt\": 9836, \"responses\": \"{\\\"gender\\\":\\\"Femal...</td>\n",
       "    </tr>\n",
       "    <tr>\n",
       "      <th>1857</th>\n",
       "      <td>A11S8IAAVDXCUS:3Y4W8Q93LZLG89892NR9QIRUYHWDVE</td>\n",
       "      <td>1857</td>\n",
       "      <td>1622568863577</td>\n",
       "      <td>{\"rt\": 3727, \"stimulus\": \"&lt;p class=\\\"stimulus\\...</td>\n",
       "    </tr>\n",
       "  </tbody>\n",
       "</table>\n",
       "<p>1858 rows × 4 columns</p>\n",
       "</div>"
      ],
      "text/plain": [
       "                                           uniqueid  currenttrial  \\\n",
       "0     A11S8IAAVDXCUS:3Y4W8Q93LZLG89892NR9QIRUYHWDVE             0   \n",
       "1     A11S8IAAVDXCUS:3Y4W8Q93LZLG89892NR9QIRUYHWDVE             1   \n",
       "2     A11S8IAAVDXCUS:3Y4W8Q93LZLG89892NR9QIRUYHWDVE             2   \n",
       "3     A11S8IAAVDXCUS:3Y4W8Q93LZLG89892NR9QIRUYHWDVE             3   \n",
       "4     A11S8IAAVDXCUS:3Y4W8Q93LZLG89892NR9QIRUYHWDVE             4   \n",
       "...                                             ...           ...   \n",
       "1853  A11S8IAAVDXCUS:3Y4W8Q93LZLG89892NR9QIRUYHWDVE          1853   \n",
       "1854  A11S8IAAVDXCUS:3Y4W8Q93LZLG89892NR9QIRUYHWDVE          1854   \n",
       "1855  A11S8IAAVDXCUS:3Y4W8Q93LZLG89892NR9QIRUYHWDVE          1855   \n",
       "1856  A11S8IAAVDXCUS:3Y4W8Q93LZLG89892NR9QIRUYHWDVE          1856   \n",
       "1857  A11S8IAAVDXCUS:3Y4W8Q93LZLG89892NR9QIRUYHWDVE          1857   \n",
       "\n",
       "               time                                          trialData  \n",
       "0     1622566479142  {\"rt\": 10968, \"stimulus\": \"/static/img/inst/WM...  \n",
       "1     1622566482008  {\"rt\": 2865, \"stimulus\": \"/static/img/inst/WMD...  \n",
       "2     1622566485724  {\"rt\": 3715, \"stimulus\": \"/static/img/inst/WMD...  \n",
       "3     1622566490196  {\"rt\": 4472, \"stimulus\": \"/static/img/inst/WMD...  \n",
       "4     1622566498188  {\"rt\": 7991, \"stimulus\": \"/static/img/inst/WMD...  \n",
       "...             ...                                                ...  \n",
       "1853  1622568836745  {\"rt\": null, \"stimulus\": \"<p class=\\\"stimulus\\...  \n",
       "1854  1622568836746  {\"trial_type\": \"call-function\", \"trial_index\":...  \n",
       "1855  1622568850009  {\"rt\": 13257, \"responses\": \"{\\\"Q0\\\":\\\"31\\\",\\\"Q...  \n",
       "1856  1622568859849  {\"rt\": 9836, \"responses\": \"{\\\"gender\\\":\\\"Femal...  \n",
       "1857  1622568863577  {\"rt\": 3727, \"stimulus\": \"<p class=\\\"stimulus\\...  \n",
       "\n",
       "[1858 rows x 4 columns]"
      ]
     },
     "execution_count": 43,
     "metadata": {},
     "output_type": "execute_result"
    }
   ],
   "source": [
    "df = pd.read_csv('/media/Data/Lab_Projects/WMDM/Data/A11S8IAAVDXCUS-trial_data.csv')\n",
    "df"
   ]
  },
  {
   "cell_type": "code",
   "execution_count": 50,
   "id": "57a4747b",
   "metadata": {},
   "outputs": [
    {
     "ename": "ValueError",
     "evalue": "year 53387 is out of range",
     "output_type": "error",
     "traceback": [
      "\u001b[0;31m---------------------------------------------------------------------------\u001b[0m",
      "\u001b[0;31mValueError\u001b[0m                                Traceback (most recent call last)",
      "\u001b[0;32m/tmp/ipykernel_55488/3607962931.py\u001b[0m in \u001b[0;36m<module>\u001b[0;34m\u001b[0m\n\u001b[0;32m----> 1\u001b[0;31m \u001b[0mdatetime\u001b[0m\u001b[0;34m.\u001b[0m\u001b[0mdatetime\u001b[0m\u001b[0;34m.\u001b[0m\u001b[0mfromtimestamp\u001b[0m\u001b[0;34m(\u001b[0m\u001b[0mdf\u001b[0m\u001b[0;34m.\u001b[0m\u001b[0mtime\u001b[0m\u001b[0;34m[\u001b[0m\u001b[0;36m0\u001b[0m\u001b[0;34m]\u001b[0m\u001b[0;34m)\u001b[0m\u001b[0;34m\u001b[0m\u001b[0;34m\u001b[0m\u001b[0m\n\u001b[0m",
      "\u001b[0;31mValueError\u001b[0m: year 53387 is out of range"
     ]
    }
   ],
   "source": [
    "datetime.datetime.fromtimestamp(df.time[0])"
   ]
  },
  {
   "cell_type": "code",
   "execution_count": 56,
   "id": "cfb5ee9e",
   "metadata": {},
   "outputs": [],
   "source": [
    "demo = pd.DataFrame()\n",
    "i=0\n",
    "for sub in glob(glober_WMDM, recursive=True):\n",
    "    temp = pd.read_csv(sub)\n",
    "    #s = sub.split(\"/\")[-1].split('-')[0]\n",
    "    dic = json.loads(json.loads(temp.iloc[-2][-1])['responses'])\n",
    "    dic['time'] = temp.time[0]\n",
    "    dic['sub'] = sub.split(\"/\")[-1].split('-')[0]\n",
    "    \n",
    "    demo = demo.append(dic, ignore_index=True)\n",
    "    \n"
   ]
  },
  {
   "cell_type": "code",
   "execution_count": 57,
   "id": "56745271",
   "metadata": {},
   "outputs": [],
   "source": [
    "demo.drop_duplicates().reset_index().to_csv('/home/nachshon/Documents/WMDM/wmdm_demo.csv')"
   ]
  },
  {
   "cell_type": "code",
   "execution_count": 27,
   "id": "99419627",
   "metadata": {},
   "outputs": [],
   "source": [
    "glober_dopr = '/media/Data/Lab_Projects/dopr/**/*-trialdata.csv'"
   ]
  },
  {
   "cell_type": "code",
   "execution_count": 58,
   "id": "3e9657dd",
   "metadata": {},
   "outputs": [
    {
     "name": "stdout",
     "output_type": "stream",
     "text": [
      "/media/Data/Lab_Projects/dopr/behaviour/psiturk/A1PJLZSOUQ4MIL-trialdata.csv\n",
      "/media/Data/Lab_Projects/dopr/behaviour/psiturk/A3MXI2O3JZ0TZH-trialdata.csv\n",
      "/media/Data/Lab_Projects/dopr/behaviour/psiturk/ABW8U1U74P8MI-trialdata.csv\n",
      "/media/Data/Lab_Projects/dopr/behaviour/psiturk/A1ROEDVMTO9Y3X-trialdata.csv\n",
      "/media/Data/Lab_Projects/dopr/behaviour/psiturk/A1C656HPV1N2F5-trialdata.csv\n"
     ]
    }
   ],
   "source": [
    "demo_dopr = pd.DataFrame()\n",
    "i=0\n",
    "for sub in glob(glober_dopr, recursive=True):\n",
    "    temp = pd.read_csv(sub)\n",
    "    try:\n",
    "        dic = json.loads(json.loads(temp.iloc[-2][-1])['responses'])\n",
    "        dic['time'] = temp.time[0]\n",
    "        dic['sub'] = sub.split(\"/\")[-1].split('-')[0]\n",
    "        demo_dopr = demo_dopr.append(dic, ignore_index=True)\n",
    "    except:\n",
    "        print(sub)"
   ]
  },
  {
   "cell_type": "code",
   "execution_count": 59,
   "id": "0eb2ab3a",
   "metadata": {},
   "outputs": [],
   "source": [
    "demo_dopr.drop_duplicates().to_csv('/home/nachshon/Documents/WMDM/dopr_demo.csv')"
   ]
  }
 ],
 "metadata": {
  "kernelspec": {
   "display_name": "Python 3 (ipykernel)",
   "language": "python",
   "name": "python3"
  },
  "language_info": {
   "codemirror_mode": {
    "name": "ipython",
    "version": 3
   },
   "file_extension": ".py",
   "mimetype": "text/x-python",
   "name": "python",
   "nbconvert_exporter": "python",
   "pygments_lexer": "ipython3",
   "version": "3.9.7"
  }
 },
 "nbformat": 4,
 "nbformat_minor": 5
}
