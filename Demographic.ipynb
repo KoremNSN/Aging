{
 "cells": [
  {
   "cell_type": "markdown",
   "id": "aee70589",
   "metadata": {},
   "source": [
    "# Extract Demographic data"
   ]
  },
  {
   "cell_type": "code",
   "execution_count": 3,
   "id": "63628743",
   "metadata": {},
   "outputs": [],
   "source": [
    "import pandas as pd\n",
    "import numpy as np"
   ]
  },
  {
   "cell_type": "code",
   "execution_count": 5,
   "id": "cd35c371",
   "metadata": {},
   "outputs": [
    {
     "name": "stdout",
     "output_type": "stream",
     "text": [
      "Number of participants screened:  98 ; females:  46\n",
      "mean age: 53.80612244897959 std: 22.21631050178082 min-max: 18 89\n",
      "Number of compliters:  87\n",
      "Number of compliters with MoCA > 25: 68 ; females:  31\n",
      "mean age: 50.63235294117647 std: 22.300688733603714 min-max: 18 88\n"
     ]
    }
   ],
   "source": [
    "age = pd.read_excel('/media/Data/Lab_Projects/Aging/aging_session_log.xlsx', sheet_name='sessions').iloc[:,[0,7,9]]\n",
    "moca = pd.read_excel('/media/Data/Lab_Projects/Aging/aging_session_log.xlsx', sheet_name='assessments').iloc[:,[0,22]]\n",
    "\n",
    "# Change name of the first column to 'sub'\n",
    "age.columns.values[0] = moca.columns.values[0] = \"sub\"\n",
    "\n",
    "# remove unnecessary rows\n",
    "age = age[age.gender != 'gender']\n",
    "age = age.dropna().reset_index()\n",
    "age = age.drop(['index'], axis=1)\n",
    "\n",
    "print(\"Number of participants screened: \",age.shape[0],'; females: ', age[age['gender']=='F'].shape[0])\n",
    "print('mean age:', np.mean(age.age), 'std:', np.std(age.age), 'min-max:',np.min(age.age),np.max(age.age))\n",
    "# merge files\n",
    "age = age.merge(moca, left_on='sub', right_on='sub')\n",
    "age['sub'] = age['sub'].map(lambda x: int(x.lstrip('AG_'))) # remove the AG_ prfix from the subject number\n",
    "age['sub'] = age['sub'].astype(int)\n",
    "age['age'] = age.age.astype('int')\n",
    "\n",
    "age_c = age[age['moca_score']>25]\n",
    "print('Number of compliters: ', age.shape[0])\n",
    "print('Number of compliters with MoCA > 25:', age_c.shape[0],'; females: ', age_c[age_c['gender']=='F'].shape[0])\n",
    "print('mean age:', np.mean(age_c.age), 'std:', np.std(age_c.age), 'min-max:',np.min(age_c.age),np.max(age_c.age))"
   ]
  },
  {
   "cell_type": "code",
   "execution_count": 7,
   "id": "460e71f6",
   "metadata": {},
   "outputs": [],
   "source": [
    "age_c.to_csv('demo.csv', index=False)"
   ]
  }
 ],
 "metadata": {
  "kernelspec": {
   "display_name": "Python 3 (ipykernel)",
   "language": "python",
   "name": "python3"
  },
  "language_info": {
   "codemirror_mode": {
    "name": "ipython",
    "version": 3
   },
   "file_extension": ".py",
   "mimetype": "text/x-python",
   "name": "python",
   "nbconvert_exporter": "python",
   "pygments_lexer": "ipython3",
   "version": "3.9.7"
  }
 },
 "nbformat": 4,
 "nbformat_minor": 5
}
