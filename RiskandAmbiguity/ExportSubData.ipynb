{
 "cells": [
  {
   "cell_type": "code",
   "execution_count": 36,
   "id": "a25d8c23",
   "metadata": {},
   "outputs": [],
   "source": [
    "import pandas as pd\n",
    "import numpy as np\n",
    "import scipy.io as sio\n",
    "from glob import glob"
   ]
  },
  {
   "cell_type": "code",
   "execution_count": 62,
   "id": "897502c7",
   "metadata": {},
   "outputs": [],
   "source": [
    "glober = '/media/Data/Lab_Projects/Aging/behavioral/Risk_and_Ambiguity_new/AG_*_RA/MDM_MON_*.mat'\n",
    "df = pd.DataFrame()\n",
    "df_missing = pd.DataFrame()"
   ]
  },
  {
   "cell_type": "code",
   "execution_count": 67,
   "id": "4f30e9f6",
   "metadata": {},
   "outputs": [
    {
     "name": "stdout",
     "output_type": "stream",
     "text": [
      "24 8\n",
      "12 7\n",
      "20 10.0\n",
      "27 9\n",
      "30 6\n",
      "39 10\n",
      "36 6\n",
      "42 8\n",
      "47 7\n",
      "60 8.0\n",
      "62 8.0\n"
     ]
    }
   ],
   "source": [
    "for mat_fname in glob(glober):\n",
    "    mat = sio.loadmat(mat_fname)\n",
    "    \n",
    "    sub = mat_fname.split('_')[5] # subject number\n",
    "    vals = pd.DataFrame(mat['Datamon'][0][0][8], columns = ['value']) # values\n",
    "    risk = pd.DataFrame(mat['Datamon'][0][0][9], columns = ['risk']) \n",
    "    ambiguity = pd.DataFrame(mat['Datamon'][0][0][10], columns = ['ambiguity'])\n",
    "    \n",
    "    # get data from all blocks\n",
    "    db = pd.DataFrame(mat['Datamon'][0][0][17][0])\n",
    "    db = db.append(pd.DataFrame(mat['Datamon'][0][0][17][1]))\n",
    "    db = db.append(pd.DataFrame(mat['Datamon'][0][0][17][2]))\n",
    "    db = db.append(pd.DataFrame(mat['Datamon'][0][0][17][3]))\n",
    "    \n",
    "    db['value'] = vals\n",
    "    db['risk'] = risk\n",
    "    db['ambiguity'] = ambiguity\n",
    "    db['sub'] = sub\n",
    "    \n",
    "    db['choice'] = db.choice.replace(['Reference'], 0)\n",
    "    db['choice'] = db.choice.replace(['Lottery'], 1)\n",
    "    db['choice'] = db.choice.replace(['None'], np.nan)\n",
    "    \n",
    "\n",
    "    catch = np.nansum(db.choice[db.value < 8])\n",
    "    if catch > 5:\n",
    "        print(sub, catch)\n",
    "    db['catch'] = catch\n",
    "    if db['choice'][db['choice'] != db['choice']].shape[0]:\n",
    "        df_missing = df_missing.append(db)\n",
    "    else:\n",
    "        df = df.append(db)"
   ]
  },
  {
   "cell_type": "code",
   "execution_count": 68,
   "id": "58a25c6d",
   "metadata": {},
   "outputs": [],
   "source": [
    "df.to_csv('mon.csv')"
   ]
  },
  {
   "cell_type": "code",
   "execution_count": 66,
   "id": "4fff802e",
   "metadata": {},
   "outputs": [
    {
     "data": {
      "text/plain": [
       "84"
      ]
     },
     "execution_count": 66,
     "metadata": {},
     "output_type": "execute_result"
    }
   ],
   "source": []
  }
 ],
 "metadata": {
  "kernelspec": {
   "display_name": "Python 3 (ipykernel)",
   "language": "python",
   "name": "python3"
  },
  "language_info": {
   "codemirror_mode": {
    "name": "ipython",
    "version": 3
   },
   "file_extension": ".py",
   "mimetype": "text/x-python",
   "name": "python",
   "nbconvert_exporter": "python",
   "pygments_lexer": "ipython3",
   "version": "3.8.12"
  }
 },
 "nbformat": 4,
 "nbformat_minor": 5
}
