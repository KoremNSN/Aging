{
 "cells": [
  {
   "cell_type": "code",
   "execution_count": 1,
   "id": "a25d8c23",
   "metadata": {},
   "outputs": [],
   "source": [
    "import pandas as pd\n",
    "import numpy as np\n",
    "import scipy.io as sio\n",
    "from glob import glob"
   ]
  },
  {
   "cell_type": "code",
   "execution_count": 8,
   "id": "897502c7",
   "metadata": {},
   "outputs": [],
   "source": [
    "glober = '/media/Data/Lab_Projects/Aging/behavioral/Risk_and_Ambiguity_new/AG_*_RA/MDM_MON_*.mat'\n",
    "df = pd.DataFrame()\n",
    "df_missing = pd.DataFrame()"
   ]
  },
  {
   "cell_type": "code",
   "execution_count": 9,
   "id": "4f30e9f6",
   "metadata": {},
   "outputs": [
    {
     "name": "stdout",
     "output_type": "stream",
     "text": [
      "12 10\n",
      "17 11\n",
      "27 11\n",
      "29 6\n"
     ]
    }
   ],
   "source": [
    "for mat_fname in glob(glober):\n",
    "    mat = sio.loadmat(mat_fname)\n",
    "    sub = mat_fname.split('_')[5] # subject number\n",
    "    vals = pd.DataFrame(mat['Datamon'][0][0][8], columns = ['value']) # values\n",
    "    risk = pd.DataFrame(mat['Datamon'][0][0][9], columns = ['risk']) \n",
    "    ambiguity = pd.DataFrame(mat['Datamon'][0][0][10], columns = ['ambiguity'])\n",
    "    \n",
    "    # get data from all blocks\n",
    "    choice = []\n",
    "    value = []\n",
    "    for j in range(4):\n",
    "        for i in range(21):    \n",
    "            choice.append(mat['Datamon'][0][0][17][j][i][0][0])\n",
    "\n",
    "            if mat['Datamon'][0][0][17][j][i][2][0] == '$0':\n",
    "                value.append(mat['Datamon'][0][0][17][j][i][3][0])\n",
    "            else:\n",
    "                value.append(mat['Datamon'][0][0][17][j][i][2][0])\n",
    "    \n",
    "    \n",
    "    db = pd.DataFrame(list(zip(choice, value)),\n",
    "               columns =['choice', 'value'])\n",
    "    \n",
    "    db['value'] = vals\n",
    "    db['risk'] = risk\n",
    "    db['ambiguity'] = ambiguity\n",
    "    db['sub'] = sub\n",
    "    \n",
    "    db['choice'] = db.choice.replace(['Reference'], 0)\n",
    "    db['choice'] = db.choice.replace(['Lottery'], 1)\n",
    "    db['choice'] = db.choice.replace(['None'], np.nan)\n",
    "    \n",
    "\n",
    "    catch = np.nansum(db.choice[db.value == 5])\n",
    "    if catch > 5:\n",
    "        print(sub, catch)\n",
    "    else:\n",
    "        db['catch'] = catch\n",
    "    #if db['choice'][db['choice'] != db['choice']].shape[0]:\n",
    "    #    df_missing = df_missing.append(db)\n",
    "    #else:\n",
    "        df = df.append(db)"
   ]
  },
  {
   "cell_type": "code",
   "execution_count": 10,
   "id": "58a25c6d",
   "metadata": {},
   "outputs": [],
   "source": [
    "df.to_csv('mon.csv')\n",
    "df_missing.to_csv('mon_missing.csv')"
   ]
  },
  {
   "cell_type": "code",
   "execution_count": 11,
   "id": "92826609",
   "metadata": {},
   "outputs": [],
   "source": [
    "glober = '/media/Data/Lab_Projects/Aging/behavioral/Risk_and_Ambiguity_new/AG_*_RA/MDM_MED_*.mat'\n",
    "df = pd.DataFrame()\n",
    "df_missing = pd.DataFrame()"
   ]
  },
  {
   "cell_type": "code",
   "execution_count": 12,
   "id": "14f2599a",
   "metadata": {},
   "outputs": [
    {
     "name": "stdout",
     "output_type": "stream",
     "text": [
      "22 8.0\n",
      "12 12\n",
      "17 6\n",
      "failed choice 28\n",
      "60 6\n"
     ]
    }
   ],
   "source": [
    "for mat_fname in glob(glober):\n",
    "    mat = sio.loadmat(mat_fname)\n",
    "    \n",
    "    sub = mat_fname.split('_')[5] # subject number\n",
    "    vals = pd.DataFrame(mat['Datamed'][0][0][8], columns = ['value']) # values\n",
    "    risk = pd.DataFrame(mat['Datamed'][0][0][9], columns = ['risk']) \n",
    "    ambiguity = pd.DataFrame(mat['Datamed'][0][0][10], columns = ['ambiguity'])\n",
    "    \n",
    "    # get data from all blocks\n",
    "    choice = []\n",
    "    value = []\n",
    "    try:\n",
    "        for j in range(4):\n",
    "            for i in range(21):    \n",
    "                choice.append(mat['Datamed'][0][0][17][j][i][0][0])\n",
    "\n",
    "                if mat['Datamed'][0][0][17][j][i][2][0] == 'no effect':\n",
    "                    value.append(mat['Datamed'][0][0][17][j][i][3][0])\n",
    "                else:\n",
    "                    value.append(mat['Datamed'][0][0][17][j][i][2][0])\n",
    "    except:\n",
    "        print(\"failed choice\", sub)\n",
    "        continue\n",
    "    \n",
    "    db = pd.DataFrame(list(zip(choice, value)),\n",
    "               columns =['choice', 'value'])\n",
    "    \n",
    "    db['value'] = vals\n",
    "    db['risk'] = risk\n",
    "    db['ambiguity'] = ambiguity\n",
    "    db['sub'] = sub\n",
    "    \n",
    "    db['choice'] = db.choice.replace(['Conservative treatment: Slight improvement'], 0)\n",
    "    db['choice'] = db.choice.replace(['Experimental treatment'], 1)\n",
    "    db['choice'] = db.choice.replace(['None'], np.nan)\n",
    "    \n",
    "\n",
    "    catch = np.nansum(db.choice[db.value == 5])\n",
    "    if catch > 5:\n",
    "        print(sub, catch)\n",
    "    else:\n",
    "        db['catch'] = catch\n",
    "    #if db['choice'][db['choice'] != db['choice']].shape[0]:\n",
    "    #    df_missing = df_missing.append(db)\n",
    "    #else:\n",
    "        df = df.append(db)"
   ]
  },
  {
   "cell_type": "code",
   "execution_count": 13,
   "id": "c2984376",
   "metadata": {},
   "outputs": [],
   "source": [
    "df.to_csv('med.csv')\n",
    "df_missing.to_csv('med_missing.csv')"
   ]
  },
  {
   "cell_type": "code",
   "execution_count": null,
   "id": "c9d4d0f6",
   "metadata": {},
   "outputs": [],
   "source": []
  }
 ],
 "metadata": {
  "kernelspec": {
   "display_name": "Python 3 (ipykernel)",
   "language": "python",
   "name": "python3"
  },
  "language_info": {
   "codemirror_mode": {
    "name": "ipython",
    "version": 3
   },
   "file_extension": ".py",
   "mimetype": "text/x-python",
   "name": "python",
   "nbconvert_exporter": "python",
   "pygments_lexer": "ipython3",
   "version": "3.8.12"
  }
 },
 "nbformat": 4,
 "nbformat_minor": 5
}
