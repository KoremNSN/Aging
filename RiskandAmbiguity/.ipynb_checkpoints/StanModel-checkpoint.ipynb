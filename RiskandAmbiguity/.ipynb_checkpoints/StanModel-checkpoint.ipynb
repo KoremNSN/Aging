{
 "cells": [
  {
   "cell_type": "code",
   "execution_count": 44,
   "id": "b6a0d9ae",
   "metadata": {},
   "outputs": [],
   "source": [
    "import numpy as np\n",
    "import cmdstanpy\n",
    "import matplotlib.pyplot as plt\n",
    "import seaborn as sns\n",
    "import scipy\n",
    "import arviz as az\n",
    "import pandas as pd"
   ]
  },
  {
   "cell_type": "code",
   "execution_count": 84,
   "id": "57e5ee98",
   "metadata": {},
   "outputs": [],
   "source": [
    "df = pd.read_csv('./mon.csv')\n",
    "df.head()\n",
    "\n",
    "refValue=5\n",
    "refProbability=1"
   ]
  },
  {
   "cell_type": "code",
   "execution_count": 91,
   "id": "9cb0ee13",
   "metadata": {},
   "outputs": [],
   "source": [
    "N = df.shape[0]\n",
    "choice = df['choice'].astype(int)\n",
    "refProbabilities = np.repeat(refProbability, N)\n",
    "refValues=np.repeat(refValue, N)\n",
    "lotteryProbabilities = df['risk'].astype(float)\n",
    "ID = df['sub'].astype('int')\n",
    "lotteryValues = df['value'].astype('int')\n",
    "n_sub = len(df['sub'].unique())"
   ]
  },
  {
   "cell_type": "code",
   "execution_count": 106,
   "id": "f1131d37",
   "metadata": {},
   "outputs": [
    {
     "data": {
      "text/plain": [
       "35"
      ]
     },
     "execution_count": 106,
     "metadata": {},
     "output_type": "execute_result"
    }
   ],
   "source": [
    "len(df['sub'].unique())"
   ]
  },
  {
   "cell_type": "code",
   "execution_count": 100,
   "id": "6a17c304",
   "metadata": {},
   "outputs": [
    {
     "data": {
      "text/plain": [
       "2940"
      ]
     },
     "execution_count": 100,
     "metadata": {},
     "output_type": "execute_result"
    }
   ],
   "source": [
    "len(lotteryValues)"
   ]
  },
  {
   "cell_type": "code",
   "execution_count": null,
   "id": "e3cc8823",
   "metadata": {},
   "outputs": [],
   "source": []
  },
  {
   "cell_type": "code",
   "execution_count": 2,
   "id": "1a1b896e",
   "metadata": {},
   "outputs": [],
   "source": [
    "seed = 71821\n",
    "\n",
    "## simulation - choice set decisions\n",
    "numsubjs=50 \n",
    "numChoiceRepeats=4\n",
    "uniqueLotteryValues = [6, 8, 10, 12, 14] # does the model fit better when the SV differences are smaller? (YES!)\n",
    "\n",
    "uniqueLotteryProbabilities= [.2, .35, .5, .65, .8]\n",
    "refValue=5\n",
    "refProbability=1"
   ]
  },
  {
   "cell_type": "code",
   "execution_count": 3,
   "id": "d4450078",
   "metadata": {},
   "outputs": [],
   "source": [
    "# put all info together\n",
    "lotteryValues=np.repeat(uniqueLotteryValues,len(uniqueLotteryProbabilities)*numChoiceRepeats*numsubjs)\n",
    "lotteryProbabilities=np.repeat(uniqueLotteryProbabilities, len(uniqueLotteryValues)*numChoiceRepeats*numsubjs)\n",
    "refValues=np.repeat(refValue, len(lotteryValues))\n",
    "refProbabilities=np.repeat(refProbability, len(lotteryProbabilities))\n",
    "ID = np.repeat(np.linspace(start = 1, stop = numsubjs), len(lotteryProbabilities)/numsubjs)\n",
    "ID = ID.astype(int) # turn to integer"
   ]
  },
  {
   "cell_type": "code",
   "execution_count": 11,
   "id": "f013d637",
   "metadata": {},
   "outputs": [
    {
     "data": {
      "image/png": "[encoded data removed]",
      "text/plain": [
       "<Figure size 360x360 with 1 Axes>"
      ]
     },
     "metadata": {
      "needs_background": "light"
     },
     "output_type": "display_data"
    }
   ],
   "source": [
    "## simulation - decision parameters, Group 1\n",
    "alphas1= np.random.lognormal(-.3,.2, numsubjs) # this forces all alphas > 0 and puts distribution mean at slight risk \n",
    "#aversion (0.74)\n",
    "#sns.distplot(alphas1)\n",
    "# adding slopes\n",
    "slopes = np.random.lognormal(0,.5, numsubjs)\n",
    "#sns.distplot(slopes)\n",
    "# put all info together\n",
    "riskTol = np.repeat(alphas1, len(lotteryProbabilities)/numsubjs)\n",
    "noise = np.repeat(slopes, len(lotteryProbabilities)/numsubjs)\n",
    "\n",
    "## simulate choices using decision parameters and choice set\n",
    "uRef = refValues**riskTol*refProbabilities\n",
    "uLotto = lotteryValues**riskTol*lotteryProbabilities\n",
    "p = scipy.special.expit((uLotto - uRef)/noise)\n",
    "sns.displot(p)\n",
    "choice = np.random.binomial(1, p, len(p))"
   ]
  },
  {
   "cell_type": "code",
   "execution_count": 90,
   "id": "151fc18e",
   "metadata": {},
   "outputs": [
    {
     "data": {
      "text/plain": [
       "0       0.0\n",
       "1       0.0\n",
       "2       0.0\n",
       "3       0.0\n",
       "4       0.0\n",
       "       ... \n",
       "2935    1.0\n",
       "2936    0.0\n",
       "2937    0.0\n",
       "2938    1.0\n",
       "2939    1.0\n",
       "Name: choice, Length: 2940, dtype: float64"
      ]
     },
     "execution_count": 90,
     "metadata": {},
     "output_type": "execute_result"
    }
   ],
   "source": [
    "choice"
   ]
  },
  {
   "cell_type": "code",
   "execution_count": 92,
   "id": "c9f859d0",
   "metadata": {},
   "outputs": [],
   "source": [
    "# define dictionary of data\n",
    "standata_simple = {\n",
    "  'N': N,\n",
    "  'choice' : choice,\n",
    "  'refProbabilities' : refProbabilities,\n",
    "  'refValues' : refValues,\n",
    "  'lotteryProbabilities' : lotteryProbabilities,\n",
    "  'ID' : ID,\n",
    "  'lotteryValues'  : lotteryValues\n",
    "}"
   ]
  },
  {
   "cell_type": "code",
   "execution_count": 107,
   "id": "3e6156ef",
   "metadata": {},
   "outputs": [
    {
     "name": "stderr",
     "output_type": "stream",
     "text": [
      "INFO:cmdstanpy:compiling stan file /home/nachshon/Documents/Aging/Aging/RiskandAmbiguity/simpleModel.stan to exe file /home/nachshon/Documents/Aging/Aging/RiskandAmbiguity/simpleModel\n",
      "INFO:cmdstanpy:compiled model executable: /home/nachshon/Documents/Aging/Aging/RiskandAmbiguity/simpleModel\n"
     ]
    }
   ],
   "source": [
    "simpleModel = cmdstanpy.CmdStanModel(stan_file='./simpleModel.stan')"
   ]
  },
  {
   "cell_type": "code",
   "execution_count": 108,
   "id": "49b56f53",
   "metadata": {},
   "outputs": [
    {
     "name": "stderr",
     "output_type": "stream",
     "text": [
      "INFO:cmdstanpy:CmdStan start procesing\n",
      "INFO:cmdstanpy:Chain [1] start processing\n",
      "INFO:cmdstanpy:Chain [2] start processing\n",
      "INFO:cmdstanpy:Chain [3] start processing\n",
      "INFO:cmdstanpy:Chain [4] start processing\n",
      "INFO:cmdstanpy:Chain [1] done processing\n",
      "INFO:cmdstanpy:Chain [2] done processing\n",
      "ERROR:cmdstanpy:Chain [1] error: error during processing Operation not permitted\n",
      "INFO:cmdstanpy:Chain [3] done processing\n",
      "ERROR:cmdstanpy:Chain [2] error: error during processing Operation not permitted\n",
      "ERROR:cmdstanpy:Chain [3] error: error during processing Operation not permitted\n",
      "INFO:cmdstanpy:Chain [4] done processing\n",
      "ERROR:cmdstanpy:Chain [4] error: error during processing Operation not permitted\n"
     ]
    },
    {
     "ename": "RuntimeError",
     "evalue": "Error during sampling:\nException: vector[uni] indexing: accessing element out of range. index 39 out of range; expecting index to be between 1 and 35 (in '/home/nachshon/Documents/Aging/Aging/RiskandAmbiguity/simpleModel.stan', line 35, column 6 to column 76)\n\tException: vector[uni] indexing: accessing element out of range. index 39 out of range; expecting index to be between 1 and 35 (in '/home/nachshon/Documents/Aging/Aging/RiskandAmbiguity/simpleModel.stan', line 35, column 6 to column 76)\nException: vector[uni] indexing: accessing element out of range. index 39 out of range; expecting index to be between 1 and 35 (in '/home/nachshon/Documents/Aging/Aging/RiskandAmbiguity/simpleModel.stan', line 35, column 6 to column 76)\n\tException: vector[uni] indexing: accessing element out of range. index 39 out of range; expecting index to be between 1 and 35 (in '/home/nachshon/Documents/Aging/Aging/RiskandAmbiguity/simpleModel.stan', line 35, column 6 to column 76)\nException: vector[uni] indexing: accessing element out of range. index 39 out of range; expecting index to be between 1 and 35 (in '/home/nachshon/Documents/Aging/Aging/RiskandAmbiguity/simpleModel.stan', line 35, column 6 to column 76)\n\tException: vector[uni] indexing: accessing element out of range. index 39 out of range; expecting index to be between 1 and 35 (in '/home/nachshon/Documents/Aging/Aging/RiskandAmbiguity/simpleModel.stan', line 35, column 6 to column 76)\nException: vector[uni] indexing: accessing element out of range. index 39 out of range; expecting index to be between 1 and 35 (in '/home/nachshon/Documents/Aging/Aging/RiskandAmbiguity/simpleModel.stan', line 35, column 6 to column 76)\n\tException: vector[uni] indexing: accessing element out of range. index 39 out of range; expecting index to be between 1 and 35 (in '/home/nachshon/Documents/Aging/Aging/RiskandAmbiguity/simpleModel.stan', line 35, column 6 to column 76)Command and output files:\nRunSet: chains=4, chain_ids=[1, 2, 3, 4], num_processes=4\n cmd (chain 1):\n\t['/home/nachshon/Documents/Aging/Aging/RiskandAmbiguity/simpleModel', 'id=1', 'random', 'seed=61453', 'data', 'file=/tmp/tmptg5uqtpq/c07ifptr.json', 'init=0.2', 'output', 'file=/tmp/tmptg5uqtpq/simpleModel-20220110151843_1.csv', 'method=sample', 'num_samples=1000', 'num_warmup=1000', 'algorithm=hmc', 'adapt', 'engaged=1', 'delta=0.9']\n retcodes=[1, 1, 1, 1]\n per-chain output files (showing chain 1 only):\n csv_file:\n\t/tmp/tmptg5uqtpq/simpleModel-20220110151843_1.csv\n console_msgs (if any):\n\t/tmp/tmptg5uqtpq/simpleModel-20220110151843_0-stdout.txt",
     "output_type": "error",
     "traceback": [
      "\u001b[0;31m---------------------------------------------------------------------------\u001b[0m",
      "\u001b[0;31mRuntimeError\u001b[0m                              Traceback (most recent call last)",
      "\u001b[0;32m/tmp/ipykernel_430794/2040838412.py\u001b[0m in \u001b[0;36m<module>\u001b[0;34m\u001b[0m\n\u001b[0;32m----> 1\u001b[0;31m fit_simple_model = simpleModel.sample(\n\u001b[0m\u001b[1;32m      2\u001b[0m   \u001b[0mdata\u001b[0m \u001b[0;34m=\u001b[0m \u001b[0mstandata_simple\u001b[0m\u001b[0;34m,\u001b[0m\u001b[0;34m\u001b[0m\u001b[0;34m\u001b[0m\u001b[0m\n\u001b[1;32m      3\u001b[0m   \u001b[0mchains\u001b[0m \u001b[0;34m=\u001b[0m \u001b[0;36m4\u001b[0m\u001b[0;34m,\u001b[0m\u001b[0;34m\u001b[0m\u001b[0;34m\u001b[0m\u001b[0m\n\u001b[1;32m      4\u001b[0m   \u001b[0miter_warmup\u001b[0m \u001b[0;34m=\u001b[0m \u001b[0;36m1000\u001b[0m\u001b[0;34m,\u001b[0m\u001b[0;34m\u001b[0m\u001b[0;34m\u001b[0m\u001b[0m\n\u001b[1;32m      5\u001b[0m   \u001b[0miter_sampling\u001b[0m \u001b[0;34m=\u001b[0m \u001b[0;36m1000\u001b[0m\u001b[0;34m,\u001b[0m\u001b[0;34m\u001b[0m\u001b[0;34m\u001b[0m\u001b[0m\n",
      "\u001b[0;32m~/anaconda3/envs/risk/lib/python3.8/site-packages/cmdstanpy/model.py\u001b[0m in \u001b[0;36msample\u001b[0;34m(self, data, chains, parallel_chains, threads_per_chain, seed, chain_ids, inits, iter_warmup, iter_sampling, save_warmup, thin, max_treedepth, metric, step_size, adapt_engaged, adapt_delta, adapt_init_phase, adapt_metric_window, adapt_step_size, fixed_param, output_dir, sig_figs, save_latent_dynamics, save_profile, show_progress, show_console, refresh, time_fmt, force_one_process_per_chain)\u001b[0m\n\u001b[1;32m   1083\u001b[0m                     \u001b[0mmsg\u001b[0m\u001b[0;34m,\u001b[0m \u001b[0mrunset\u001b[0m\u001b[0;34m.\u001b[0m\u001b[0m__repr__\u001b[0m\u001b[0;34m(\u001b[0m\u001b[0;34m)\u001b[0m\u001b[0;34m\u001b[0m\u001b[0;34m\u001b[0m\u001b[0m\n\u001b[1;32m   1084\u001b[0m                 )\n\u001b[0;32m-> 1085\u001b[0;31m                 \u001b[0;32mraise\u001b[0m \u001b[0mRuntimeError\u001b[0m\u001b[0;34m(\u001b[0m\u001b[0mmsg\u001b[0m\u001b[0;34m)\u001b[0m\u001b[0;34m\u001b[0m\u001b[0;34m\u001b[0m\u001b[0m\n\u001b[0m\u001b[1;32m   1086\u001b[0m \u001b[0;34m\u001b[0m\u001b[0m\n\u001b[1;32m   1087\u001b[0m             \u001b[0mmcmc\u001b[0m \u001b[0;34m=\u001b[0m \u001b[0mCmdStanMCMC\u001b[0m\u001b[0;34m(\u001b[0m\u001b[0mrunset\u001b[0m\u001b[0;34m)\u001b[0m\u001b[0;34m\u001b[0m\u001b[0;34m\u001b[0m\u001b[0m\n",
      "\u001b[0;31mRuntimeError\u001b[0m: Error during sampling:\nException: vector[uni] indexing: accessing element out of range. index 39 out of range; expecting index to be between 1 and 35 (in '/home/nachshon/Documents/Aging/Aging/RiskandAmbiguity/simpleModel.stan', line 35, column 6 to column 76)\n\tException: vector[uni] indexing: accessing element out of range. index 39 out of range; expecting index to be between 1 and 35 (in '/home/nachshon/Documents/Aging/Aging/RiskandAmbiguity/simpleModel.stan', line 35, column 6 to column 76)\nException: vector[uni] indexing: accessing element out of range. index 39 out of range; expecting index to be between 1 and 35 (in '/home/nachshon/Documents/Aging/Aging/RiskandAmbiguity/simpleModel.stan', line 35, column 6 to column 76)\n\tException: vector[uni] indexing: accessing element out of range. index 39 out of range; expecting index to be between 1 and 35 (in '/home/nachshon/Documents/Aging/Aging/RiskandAmbiguity/simpleModel.stan', line 35, column 6 to column 76)\nException: vector[uni] indexing: accessing element out of range. index 39 out of range; expecting index to be between 1 and 35 (in '/home/nachshon/Documents/Aging/Aging/RiskandAmbiguity/simpleModel.stan', line 35, column 6 to column 76)\n\tException: vector[uni] indexing: accessing element out of range. index 39 out of range; expecting index to be between 1 and 35 (in '/home/nachshon/Documents/Aging/Aging/RiskandAmbiguity/simpleModel.stan', line 35, column 6 to column 76)\nException: vector[uni] indexing: accessing element out of range. index 39 out of range; expecting index to be between 1 and 35 (in '/home/nachshon/Documents/Aging/Aging/RiskandAmbiguity/simpleModel.stan', line 35, column 6 to column 76)\n\tException: vector[uni] indexing: accessing element out of range. index 39 out of range; expecting index to be between 1 and 35 (in '/home/nachshon/Documents/Aging/Aging/RiskandAmbiguity/simpleModel.stan', line 35, column 6 to column 76)Command and output files:\nRunSet: chains=4, chain_ids=[1, 2, 3, 4], num_processes=4\n cmd (chain 1):\n\t['/home/nachshon/Documents/Aging/Aging/RiskandAmbiguity/simpleModel', 'id=1', 'random', 'seed=61453', 'data', 'file=/tmp/tmptg5uqtpq/c07ifptr.json', 'init=0.2', 'output', 'file=/tmp/tmptg5uqtpq/simpleModel-20220110151843_1.csv', 'method=sample', 'num_samples=1000', 'num_warmup=1000', 'algorithm=hmc', 'adapt', 'engaged=1', 'delta=0.9']\n retcodes=[1, 1, 1, 1]\n per-chain output files (showing chain 1 only):\n csv_file:\n\t/tmp/tmptg5uqtpq/simpleModel-20220110151843_1.csv\n console_msgs (if any):\n\t/tmp/tmptg5uqtpq/simpleModel-20220110151843_0-stdout.txt"
     ]
    }
   ],
   "source": [
    "fit_simple_model = simpleModel.sample(\n",
    "  data = standata_simple,\n",
    "  chains = 4,\n",
    "  iter_warmup = 1000,\n",
    "  iter_sampling = 1000,\n",
    "  adapt_delta = .9,\n",
    "  inits = 0.2,\n",
    ")"
   ]
  },
  {
   "cell_type": "code",
   "execution_count": 23,
   "id": "fc5136cf",
   "metadata": {},
   "outputs": [
    {
     "data": {
      "text/plain": [
       "(4000, 20111)"
      ]
     },
     "execution_count": 23,
     "metadata": {},
     "output_type": "execute_result"
    }
   ],
   "source": [
    "fit_simple_model.draws(concat_chains=True).shape"
   ]
  },
  {
   "cell_type": "code",
   "execution_count": 25,
   "id": "0dce8e59",
   "metadata": {},
   "outputs": [
    {
     "data": {
      "text/plain": [
       "<seaborn.axisgrid.FacetGrid at 0x7f06b5071be0>"
      ]
     },
     "execution_count": 25,
     "metadata": {},
     "output_type": "execute_result"
    },
    {
     "data": {
      "image/png": "[encoded data removed]",
      "text/plain": [
       "<Figure size 360x360 with 1 Axes>"
      ]
     },
     "metadata": {
      "needs_background": "light"
     },
     "output_type": "display_data"
    }
   ],
   "source": [
    "draws_rmu = fit_simple_model.stan_variable(var='rMu')\n",
    "sns.displot(draws_rmu)"
   ]
  },
  {
   "cell_type": "code",
   "execution_count": 26,
   "id": "417974fb",
   "metadata": {},
   "outputs": [],
   "source": [
    "cmdstanpy_data = az.from_cmdstanpy(\n",
    "    posterior=fit_simple_model\n",
    ")"
   ]
  },
  {
   "cell_type": "code",
   "execution_count": 52,
   "id": "d31b0278",
   "metadata": {},
   "outputs": [],
   "source": [
    "al = pd.DataFrame(az.summary(cmdstanpy_data, var_names=['riskTol']))"
   ]
  },
  {
   "cell_type": "code",
   "execution_count": 28,
   "id": "c837ca65",
   "metadata": {},
   "outputs": [
    {
     "data": {
      "text/plain": [
       "array([0.79182706, 0.82088424, 0.75849893, 0.57051027, 0.86828768,\n",
       "       0.7513984 , 0.53533411, 0.68182267, 0.86368839, 0.65431477,\n",
       "       0.88184314, 0.99350022, 0.46027977, 1.01849359, 0.57098593,\n",
       "       0.58602141, 0.53347748, 0.6689444 , 0.78331305, 0.6997691 ,\n",
       "       0.83258769, 0.91574669, 0.75906906, 0.67848309, 0.83915687,\n",
       "       0.58882442, 1.03485377, 0.57111623, 1.00746609, 0.54902805,\n",
       "       0.99681416, 0.70359639, 0.5416575 , 0.85227359, 0.61687744,\n",
       "       0.74117223, 0.74021174, 1.03395311, 0.83359288, 0.67107647,\n",
       "       0.78336806, 0.7067894 , 0.65212326, 0.85650683, 0.79333755,\n",
       "       0.94908126, 0.6311354 , 0.75926949, 0.59848534, 0.67293613])"
      ]
     },
     "execution_count": 28,
     "metadata": {},
     "output_type": "execute_result"
    }
   ],
   "source": [
    "alphas1"
   ]
  },
  {
   "cell_type": "code",
   "execution_count": 53,
   "id": "9ab984c3",
   "metadata": {},
   "outputs": [],
   "source": [
    "al['act']= alphas1"
   ]
  }
 ],
 "metadata": {
  "kernelspec": {
   "display_name": "Python 3 (ipykernel)",
   "language": "python",
   "name": "python3"
  },
  "language_info": {
   "codemirror_mode": {
    "name": "ipython",
    "version": 3
   },
   "file_extension": ".py",
   "mimetype": "text/x-python",
   "name": "python",
   "nbconvert_exporter": "python",
   "pygments_lexer": "ipython3",
   "version": "3.8.12"
  }
 },
 "nbformat": 4,
 "nbformat_minor": 5
}
