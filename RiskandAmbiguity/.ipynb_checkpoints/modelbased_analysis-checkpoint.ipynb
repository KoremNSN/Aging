{
 "cells": [
  {
   "cell_type": "code",
   "execution_count": 1,
   "id": "b7f195fa",
   "metadata": {},
   "outputs": [],
   "source": [
    "import pandas as pd\n",
    "import numpy as np\n",
    "from scipy import stats, special\n",
    "from scipy.optimize import minimize \n",
    "\n",
    "import pymc3 as pm\n",
    "import arviz as az\n",
    "\n",
    "import matplotlib.pyplot as plt\n",
    "import seaborn as sns"
   ]
  },
  {
   "cell_type": "code",
   "execution_count": 2,
   "id": "8e9b0bd3",
   "metadata": {},
   "outputs": [
    {
     "data": {
      "text/html": [
       "<div>\n",
       "<style scoped>\n",
       "    .dataframe tbody tr th:only-of-type {\n",
       "        vertical-align: middle;\n",
       "    }\n",
       "\n",
       "    .dataframe tbody tr th {\n",
       "        vertical-align: top;\n",
       "    }\n",
       "\n",
       "    .dataframe thead th {\n",
       "        text-align: right;\n",
       "    }\n",
       "</style>\n",
       "<table border=\"1\" class=\"dataframe\">\n",
       "  <thead>\n",
       "    <tr style=\"text-align: right;\">\n",
       "      <th></th>\n",
       "      <th>Unnamed: 0</th>\n",
       "      <th>choice</th>\n",
       "      <th>value</th>\n",
       "      <th>risk</th>\n",
       "      <th>ambiguity</th>\n",
       "      <th>sub</th>\n",
       "      <th>catch</th>\n",
       "      <th>subn</th>\n",
       "      <th>subject</th>\n",
       "    </tr>\n",
       "  </thead>\n",
       "  <tbody>\n",
       "    <tr>\n",
       "      <th>0</th>\n",
       "      <td>40</td>\n",
       "      <td>0</td>\n",
       "      <td>8</td>\n",
       "      <td>0.5</td>\n",
       "      <td>0.00</td>\n",
       "      <td>10</td>\n",
       "      <td>0.0</td>\n",
       "      <td>0</td>\n",
       "      <td>0</td>\n",
       "    </tr>\n",
       "    <tr>\n",
       "      <th>1</th>\n",
       "      <td>23</td>\n",
       "      <td>0</td>\n",
       "      <td>8</td>\n",
       "      <td>0.5</td>\n",
       "      <td>0.50</td>\n",
       "      <td>10</td>\n",
       "      <td>0.0</td>\n",
       "      <td>0</td>\n",
       "      <td>0</td>\n",
       "    </tr>\n",
       "    <tr>\n",
       "      <th>2</th>\n",
       "      <td>24</td>\n",
       "      <td>0</td>\n",
       "      <td>5</td>\n",
       "      <td>0.5</td>\n",
       "      <td>0.50</td>\n",
       "      <td>10</td>\n",
       "      <td>0.0</td>\n",
       "      <td>0</td>\n",
       "      <td>0</td>\n",
       "    </tr>\n",
       "    <tr>\n",
       "      <th>3</th>\n",
       "      <td>25</td>\n",
       "      <td>0</td>\n",
       "      <td>8</td>\n",
       "      <td>0.5</td>\n",
       "      <td>0.00</td>\n",
       "      <td>10</td>\n",
       "      <td>0.0</td>\n",
       "      <td>0</td>\n",
       "      <td>0</td>\n",
       "    </tr>\n",
       "    <tr>\n",
       "      <th>4</th>\n",
       "      <td>26</td>\n",
       "      <td>1</td>\n",
       "      <td>25</td>\n",
       "      <td>0.5</td>\n",
       "      <td>0.24</td>\n",
       "      <td>10</td>\n",
       "      <td>0.0</td>\n",
       "      <td>0</td>\n",
       "      <td>0</td>\n",
       "    </tr>\n",
       "  </tbody>\n",
       "</table>\n",
       "</div>"
      ],
      "text/plain": [
       "   Unnamed: 0  choice  value  risk  ambiguity  sub  catch  subn subject\n",
       "0          40       0      8   0.5       0.00   10    0.0     0       0\n",
       "1          23       0      8   0.5       0.50   10    0.0     0       0\n",
       "2          24       0      5   0.5       0.50   10    0.0     0       0\n",
       "3          25       0      8   0.5       0.00   10    0.0     0       0\n",
       "4          26       1     25   0.5       0.24   10    0.0     0       0"
      ]
     },
     "execution_count": 2,
     "metadata": {},
     "output_type": "execute_result"
    }
   ],
   "source": [
    "# Load Data\n",
    "db = pd.read_csv('data/mon.csv')\n",
    "\n",
    "# add serial number for participants\n",
    "db['subn'] = db['sub'].rank(method='dense').astype(int)-1\n",
    "db['subject'] = db['subn'].astype('category')\n",
    "\n",
    "# remove missing trials\n",
    "db = db.dropna()\n",
    "db['choice'] = db['choice'].astype('int')\n",
    "\n",
    "# sort dataframe based on subject, makes it easier to compare the output of the models.\n",
    "db = db.sort_values('subn').reset_index(drop=True)\n",
    "db.head()"
   ]
  },
  {
   "cell_type": "code",
   "execution_count": 19,
   "id": "94f2a90c",
   "metadata": {},
   "outputs": [],
   "source": [
    "def MLE_riskamb(parameters):\n",
    "    # extract parameters\n",
    "    α, β, γ = parameters\n",
    "    \n",
    "    \n",
    "    svLotto = (db_sub['values'].values ** α) * (1-(db_sub['risk'].values+(β * (db_sub['ambiguity'].values/2))))\n",
    "    svRef = 5 ** α\n",
    "    p = 1/(1+np.exp((svRef - svLotto) * γ))\n",
    "    size = len(p)\n",
    "    mu = np.random.binomial(1,p,size)\n",
    "\n",
    "    \n",
    "    # Calculate the log-likelihood for normal distribution\n",
    "    LL = np.sum(stats.norm.logpdf(db_sub.choices, p))\n",
    "    # Calculate the negative log-likelihood\n",
    "    neg_LL = -1*LL\n",
    "    return neg_LL "
   ]
  },
  {
   "cell_type": "code",
   "execution_count": 20,
   "id": "9234ab42",
   "metadata": {},
   "outputs": [
    {
     "name": "stdout",
     "output_type": "stream",
     "text": [
      "[0.92928941 0.57332596 2.09511445]\n",
      "[-1.89585783e-02  1.20349116e+01  3.10369542e+01]\n",
      "[0.99613489 0.58381944 0.31999588]\n",
      "[0.25797734 2.51992072 4.88813865]\n",
      "[0.70358361 0.74614638 1.04801155]\n",
      "[0.32829249 2.50863521 4.66926718]\n",
      "[0.48609479 0.03556388 3.721745  ]\n",
      "[ 0.82676483  0.05581301 34.12763101]\n",
      "[ 0.77857221 -0.69635616  0.69374025]\n",
      "[0.65401099 0.34706853 3.14737792]\n"
     ]
    },
    {
     "name": "stderr",
     "output_type": "stream",
     "text": [
      "/tmp/ipykernel_250944/2961918774.py:8: RuntimeWarning: overflow encountered in exp\n",
      "  p = 1/(1+np.exp((svRef - svLotto) * γ))\n"
     ]
    },
    {
     "name": "stdout",
     "output_type": "stream",
     "text": [
      "[ 4.14321677e+00 -1.60228417e+01  4.57665684e-07]\n",
      "[1.00736165 0.71678499 8.5865494 ]\n",
      "[ 0.8475308   0.11952867 12.55361995]\n",
      "[0.78554987 0.9975633  2.85008355]\n",
      "[0.48702502 0.80246817 2.52652085]\n",
      "[8.96113889 1.44376662 0.01198743]\n",
      "[0.63708581 0.03890115 2.56043054]\n",
      "[1.20410492 0.43127516 6.8266859 ]\n",
      "[0.81559946 0.39270314 1.45091856]\n",
      "[ 0.8543455  -0.10110429  1.61771782]\n",
      "[0.52806603 2.89267324 1.98151877]\n",
      "[1.64487903 0.61479293 1.11534241]\n",
      "[ 1.58348814  0.6701473  10.49857217]\n",
      "[ 0.84426642  0.08202177 10.42602013]\n",
      "[ 1.03774031 -2.04326526  0.76881049]\n",
      "[-1.76465624e-02  1.17665178e+01  3.34891282e+01]\n",
      "[ 0.82410148  0.02144513 19.30410905]\n",
      "[8.25543097e-01 2.86815876e-02 2.98891381e+01]\n",
      "[ 8.26860353e-01 -1.93259879e-02  7.32429476e+01]\n",
      "[0.918993   1.14785581 0.61264729]\n",
      "[0.65283269 0.39463594 2.02394277]\n",
      "[ 0.64990999  0.56950028 21.52728775]\n",
      "[ 1.47476311 -0.36702331  8.59168415]\n",
      "[ 1.74272187 -1.47811996  0.15144421]\n",
      "[0.44596211 4.64352595 3.27814503]\n",
      "[0.69063861 0.23456011 2.87607534]\n",
      "[0.71542293 0.21920647 2.76414249]\n",
      "[1.00625161 0.2165098  1.56499273]\n",
      "[0.66667893 0.67976123 2.19364927]\n",
      "[1.02531968 1.37851809 0.48334789]\n",
      "[ 0.81136124  0.631781   17.15453665]\n",
      "[0.49970113 0.51226269 4.63892502]\n",
      "[1.961402   0.85636992 0.18215309]\n",
      "[1.12687326 1.05944919 8.43755252]\n",
      "[1.25486924 0.80622411 0.18275429]\n",
      "[0.80606475 0.14381622 1.96767615]\n",
      "[0.9560297  0.71862778 2.20560055]\n",
      "[1.20539437 0.35304685 0.47031154]\n",
      "[1.33101918 0.40487165 1.08641385]\n",
      "[0.77258044 0.27352254 0.80732312]\n"
     ]
    }
   ],
   "source": [
    "subs = db['sub'].unique()\n",
    "mLL = pd.DataFrame()\n",
    "\n",
    "for sub in subs:\n",
    "    db_sub = db[db['subn']==sub]\n",
    "    mle_model = minimize(MLE_riskamb, np.array([1,1,1]), method='L-BFGS-B')\n",
    "    print(mle_model.x)\n",
    "    \n",
    "for sub in subs:\n",
    "    db_sub = simdata[simdata['sub'] == sub]\n",
    "    mle_model = minimize(MLE_riskamb, np.array([1,1,1]), method='L-BFGS-B')\n",
    "    x = mle_model.x\n",
    "    temp = {'sub': sub, 'alpha' : x[0], 'beta': x[1], 'gamma': x[2]}\n",
    "    mLL = mLL.append(temp,ignore_index=True)"
   ]
  },
  {
   "cell_type": "code",
   "execution_count": null,
   "id": "5661f1c0",
   "metadata": {},
   "outputs": [],
   "source": [
    "n_sub = max(db.subn)+1\n",
    "n_trails = 84\n",
    "total_trials = \n",
    "\n",
    "# constant in this experiment\n",
    "refValue       = 5\n",
    "refProbability = 1\n",
    "refAmbiguity   = 0\n",
    "\n",
    "refProbabilities = np.tile(refProbability, n_trails)\n",
    "refValues        = np.tile(refValue,       n_trails)\n",
    "refAmbiguities   = np.tile(refAmbiguity,   n_trails)"
   ]
  },
  {
   "cell_type": "code",
   "execution_count": null,
   "id": "ddeb789e",
   "metadata": {},
   "outputs": [],
   "source": [
    "values    = np.array(db.value)\n",
    "risk      = np.array(db.risk)\n",
    "ambiguity = np.array(db.ambiguity)\n",
    "choices   = np.array(db.choice)\n",
    "\n",
    "n_trials = np.arange(len(choices))\n",
    "\n",
    "sub_idx = np.arange(numsubjs)\n",
    "sub_idx = np.repeat(sub_idx, 84)\n",
    "sub_idx = db.subn.tolist()\n"
   ]
  },
  {
   "cell_type": "code",
   "execution_count": null,
   "id": "d6012833",
   "metadata": {},
   "outputs": [],
   "source": [
    "with pm.Model() as RiskAmbOld:\n",
    "    # hyper\n",
    "    rMu = pm.Normal('rMu', 0,1)\n",
    "    rSig = pm.Exponential('rSig', 1)\n",
    "    aMu = pm.Normal('aMu', 0,1)\n",
    "    aSig = pm.Exponential('aSig', 1)\n",
    "    \n",
    "    nMu = pm.Normal('nMu', 0,1)\n",
    "    nSig = pm.Exponential('nSig', 1)\n",
    "    \n",
    "    \n",
    "    α = pm.Lognormal('α', rMu, rSig, shape = numsubjs)\n",
    "    β = pm.Normal('β', aMu, aSig, shape = numsubjs)\n",
    "    γ = pm.Lognormal('γ',nMu , nSig, shape = numsubjs)\n",
    "    # Priors for unknown model parameters\n",
    "    \n",
    "      \n",
    "    # Expected value of outcome\n",
    "    svLotto = (values ** α[sub_idx]) * (risk-(β[sub_idx] * (ambiguity/2)))\n",
    "    svRef = 5 ** α[sub_idx]\n",
    "    p = (svLotto - svRef)/γ[sub_idx]\n",
    "    mu = pm.invlogit(p)\n",
    "       \n",
    "    # Likelihood (sampling distribution) of observations\n",
    "    #Y_obs = pm.Normal(\"Y_obs\", mu=mu, sigma=sigma, observed=db.choice)\n",
    "    choice = pm.Binomial('choice',1, mu, observed=choices)\n",
    "    trace2 = pm.sample(2000, return_inferencedata=True, target_accept=0.95)"
   ]
  },
  {
   "cell_type": "code",
   "execution_count": null,
   "id": "f64eb8a9",
   "metadata": {},
   "outputs": [],
   "source": [
    "with pm.Model() as RiskAmb:\n",
    "    # hyper\n",
    "    a = pm.Poisson('a', 1)\n",
    "    b = pm.Poisson('b', 1)\n",
    "    \n",
    "    aMu = pm.Normal('aMu', 0,1)\n",
    "    aSig = pm.Exponential('aSig', 1)\n",
    "    \n",
    "    nMu = pm.Normal('nMu', 0,1)\n",
    "    nSig = pm.Exponential('nSig', 1)\n",
    "    \n",
    "    \n",
    "    α = pm.Beta('α', a, b, shape = numsubjs)\n",
    "    β = pm.Normal('β', aMu, aSig, shape = numsubjs)\n",
    "    γ = pm.Lognormal('γ',nMu , nSig, shape = numsubjs)\n",
    "    # Priors for unknown model parameters\n",
    "    \n",
    "    riskTol = α * 2\n",
    "    \n",
    "\n",
    "    # Expected value of outcome\n",
    "    svLotto = (values ** riskTol[sub_idx]) * (risk-(β[sub_idx] * (ambiguity/2)))\n",
    "    svRef = 5 ** riskTol[sub_idx]\n",
    "    p = (svLotto - svRef)/γ[sub_idx]\n",
    "    mu = pm.invlogit(p)\n",
    "       \n",
    "    # Likelihood (sampling distribution) of observations\n",
    "    #Y_obs = pm.Normal(\"Y_obs\", mu=mu, sigma=sigma, observed=db.choice)\n",
    "    choice = pm.Binomial('choice',1, mu, observed=choices)\n",
    "    trace3 = pm.sample(2000, return_inferencedata=True, nuts={'target_accept':0.95})"
   ]
  },
  {
   "cell_type": "code",
   "execution_count": null,
   "id": "e5cbce4e",
   "metadata": {},
   "outputs": [],
   "source": [
    "az.plot_trace(trace3, var_names=['α','β','γ'])"
   ]
  },
  {
   "cell_type": "code",
   "execution_count": null,
   "id": "c8b33947",
   "metadata": {},
   "outputs": [],
   "source": [
    "model_compare = az.compare(\n",
    "    {\n",
    "        \"old\": trace2,\n",
    "        \"new\": trace3,\n",
    "    }\n",
    ")\n",
    "az.plot_compare(model_compare, figsize=(12, 4))\n",
    "\n",
    "plt.show()\n"
   ]
  },
  {
   "cell_type": "code",
   "execution_count": null,
   "id": "12e07e10",
   "metadata": {},
   "outputs": [],
   "source": [
    "with RiskAmb:\n",
    "    ppc = pm.sample_posterior_predictive(\n",
    "        trace3\n",
    "    )"
   ]
  },
  {
   "cell_type": "code",
   "execution_count": null,
   "id": "d8a4428d",
   "metadata": {},
   "outputs": [],
   "source": [
    "ppc['choice'].shape"
   ]
  },
  {
   "cell_type": "code",
   "execution_count": null,
   "id": "be01670f",
   "metadata": {},
   "outputs": [],
   "source": [
    "az.plot_ppc(az.from_pymc3(posterior_predictive=ppc, model=RiskAmb))"
   ]
  },
  {
   "cell_type": "code",
   "execution_count": null,
   "id": "75fc7b08",
   "metadata": {},
   "outputs": [],
   "source": [
    "pc = az.from_pymc3(posterior_predictive=ppc, model=RiskAmb)\n",
    "pp = np.mean(pc.posterior_predictive.choice.values, axis=1)"
   ]
  },
  {
   "cell_type": "code",
   "execution_count": null,
   "id": "43441ec9",
   "metadata": {},
   "outputs": [],
   "source": [
    "np.sum((choices-pp)**2)"
   ]
  },
  {
   "cell_type": "code",
   "execution_count": null,
   "id": "17748030",
   "metadata": {},
   "outputs": [],
   "source": [
    "from sklearn.metrics import confusion_matrix\n",
    "from sklearn.metrics import accuracy_score"
   ]
  },
  {
   "cell_type": "code",
   "execution_count": null,
   "id": "e6ac7b99",
   "metadata": {},
   "outputs": [],
   "source": [
    "pp"
   ]
  },
  {
   "cell_type": "code",
   "execution_count": null,
   "id": "99dcaef1",
   "metadata": {},
   "outputs": [],
   "source": [
    "x = pp[0].T.shape"
   ]
  },
  {
   "cell_type": "code",
   "execution_count": null,
   "id": "573e3463",
   "metadata": {},
   "outputs": [],
   "source": [
    "len(choices)"
   ]
  },
  {
   "cell_type": "code",
   "execution_count": null,
   "id": "e7464ba7",
   "metadata": {},
   "outputs": [],
   "source": [
    "cf_matrix = confusion_matrix(choices, pp[0].T)\n",
    "print(cf_matrix)"
   ]
  },
  {
   "cell_type": "code",
   "execution_count": null,
   "id": "9005e2cd",
   "metadata": {},
   "outputs": [],
   "source": [
    "az.summary(trace2, var_names=['α'])[:5]"
   ]
  },
  {
   "cell_type": "code",
   "execution_count": null,
   "id": "577abebf",
   "metadata": {},
   "outputs": [],
   "source": [
    "az.summary(trace2, var_names=['β'])[:5]"
   ]
  },
  {
   "cell_type": "code",
   "execution_count": null,
   "id": "f67f8b88",
   "metadata": {},
   "outputs": [],
   "source": [
    "df = db[['sub','subn']].sort_values('subn').drop_duplicates().reset_index(drop=True)\n",
    "\n",
    "age = pd.read_excel('/media/Data/Lab_Projects/Aging/aging_session_log.xlsx', sheet_name='scans').iloc[:, [1,7,8]]\n",
    "age.columns.values[0] = \"sub\"\n",
    "age['sub'] = age['sub'].map(lambda x: int(x.lstrip('AG_')))\n",
    "\n",
    "df = df.merge(age, left_on='sub', right_on='sub')\n",
    "df.head()"
   ]
  },
  {
   "cell_type": "code",
   "execution_count": null,
   "id": "e14e6447",
   "metadata": {},
   "outputs": [],
   "source": [
    "alpha = az.summary(trace3, var_names=['α'])[['mean','sd']]\n",
    "beta = az.summary(trace3, var_names=['β'])[['mean','sd']]\n",
    "\n",
    "alpha = alpha.rename(columns={'mean': \"alpha\", 'sd': 'alpha_sd'}).reset_index(drop=True)\n",
    "beta = beta.rename(columns={'mean': \"beta\", 'sd': 'beta_sd'}).reset_index(drop=True)\n",
    "\n",
    "df = df.merge(alpha, left_index=True, right_index=True)\n",
    "df = df.merge(beta, left_index=True, right_index=True)\n",
    "\n",
    "df.head()"
   ]
  },
  {
   "cell_type": "code",
   "execution_count": null,
   "id": "772cca7b",
   "metadata": {},
   "outputs": [],
   "source": [
    "sns.regplot(x='Age', y='alpha', data=df)"
   ]
  },
  {
   "cell_type": "code",
   "execution_count": null,
   "id": "9ebacdbb",
   "metadata": {},
   "outputs": [],
   "source": [
    "sns.regplot(x='Age', y='beta', data=df)"
   ]
  },
  {
   "cell_type": "code",
   "execution_count": null,
   "id": "73f85e1c",
   "metadata": {},
   "outputs": [],
   "source": [
    "d10 = db[db['sub']==10]\n",
    "d10.head()"
   ]
  },
  {
   "cell_type": "code",
   "execution_count": null,
   "id": "d245ed07",
   "metadata": {},
   "outputs": [],
   "source": [
    "sns.regplot(x='value',y='choice', data=d10, logistic=True)"
   ]
  },
  {
   "cell_type": "code",
   "execution_count": null,
   "id": "1e29eb1b",
   "metadata": {},
   "outputs": [],
   "source": [
    "svRef = 5 ** df.alpha[0]\n",
    "svLotto = d10.value ** df.alpha[0] * (d10.risk - df.beta[0] * (d10.ambiguity/2))\n",
    "p = sp.special.expit(svLotto - svRef)\n",
    "\n",
    "d10['sim'] = np.random.binomial(1, p, len(p))\n",
    "d10.head()"
   ]
  },
  {
   "cell_type": "code",
   "execution_count": null,
   "id": "ae08475b",
   "metadata": {},
   "outputs": [],
   "source": [
    "sns.scatterplot(x='value', y='choice', data = d10, alpha=0.3)\n",
    "sns.regplot(x='value',y='sim', data=d10, logistic=True, scatter=False , color='red')\n",
    "sns.regplot(x='value',y='choice', data=d10, logistic=True, scatter=False , color='green')"
   ]
  },
  {
   "cell_type": "code",
   "execution_count": null,
   "id": "e76f660c",
   "metadata": {},
   "outputs": [],
   "source": [
    "db.groupby('choice').count()"
   ]
  }
 ],
 "metadata": {
  "kernelspec": {
   "display_name": "Python 3 (ipykernel)",
   "language": "python",
   "name": "python3"
  },
  "language_info": {
   "codemirror_mode": {
    "name": "ipython",
    "version": 3
   },
   "file_extension": ".py",
   "mimetype": "text/x-python",
   "name": "python",
   "nbconvert_exporter": "python",
   "pygments_lexer": "ipython3",
   "version": "3.8.12"
  }
 },
 "nbformat": 4,
 "nbformat_minor": 5
}
