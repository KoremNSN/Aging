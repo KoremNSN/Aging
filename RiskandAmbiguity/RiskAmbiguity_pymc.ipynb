{
 "cells": [
  {
   "cell_type": "markdown",
   "id": "2910e1b9",
   "metadata": {},
   "source": [
    "# Model based analysis of Risk and Ambiguity\n",
    "\n",
    "Using the utility function to try and asses Risk and ambiguity aversion using the formula from \n",
    "\n",
    "SV = (probability − β (Ambiguity / 2)] × Value ** α \n"
   ]
  },
  {
   "cell_type": "code",
   "execution_count": 1,
   "id": "ec7c2dd4",
   "metadata": {},
   "outputs": [],
   "source": [
    "import pandas as pd\n",
    "import numpy as np\n",
    "\n",
    "import pymc3 as pm\n",
    "import arviz as az\n",
    "\n",
    "import matplotlib.pyplot as plt"
   ]
  },
  {
   "cell_type": "markdown",
   "id": "13ff2838",
   "metadata": {},
   "source": [
    "load monatery data add subject sequential number starting from 0"
   ]
  },
  {
   "cell_type": "code",
   "execution_count": 2,
   "id": "d6f82c61",
   "metadata": {},
   "outputs": [
    {
     "data": {
      "text/html": [
       "<div>\n",
       "<style scoped>\n",
       "    .dataframe tbody tr th:only-of-type {\n",
       "        vertical-align: middle;\n",
       "    }\n",
       "\n",
       "    .dataframe tbody tr th {\n",
       "        vertical-align: top;\n",
       "    }\n",
       "\n",
       "    .dataframe thead th {\n",
       "        text-align: right;\n",
       "    }\n",
       "</style>\n",
       "<table border=\"1\" class=\"dataframe\">\n",
       "  <thead>\n",
       "    <tr style=\"text-align: right;\">\n",
       "      <th></th>\n",
       "      <th>Unnamed: 0</th>\n",
       "      <th>choice</th>\n",
       "      <th>value</th>\n",
       "      <th>risk</th>\n",
       "      <th>ambiguity</th>\n",
       "      <th>sub</th>\n",
       "      <th>catch</th>\n",
       "      <th>subn</th>\n",
       "    </tr>\n",
       "  </thead>\n",
       "  <tbody>\n",
       "    <tr>\n",
       "      <th>0</th>\n",
       "      <td>0</td>\n",
       "      <td>0.0</td>\n",
       "      <td>5</td>\n",
       "      <td>0.75</td>\n",
       "      <td>0.00</td>\n",
       "      <td>11</td>\n",
       "      <td>0.0</td>\n",
       "      <td>1</td>\n",
       "    </tr>\n",
       "    <tr>\n",
       "      <th>1</th>\n",
       "      <td>1</td>\n",
       "      <td>0.0</td>\n",
       "      <td>8</td>\n",
       "      <td>0.50</td>\n",
       "      <td>0.24</td>\n",
       "      <td>11</td>\n",
       "      <td>0.0</td>\n",
       "      <td>1</td>\n",
       "    </tr>\n",
       "    <tr>\n",
       "      <th>2</th>\n",
       "      <td>2</td>\n",
       "      <td>0.0</td>\n",
       "      <td>25</td>\n",
       "      <td>0.50</td>\n",
       "      <td>0.74</td>\n",
       "      <td>11</td>\n",
       "      <td>0.0</td>\n",
       "      <td>1</td>\n",
       "    </tr>\n",
       "    <tr>\n",
       "      <th>3</th>\n",
       "      <td>3</td>\n",
       "      <td>0.0</td>\n",
       "      <td>25</td>\n",
       "      <td>0.50</td>\n",
       "      <td>0.74</td>\n",
       "      <td>11</td>\n",
       "      <td>0.0</td>\n",
       "      <td>1</td>\n",
       "    </tr>\n",
       "    <tr>\n",
       "      <th>4</th>\n",
       "      <td>4</td>\n",
       "      <td>0.0</td>\n",
       "      <td>25</td>\n",
       "      <td>0.25</td>\n",
       "      <td>0.00</td>\n",
       "      <td>11</td>\n",
       "      <td>0.0</td>\n",
       "      <td>1</td>\n",
       "    </tr>\n",
       "  </tbody>\n",
       "</table>\n",
       "</div>"
      ],
      "text/plain": [
       "   Unnamed: 0  choice  value  risk  ambiguity  sub  catch  subn\n",
       "0           0     0.0      5  0.75       0.00   11    0.0     1\n",
       "1           1     0.0      8  0.50       0.24   11    0.0     1\n",
       "2           2     0.0     25  0.50       0.74   11    0.0     1\n",
       "3           3     0.0     25  0.50       0.74   11    0.0     1\n",
       "4           4     0.0     25  0.25       0.00   11    0.0     1"
      ]
     },
     "execution_count": 2,
     "metadata": {},
     "output_type": "execute_result"
    }
   ],
   "source": [
    "db = pd.read_csv('Aging/RiskandAmbiguity/mon.csv')\n",
    "db['subn'] = db['sub'].rank(method='dense').astype(int)-1\n",
    "db.head()"
   ]
  },
  {
   "cell_type": "markdown",
   "id": "f9fa4767",
   "metadata": {},
   "source": [
    "transfer values and subjects to arrays"
   ]
  },
  {
   "cell_type": "code",
   "execution_count": 3,
   "id": "cdc3e95c",
   "metadata": {},
   "outputs": [
    {
     "data": {
      "text/plain": [
       "51"
      ]
     },
     "execution_count": 3,
     "metadata": {},
     "output_type": "execute_result"
    }
   ],
   "source": [
    "sub_idx = np.asarray(db['subn'])\n",
    "value = np.asarray(db['value'])\n",
    "n_subs = max(sub_idx)+1\n",
    "n_subs"
   ]
  },
  {
   "cell_type": "markdown",
   "id": "748fe104",
   "metadata": {},
   "source": [
    "### model 1: risk aversion without ambiguity"
   ]
  },
  {
   "cell_type": "code",
   "execution_count": 4,
   "id": "09fe17e4",
   "metadata": {},
   "outputs": [
    {
     "name": "stderr",
     "output_type": "stream",
     "text": [
      "/home/nachshon/anaconda3/envs/wmdm/lib/python3.8/site-packages/pymc3/model.py:1755: ImputationWarning: Data in Y_obs contains missing values and will be automatically imputed from the sampling distribution.\n",
      "  warnings.warn(impute_message, ImputationWarning)\n",
      "Auto-assigning NUTS sampler...\n",
      "Initializing NUTS using jitter+adapt_diag...\n",
      "Multiprocess sampling (4 chains in 4 jobs)\n",
      "NUTS: [Y_obs_missing, sigma, γ, α, intercept]\n"
     ]
    },
    {
     "data": {
      "text/html": [
       "\n",
       "    <div>\n",
       "        <style>\n",
       "            /* Turns off some styling */\n",
       "            progress {\n",
       "                /* gets rid of default border in Firefox and Opera. */\n",
       "                border: none;\n",
       "                /* Needs to be in here for Safari polyfill so background images work as expected. */\n",
       "                background-size: auto;\n",
       "            }\n",
       "            .progress-bar-interrupted, .progress-bar-interrupted::-webkit-progress-bar {\n",
       "                background: #F44336;\n",
       "            }\n",
       "        </style>\n",
       "      <progress value='12000' class='' max='12000' style='width:300px; height:20px; vertical-align: middle;'></progress>\n",
       "      100.00% [12000/12000 03:07<00:00 Sampling 4 chains, 2,040 divergences]\n",
       "    </div>\n",
       "    "
      ],
      "text/plain": [
       "<IPython.core.display.HTML object>"
      ]
     },
     "metadata": {},
     "output_type": "display_data"
    },
    {
     "name": "stderr",
     "output_type": "stream",
     "text": [
      "Sampling 4 chains for 1_000 tune and 2_000 draw iterations (4_000 + 8_000 draws total) took 187 seconds.\n",
      "There were 500 divergences after tuning. Increase `target_accept` or reparameterize.\n",
      "The acceptance probability does not match the target. It is 0.4016365778917362, but should be close to 0.8. Try to increase the number of tuning steps.\n",
      "There were 389 divergences after tuning. Increase `target_accept` or reparameterize.\n",
      "The acceptance probability does not match the target. It is 0.08163485153955428, but should be close to 0.8. Try to increase the number of tuning steps.\n",
      "There were 745 divergences after tuning. Increase `target_accept` or reparameterize.\n",
      "The acceptance probability does not match the target. It is 0.40759268815986754, but should be close to 0.8. Try to increase the number of tuning steps.\n",
      "There were 406 divergences after tuning. Increase `target_accept` or reparameterize.\n",
      "The rhat statistic is larger than 1.4 for some parameters. The sampler did not converge.\n",
      "The estimated number of effective samples is smaller than 200 for some parameters.\n"
     ]
    }
   ],
   "source": [
    "with pm.Model() as Risk:\n",
    "\n",
    "    # Priors for unknown model parameters\n",
    "    intercept = pm.Normal(\"intercept\", mu=0, sigma=10)\n",
    "    \n",
    "    α = pm.Normal('α', 0, 1,  shape = n_subs)\n",
    "    γ = pm.Normal('γ', 0, 10, shape = n_subs)\n",
    "    \n",
    "    sigma = pm.HalfNormal(\"sigma\", sigma=1)\n",
    "\n",
    "    # Expected value of outcome\n",
    "    svLotto = value ** α[sub_idx] * db.risk\n",
    "    svRef = 5 ** α[sub_idx]\n",
    "    mu =  1/( 1 + np.exp(γ[sub_idx] * (svLotto - svRef)))\n",
    "    \n",
    "    #y_hat = 1/(1+np.exp(γ * (safe-bet))) + eps\n",
    "    \n",
    "    # Likelihood (sampling distribution) of observations\n",
    "    Y_obs = pm.Normal(\"Y_obs\", mu=mu, sigma=sigma, observed=db.choice)\n",
    "\n",
    "    trace = pm.sample(2000, return_inferencedata=False)"
   ]
  },
  {
   "cell_type": "markdown",
   "id": "f74c2a8a",
   "metadata": {},
   "source": [
    "### model 2: risk and ambiguity"
   ]
  },
  {
   "cell_type": "code",
   "execution_count": 5,
   "id": "30b33177",
   "metadata": {},
   "outputs": [
    {
     "name": "stderr",
     "output_type": "stream",
     "text": [
      "/home/nachshon/anaconda3/envs/wmdm/lib/python3.8/site-packages/pymc3/model.py:1755: ImputationWarning: Data in Y_obs contains missing values and will be automatically imputed from the sampling distribution.\n",
      "  warnings.warn(impute_message, ImputationWarning)\n",
      "Auto-assigning NUTS sampler...\n",
      "Initializing NUTS using jitter+adapt_diag...\n",
      "Multiprocess sampling (4 chains in 4 jobs)\n",
      "NUTS: [Y_obs_missing, sigma, γ, β, α]\n"
     ]
    },
    {
     "data": {
      "text/html": [
       "\n",
       "    <div>\n",
       "        <style>\n",
       "            /* Turns off some styling */\n",
       "            progress {\n",
       "                /* gets rid of default border in Firefox and Opera. */\n",
       "                border: none;\n",
       "                /* Needs to be in here for Safari polyfill so background images work as expected. */\n",
       "                background-size: auto;\n",
       "            }\n",
       "            .progress-bar-interrupted, .progress-bar-interrupted::-webkit-progress-bar {\n",
       "                background: #F44336;\n",
       "            }\n",
       "        </style>\n",
       "      <progress value='12000' class='' max='12000' style='width:300px; height:20px; vertical-align: middle;'></progress>\n",
       "      100.00% [12000/12000 06:33<00:00 Sampling 4 chains, 4,374 divergences]\n",
       "    </div>\n",
       "    "
      ],
      "text/plain": [
       "<IPython.core.display.HTML object>"
      ]
     },
     "metadata": {},
     "output_type": "display_data"
    },
    {
     "name": "stderr",
     "output_type": "stream",
     "text": [
      "Sampling 4 chains for 1_000 tune and 2_000 draw iterations (4_000 + 8_000 draws total) took 394 seconds.\n",
      "There were 1102 divergences after tuning. Increase `target_accept` or reparameterize.\n",
      "There were 907 divergences after tuning. Increase `target_accept` or reparameterize.\n",
      "There were 839 divergences after tuning. Increase `target_accept` or reparameterize.\n",
      "There were 1526 divergences after tuning. Increase `target_accept` or reparameterize.\n",
      "The rhat statistic is larger than 1.4 for some parameters. The sampler did not converge.\n",
      "The estimated number of effective samples is smaller than 200 for some parameters.\n"
     ]
    }
   ],
   "source": [
    "with pm.Model() as RiskAmb:\n",
    "\n",
    "    # Priors for unknown model parameters\n",
    "    α = pm.Normal('α', 1, 1, shape = n_subs)\n",
    "    β = pm.Normal('β', 0, 1, shape = n_subs)\n",
    "    γ = pm.Normal('γ', 0, 10, shape = n_subs)\n",
    "    \n",
    "    sigma = pm.HalfNormal(\"sigma\", sigma=1)\n",
    "\n",
    "    # Expected value of outcome\n",
    "    svLotto = value ** α[sub_idx] * -(β[sub_idx] * (db.ambiguity/2) - db.risk)\n",
    "    svRef = 5 ** α[sub_idx]\n",
    "    mu =  1/( 1 + np.exp(γ[sub_idx] * (svLotto - svRef)))\n",
    "       \n",
    "    # Likelihood (sampling distribution) of observations\n",
    "    Y_obs = pm.Normal(\"Y_obs\", mu=mu, sigma=sigma, observed=db.choice)\n",
    "\n",
    "    trace = pm.sample(2000, return_inferencedata=False)"
   ]
  },
  {
   "cell_type": "code",
   "execution_count": null,
   "id": "4fe11c39",
   "metadata": {},
   "outputs": [],
   "source": []
  }
 ],
 "metadata": {
  "kernelspec": {
   "display_name": "Python 3 (ipykernel)",
   "language": "python",
   "name": "python3"
  },
  "language_info": {
   "codemirror_mode": {
    "name": "ipython",
    "version": 3
   },
   "file_extension": ".py",
   "mimetype": "text/x-python",
   "name": "python",
   "nbconvert_exporter": "python",
   "pygments_lexer": "ipython3",
   "version": "3.8.10"
  }
 },
 "nbformat": 4,
 "nbformat_minor": 5
}
