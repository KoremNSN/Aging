{
 "cells": [
  {
   "cell_type": "markdown",
   "id": "c9283390",
   "metadata": {},
   "source": [
    "# Data simulation and model comparison\n",
    "\n",
    "In this notebook I will simulate data based on the risk and ambiguity task in the aging experiment.\n",
    "\n",
    "In this version of the task there are 84 trials.\n",
    "\n",
    "Values: 5, 8, 12, 25\n",
    "\n",
    "Risk: 0.25, 0.5, 0.75\n",
    "\n",
    "Ambiguity: 0, 0.24, 0.5, 0.74\n",
    "\n",
    "\n",
    "## Libraries that will be used in the experiment"
   ]
  },
  {
   "cell_type": "code",
   "execution_count": 1,
   "id": "843fb6ef",
   "metadata": {},
   "outputs": [],
   "source": [
    "import pandas as pd\n",
    "import numpy as np\n",
    "import scipy as sp\n",
    "\n",
    "from scipy.special import expit\n",
    "from scipy import stats, special\n",
    "from scipy.optimize import minimize \n",
    "\n",
    "import pymc3 as pm\n",
    "import arviz as az\n",
    "import cmdstanpy\n",
    "\n",
    "import matplotlib.pyplot as plt\n",
    "import seaborn as sns"
   ]
  },
  {
   "cell_type": "markdown",
   "id": "b0ab1ffd",
   "metadata": {},
   "source": [
    "## Load data and simulate participants choices\n",
    "\n",
    "This file includes all the trials w/o choices"
   ]
  },
  {
   "cell_type": "code",
   "execution_count": 3,
   "id": "6620ca57",
   "metadata": {},
   "outputs": [],
   "source": [
    "db = pd.read_csv('data/sim.csv')"
   ]
  },
  {
   "cell_type": "markdown",
   "id": "bf3763a9",
   "metadata": {},
   "source": [
    "Here we declare how many participants will be simulated.\n",
    "\n",
    "risk aversion (α) is taken from a beta distribution with a mean of 0.33, and then multiply by 2 for a final mean of 0.66 (medium risk aversion).\n",
    "\n",
    "Ambiguity aversion (β) is taken from a truncated normal distribution between -1.5 and 1.5 with a 0.3 average (slight ambiguity aversion).\n"
   ]
  },
  {
   "cell_type": "code",
   "execution_count": 14,
   "id": "be01c21e",
   "metadata": {},
   "outputs": [],
   "source": [
    "n_subs = 20\n",
    "\n",
    "α_true = np.random.beta(2,   4, n_subs)\n",
    "α_true = α_true*2\n",
    "β_true = stats.truncnorm.rvs(-1.5, 1.5, 0.3, size = n_subs)\n",
    "\n",
    "values    = np.tile(np.array(db.value),     n_subs)\n",
    "risk      = np.tile(np.array(db.risk),      n_subs)\n",
    "ambiguity = np.tile(np.array(db.ambiguity), n_subs)"
   ]
  },
  {
   "cell_type": "code",
   "execution_count": 15,
   "id": "b69a583b",
   "metadata": {},
   "outputs": [],
   "source": [
    "refValue       = 5 # constant\n",
    "refProbability = 1 # constant\n",
    "refAmbiguity   = 0 # constant\n",
    "\n",
    "refProbabilities = np.tile(refProbability, len(values))\n",
    "refValues        = np.tile(refValue,       len(values))\n",
    "refAmbiguities   = np.tile(refAmbiguity,   len(values))"
   ]
  },
  {
   "cell_type": "code",
   "execution_count": 16,
   "id": "aab96fe6",
   "metadata": {},
   "outputs": [],
   "source": [
    "riskTol = np.repeat(α_true, len(risk) / n_subs)\n",
    "ambTol  = np.repeat(β_true, len(ambiguity) / n_subs)"
   ]
  },
  {
   "cell_type": "markdown",
   "id": "caaa5cda",
   "metadata": {},
   "source": [
    "Simulate choice base on the utility function "
   ]
  },
  {
   "cell_type": "code",
   "execution_count": 17,
   "id": "4d125409",
   "metadata": {},
   "outputs": [],
   "source": [
    "uRef = refValues ** riskTol\n",
    "uLotto = (values ** riskTol) * (risk - (ambTol * ambiguity / 2))\n",
    "p = sp.special.expit(uLotto - uRef)\n",
    "\n",
    "choices = np.random.binomial(1, p, len(p))"
   ]
  },
  {
   "cell_type": "code",
   "execution_count": 18,
   "id": "9251f5ae",
   "metadata": {},
   "outputs": [],
   "source": [
    "sub_idx = np.arange(n_subs)\n",
    "sub_idx = np.repeat(sub_idx, 84)\n",
    "ID = sub_idx+1\n",
    "n_trials = np.arange(len(choices))"
   ]
  },
  {
   "cell_type": "markdown",
   "id": "84759c96",
   "metadata": {},
   "source": [
    "Create a simulation dataframe "
   ]
  },
  {
   "cell_type": "code",
   "execution_count": 19,
   "id": "4efa8183",
   "metadata": {},
   "outputs": [
    {
     "data": {
      "text/html": [
       "<div>\n",
       "<style scoped>\n",
       "    .dataframe tbody tr th:only-of-type {\n",
       "        vertical-align: middle;\n",
       "    }\n",
       "\n",
       "    .dataframe tbody tr th {\n",
       "        vertical-align: top;\n",
       "    }\n",
       "\n",
       "    .dataframe thead th {\n",
       "        text-align: right;\n",
       "    }\n",
       "</style>\n",
       "<table border=\"1\" class=\"dataframe\">\n",
       "  <thead>\n",
       "    <tr style=\"text-align: right;\">\n",
       "      <th></th>\n",
       "      <th>sub</th>\n",
       "      <th>choices</th>\n",
       "      <th>values</th>\n",
       "      <th>risk</th>\n",
       "      <th>ambiguity</th>\n",
       "      <th>riskTol</th>\n",
       "      <th>ambTol</th>\n",
       "    </tr>\n",
       "  </thead>\n",
       "  <tbody>\n",
       "    <tr>\n",
       "      <th>0</th>\n",
       "      <td>1</td>\n",
       "      <td>0</td>\n",
       "      <td>5</td>\n",
       "      <td>0.25</td>\n",
       "      <td>0.00</td>\n",
       "      <td>1.060578</td>\n",
       "      <td>-0.196382</td>\n",
       "    </tr>\n",
       "    <tr>\n",
       "      <th>1</th>\n",
       "      <td>1</td>\n",
       "      <td>0</td>\n",
       "      <td>5</td>\n",
       "      <td>0.50</td>\n",
       "      <td>0.50</td>\n",
       "      <td>1.060578</td>\n",
       "      <td>-0.196382</td>\n",
       "    </tr>\n",
       "    <tr>\n",
       "      <th>2</th>\n",
       "      <td>1</td>\n",
       "      <td>1</td>\n",
       "      <td>12</td>\n",
       "      <td>0.50</td>\n",
       "      <td>0.74</td>\n",
       "      <td>1.060578</td>\n",
       "      <td>-0.196382</td>\n",
       "    </tr>\n",
       "    <tr>\n",
       "      <th>3</th>\n",
       "      <td>1</td>\n",
       "      <td>1</td>\n",
       "      <td>25</td>\n",
       "      <td>0.50</td>\n",
       "      <td>0.74</td>\n",
       "      <td>1.060578</td>\n",
       "      <td>-0.196382</td>\n",
       "    </tr>\n",
       "    <tr>\n",
       "      <th>4</th>\n",
       "      <td>1</td>\n",
       "      <td>0</td>\n",
       "      <td>8</td>\n",
       "      <td>0.50</td>\n",
       "      <td>0.50</td>\n",
       "      <td>1.060578</td>\n",
       "      <td>-0.196382</td>\n",
       "    </tr>\n",
       "  </tbody>\n",
       "</table>\n",
       "</div>"
      ],
      "text/plain": [
       "   sub  choices  values  risk  ambiguity   riskTol    ambTol\n",
       "0    1        0       5  0.25       0.00  1.060578 -0.196382\n",
       "1    1        0       5  0.50       0.50  1.060578 -0.196382\n",
       "2    1        1      12  0.50       0.74  1.060578 -0.196382\n",
       "3    1        1      25  0.50       0.74  1.060578 -0.196382\n",
       "4    1        0       8  0.50       0.50  1.060578 -0.196382"
      ]
     },
     "execution_count": 19,
     "metadata": {},
     "output_type": "execute_result"
    }
   ],
   "source": [
    "simdata = pd.DataFrame({'sub': ID, 'choices': choices, 'values': values, 'risk': risk, 'ambiguity': ambiguity, 'riskTol': riskTol, 'ambTol': ambTol})\n",
    "simdata.to_csv('results/simdata.csv')\n",
    "simdata.head()"
   ]
  },
  {
   "cell_type": "markdown",
   "id": "c8b3ef67",
   "metadata": {},
   "source": [
    "## Maximum Likelihood\n",
    "\n",
    "The first approach I will test is Maximum likelihood. "
   ]
  },
  {
   "cell_type": "code",
   "execution_count": 21,
   "id": "ff88365a",
   "metadata": {},
   "outputs": [],
   "source": [
    "def MLE_riskamb(parameters):\n",
    "    # extract parameters\n",
    "    α, β, γ = parameters\n",
    "    \n",
    "    \n",
    "    svLotto = (db_sub['values'].values ** α) * (db_sub['risk'].values - (β * (db_sub['ambiguity'].values/2)))\n",
    "    svRef = 5 ** α\n",
    "    #p = 1/(1+np.exp((svRef - svLotto) * γ))\n",
    "    p = sp.special.expit((svLotto - svRef)* γ)\n",
    "\n",
    "    # Calculate the log-likelihood for normal distribution\n",
    "    LL = np.sum(stats.norm.logpdf(db_sub.choices, p))\n",
    "    \n",
    "    # Calculate the negative log-likelihood\n",
    "    neg_LL = -1*LL\n",
    "    return neg_LL "
   ]
  },
  {
   "cell_type": "code",
   "execution_count": 22,
   "id": "11e3ee99",
   "metadata": {},
   "outputs": [],
   "source": [
    "subs = simdata['sub'].unique()\n",
    "mLL = pd.DataFrame()\n",
    "for sub in subs:\n",
    "    db_sub = simdata[simdata['sub'] == sub]\n",
    "    mle_model = minimize(MLE_riskamb, np.array([1,1,1]), method='L-BFGS-B', bounds=[(0,2),(-1.5,1.5),(-np.inf,np.inf)])\n",
    "    x = mle_model.x\n",
    "    temp = {'sub': sub, 'alpha' : x[0], 'beta': x[1], 'gamma': x[2]}\n",
    "    mLL = mLL.append(temp,ignore_index=True)"
   ]
  },
  {
   "cell_type": "code",
   "execution_count": 23,
   "id": "dc3b0f05",
   "metadata": {},
   "outputs": [
    {
     "data": {
      "text/html": [
       "<div>\n",
       "<style scoped>\n",
       "    .dataframe tbody tr th:only-of-type {\n",
       "        vertical-align: middle;\n",
       "    }\n",
       "\n",
       "    .dataframe tbody tr th {\n",
       "        vertical-align: top;\n",
       "    }\n",
       "\n",
       "    .dataframe thead th {\n",
       "        text-align: right;\n",
       "    }\n",
       "</style>\n",
       "<table border=\"1\" class=\"dataframe\">\n",
       "  <thead>\n",
       "    <tr style=\"text-align: right;\">\n",
       "      <th></th>\n",
       "      <th>alpha</th>\n",
       "      <th>beta</th>\n",
       "      <th>gamma</th>\n",
       "      <th>sub</th>\n",
       "      <th>α_true</th>\n",
       "      <th>β_true</th>\n",
       "      <th>∆α</th>\n",
       "      <th>∆β</th>\n",
       "    </tr>\n",
       "  </thead>\n",
       "  <tbody>\n",
       "    <tr>\n",
       "      <th>0</th>\n",
       "      <td>1.027755</td>\n",
       "      <td>-0.147620</td>\n",
       "      <td>1.202876</td>\n",
       "      <td>1.0</td>\n",
       "      <td>1.060578</td>\n",
       "      <td>-0.196382</td>\n",
       "      <td>-0.032824</td>\n",
       "      <td>0.048762</td>\n",
       "    </tr>\n",
       "    <tr>\n",
       "      <th>1</th>\n",
       "      <td>0.543841</td>\n",
       "      <td>0.277514</td>\n",
       "      <td>0.752108</td>\n",
       "      <td>2.0</td>\n",
       "      <td>0.482898</td>\n",
       "      <td>0.166313</td>\n",
       "      <td>0.060943</td>\n",
       "      <td>0.111201</td>\n",
       "    </tr>\n",
       "    <tr>\n",
       "      <th>2</th>\n",
       "      <td>0.861355</td>\n",
       "      <td>1.461015</td>\n",
       "      <td>25.407092</td>\n",
       "      <td>3.0</td>\n",
       "      <td>0.813778</td>\n",
       "      <td>1.177360</td>\n",
       "      <td>0.047577</td>\n",
       "      <td>0.283656</td>\n",
       "    </tr>\n",
       "    <tr>\n",
       "      <th>3</th>\n",
       "      <td>1.474780</td>\n",
       "      <td>0.914778</td>\n",
       "      <td>7.693282</td>\n",
       "      <td>4.0</td>\n",
       "      <td>1.385437</td>\n",
       "      <td>0.910229</td>\n",
       "      <td>0.089343</td>\n",
       "      <td>0.004549</td>\n",
       "    </tr>\n",
       "    <tr>\n",
       "      <th>4</th>\n",
       "      <td>0.000000</td>\n",
       "      <td>-0.867271</td>\n",
       "      <td>1.440395</td>\n",
       "      <td>5.0</td>\n",
       "      <td>0.070385</td>\n",
       "      <td>-0.379166</td>\n",
       "      <td>-0.070385</td>\n",
       "      <td>-0.488105</td>\n",
       "    </tr>\n",
       "    <tr>\n",
       "      <th>5</th>\n",
       "      <td>0.966261</td>\n",
       "      <td>0.636993</td>\n",
       "      <td>0.984578</td>\n",
       "      <td>6.0</td>\n",
       "      <td>0.816412</td>\n",
       "      <td>0.648739</td>\n",
       "      <td>0.149849</td>\n",
       "      <td>-0.011746</td>\n",
       "    </tr>\n",
       "    <tr>\n",
       "      <th>6</th>\n",
       "      <td>0.000000</td>\n",
       "      <td>-1.438835</td>\n",
       "      <td>1.159420</td>\n",
       "      <td>7.0</td>\n",
       "      <td>0.322352</td>\n",
       "      <td>-0.591591</td>\n",
       "      <td>-0.322352</td>\n",
       "      <td>-0.847244</td>\n",
       "    </tr>\n",
       "    <tr>\n",
       "      <th>7</th>\n",
       "      <td>0.672768</td>\n",
       "      <td>1.214418</td>\n",
       "      <td>0.940284</td>\n",
       "      <td>8.0</td>\n",
       "      <td>0.467100</td>\n",
       "      <td>1.317581</td>\n",
       "      <td>0.205668</td>\n",
       "      <td>-0.103163</td>\n",
       "    </tr>\n",
       "    <tr>\n",
       "      <th>8</th>\n",
       "      <td>0.000000</td>\n",
       "      <td>-1.500000</td>\n",
       "      <td>1.624996</td>\n",
       "      <td>9.0</td>\n",
       "      <td>0.136524</td>\n",
       "      <td>-0.596887</td>\n",
       "      <td>-0.136524</td>\n",
       "      <td>-0.903113</td>\n",
       "    </tr>\n",
       "    <tr>\n",
       "      <th>9</th>\n",
       "      <td>0.366484</td>\n",
       "      <td>-0.349624</td>\n",
       "      <td>0.905670</td>\n",
       "      <td>10.0</td>\n",
       "      <td>0.314409</td>\n",
       "      <td>-0.745825</td>\n",
       "      <td>0.052075</td>\n",
       "      <td>0.396201</td>\n",
       "    </tr>\n",
       "    <tr>\n",
       "      <th>10</th>\n",
       "      <td>0.974528</td>\n",
       "      <td>1.190650</td>\n",
       "      <td>0.785236</td>\n",
       "      <td>11.0</td>\n",
       "      <td>0.804206</td>\n",
       "      <td>1.262602</td>\n",
       "      <td>0.170322</td>\n",
       "      <td>-0.071953</td>\n",
       "    </tr>\n",
       "    <tr>\n",
       "      <th>11</th>\n",
       "      <td>0.889672</td>\n",
       "      <td>0.824118</td>\n",
       "      <td>0.666571</td>\n",
       "      <td>12.0</td>\n",
       "      <td>0.781640</td>\n",
       "      <td>0.625474</td>\n",
       "      <td>0.108032</td>\n",
       "      <td>0.198644</td>\n",
       "    </tr>\n",
       "    <tr>\n",
       "      <th>12</th>\n",
       "      <td>0.593379</td>\n",
       "      <td>-0.558585</td>\n",
       "      <td>1.094351</td>\n",
       "      <td>13.0</td>\n",
       "      <td>0.633355</td>\n",
       "      <td>-0.234850</td>\n",
       "      <td>-0.039977</td>\n",
       "      <td>-0.323735</td>\n",
       "    </tr>\n",
       "    <tr>\n",
       "      <th>13</th>\n",
       "      <td>0.341804</td>\n",
       "      <td>1.270144</td>\n",
       "      <td>0.652104</td>\n",
       "      <td>14.0</td>\n",
       "      <td>0.406344</td>\n",
       "      <td>0.047368</td>\n",
       "      <td>-0.064540</td>\n",
       "      <td>1.222776</td>\n",
       "    </tr>\n",
       "    <tr>\n",
       "      <th>14</th>\n",
       "      <td>0.855659</td>\n",
       "      <td>-0.008968</td>\n",
       "      <td>0.971523</td>\n",
       "      <td>15.0</td>\n",
       "      <td>1.004667</td>\n",
       "      <td>0.384022</td>\n",
       "      <td>-0.149008</td>\n",
       "      <td>-0.392990</td>\n",
       "    </tr>\n",
       "    <tr>\n",
       "      <th>15</th>\n",
       "      <td>0.758482</td>\n",
       "      <td>0.637123</td>\n",
       "      <td>1.511621</td>\n",
       "      <td>16.0</td>\n",
       "      <td>0.690755</td>\n",
       "      <td>0.725712</td>\n",
       "      <td>0.067726</td>\n",
       "      <td>-0.088589</td>\n",
       "    </tr>\n",
       "    <tr>\n",
       "      <th>16</th>\n",
       "      <td>0.330437</td>\n",
       "      <td>-0.087919</td>\n",
       "      <td>1.010399</td>\n",
       "      <td>17.0</td>\n",
       "      <td>0.077980</td>\n",
       "      <td>-0.443451</td>\n",
       "      <td>0.252457</td>\n",
       "      <td>0.355532</td>\n",
       "    </tr>\n",
       "    <tr>\n",
       "      <th>17</th>\n",
       "      <td>0.455727</td>\n",
       "      <td>0.265552</td>\n",
       "      <td>1.423451</td>\n",
       "      <td>18.0</td>\n",
       "      <td>0.626780</td>\n",
       "      <td>0.771053</td>\n",
       "      <td>-0.171053</td>\n",
       "      <td>-0.505500</td>\n",
       "    </tr>\n",
       "    <tr>\n",
       "      <th>18</th>\n",
       "      <td>1.435046</td>\n",
       "      <td>-0.783521</td>\n",
       "      <td>5.885916</td>\n",
       "      <td>19.0</td>\n",
       "      <td>1.142727</td>\n",
       "      <td>-0.937047</td>\n",
       "      <td>0.292320</td>\n",
       "      <td>0.153526</td>\n",
       "    </tr>\n",
       "    <tr>\n",
       "      <th>19</th>\n",
       "      <td>0.424870</td>\n",
       "      <td>-0.605636</td>\n",
       "      <td>1.367066</td>\n",
       "      <td>20.0</td>\n",
       "      <td>0.232938</td>\n",
       "      <td>-0.196192</td>\n",
       "      <td>0.191932</td>\n",
       "      <td>-0.409445</td>\n",
       "    </tr>\n",
       "  </tbody>\n",
       "</table>\n",
       "</div>"
      ],
      "text/plain": [
       "       alpha      beta      gamma   sub    α_true    β_true        ∆α  \\\n",
       "0   1.027755 -0.147620   1.202876   1.0  1.060578 -0.196382 -0.032824   \n",
       "1   0.543841  0.277514   0.752108   2.0  0.482898  0.166313  0.060943   \n",
       "2   0.861355  1.461015  25.407092   3.0  0.813778  1.177360  0.047577   \n",
       "3   1.474780  0.914778   7.693282   4.0  1.385437  0.910229  0.089343   \n",
       "4   0.000000 -0.867271   1.440395   5.0  0.070385 -0.379166 -0.070385   \n",
       "5   0.966261  0.636993   0.984578   6.0  0.816412  0.648739  0.149849   \n",
       "6   0.000000 -1.438835   1.159420   7.0  0.322352 -0.591591 -0.322352   \n",
       "7   0.672768  1.214418   0.940284   8.0  0.467100  1.317581  0.205668   \n",
       "8   0.000000 -1.500000   1.624996   9.0  0.136524 -0.596887 -0.136524   \n",
       "9   0.366484 -0.349624   0.905670  10.0  0.314409 -0.745825  0.052075   \n",
       "10  0.974528  1.190650   0.785236  11.0  0.804206  1.262602  0.170322   \n",
       "11  0.889672  0.824118   0.666571  12.0  0.781640  0.625474  0.108032   \n",
       "12  0.593379 -0.558585   1.094351  13.0  0.633355 -0.234850 -0.039977   \n",
       "13  0.341804  1.270144   0.652104  14.0  0.406344  0.047368 -0.064540   \n",
       "14  0.855659 -0.008968   0.971523  15.0  1.004667  0.384022 -0.149008   \n",
       "15  0.758482  0.637123   1.511621  16.0  0.690755  0.725712  0.067726   \n",
       "16  0.330437 -0.087919   1.010399  17.0  0.077980 -0.443451  0.252457   \n",
       "17  0.455727  0.265552   1.423451  18.0  0.626780  0.771053 -0.171053   \n",
       "18  1.435046 -0.783521   5.885916  19.0  1.142727 -0.937047  0.292320   \n",
       "19  0.424870 -0.605636   1.367066  20.0  0.232938 -0.196192  0.191932   \n",
       "\n",
       "          ∆β  \n",
       "0   0.048762  \n",
       "1   0.111201  \n",
       "2   0.283656  \n",
       "3   0.004549  \n",
       "4  -0.488105  \n",
       "5  -0.011746  \n",
       "6  -0.847244  \n",
       "7  -0.103163  \n",
       "8  -0.903113  \n",
       "9   0.396201  \n",
       "10 -0.071953  \n",
       "11  0.198644  \n",
       "12 -0.323735  \n",
       "13  1.222776  \n",
       "14 -0.392990  \n",
       "15 -0.088589  \n",
       "16  0.355532  \n",
       "17 -0.505500  \n",
       "18  0.153526  \n",
       "19 -0.409445  "
      ]
     },
     "execution_count": 23,
     "metadata": {},
     "output_type": "execute_result"
    }
   ],
   "source": [
    "mLL['α_true'] = α_true\n",
    "mLL['β_true'] = β_true\n",
    "mLL['β_true'] = β_true\n",
    "mLL['∆α'] = mLL.alpha - mLL.α_true\n",
    "mLL['∆β'] = mLL.beta - mLL.β_true\n",
    "mLL"
   ]
  },
  {
   "cell_type": "markdown",
   "id": "cdf253a5",
   "metadata": {},
   "source": [
    "## The second approach is using Bayes-STAN"
   ]
  },
  {
   "cell_type": "code",
   "execution_count": 24,
   "id": "c431945f",
   "metadata": {},
   "outputs": [
    {
     "name": "stderr",
     "output_type": "stream",
     "text": [
      "INFO:cmdstanpy:compiling stan file /home/nachshon/Documents/Aging/Aging/RiskandAmbiguity/models/AmbiguityModel.stan to exe file /home/nachshon/Documents/Aging/Aging/RiskandAmbiguity/models/AmbiguityModel\n",
      "INFO:cmdstanpy:compiled model executable: /home/nachshon/Documents/Aging/Aging/RiskandAmbiguity/models/AmbiguityModel\n"
     ]
    }
   ],
   "source": [
    "AmbiguityModel = cmdstanpy.CmdStanModel(stan_file='models/AmbiguityModel.stan')"
   ]
  },
  {
   "cell_type": "code",
   "execution_count": 25,
   "id": "10e7c135",
   "metadata": {},
   "outputs": [],
   "source": [
    "standata_ambiguity = {\n",
    "    'N' : len(refProbabilities),\n",
    "    'choice' : simdata['choices'],\n",
    "    'refProbabilities' : refProbabilities,\n",
    "    'refAmbiguities' : refAmbiguities,\n",
    "    'refValues' : refValues,\n",
    "    'lotteryProbabilities' : simdata['risk'],\n",
    "    'lotteryAmbiguities' : simdata['ambiguity'],\n",
    "    'ID' : ID,\n",
    "    'lotteryValues' : simdata['values'],\n",
    "    'n_sub': n_subs\n",
    "}"
   ]
  },
  {
   "cell_type": "code",
   "execution_count": 26,
   "id": "6b4c6e35",
   "metadata": {},
   "outputs": [
    {
     "name": "stderr",
     "output_type": "stream",
     "text": [
      "INFO:cmdstanpy:CmdStan start procesing\n"
     ]
    },
    {
     "data": {
      "application/vnd.jupyter.widget-view+json": {
       "model_id": "0f662cf9878c4e31bf1620c0a07b292d",
       "version_major": 2,
       "version_minor": 0
      },
      "text/plain": [
       "chain 1 |          | 00:00 Status"
      ]
     },
     "metadata": {},
     "output_type": "display_data"
    },
    {
     "data": {
      "application/vnd.jupyter.widget-view+json": {
       "model_id": "3aef4d973a89419ea77652f497e779aa",
       "version_major": 2,
       "version_minor": 0
      },
      "text/plain": [
       "chain 2 |          | 00:00 Status"
      ]
     },
     "metadata": {},
     "output_type": "display_data"
    },
    {
     "data": {
      "application/vnd.jupyter.widget-view+json": {
       "model_id": "89def0b75d2142dca4aaf09d273904d0",
       "version_major": 2,
       "version_minor": 0
      },
      "text/plain": [
       "chain 3 |          | 00:00 Status"
      ]
     },
     "metadata": {},
     "output_type": "display_data"
    },
    {
     "data": {
      "application/vnd.jupyter.widget-view+json": {
       "model_id": "f90599ffd43c4e6881841e4361d8868f",
       "version_major": 2,
       "version_minor": 0
      },
      "text/plain": [
       "chain 4 |          | 00:00 Status"
      ]
     },
     "metadata": {},
     "output_type": "display_data"
    },
    {
     "name": "stdout",
     "output_type": "stream",
     "text": [
      "                                                                                                                                                                                                                                                                                                                                "
     ]
    },
    {
     "name": "stderr",
     "output_type": "stream",
     "text": [
      "INFO:cmdstanpy:CmdStan done processing.\n"
     ]
    },
    {
     "name": "stdout",
     "output_type": "stream",
     "text": [
      "\n"
     ]
    }
   ],
   "source": [
    "fit_ambiguity_model = AmbiguityModel.sample(\n",
    "  data = standata_ambiguity,\n",
    "  chains = 4,\n",
    "  iter_warmup = 2000,\n",
    "  iter_sampling = 2000,\n",
    "  adapt_delta = .9,\n",
    "  inits = 0.2,\n",
    ")"
   ]
  },
  {
   "cell_type": "code",
   "execution_count": 27,
   "id": "6ec4bab5",
   "metadata": {},
   "outputs": [],
   "source": [
    "stan = az.from_cmdstanpy(posterior=fit_ambiguity_model,\n",
    "                                       posterior_predictive=\"y_hat\",\n",
    "                                       log_likelihood=\"log_lik\")"
   ]
  },
  {
   "cell_type": "markdown",
   "id": "e2450621",
   "metadata": {},
   "source": [
    "## Next we will look at PYMC3"
   ]
  },
  {
   "cell_type": "code",
   "execution_count": 28,
   "id": "facee171",
   "metadata": {},
   "outputs": [
    {
     "name": "stderr",
     "output_type": "stream",
     "text": [
      "WARNING (theano.tensor.opt): Optimization Warning: The Op erfcx does not provide a C implementation. As well as being potentially slow, this also disables loop fusion.\n",
      "WARNING:theano.tensor.opt:Optimization Warning: The Op erfcx does not provide a C implementation. As well as being potentially slow, this also disables loop fusion.\n",
      "Auto-assigning NUTS sampler...\n",
      "INFO:pymc3:Auto-assigning NUTS sampler...\n",
      "Initializing NUTS using jitter+adapt_diag...\n",
      "INFO:pymc3:Initializing NUTS using jitter+adapt_diag...\n",
      "Multiprocess sampling (4 chains in 4 jobs)\n",
      "INFO:pymc3:Multiprocess sampling (4 chains in 4 jobs)\n",
      "NUTS: [γ, β, α, nSig, nMu, aSig, aMu, rSig, rMu]\n",
      "INFO:pymc3:NUTS: [γ, β, α, nSig, nMu, aSig, aMu, rSig, rMu]\n"
     ]
    },
    {
     "data": {
      "text/html": [
       "\n",
       "    <div>\n",
       "        <style>\n",
       "            /* Turns off some styling */\n",
       "            progress {\n",
       "                /* gets rid of default border in Firefox and Opera. */\n",
       "                border: none;\n",
       "                /* Needs to be in here for Safari polyfill so background images work as expected. */\n",
       "                background-size: auto;\n",
       "            }\n",
       "            .progress-bar-interrupted, .progress-bar-interrupted::-webkit-progress-bar {\n",
       "                background: #F44336;\n",
       "            }\n",
       "        </style>\n",
       "      <progress value='20000' class='' max='20000' style='width:300px; height:20px; vertical-align: middle;'></progress>\n",
       "      100.00% [20000/20000 08:55<00:00 Sampling 4 chains, 773 divergences]\n",
       "    </div>\n",
       "    "
      ],
      "text/plain": [
       "<IPython.core.display.HTML object>"
      ]
     },
     "metadata": {},
     "output_type": "display_data"
    },
    {
     "name": "stderr",
     "output_type": "stream",
     "text": [
      "Sampling 4 chains for 1_000 tune and 4_000 draw iterations (4_000 + 16_000 draws total) took 537 seconds.\n",
      "INFO:pymc3:Sampling 4 chains for 1_000 tune and 4_000 draw iterations (4_000 + 16_000 draws total) took 537 seconds.\n",
      "There were 254 divergences after tuning. Increase `target_accept` or reparameterize.\n",
      "ERROR:pymc3:There were 254 divergences after tuning. Increase `target_accept` or reparameterize.\n",
      "The acceptance probability does not match the target. It is 0.8861047028927292, but should be close to 0.95. Try to increase the number of tuning steps.\n",
      "WARNING:pymc3:The acceptance probability does not match the target. It is 0.8861047028927292, but should be close to 0.95. Try to increase the number of tuning steps.\n",
      "There were 241 divergences after tuning. Increase `target_accept` or reparameterize.\n",
      "ERROR:pymc3:There were 241 divergences after tuning. Increase `target_accept` or reparameterize.\n",
      "The acceptance probability does not match the target. It is 0.9021393570062204, but should be close to 0.95. Try to increase the number of tuning steps.\n",
      "WARNING:pymc3:The acceptance probability does not match the target. It is 0.9021393570062204, but should be close to 0.95. Try to increase the number of tuning steps.\n",
      "There were 95 divergences after tuning. Increase `target_accept` or reparameterize.\n",
      "ERROR:pymc3:There were 95 divergences after tuning. Increase `target_accept` or reparameterize.\n",
      "There were 183 divergences after tuning. Increase `target_accept` or reparameterize.\n",
      "ERROR:pymc3:There were 183 divergences after tuning. Increase `target_accept` or reparameterize.\n",
      "The number of effective samples is smaller than 10% for some parameters.\n",
      "WARNING:pymc3:The number of effective samples is smaller than 10% for some parameters.\n"
     ]
    }
   ],
   "source": [
    "with pm.Model() as RiskAmb:\n",
    "    # hyper\n",
    "    aMu = pm.Normal('rMu', 0.7 ,1)\n",
    "    aSig = pm.Exponential('rSig', 1)\n",
    "    bMu = pm.Normal('aMu', 0,1)\n",
    "    bSig = pm.Exponential('aSig', 1)\n",
    "    \n",
    "    gMu = pm.Normal('nMu', 0,1)\n",
    "    gSig = pm.Exponential('nSig', 1)\n",
    "    \n",
    "    \n",
    "    α = pm.TruncatedNormal('α', aMu, aSig, lower = 0, upper = 2, shape = n_subs)\n",
    "    β = pm.TruncatedNormal('β', bMu, bSig, lower = -1.5, upper = 1.5, shape = n_subs)\n",
    "    γ = pm.Lognormal('γ', gMu , gSig, shape = n_subs)\n",
    "    # Priors for unknown model parameters\n",
    "    \n",
    "      \n",
    "    # Expected value of outcome\n",
    "    svLotto = (simdata['values'].values ** α[sub_idx]) * (simdata['risk'].values - (β[sub_idx] * (simdata['ambiguity'].values/2)))\n",
    "    svRef = 5 ** α[sub_idx]\n",
    "    p = (svLotto - svRef)/γ[sub_idx]\n",
    "    mu = pm.invlogit(p)\n",
    "       \n",
    "    # Likelihood (sampling distribution) of observations\n",
    "    choice = pm.Binomial('choice',1, mu, observed=simdata['choices'])\n",
    "    trace = pm.sample(4000, return_inferencedata=True, target_accept=0.95)"
   ]
  },
  {
   "cell_type": "code",
   "execution_count": null,
   "id": "d281b375",
   "metadata": {},
   "outputs": [],
   "source": [
    "az.compare({'pymc':trace, \n",
    "            'stan': stan},\n",
    "            ic='waic')"
   ]
  },
  {
   "cell_type": "code",
   "execution_count": null,
   "id": "ff711ef9",
   "metadata": {},
   "outputs": [],
   "source": [
    "model_compare = az.compare({'pymc':trace, 'stan': stan})\n",
    "az.plot_compare(model_compare, figsize=(12, 4))\n",
    "\n",
    "plt.show()"
   ]
  },
  {
   "cell_type": "code",
   "execution_count": null,
   "id": "a85e5277",
   "metadata": {},
   "outputs": [],
   "source": [
    "α_pymc = az.summary(trace, var_names=['α'])['mean']\n",
    "β_pymc = az.summary(trace, var_names=['β'])['mean']\n",
    "α_stan = az.summary(stan, var_names=['riskTol'])['mean']\n",
    "β_stan = az.summary(stan, var_names=['ambTol'])['mean']"
   ]
  },
  {
   "cell_type": "code",
   "execution_count": null,
   "id": "d43b6b70",
   "metadata": {},
   "outputs": [],
   "source": [
    "bayesA = pd.DataFrame({'α_true': α_true, 'α_pymc': α_pymc.values, 'α_stan': α_stan.values,})\n",
    "\n",
    "bayesA"
   ]
  },
  {
   "cell_type": "code",
   "execution_count": null,
   "id": "331780ec",
   "metadata": {},
   "outputs": [],
   "source": [
    "bayesB = pd.DataFrame({'β_true': β_true, 'β_pymc': β_pymc.values, 'β_stan': β_stan.values, })\n",
    "\n",
    "bayesB"
   ]
  },
  {
   "cell_type": "code",
   "execution_count": null,
   "id": "971a0d06",
   "metadata": {},
   "outputs": [],
   "source": [
    "az.summary(stan, var_names=['riskTol','ambTol'])"
   ]
  },
  {
   "cell_type": "code",
   "execution_count": null,
   "id": "c55c7057",
   "metadata": {},
   "outputs": [],
   "source": [
    "az.summary(trace, var_names=['α','β'])"
   ]
  }
 ],
 "metadata": {
  "kernelspec": {
   "display_name": "Python 3 (ipykernel)",
   "language": "python",
   "name": "python3"
  },
  "language_info": {
   "codemirror_mode": {
    "name": "ipython",
    "version": 3
   },
   "file_extension": ".py",
   "mimetype": "text/x-python",
   "name": "python",
   "nbconvert_exporter": "python",
   "pygments_lexer": "ipython3",
   "version": "3.8.12"
  }
 },
 "nbformat": 4,
 "nbformat_minor": 5
}
