{
 "cells": [
  {
   "cell_type": "code",
   "execution_count": 28,
   "id": "ab31cdd9",
   "metadata": {},
   "outputs": [],
   "source": [
    "import numpy as np\n",
    "import pandas as pd\n",
    "\n",
    "from scipy import stats, special\n",
    "from scipy.optimize import minimize "
   ]
  },
  {
   "cell_type": "code",
   "execution_count": 94,
   "id": "2f987278",
   "metadata": {},
   "outputs": [
    {
     "data": {
      "text/html": [
       "<div>\n",
       "<style scoped>\n",
       "    .dataframe tbody tr th:only-of-type {\n",
       "        vertical-align: middle;\n",
       "    }\n",
       "\n",
       "    .dataframe tbody tr th {\n",
       "        vertical-align: top;\n",
       "    }\n",
       "\n",
       "    .dataframe thead th {\n",
       "        text-align: right;\n",
       "    }\n",
       "</style>\n",
       "<table border=\"1\" class=\"dataframe\">\n",
       "  <thead>\n",
       "    <tr style=\"text-align: right;\">\n",
       "      <th></th>\n",
       "      <th>Unnamed: 0</th>\n",
       "      <th>sub</th>\n",
       "      <th>choices</th>\n",
       "      <th>values</th>\n",
       "      <th>risk</th>\n",
       "      <th>ambiguity</th>\n",
       "      <th>riskTol</th>\n",
       "      <th>ambTol</th>\n",
       "    </tr>\n",
       "  </thead>\n",
       "  <tbody>\n",
       "    <tr>\n",
       "      <th>0</th>\n",
       "      <td>0</td>\n",
       "      <td>1</td>\n",
       "      <td>0</td>\n",
       "      <td>5</td>\n",
       "      <td>0.25</td>\n",
       "      <td>0.0</td>\n",
       "      <td>0.362151</td>\n",
       "      <td>-0.172864</td>\n",
       "    </tr>\n",
       "    <tr>\n",
       "      <th>1</th>\n",
       "      <td>1</td>\n",
       "      <td>1</td>\n",
       "      <td>0</td>\n",
       "      <td>5</td>\n",
       "      <td>0.25</td>\n",
       "      <td>0.0</td>\n",
       "      <td>0.362151</td>\n",
       "      <td>-0.172864</td>\n",
       "    </tr>\n",
       "    <tr>\n",
       "      <th>2</th>\n",
       "      <td>2</td>\n",
       "      <td>1</td>\n",
       "      <td>0</td>\n",
       "      <td>5</td>\n",
       "      <td>0.25</td>\n",
       "      <td>0.0</td>\n",
       "      <td>0.362151</td>\n",
       "      <td>-0.172864</td>\n",
       "    </tr>\n",
       "    <tr>\n",
       "      <th>3</th>\n",
       "      <td>3</td>\n",
       "      <td>1</td>\n",
       "      <td>0</td>\n",
       "      <td>5</td>\n",
       "      <td>0.50</td>\n",
       "      <td>0.0</td>\n",
       "      <td>0.362151</td>\n",
       "      <td>-0.172864</td>\n",
       "    </tr>\n",
       "    <tr>\n",
       "      <th>4</th>\n",
       "      <td>4</td>\n",
       "      <td>1</td>\n",
       "      <td>0</td>\n",
       "      <td>5</td>\n",
       "      <td>0.50</td>\n",
       "      <td>0.0</td>\n",
       "      <td>0.362151</td>\n",
       "      <td>-0.172864</td>\n",
       "    </tr>\n",
       "  </tbody>\n",
       "</table>\n",
       "</div>"
      ],
      "text/plain": [
       "   Unnamed: 0  sub  choices  values  risk  ambiguity   riskTol    ambTol\n",
       "0           0    1        0       5  0.25        0.0  0.362151 -0.172864\n",
       "1           1    1        0       5  0.25        0.0  0.362151 -0.172864\n",
       "2           2    1        0       5  0.25        0.0  0.362151 -0.172864\n",
       "3           3    1        0       5  0.50        0.0  0.362151 -0.172864\n",
       "4           4    1        0       5  0.50        0.0  0.362151 -0.172864"
      ]
     },
     "execution_count": 94,
     "metadata": {},
     "output_type": "execute_result"
    }
   ],
   "source": [
    "df = pd.read_csv('results/simdata.csv')\n",
    "df.head()"
   ]
  },
  {
   "cell_type": "code",
   "execution_count": 95,
   "id": "39d2bc3d",
   "metadata": {},
   "outputs": [
    {
     "data": {
      "text/html": [
       "<div>\n",
       "<style scoped>\n",
       "    .dataframe tbody tr th:only-of-type {\n",
       "        vertical-align: middle;\n",
       "    }\n",
       "\n",
       "    .dataframe tbody tr th {\n",
       "        vertical-align: top;\n",
       "    }\n",
       "\n",
       "    .dataframe thead th {\n",
       "        text-align: right;\n",
       "    }\n",
       "</style>\n",
       "<table border=\"1\" class=\"dataframe\">\n",
       "  <thead>\n",
       "    <tr style=\"text-align: right;\">\n",
       "      <th></th>\n",
       "      <th>Unnamed: 0</th>\n",
       "      <th>sub</th>\n",
       "      <th>choices</th>\n",
       "      <th>values</th>\n",
       "      <th>risk</th>\n",
       "      <th>ambiguity</th>\n",
       "      <th>riskTol</th>\n",
       "      <th>ambTol</th>\n",
       "    </tr>\n",
       "  </thead>\n",
       "  <tbody>\n",
       "    <tr>\n",
       "      <th>0</th>\n",
       "      <td>0</td>\n",
       "      <td>1</td>\n",
       "      <td>0</td>\n",
       "      <td>5</td>\n",
       "      <td>0.25</td>\n",
       "      <td>0.0</td>\n",
       "      <td>0.362151</td>\n",
       "      <td>-0.172864</td>\n",
       "    </tr>\n",
       "    <tr>\n",
       "      <th>1</th>\n",
       "      <td>1</td>\n",
       "      <td>1</td>\n",
       "      <td>0</td>\n",
       "      <td>5</td>\n",
       "      <td>0.25</td>\n",
       "      <td>0.0</td>\n",
       "      <td>0.362151</td>\n",
       "      <td>-0.172864</td>\n",
       "    </tr>\n",
       "    <tr>\n",
       "      <th>2</th>\n",
       "      <td>2</td>\n",
       "      <td>1</td>\n",
       "      <td>0</td>\n",
       "      <td>5</td>\n",
       "      <td>0.25</td>\n",
       "      <td>0.0</td>\n",
       "      <td>0.362151</td>\n",
       "      <td>-0.172864</td>\n",
       "    </tr>\n",
       "    <tr>\n",
       "      <th>3</th>\n",
       "      <td>3</td>\n",
       "      <td>1</td>\n",
       "      <td>0</td>\n",
       "      <td>5</td>\n",
       "      <td>0.50</td>\n",
       "      <td>0.0</td>\n",
       "      <td>0.362151</td>\n",
       "      <td>-0.172864</td>\n",
       "    </tr>\n",
       "    <tr>\n",
       "      <th>4</th>\n",
       "      <td>4</td>\n",
       "      <td>1</td>\n",
       "      <td>0</td>\n",
       "      <td>5</td>\n",
       "      <td>0.50</td>\n",
       "      <td>0.0</td>\n",
       "      <td>0.362151</td>\n",
       "      <td>-0.172864</td>\n",
       "    </tr>\n",
       "  </tbody>\n",
       "</table>\n",
       "</div>"
      ],
      "text/plain": [
       "   Unnamed: 0  sub  choices  values  risk  ambiguity   riskTol    ambTol\n",
       "0           0    1        0       5  0.25        0.0  0.362151 -0.172864\n",
       "1           1    1        0       5  0.25        0.0  0.362151 -0.172864\n",
       "2           2    1        0       5  0.25        0.0  0.362151 -0.172864\n",
       "3           3    1        0       5  0.50        0.0  0.362151 -0.172864\n",
       "4           4    1        0       5  0.50        0.0  0.362151 -0.172864"
      ]
     },
     "execution_count": 95,
     "metadata": {},
     "output_type": "execute_result"
    }
   ],
   "source": [
    "df10 = df[df['sub']==1]\n",
    "#df10 = df10.sample(frac=1)\n",
    "df10.head()\n"
   ]
  },
  {
   "cell_type": "code",
   "execution_count": 96,
   "id": "951d2b32",
   "metadata": {},
   "outputs": [],
   "source": [
    "values = df10['values'].to_numpy()\n",
    "risk = df10['risk'].to_numpy()\n",
    "ambiguity = df10['ambiguity'].to_numpy()\n",
    "choices = df10['choices'].to_numpy()"
   ]
  },
  {
   "cell_type": "code",
   "execution_count": 99,
   "id": "98d68f75",
   "metadata": {},
   "outputs": [
    {
     "data": {
      "text/plain": [
       "46"
      ]
     },
     "execution_count": 99,
     "metadata": {},
     "output_type": "execute_result"
    }
   ],
   "source": [
    "α = df.riskTol[0]\n",
    "β = df.ambTol[0]\n",
    "svLotto = (values ** α) * (risk-(β * (ambiguity/2)))\n",
    "svRef = 5 ** α\n",
    "p = special.expit(svLotto - svRef)\n",
    "size = len(p)\n",
    "mu = np.random.binomial(1,p,size)\n",
    "tr = pd.DataFrame({'real': choices, 'estimated': mu})\n",
    "tr['diff'] = (tr.real - tr.estimated) ** 2\n",
    "np.sum(tr['diff'])"
   ]
  },
  {
   "cell_type": "code",
   "execution_count": 104,
   "id": "0885d798",
   "metadata": {},
   "outputs": [
    {
     "data": {
      "text/plain": [
       "19.917749480269688"
      ]
     },
     "execution_count": 104,
     "metadata": {},
     "output_type": "execute_result"
    }
   ],
   "source": [
    "np.sum((choices-p)**2)"
   ]
  },
  {
   "cell_type": "code",
   "execution_count": 89,
   "id": "2e1f5d1f",
   "metadata": {},
   "outputs": [],
   "source": [
    "def MLE_riskamb(parameters):\n",
    "    # extract parameters\n",
    "    α, β, γ = parameters\n",
    "    \n",
    "    \n",
    "    svLotto = (df['values'] ** α) * (risk-(β * (ambiguity/2)))\n",
    "    svRef = 5 ** α\n",
    "    p = 1/(1+np.exp((svRef - svLotto) * γ))\n",
    "    size = len(p)\n",
    "    mu = np.random.binomial(1,p,size)\n",
    "\n",
    "    \n",
    "    # Calculate the log-likelihood for normal distribution\n",
    "    LL = np.sum(stats.norm.logpdf(choices, p))\n",
    "    # Calculate the negative log-likelihood\n",
    "    neg_LL = -1*LL\n",
    "    return neg_LL "
   ]
  },
  {
   "cell_type": "code",
   "execution_count": 116,
   "id": "568ed18d",
   "metadata": {},
   "outputs": [],
   "source": [
    "def MLE_riskamb(parameters):\n",
    "    # extract parameters\n",
    "    α, β, γ = parameters\n",
    "    \n",
    "    \n",
    "    svLotto = (db_sub['values'].values ** α) * (db_sub['risk'].values-(β * (db_sub['ambiguity'].values/2)))\n",
    "    svRef = 5 ** α\n",
    "    p = 1/(1+np.exp((svRef - svLotto) * γ))\n",
    "    size = len(p)\n",
    "    mu = np.random.binomial(1,p,size)\n",
    "\n",
    "    \n",
    "    # Calculate the log-likelihood for normal distribution\n",
    "    LL = np.sum(stats.norm.logpdf(db_sub.choices, p))\n",
    "    # Calculate the negative log-likelihood\n",
    "    neg_LL = -1*LL\n",
    "    return neg_LL "
   ]
  },
  {
   "cell_type": "code",
   "execution_count": 117,
   "id": "dea05291",
   "metadata": {},
   "outputs": [
    {
     "data": {
      "text/plain": [
       "array([0.57279976, 0.02832813, 0.89806227])"
      ]
     },
     "execution_count": 117,
     "metadata": {},
     "output_type": "execute_result"
    }
   ],
   "source": [
    "mle_model = minimize(MLE_riskamb, np.array([1,1,1]), method='L-BFGS-B')\n",
    "mle_model.x"
   ]
  },
  {
   "cell_type": "code",
   "execution_count": 112,
   "id": "172a96d0",
   "metadata": {},
   "outputs": [],
   "source": [
    "db_sub = df"
   ]
  }
 ],
 "metadata": {
  "kernelspec": {
   "display_name": "Python 3 (ipykernel)",
   "language": "python",
   "name": "python3"
  },
  "language_info": {
   "codemirror_mode": {
    "name": "ipython",
    "version": 3
   },
   "file_extension": ".py",
   "mimetype": "text/x-python",
   "name": "python",
   "nbconvert_exporter": "python",
   "pygments_lexer": "ipython3",
   "version": "3.8.12"
  }
 },
 "nbformat": 4,
 "nbformat_minor": 5
}
